{
 "cells": [
  {
   "cell_type": "markdown",
   "metadata": {},
   "source": [
    "# Cryptanalyse de RSA\n",
    "\n",
    "## Question 16\n"
   ]
  },
  {
   "cell_type": "code",
   "execution_count": 51,
   "metadata": {},
   "outputs": [],
   "source": [
    "reset()"
   ]
  },
  {
   "cell_type": "code",
   "execution_count": 52,
   "metadata": {},
   "outputs": [],
   "source": [
    "'''\n",
    "fonction qui genere des cles RSA \n",
    "\n",
    "Input : k, delta\n",
    "Output: N,e,d\n",
    "'''\n",
    "def gen_keys(k,delta):\n",
    "    \n",
    "    p=next_prime(randint(2^(k-1),2^k))   #on génère p et q\n",
    "    q=next_prime(randint(2^(k-1),2^k))\n",
    "    \n",
    "    N=p*q                                #on calucule N, Phi(N) et N^delta\n",
    "    phiN=(p-1)*(q-1)\n",
    "    Nd=int(N^delta)\n",
    "    for d in range(Nd,1,-1):             #on part de N^delta pour que d soit le plus proche de cette valeur\n",
    "        gc,e,_=xgcd(d,phiN)                  #on cherche un element premier avec phi(N)\n",
    "        if gc==1:\n",
    "            return N,e%phiN,d"
   ]
  },
  {
   "cell_type": "code",
   "execution_count": 53,
   "metadata": {},
   "outputs": [
    {
     "name": "stdout",
     "output_type": "stream",
     "text": [
      "CPU times: user 110 µs, sys: 3 µs, total: 113 µs\n",
      "Wall time: 118 µs\n"
     ]
    },
    {
     "data": {
      "text/plain": [
       "(517593717644669490883966070503,\n",
       " 136069733437835378110402008247,\n",
       " 517593717644669490883966070503)"
      ]
     },
     "execution_count": 53,
     "metadata": {},
     "output_type": "execute_result"
    }
   ],
   "source": [
    "%time gen_keys(50,1)"
   ]
  },
  {
   "cell_type": "markdown",
   "metadata": {},
   "source": [
    "## Question 17, 18, 19\n",
    "Voir rapport."
   ]
  },
  {
   "cell_type": "code",
   "execution_count": 54,
   "metadata": {},
   "outputs": [],
   "source": [
    "def sum1(m):\n",
    "    return ((m+2)*(m+1))/2"
   ]
  },
  {
   "cell_type": "code",
   "execution_count": 55,
   "metadata": {},
   "outputs": [],
   "source": [
    "def sum2(m,t):\n",
    "    s=0\n",
    "    for i in range(1,t+1):\n",
    "        s=s+m-(m//t)*i+1\n",
    "    return s"
   ]
  },
  {
   "cell_type": "code",
   "execution_count": 56,
   "metadata": {},
   "outputs": [],
   "source": [
    "'''\n",
    "fonction permettant de calculer le cardinal de M, soit le nombre de monomes possibles\n",
    "'''\n",
    "def card_M(m,t):\n",
    "    return sum1(m)+sum2(m,t)"
   ]
  },
  {
   "cell_type": "code",
   "execution_count": 57,
   "metadata": {},
   "outputs": [
    {
     "data": {
      "text/plain": [
       "7"
      ]
     },
     "execution_count": 57,
     "metadata": {},
     "output_type": "execute_result"
    }
   ],
   "source": [
    "card_M(2,1)"
   ]
  },
  {
   "cell_type": "markdown",
   "metadata": {},
   "source": [
    "## Question 20\n",
    "Voir rapport.\n",
    "\n",
    "## Question 21"
   ]
  },
  {
   "cell_type": "code",
   "execution_count": 58,
   "metadata": {},
   "outputs": [],
   "source": [
    "#on definit l'anneau des polynomes Z[x,y,u]\n",
    "PRxyu.<x,y,u>=PolynomialRing(ZZ)\n",
    "\n",
    "#on va ici representer les polynomes P(x,y) par les polynomes de la forme P(a_,b_) pour ne pas reutiliser\n",
    "#les memes variables\n",
    "PRxy.<a_,b_>=PolynomialRing(ZZ)\n",
    "\n",
    "#ici, on va representer Z[x] par Z[c_]\n",
    "PRx.<c_>=PolynomialRing(ZZ)\n",
    "\n",
    "#de meme, on va representer Z[y] par Z[d_]\n",
    "PRy.<d_>=PolynomialRing(ZZ)"
   ]
  },
  {
   "cell_type": "code",
   "execution_count": 59,
   "metadata": {},
   "outputs": [],
   "source": [
    "'''\n",
    "fonction permettant de substituer chaque occurence de x*y par u-1\n",
    "'''\n",
    "def change_xy(P):\n",
    "    P_bis=0                # on définit un nouveau polynome\n",
    "    for coeff,m in list(P):    #on recupere les couples (coeff, monomes) de la liste du polynome\n",
    "        v=m                    #on définit v comme le monome\n",
    "        cpt=0                  #on definit un compteur pour compter le nombre de fois que l'on retire x*y\n",
    "        while v/(x*y) in PRxyu:    #tant que l'on peut retirer x*y de v\n",
    "            v=v/(x*y)              #on retire x*y à v\n",
    "            cpt=cpt+1              #on incrémente le compteur\n",
    "        P_bis=P_bis + coeff*v*((u-1)^cpt) #on ajoute le produit du monome, du multiple \n",
    "    return PRxyu(P_bis)"
   ]
  },
  {
   "cell_type": "markdown",
   "metadata": {},
   "source": [
    "### Test"
   ]
  },
  {
   "cell_type": "code",
   "execution_count": 60,
   "metadata": {},
   "outputs": [
    {
     "name": "stdout",
     "output_type": "stream",
     "text": [
      "y*u^2 + x*u + 2*u^2 - x - 2*u\n",
      "Multivariate Polynomial Ring in x, y, u over Integer Ring\n"
     ]
    }
   ],
   "source": [
    "#on prend un exemple\n",
    "P=PRxyu(y*u^2 + 2*u*x*y + x^2*y)\n",
    "#on doit trouver : y*u^2 + 2*u*(u-1) + x*(u-1) = y*u^2 + x*u + 2*u^2 - x - 2*u\n",
    "\n",
    "P=change_xy(P)\n",
    "print(P)\n",
    "print(P.parent())"
   ]
  },
  {
   "cell_type": "markdown",
   "metadata": {},
   "source": [
    "## Mise en place de l'algorithme pour creer la base"
   ]
  },
  {
   "cell_type": "code",
   "execution_count": 61,
   "metadata": {},
   "outputs": [],
   "source": [
    "#algo:\n",
    "\n",
    "    #definir les valeurs \n",
    "        #definit N,e,d,A,X,Y,U\n",
    "\n",
    "    #creer les fonctions :\n",
    "        # on cree f_bar \n",
    "        # on cree g_bar, h_bar\n",
    "        # on cree une fonction permettant de generer la famille de g\n",
    "        # on cree une fonction permettant de generer la famille de h\n",
    "\n",
    "    #creer les equations :\n",
    "        # on genere la famille des polynomes de g\n",
    "            # on place les polynomes dans une liste\n",
    "        # on genère la famille des polynomes de h\n",
    "            # on substitue des occuences de x*y par u-1 \n",
    "            # on place les polynomes dans une liste \n",
    "        # on fusionne les deux listes \n",
    "\n",
    "    #creer la matrice :\n",
    "        # on va generer la liste des monomes possibles \n",
    "        # on cree un dictionnaire permettant de lier les monomes et leur position \n",
    "        # on creer la matrice de taille (nbr_equation x nbr_monomes)\n",
    "            # pour chaque equations\n",
    "                # pour chaque couple (coeff,monomes) \n",
    "                    # on récupere la position du monome grace au dictionnaire\n",
    "                    # on place le son coeff à la position donné"
   ]
  },
  {
   "cell_type": "code",
   "execution_count": 62,
   "metadata": {},
   "outputs": [],
   "source": [
    "#on definit les fonctions \n",
    "\n",
    "def f_bar(A,u,x):\n",
    "    return (u+A*x)\n",
    "\n",
    "def g_bar(A,e,m,i,k,u,x):\n",
    "    return x^i * (f_bar(A,u,x)^k) * e^(m-k)\n",
    "\n",
    "def h_bar(A,e,m,t,j,k,u,x,y):\n",
    "    return y^j * (f_bar(A,u,x)^k) * e^(m-k)\n",
    "\n",
    "'''\n",
    "fonction peremttant de generer la famille des polynomes de g\n",
    "'''\n",
    "def g_bar_familly(A,e,m,u,x):\n",
    "    L=[]\n",
    "    for k in range(0,m+1):\n",
    "        for i in range(0,m-k+1):\n",
    "            L.append(g_bar(A,e,m,i,k,u,x))\n",
    "    return L\n",
    "\n",
    "'''\n",
    "fonction peremttant de generer la famille des polynomes de h\n",
    "'''\n",
    "def h_bar_familly(A,e,m,t,u,x,y):\n",
    "    L=[]\n",
    "    for j in range(1,t+1):\n",
    "        for k in range((m//t)*j,m+1):\n",
    "            L.append(h_bar(A,e,m,t,j,k,u,x,y))\n",
    "    return L"
   ]
  },
  {
   "cell_type": "markdown",
   "metadata": {},
   "source": [
    "### Test"
   ]
  },
  {
   "cell_type": "code",
   "execution_count": 63,
   "metadata": {},
   "outputs": [
    {
     "name": "stdout",
     "output_type": "stream",
     "text": [
      "exemple avec m= 2  et t= 1\n",
      "\n",
      "famille de g [e^2, e^2*x, e^2*x^2, (A*x + u)*e, (A*x + u)*e*x, (A*x + u)^2]\n",
      "\n",
      "famille de h [(A*x + u)^2*y]\n"
     ]
    }
   ],
   "source": [
    "#test des fonctions \n",
    "#definition des valeurs\n",
    "U=var('U')\n",
    "X=var('X')\n",
    "Y=var('Y')\n",
    "e=var('e')\n",
    "A=var('A')\n",
    "m=2\n",
    "t=1\n",
    "G=g_bar_familly(A,e,m,u,x)\n",
    "H=h_bar_familly(A,e,m,t,u,x,y)\n",
    "print(\"exemple avec m=\",m,\" et t=\",t)\n",
    "print('\\nfamille de g',G)\n",
    "print('\\nfamille de h',H)"
   ]
  },
  {
   "cell_type": "code",
   "execution_count": 64,
   "metadata": {},
   "outputs": [],
   "source": [
    "'''\n",
    "fonction permettant de generer tous les monomes possibles\n",
    "Input : m,t\n",
    "Output : Liste les monomes possibles\n",
    "'''\n",
    "def find_monom_list(m,t):\n",
    "    M1=[]\n",
    "    M2=[]\n",
    "    for k in range(0,m+1):\n",
    "        for i in range(0,k+1):\n",
    "            M1.append(x^(k-i)*u^i)\n",
    "    for j in range(1,t+1):\n",
    "        for k in range((m//t)*j,m+1):\n",
    "            M2.append(y^j*u^k)\n",
    "    return M1+M2"
   ]
  },
  {
   "cell_type": "code",
   "execution_count": 65,
   "metadata": {},
   "outputs": [
    {
     "data": {
      "text/plain": [
       "[1, x, u, x^2, x*u, u^2, y*u^2]"
      ]
     },
     "execution_count": 65,
     "metadata": {},
     "output_type": "execute_result"
    }
   ],
   "source": [
    "#exemple avec m=2, t=1\n",
    "find_monom_list(2,1)"
   ]
  },
  {
   "cell_type": "code",
   "execution_count": 66,
   "metadata": {},
   "outputs": [],
   "source": [
    "'''\n",
    "fonction permettant d'appliquer change_xy() sur tout les elements d'une liste \n",
    "I : H la liste des polynomes à modifier\n",
    "O : nH la liste des polynomes modifiés\n",
    "'''\n",
    "def change_xy_list(H):\n",
    "    nH=[]\n",
    "    for p in H:\n",
    "        nH.append(change_xy(p))\n",
    "    return nH"
   ]
  },
  {
   "cell_type": "code",
   "execution_count": 67,
   "metadata": {},
   "outputs": [],
   "source": [
    "'''\n",
    "fonction permettant de creer un dictionnaire qui a pour but d'associer chaque monome à une coordonnée.\n",
    "elle crée aussi le dictionnaire inverse pour retrouver les monomes en fonction d'un indice \n",
    "I: M la liste des monomes possibles\n",
    "O: les deux dinctionnaires\n",
    "'''\n",
    "def create_dico(M):\n",
    "    dico={}\n",
    "    idico={}\n",
    "    cpt=0\n",
    "    for i in M:\n",
    "        dico[i]=cpt\n",
    "        idico[cpt]=i\n",
    "        cpt=cpt+1\n",
    "    return dico,idico\n",
    "\n",
    "\n",
    "'''\n",
    "fonction permettant d'evaluer en x,y,u les polynomes de la liste list_poly\n",
    "'''\n",
    "def evaluate(x,y,u,list_poly):\n",
    "    newlist=[]\n",
    "    for P in list_poly:\n",
    "        newlist.append(P(x,y,u))\n",
    "    return newlist"
   ]
  },
  {
   "cell_type": "code",
   "execution_count": 68,
   "metadata": {},
   "outputs": [],
   "source": [
    "#creation de la matrice :\n",
    "'''\n",
    "fonction permettant de creer la base du reseau\n",
    "'''\n",
    "def create_basis_matrix(A,e,m,t,U,X,Y,monom_list,dico):\n",
    "    G=g_bar_familly(A,e,m,u*U,x*X)           #on genere la famille des polynomes g\n",
    "    H=h_bar_familly(A,e,m,t,u,x,y)           #on genere la famille des polynomes h\n",
    "    H=change_xy_list(H)                      #on modifie les occurences de h\n",
    "    H=evaluate(x*X,y*Y,u*U,H)                #on evalue en x*X, y*Y, u*U\n",
    "    list_of_equations = G+H                  #on fusionne la famille de g avec la famille de h \n",
    "                                                     \n",
    "    L=len(list_of_equations)                 #on definit le nombre de lignes de la matrice par \n",
    "                                                                       #le nombre de polynomes\n",
    "    C=len(monom_list)                        #on definit le nombre de colonnes par le nombre de monomes possibles\n",
    "    \n",
    "    M=matrix(ZZ,L,C)                            #on cree la matrice\n",
    "    \n",
    "    for i in range(len(list_of_equations)):\n",
    "        eq=list_of_equations[i]\n",
    "        for a,monom in list(eq):\n",
    "            M[i,dico[monom]]=a\n",
    "    return M"
   ]
  },
  {
   "cell_type": "markdown",
   "metadata": {},
   "source": [
    "### Test"
   ]
  },
  {
   "cell_type": "code",
   "execution_count": 69,
   "metadata": {},
   "outputs": [
    {
     "name": "stdout",
     "output_type": "stream",
     "text": [
      "N= 522002869\n",
      "e= 502260317\n"
     ]
    }
   ],
   "source": [
    "#definition des valeurs avant execution\n",
    "#exemple :\n",
    "delta=0.2\n",
    "N=522002869\n",
    "e=502260317\n",
    "print(\"N=\",N)\n",
    "print(\"e=\",e)"
   ]
  },
  {
   "cell_type": "code",
   "execution_count": 70,
   "metadata": {},
   "outputs": [],
   "source": [
    "#on calculs les valeurs necessaires\n",
    "A=N+1\n",
    "e_to_m=e^m\n",
    "X=int(e^delta)+1\n",
    "Y=int(e^(0.5))+1\n",
    "U=1+X*Y\n",
    "m=2\n",
    "t=1"
   ]
  },
  {
   "cell_type": "code",
   "execution_count": 71,
   "metadata": {},
   "outputs": [
    {
     "name": "stdout",
     "output_type": "stream",
     "text": [
      "CPU times: user 4.42 ms, sys: 821 µs, total: 5.24 ms\n",
      "Wall time: 4.57 ms\n"
     ]
    }
   ],
   "source": [
    "monom_list=find_monom_list(m,t)     #on genere la liste des monomes possibles\n",
    "dico,idico=create_dico(monom_list)  #on cree les dictionnaires\n",
    "\n",
    "%time L=create_basis_matrix(A,e,m,t,U,X,Y,monom_list,dico) #on cree la base du reseau"
   ]
  },
  {
   "cell_type": "code",
   "execution_count": 72,
   "metadata": {},
   "outputs": [
    {
     "name": "stdout",
     "output_type": "stream",
     "text": [
      "[        252265426032940489                          0                          0                          0                          0                          0                          0]\n",
      "[                         0       13874598431811726895                          0                          0                          0                          0                          0]\n",
      "[                         0                          0                          0      763102913749644979225                          0                          0                          0]\n",
      "[                         0       14419972982861038450            619116704613537                          0                          0                          0                          0]\n",
      "[                         0                          0                          0      793098514057357114750          34051418753744535                          0                          0]\n",
      "[                         0                          0                          0      824273163771916622500          70779783771077700              1519453140921                          0]\n",
      "[                         0      -14986784795853029500          -1286905159474140                          0 18473625133240991196499500     1586317800782552886540          34053983794321452]\n"
     ]
    }
   ],
   "source": [
    "print(L)"
   ]
  },
  {
   "cell_type": "code",
   "execution_count": 73,
   "metadata": {},
   "outputs": [],
   "source": [
    "BasisLLL=L.LLL()"
   ]
  },
  {
   "cell_type": "markdown",
   "metadata": {},
   "source": [
    "## Question 22"
   ]
  },
  {
   "cell_type": "code",
   "execution_count": 74,
   "metadata": {},
   "outputs": [],
   "source": [
    "'''\n",
    "fonction permettant de substituer chaque occurence de u par 1+x*y\n",
    "'''\n",
    "def change_u(P):\n",
    "    P_bis=PRxyu(0)           # on définit un nouveau polynome\n",
    "    for coeff,monom in P:    #on recupere les couples (coeff, monomes) de la liste du polynome\n",
    "        v=monom                   #on définit v comme le monome\n",
    "        cpt=0                     #on definit un compteur pour compter le nombre de fois que l'on retire x*y\n",
    "        while v/u in PRxyu:       #tant que l'on peut retirer x*y de v\n",
    "            v=v/u                     #on retire u à v\n",
    "            cpt=cpt+1                 #on incrémente le compteur\n",
    "        P_bis=P_bis + coeff*v*((1+x*y)^cpt) #on ajoute le produit du monome, du multiple \n",
    "    return PRxy(P_bis(a_,b_,0)) #on convertit le polynome "
   ]
  },
  {
   "cell_type": "code",
   "execution_count": 75,
   "metadata": {},
   "outputs": [
    {
     "data": {
      "text/plain": [
       "2*a_*b_ + 2"
      ]
     },
     "execution_count": 75,
     "metadata": {},
     "output_type": "execute_result"
    }
   ],
   "source": [
    "change_u(2*u)"
   ]
  },
  {
   "cell_type": "markdown",
   "metadata": {},
   "source": [
    "## Question 23\n",
    "Voir rapport.\n",
    "\n",
    "## Question 24"
   ]
  },
  {
   "cell_type": "code",
   "execution_count": 76,
   "metadata": {},
   "outputs": [],
   "source": [
    "#on va recuperer le polynome de la matrice L, avec iP les indices des lignes de la matrice\n",
    "def get_poly_from_matrix(L,idico, iP):\n",
    "    poly=0\n",
    "    for j in range(0,L.ncols()):\n",
    "        poly=poly+L[iP,j]*idico[j]\n",
    "    return poly"
   ]
  },
  {
   "cell_type": "code",
   "execution_count": 77,
   "metadata": {},
   "outputs": [],
   "source": [
    "#on va maintenant creer une fonction qui permet de \"nettoyer\" les polynomes\n",
    "# c'est à dire retirer les bornes X,Y et U puis changer u par 1+xy\n",
    "\n",
    "#on commence par creer un dictionnaire qui va lier nos monomes avec les bornes\n",
    "dico_monom_bound={}\n",
    "dico_monom_bound[x]=X\n",
    "dico_monom_bound[y]=Y\n",
    "dico_monom_bound[u]=U\n",
    "\n",
    "'''\n",
    "pour retirer X,Y, et U\n",
    "on va d'abord determiner quel monome est present, ensuite, identifier sa puissance\n",
    "'''\n",
    "def clean_poly(P,dico_monom_bound):\n",
    "    new_poly=0\n",
    "    for coeff,monom in list(P): # on parcours les couples (coeff,produit des monomes)\n",
    "        new_coeff=coeff\n",
    "        for i,p in list(factor(monom)):# on recupere le couple (monome, puissance)\n",
    "            new_coeff=new_coeff/((dico_monom_bound[i])^p)\n",
    "        new_poly+=new_coeff*monom\n",
    "    return change_u(new_poly) #on retourne le polynomes dont on a substitué chaque occurence de u par 1+x*y\n",
    "\n",
    "\n",
    "'''\n",
    "cette fonction permet de calculer la norme d'un vecteur sous fome de polynome\n",
    "'''\n",
    "def norme_P(P):\n",
    "    s=0\n",
    "    for (coeff,monom) in P:\n",
    "        s+=coeff^2\n",
    "    return s.isqrt()\n",
    "    \n",
    "'''\n",
    "cette fonction permet de verifier si le polynome p respecte la condition\n",
    "omega est le nombre de monomes possibles \n",
    "'''\n",
    "def is_good_poly(P,e_to_m,omega,norme_P):\n",
    "    return int(norme_P)<=int(e_to_m/sqrt(omega))\n",
    "\n"
   ]
  },
  {
   "cell_type": "code",
   "execution_count": 78,
   "metadata": {},
   "outputs": [],
   "source": [
    "#fontion pour gagner en efficacité\n",
    "'''\n",
    "fonction permettant, en une fois \n",
    "    - de recuperer le polynome\n",
    "    - retirer les bornes dans les coefficients\n",
    "    - et changer les occurences de u par 1+ux\n",
    "    - calculer la norme\n",
    "\n",
    "Autrement dit, on mix des deux fonction : get_poly_from_matrix() & clean_poly()\n",
    "tout en caculant la norme.\n",
    "\n",
    "I:  - L la base.LLL sous forme de matrice\n",
    "    - idico le dictionnaire inverse (id => monom)\n",
    "    - iP l'indice du vecteur dans la matrice\n",
    "    - dico_monom_bound le dictionnaire des bornes (x => X)\n",
    "\n",
    "O:  - polynome dans Z[a_,b_]\n",
    "    - norme arrondie \n",
    "'''\n",
    "def get_poly_from_matrix_and_clean(L,idico, iP, dico_monom_bound):\n",
    "    new_poly=0\n",
    "    comp_norm=0\n",
    "    for j in range(0,L.ncols()):\n",
    "        \n",
    "        #on recuperes les valeurs\n",
    "        coeff=L[iP,j]\n",
    "        monom=idico[j]\n",
    "        \n",
    "        #on retire les brones\n",
    "        new_coeff=coeff\n",
    "        for i,p in list(factor(monom)):# on recupere le couple (monome, puissance)\n",
    "            new_coeff=new_coeff/((dico_monom_bound[i])^p)\n",
    "            \n",
    "            \n",
    "        #on change les occurences de u par 1+xy   \n",
    "        v=monom                \n",
    "        cpt=0                 \n",
    "        while v/u in PRxyu: \n",
    "            v=v/u                \n",
    "            cpt=cpt+1         \n",
    "        new_poly=new_poly + new_coeff*v*((1+x*y)^cpt) \n",
    "        \n",
    "        #calcul de la norme\n",
    "        comp_norm=comp_norm+(new_coeff^2)\n",
    "    return PRxy(new_poly(a_,b_,0)),ZZ(comp_norm).isqrt()"
   ]
  },
  {
   "cell_type": "markdown",
   "metadata": {},
   "source": [
    "### Test"
   ]
  },
  {
   "cell_type": "code",
   "execution_count": 79,
   "metadata": {},
   "outputs": [
    {
     "name": "stdout",
     "output_type": "stream",
     "text": [
      "P1 brute : 16699435319427025*x^2 + 16247805830141490*x*u + 3952097619535521*u^2\n",
      "P1 nettoyé : 2601*a_^2*b_^2 + 239656038*a_^2*b_ + 5520474485761*a_^2 + 5202*a_*b_ + 239656038*a_ + 2601\n",
      "varification : True\n",
      "\n",
      "P1 nettoyé et norme : (2601*a_^2*b_^2 + 239656038*a_^2*b_ + 5520474485761*a_^2 + 5202*a_*b_ + 239656038*a_ + 2601, 5520474490962)\n"
     ]
    }
   ],
   "source": [
    "#test\n",
    "\n",
    "iP=0 #indice du polynome\n",
    "\n",
    "#on recupere un polynome\n",
    "P1=get_poly_from_matrix(BasisLLL,idico,iP)\n",
    "print(\"P1 brute :\",P1)\n",
    "clean_P1=PRxy(clean_poly(P1,dico_monom_bound))\n",
    "print(\"P1 nettoyé :\",clean_P1)\n",
    "print(\"varification :\",is_good_poly(clean_P1,e_to_m,len(monom_list),norme_P(clean_P1)))\n",
    "\n",
    "#test de la fonction plus efficace\n",
    "P2=get_poly_from_matrix_and_clean(BasisLLL,idico, iP, dico_monom_bound)\n",
    "print(\"\\nP1 nettoyé et norme :\",P2)"
   ]
  },
  {
   "cell_type": "code",
   "execution_count": 170,
   "metadata": {},
   "outputs": [],
   "source": [
    "#on va maintenant creer un fonction permettant de determiner si les deux polynomes ont un resultant différent de 0 \n",
    "#en fonction de deux indices\n",
    "\n",
    "'''\n",
    "fonction permettant de determiner si le resultant des deux polynomes possedes au moins deux racines, \n",
    "et donc est différent de 0\n",
    "'''\n",
    "def is_2_good_poly(BasisLLL,idico,clean_P1,clean_P2,dico_monom_bound):\n",
    "\n",
    "    Sol=clean_P1.resultant(clean_P2,b_) #on calcule le resultant\n",
    "    Sol=PRx(Sol(c_,0))                  #on change l'anneau des polynomes (Z[a_,b_] => Z[c_])\n",
    "    \n",
    "    if Sol!=0 : #si le resultant est différent de 0 \n",
    "        \n",
    "        racines=Sol.roots(ring=QQ)\n",
    "        if len(racines)>1: # si il y a plus de 2 racines \n",
    "            for sqr,deg in racines:\n",
    "                if sqr not in ZZ: # si les racines ne sont pas dans ZZ \n",
    "                    return False,[clean_P1,clean_P2,0,0]\n",
    "            return True,[clean_P1,clean_P2,Sol,racines]\n",
    "    return False,[clean_P1,clean_P2,0,0]"
   ]
  },
  {
   "cell_type": "code",
   "execution_count": 171,
   "metadata": {},
   "outputs": [],
   "source": [
    "#on teste cette cette fonction :\n",
    "P1=get_poly_from_matrix(BasisLLL,idico,0)\n",
    "clean_P1=clean_poly(P1,dico_monom_bound)\n",
    "bool_P1=is_good_poly(clean_P1,e_to_m,BasisLLL.ncols(),norme_P(clean_P1))\n",
    "        \n",
    "P2=get_poly_from_matrix(BasisLLL,idico,1)\n",
    "clean_P2=clean_poly(P2,dico_monom_bound)\n",
    "bool_P2=is_good_poly(clean_P2,e_to_m,BasisLLL.ncols(),norme_P(clean_P2))\n",
    "if bool_P1 and bool_P2:\n",
    "    bool_val,list_data=is_2_good_poly(BasisLLL,idico,clean_P1,clean_P2,dico_monom_bound)"
   ]
  },
  {
   "cell_type": "code",
   "execution_count": 148,
   "metadata": {},
   "outputs": [],
   "source": [
    "'''\n",
    "cette fonction va permettre de choisir deux polynomes dans la base qui respectent toutes les conditions, \n",
    "pour ensuite renvoyer la racine x_0:\n",
    "'''\n",
    "def get_2_good_poly(BasisLLL,idico,e_to_m,dico_monom_bound):\n",
    "    rows=BasisLLL.nrows()\n",
    "    \n",
    "    ######### affichage ##############\n",
    "    nchar=min(80,rows-3)\n",
    "    string=\"|\"+\" \"*nchar+\"|\"\n",
    "    print(string)\n",
    "    pourc=0\n",
    "    pourc_prc=0\n",
    "    print(' ', end='')\n",
    "    ##################################\n",
    "    \n",
    "    \n",
    "    for i in range(rows-1):\n",
    "        \n",
    "        # partie naive\n",
    "        # on applique les pres calcul \n",
    "        #P1=get_poly_from_matrix(BasisLLL,idico,i)              #on recupere le polynome \n",
    "        #clean_P1=clean_poly(P1,dico_monom_bound)               #on nottoie le polynome\n",
    "        #bool_P1=is_good_poly(clean_P1,e_to_m,BasisLLL.ncols(),norme_P(clean_P1))\n",
    "        ################\n",
    "        \n",
    "        # partie optimisé\n",
    "        clean_P1,norme=get_poly_from_matrix_and_clean(BasisLLL,idico, i, dico_monom_bound) \n",
    "        bool_P1=is_good_poly(clean_P1,e_to_m,BasisLLL.ncols(),norme)    #on verifie la condition \n",
    "        ################\n",
    "        \n",
    "        \n",
    "        if bool_P1:\n",
    "            for j in range(i+1,rows):\n",
    "                \n",
    "                ######### affichage ##############\n",
    "                pourc=(j*nchar)/rows\n",
    "                if pourc>pourc_prc:\n",
    "                    print('#',end='')\n",
    "                    pourc_prc+=1\n",
    "                ##################################\n",
    "                \n",
    "                # partie naive\n",
    "                # on applique les pres calcul \n",
    "                #P2=get_poly_from_matrix(BasisLLL,idico,j)\n",
    "                #clean_P2=clean_poly(P2,dico_monom_bound)\n",
    "                #bool_P2=is_good_poly(clean_P2,e_to_m,BasisLLL.ncols(),norme_P(clean_P2))\n",
    "                ################\n",
    "                \n",
    "                # partie optimisé\n",
    "                clean_P2,norme=get_poly_from_matrix_and_clean(BasisLLL,idico, j, dico_monom_bound)\n",
    "                bool_P2=is_good_poly(clean_P2,e_to_m,BasisLLL.ncols(),norme)\n",
    "                ################\n",
    "                \n",
    "                if bool_P2:\n",
    "                    bool_val,list_data=is_2_good_poly(BasisLLL,idico,clean_P1,clean_P2,dico_monom_bound)\n",
    "                    if bool_val:\n",
    "                        return list_data\n",
    "                    \n",
    "            # d'apres plusieurs observations, on pourrait quitter directement si les couples dont la premiere \n",
    "            # valeur est le polynome correspondant au premier vecteur ne permettent pas de trouver \n",
    "            # ce que les racines.\n",
    "            return [0,0,0,0]\n",
    "    return [0,0,0,0] # aucun polynomes qui respectent cette condition"
   ]
  },
  {
   "cell_type": "code",
   "execution_count": 149,
   "metadata": {},
   "outputs": [
    {
     "name": "stdout",
     "output_type": "stream",
     "text": [
      "|    |\n",
      " ##[(-204/47, 2), (0, 8)]\n",
      "[(0, 8)]\n",
      "#[(-204/47, 2), (0, 8)]\n",
      "[(51, 2), (0, 8)]\n",
      "\n",
      "P1= 2601*a_^2*b_^2 + 239656038*a_^2*b_ + 5520474485761*a_^2 + 5202*a_*b_ + 239656038*a_ + 2601\n",
      "P2= a_^2*b_^3 + 1726*a_^2*b_^2 - 140620321*a_^2*b_ + 2*a_*b_^2 - 1741770306459*a_^2 - 89441818080*a_*b_ + 437848476869715*a_ + b_ - 89441819806\n",
      "resultant : 140575999984022360480247713728570098289*c_^10 - 14338751998370280768985266800314150025478*c_^9 + 365638175958442159609124303408010825649689*c_^8\n",
      "racines : [(51, 2), (0, 8)]\n"
     ]
    }
   ],
   "source": [
    "#on teste cette fonction :\n",
    "P1,P2,Sol,racines=get_2_good_poly(BasisLLL,idico,e_to_m,dico_monom_bound)\n",
    "print(\"\\nP1=\",P1)\n",
    "print(\"P2=\",P2)\n",
    "print(\"resultant :\",Sol)\n",
    "print(\"racines :\",racines)"
   ]
  },
  {
   "cell_type": "code",
   "execution_count": 84,
   "metadata": {},
   "outputs": [],
   "source": [
    "# on creer un fonction permettant de recuperer la racine non nul\n",
    "def get_root(list_racines):\n",
    "    for (root,mult) in list_racines:\n",
    "        if root!=0:\n",
    "            return root\n",
    "    return 0"
   ]
  },
  {
   "cell_type": "code",
   "execution_count": 85,
   "metadata": {},
   "outputs": [
    {
     "name": "stdout",
     "output_type": "stream",
     "text": [
      "51\n"
     ]
    }
   ],
   "source": [
    "#test\n",
    "x_0=get_root(racines)\n",
    "print(x_0)"
   ]
  },
  {
   "cell_type": "code",
   "execution_count": 86,
   "metadata": {},
   "outputs": [
    {
     "name": "stdout",
     "output_type": "stream",
     "text": [
      "6765201*d_^2 + 623345620140*d_ + 14358766359924900\n"
     ]
    }
   ],
   "source": [
    "#on caste notre polynome\n",
    "P1_bis=PRy(P1(x_0,d_))\n",
    "print(P1_bis)"
   ]
  },
  {
   "cell_type": "code",
   "execution_count": 87,
   "metadata": {},
   "outputs": [
    {
     "name": "stdout",
     "output_type": "stream",
     "text": [
      "-46070\n"
     ]
    }
   ],
   "source": [
    "#on recupere y_0\n",
    "[(y_0,_)]=P1_bis.roots()\n",
    "print(y_0)"
   ]
  },
  {
   "cell_type": "code",
   "execution_count": 88,
   "metadata": {},
   "outputs": [
    {
     "data": {
      "text/plain": [
       "521956800"
      ]
     },
     "execution_count": 88,
     "metadata": {},
     "output_type": "execute_result"
    }
   ],
   "source": [
    "euler_phi(N)"
   ]
  },
  {
   "cell_type": "code",
   "execution_count": 89,
   "metadata": {},
   "outputs": [
    {
     "name": "stdout",
     "output_type": "stream",
     "text": [
      "Phi(N)= 521956800\n"
     ]
    }
   ],
   "source": [
    "#on cacule phi(N)\n",
    "phiN=A+y_0\n",
    "print(\"Phi(N)=\",phiN)"
   ]
  },
  {
   "cell_type": "markdown",
   "metadata": {},
   "source": [
    "Algo à executer:\n",
    "\n",
    "    on initialise nos valeurs :\n",
    "        on genre nos cles N, e, d\n",
    "        on calcul A\n",
    "        les bornes X, Y, U\n",
    "        on définit m et t\n",
    "        \n",
    "    on creer la base du reseau :\n",
    "        on genere la liste des monomes possibles \n",
    "        on creer les dictionnaires\n",
    "        on creer la matrice \n",
    "        on applique LLL sur la matrice\n",
    "    \n",
    "    on retrouve d :\n",
    "        on recupere 2 polynomes qui respectent la condition \n",
    "        on y retire les bornes puis on substitue u par 1+xy\n",
    "        on calcule le resultant des deux polynomes par rapport à y \n",
    "        si il est non nul on cherche la racine x_0\n",
    "        on en deduit y_0\n",
    "        on trouve d"
   ]
  },
  {
   "cell_type": "code",
   "execution_count": 90,
   "metadata": {},
   "outputs": [],
   "source": [
    "def compute_p(N,phiN):\n",
    "    a=1\n",
    "    b=(N+1-phiN)\n",
    "    c=N\n",
    "    delta=b^2-4*a*c\n",
    "    return (-b+sqrt(delta))/2*a"
   ]
  },
  {
   "cell_type": "code",
   "execution_count": 91,
   "metadata": {},
   "outputs": [
    {
     "data": {
      "text/plain": [
       "-20101"
      ]
     },
     "execution_count": 91,
     "metadata": {},
     "output_type": "execute_result"
    }
   ],
   "source": [
    "compute_p(N,phiN)"
   ]
  },
  {
   "cell_type": "code",
   "execution_count": 92,
   "metadata": {},
   "outputs": [
    {
     "data": {
      "text/plain": [
       "20101 * 25969"
      ]
     },
     "execution_count": 92,
     "metadata": {},
     "output_type": "execute_result"
    }
   ],
   "source": [
    "factor(N)"
   ]
  },
  {
   "cell_type": "markdown",
   "metadata": {},
   "source": [
    "## Attaque"
   ]
  },
  {
   "cell_type": "code",
   "execution_count": 106,
   "metadata": {},
   "outputs": [],
   "source": [
    "def RSA_attack(N,e,m,t,delta):\n",
    "    \n",
    "    #on calcule les valeurs \n",
    "    print(\"\\n calcul des valeurs...\")\n",
    "    A=N+1\n",
    "    X=int(e^delta)+1\n",
    "    Y=int(e^(0.5))+1\n",
    "    U=1+X*Y\n",
    "    e_to_m=e^m\n",
    "    \n",
    "    #on genere les monomes possibles et les dictionnaires\n",
    "    print(\"\\n generation des monomes possibles..\")\n",
    "    monom_list=find_monom_list(m,t)     #on genere la liste des monomes possibles\n",
    "    print(\"\\n generation des dictionnaires..\")\n",
    "    dico,idico=create_dico(monom_list)  #on cree les dictionnaire\n",
    "\n",
    "    #on genere la matrice\n",
    "    print(\"\\n generation de la matrice...\")\n",
    "    L=create_basis_matrix(A,e,m,t,U,X,Y,monom_list,dico) #on creer la base\n",
    "    print(\"    taile de la matrice :\",L.nrows(),'x',L.ncols())\n",
    "    print(\"\\n application de LLL sur la matrice...\")\n",
    "    BasisLLL=L.LLL()                                    #on genere la LLL de la base\n",
    "    print(\"    LLL ok\")\n",
    "    \n",
    "    #on genere le dictionnaire les bornes \n",
    "    dico_monom_bound={}\n",
    "    dico_monom_bound[x]=X\n",
    "    dico_monom_bound[y]=Y\n",
    "    dico_monom_bound[u]=U\n",
    "    \n",
    "    #on parcourt les vecteurs de la matrice pour les convertir en polynomes\n",
    "    print(\"\\n recherche des polynomes...\")\n",
    "    P1,P2,Sol,racines=get_2_good_poly(BasisLLL,idico,e_to_m,dico_monom_bound)\n",
    "    print(\"\\n\\nP1=\",P1)\n",
    "    print(\"\\nP2=\",P2)\n",
    "    print(\"\\nresultant :\",Sol)\n",
    "    print(\"\\nracines :\",racines)\n",
    "    \n",
    "    #si on ne trouve aucun bon polynomes\n",
    "    if P1==0:\n",
    "        print(\"Aucun bon polynomes\")\n",
    "        return 1\n",
    "    \n",
    "    x_0=get_root(racines)\n",
    "    print(\"\\nx_0=\",x_0)\n",
    "    \n",
    "    #on caste notre polynome\n",
    "    P1_bis=PRy(P1(x_0,d_))\n",
    "    \n",
    "    #on recupere y_0\n",
    "    [(y_0,_)]=P1_bis.roots()\n",
    "    print(\"\\ny_0=\",y_0)\n",
    "    \n",
    "    #on cacule phi(N)\n",
    "    phiN=A+y_0\n",
    "    print(\"\\nPhi(N)=\",phiN)\n",
    "    \n",
    "    return gcd(compute_p(N,phiN),N)\n",
    "    \n",
    "\n"
   ]
  },
  {
   "cell_type": "markdown",
   "metadata": {},
   "source": [
    "## Tests de l'attaque"
   ]
  },
  {
   "cell_type": "markdown",
   "metadata": {},
   "source": [
    "### Test sur un produit de premiers de 64 bits"
   ]
  },
  {
   "cell_type": "code",
   "execution_count": 107,
   "metadata": {},
   "outputs": [
    {
     "name": "stdout",
     "output_type": "stream",
     "text": [
      "N= 167991594193627766444971484494415692273\n",
      "e= 10500369406596906924079269378616390933\n",
      "delta= 0.220000000000000\n"
     ]
    }
   ],
   "source": [
    "delta=0.22\n",
    "m=2\n",
    "t=int(m*(1-2*delta))\n",
    "\n",
    "N,e,d=gen_keys(64,delta)\n",
    "\n",
    "print(\"N=\",N)\n",
    "print(\"e=\",e)\n",
    "print(\"delta=\",delta)"
   ]
  },
  {
   "cell_type": "code",
   "execution_count": 108,
   "metadata": {},
   "outputs": [
    {
     "name": "stdout",
     "output_type": "stream",
     "text": [
      "\n",
      " calcul des valeurs...\n",
      "\n",
      " generation des monomes possibles..\n",
      "\n",
      " generation des dictionnaires..\n",
      "\n",
      " generation de la matrice...\n",
      "    taile de la matrice : 7 x 7\n",
      "\n",
      " application de LLL sur la matrice...\n",
      "    LLL ok\n",
      "\n",
      " recherche des polynomes...\n",
      "|    |\n",
      " ###\n",
      "\n",
      "P1= 257608727437636*a_^2*b_^2 + 14125889977436977948640938149901644*a_^2*b_ + 193647134589957656796796145938655295356410475907033369*a_^2 + 515217454875272*a_*b_ + 14125889977436977948640938149901644*a_ + 257608727437636\n",
      "\n",
      "P2= a_^2*b_^3 - 65265800226098770910*a_^2*b_^2 + 26329229569369780912894415258507868951*a_^2*b_ + 2*a_*b_^2 - 10677245993646158916434527397611477049771151634291215751*a_^2 - 40728771889134675251631580311477194229459059514*a_*b_ + 13314179031662300387113234856373385694865201029775730211261290811*a_ + b_ - 40728771889134675251631580246211394003360288604\n",
      "\n",
      "resultant : 84736254795010078570965513399056847972491638438561804036310965427490993996575915196000080743426179474327679003839987242657748624521026209698820202102103398215481*c_^10 - 2720066656586683986038478514728923653973994920633548071545548078877046773795757549246698639895308810483554535162717080404363882053591255489501491629715934698835447706628*c_^9 + 21828798765573827896305435813115541028735744715591524728315963251151951433248012521187033514927923049085142049470715353801819376776629023655031951973158458403820254884117242916*c_^8\n",
      "\n",
      "racines : [(16050194, 2), (0, 8)]\n",
      "\n",
      "x_0= 16050194\n",
      "\n",
      "y_0= -27417335813781168206\n",
      "\n",
      "Phi(N)= 167991594193627766417554148680634524068\n"
     ]
    },
    {
     "data": {
      "text/plain": [
       "9243695164780717447"
      ]
     },
     "execution_count": 108,
     "metadata": {},
     "output_type": "execute_result"
    }
   ],
   "source": [
    "RSA_attack(N,e,m,t,delta)"
   ]
  },
  {
   "cell_type": "code",
   "execution_count": 96,
   "metadata": {},
   "outputs": [
    {
     "data": {
      "text/plain": [
       "281487805"
      ]
     },
     "execution_count": 96,
     "metadata": {},
     "output_type": "execute_result"
    }
   ],
   "source": [
    "d"
   ]
  },
  {
   "cell_type": "code",
   "execution_count": 97,
   "metadata": {},
   "outputs": [
    {
     "ename": "SyntaxError",
     "evalue": "cannot assign to operator (<ipython-input-97-2206e582c9ac>, line 7)",
     "output_type": "error",
     "traceback": [
      "\u001b[0;36m  File \u001b[0;32m\"<ipython-input-97-2206e582c9ac>\"\u001b[0;36m, line \u001b[0;32m7\u001b[0m\n\u001b[0;31m    x_0 = (e*d-Integer(1))/phi(n) = Integer(182155259)\u001b[0m\n\u001b[0m          ^\u001b[0m\n\u001b[0;31mSyntaxError\u001b[0m\u001b[0;31m:\u001b[0m cannot assign to operator\n"
     ]
    }
   ],
   "source": [
    "Pour \n",
    "delta=0.22\n",
    "N= 191079605712525268029715945676619758401\n",
    "e= 131761611501543917117550125855149440439\n",
    "d= 264160059\n",
    "\n",
    "x_0 = (e*d-1)/phi(n) = 182155259\n",
    "X = e^delta = 243418486"
   ]
  },
  {
   "cell_type": "code",
   "execution_count": 50,
   "metadata": {},
   "outputs": [
    {
     "data": {
      "text/plain": [
       "True"
      ]
     },
     "execution_count": 50,
     "metadata": {},
     "output_type": "execute_result"
    }
   ],
   "source": [
    "182155259 < 243418486"
   ]
  },
  {
   "cell_type": "markdown",
   "metadata": {},
   "source": [
    "### Test sur un produit de premiers de 128 bits"
   ]
  },
  {
   "cell_type": "code",
   "execution_count": 47,
   "metadata": {},
   "outputs": [
    {
     "name": "stdout",
     "output_type": "stream",
     "text": [
      "N= 80007155205535303242029658738752135706922974032605779217778552778742675432843\n",
      "\n",
      "e= 42822797296061905525281587998786575006754674086996721652217529630642174459787\n",
      "\n",
      "delta= 0.210000000000000\n"
     ]
    }
   ],
   "source": [
    "delta=0.21\n",
    "N,e,d=gen_keys(128,delta)\n",
    "m=2\n",
    "t=int(m*(1-2*delta))\n",
    "\n",
    "print(\"N=\",N)\n",
    "print(\"\\ne=\",e)\n",
    "print(\"\\ndelta=\",delta)"
   ]
  },
  {
   "cell_type": "code",
   "execution_count": 48,
   "metadata": {},
   "outputs": [
    {
     "name": "stdout",
     "output_type": "stream",
     "text": [
      "\n",
      " calcul des valeurs...\n",
      "\n",
      " generation des monomes possibles..\n",
      "\n",
      " generation des dictionnaires..\n",
      "\n",
      " generation de la matrice...\n",
      "    taile de la matrice : 7 x 7\n",
      "\n",
      " application de LLL sur la matrice...\n",
      "    LLL ok\n",
      "\n",
      " recherche des polynomes...\n",
      "|    |\n",
      " ##\n",
      "\n",
      "P1= 57069821881350253236897026105625*a_^2*b_^2 + 64714488955876006223915654506233695758420224470083799239624276666376850*a_^2*b_ + 18345795302844528977288902033491484704242486021562739391573507705756330468633230742328038817277752009520673401*a_^2 + 114139643762700506473794052211250*a_*b_ + 64714488955876006223915654506233695758420224470083799239624276666376850*a_ + 57069821881350253236897026105625\n",
      "\n",
      "P2= -136*a_^2*b_^3 - 80510887330156673562048884259713770565502*a_^2*b_^2 + 6065653653677186709156950369448061121242659947820791611237009194613206411588973*a_^2*b_ - 272*a_*b_^2 - 456980719187701686439215454738634276714714730664519779240013280113523182376079722899537574286367394516282856248942272*a_^2 - 58803160291797098261505677092129001412222584650919151413470438682210360655361950589267452381881*a_*b_ + 4354524754401362522735514467014127707330101798382094566466664775825055490511137382655204579235907774815233801399968243658330694307481*a_ - 136*b_ - 58803160291797098261505677092129001412222584650919151332959551352053687093313066329553681816379\n",
      "\n",
      "resultant : 4627748287572547118351558965013753841664068794256844176400581251293328717596005711562753684407922028454858743993261896633646227119515317361449806332428731950393707279366507589663788385381034023781787612978288652570906634677535208900035379733212200561376858567496002850052018126455083508068396346473057381892201422329451048665315121*c_^10 - 69920251697050015913057303271279046059733638844700542820508071135406245955461839996838813764377128334082430888217802402744013543809980406294615292436060189578190913266125676869311917240588424208232828222262378125512060894896940251222576564219146642686978426946566897774369386472343584250017167563365132066693163346850796858216185712553029303696150*c_^9 + 264104770483488913727070250709182715498325475701552647865618696104114735509891687974328790218274054619788193573538392041156471610003597538774909514428061469425446327639990691677100593068986850307039372942721225023824096139303890989973630602074054964393291493090430351902025147705468247513901618714525647625489652290953763666438809461534856093018301533004055655625*c_^8\n",
      "\n",
      "racines : [(7554457087134075, 2), (0, 8)]\n",
      "\n",
      "x_0= 7554457087134075\n",
      "\n",
      "y_0= -566976440634589927648581223174001169764\n",
      "\n",
      "Phi(N)= 80007155205535303242029658738752135706355997591971189290129971555568674263080\n",
      "CPU times: user 45.8 ms, sys: 8.65 ms, total: 54.4 ms\n",
      "Wall time: 50.8 ms\n",
      "\n",
      "N= 264556346317823440887067584312463138141  *  302420094316766486761513638861538031623\n"
     ]
    }
   ],
   "source": [
    "%time d=RSA_attack(N,e,m,t)\n",
    "\n",
    "print(\"\\nN=\",d,' * ',N/d)"
   ]
  },
  {
   "cell_type": "markdown",
   "metadata": {},
   "source": [
    "### Test sur un produit de premiers de 512 bits"
   ]
  },
  {
   "cell_type": "code",
   "execution_count": 161,
   "metadata": {},
   "outputs": [
    {
     "name": "stdout",
     "output_type": "stream",
     "text": [
      "N= 87031354886458821260523948428747747400308082092698871244516257166024749972076347972816986849945746099902165406443623344703445749742388429298728235844207134569357663166247804412860601616209696436622770136585055881334448905622578731984306098004964850011325297107071065529613675210019632346925836349459100674351\n",
      "\n",
      "e= 38396886975277040178463336908163835885935355647512980124155533943202238258802089021200345560289772273435735982698045438364477880446353646570538341045528595499901108310556139022403022066689473180091208172391248915185695689135332704415935056690466194710305755682408716487247592054971039096022390001948109181109\n",
      "\n",
      "delta= 0.200000000000000\n"
     ]
    }
   ],
   "source": [
    "delta=0.2\n",
    "N,e,d=gen_keys(512,delta)\n",
    "m=2\n",
    "t=int(m*(1-2*delta))\n",
    "\n",
    "print(\"N=\",N)\n",
    "print(\"\\ne=\",e)\n",
    "print(\"\\ndelta=\",delta)"
   ]
  },
  {
   "cell_type": "code",
   "execution_count": 162,
   "metadata": {},
   "outputs": [
    {
     "name": "stdout",
     "output_type": "stream",
     "text": [
      "\n",
      " calcul des valeurs...\n",
      "\n",
      " generation des monomes possibles..\n",
      "\n",
      " generation des dictionnaires..\n",
      "\n",
      " generation de la matrice...\n",
      "    taile de la matrice : 7 x 7\n",
      "\n",
      " application de LLL sur la matrice...\n",
      "    LLL ok\n",
      "\n",
      " recherche des polynomes...\n",
      "|    |\n",
      " #[(0, 2)]\n",
      "##[(17082656956435056939845355589888462630665154160197750273071892, 1), (0, 4)]\n",
      "\n",
      "\n",
      "P1= -655920848393666962578770224441104707313156280762082702371599804024051512617988177676767994409815247840062500249464528974691387331551539295577490199598964112901289651350346906013353126760221641120590878404086732201775009728725333639686077425681415928323306850514201303005787237772261406136923182517857580516251829263543983437006518614062520162307795547858164658005288228*a_*b_ - 12653083981970259625052177017142470551844813517238551632563617789845082937850928067762167834703723950862022128860356415933878082725160151864411202282272001077878626950886585521885268955600246899188498829103487388364075450383300887558170345492929199090663669786366261011324011078325500605114027823330308593289923864428710227058295687798162188064478787656884486872793680093598724768677450800174626587740964474223369015016550670630431368694195081984328632269251409203766846198517249465560589472201285507109026890712463143017131*a_ - 655920848393666962578770224441104707313156280762082702371599804024051512617988177676767994409815247840062500249464528974691387331551539295577490199598964112901289651350346906013353126760221641120590878404086732201775009728725333639686077425681415928323306850514201303005787237772261406136923182517857580516251829263543983437006518614062520162307795547858164658005288228\n",
      "\n",
      "P2= 293830555097816*a_^2*b_^3 + 374876458747373439694259178910085383492719664607679849543569589916607522498983907335198467931010100724070065723478983603613540583621708383920286828379207077632495733621*a_^2*b_^2 - 746172481967479025497064599787470595588131026413138777112103091849379260775717524648090872185454955524698707184113291203282134286415606515558302681812628555616772502157145706062399898730777005037699768927176044917380994011484751218357909336761338843702329355160481369886988228381091828893322559495848162074462834413735294*a_^2*b_ + 587661110195632*a_*b_^2 + 1485218289529120310177031172774586030268395342240635960945766026404283722791939034231286723726923262442656042118612846124869665185726821538350930460275006994667239097355782472830605305762701337041515586643188456512286677919948406571103455627513262162748857151643586244687674221640164818097773559517626982178953184696817785625407540976670008604513102597208174482564270087611630323009715511197073260322050406304918403195074993195173411141744491133256734564486238395368744708063*a_^2 - 1568421188049914322384769066994206538633697760970926702116909795603582415209226217837165942258540173073935237509682319132273193000893405203550429769106020451603904319977314312271786314625037047704863948104877576750355106100796568908999646983862054755064550638283471258361612367001440006635361342946771286555427642762667062685042273367388450190074493587194046494588380860313094394856179*a_*b_ + 3121862425205663539849429376908180739605410612655903542001641218390754513031937510567546536654245192954467861367538366296602026200757650590077337291685080763045442842707433433074246833684871960032483708927085520961970174346517496952886052014022153624332692630624762504168009817328089927232081997378364779579298577129576655974984552250429823124277911643542212883054115636539038626716792438260442226008604419911532998081912687522950822271246644688410178150213263313234931292190351303062992929607004508776234778280737238831197759888791039534*a_ + 293830555097816*b_ - 1568421188049914322384769066994206538633697760970926702116909795603582415209226217837165942258540173073935237509682319132273193000893405203550429769106020451603904319977314312271786314625037047704863948104877576750355480977255316282439341243040964840448043357948078938211155936591356614157860326854106485023358652863391132750765752350992063730658115295577966781416760067390726890589800\n",
      "\n",
      "resultant : 551383684478817525909046202173012416744640751631410123224390327878433122319749356181657941610755895287566987899627232116392969568367288237660870462710328088784288882143262902730969281977615824124954557365813616885683614384979626847641998928543587039665403866595527277869593612909008061105895383522751912052197123634048238646120107281262065911251423202264355176140734009333888345003893503888780096085625888660221371474341046787665880835133177130539668207329254979441562552172510778361469926462305322406904037066290656841948342063118930006748311653246693300605547683251609140238069997635640094222050424600792432744031096876395595454852681359593237288362486006738554310897369396037810562398291086930325422155842613327564375237127919019945165331686786121190201188846395279584819570632506720519088933135402803730192814249126721126939597971371847902552769044371748603715278080570648901001137978973080412526328908806622552920009537984817729181164008562980266839637082145374483366401255619186100093439709290860238957881640217562766390202365365998863571278856971153191038812871158905240300738551669632073811941554722605559538186245505977516110633457769223784299873062183773756112184083757959202204325321663099328357722557120507194006713043751339316598683759602391680994982708564010573530504760193601850233626892629458366752463078897266185352740807823093643763954160662357449123280701283092765334950435042238985304176236767294867885694459608759615903317784126724154281010926527475538769593045715352615525162309607520443575281732256623013704469924826165600378906563048384301451043558969741031636*c_^5 - 9419098333326864742074889771885200455960434204636965744095376667165455199734130169207329152101847746747988399368536780817471598585947715849948924685781100213654665430391705781433588802135253731653026722160841070106083292347973613885639841254851275821032296207064692277145480392478563903064897850308424995347248792506594645374303389893730410254914148350153419426924740795732297157249351024100055094755075053853927405002690036645216773290385902108143260693410515486505625285764866114162131645237706539294485976411670931796123703734957078324784872064831722494002901220689396161411963984641534383615447901140256394592040469136158815785109624393659974142777686523007386833676271329594825327041466346353101145382428370566906837748788421248369342185838140284276182216840755969531282221219329481923696805826080061456756512824040862438032400192602518162380345501881615258944900622523217310063693530774082597978281846977462109267359550847461550972727438472478412740113012728258554192056959813568357619020632787050140638456568243947180419201466922843228214016214154520341002409752493930941373692459729668165232042757087489171972750286210080176057295871894110578466342475149485801374971089303342273482119627347835484598978307251617366128955353689760274009424559449726813142484561401805423048246987764393437941263736304588084943385575498481182631379082231550562066031423687730626143000236084685750655820276051641852337833325852251659008204106691208429755091257266541865663107303160606395078938204920493584055147561375268356562644436667904677211204234298699083624525087763983220569956734494838101494934556554364434842540339031694928116453317046773258874375312*c_^4\n",
      "\n",
      "racines : [(17082656956435056939845355589888462630665154160197750273071892, 1), (0, 4)]\n",
      "\n",
      "x_0= 17082656956435056939845355589888462630665154160197750273071892\n",
      "\n",
      "y_0= -19290565337200871167200649263689288919161698665892153993951526448406320471625451952714019363961532700060187068239202566606517320371614167969045469721005080\n",
      "\n",
      "Phi(N)= 87031354886458821260523948428747747400308082092698871244516257166024749972076347972816986849945746099902165406443623344703445749742388429298728235844207115278792325965376637212211337926920777274924104244431061929808000499302107106532353383985600888478625236920002826327047068692699260732757867303989379669272\n",
      "CPU times: user 48 ms, sys: 6.99 ms, total: 55 ms\n",
      "Wall time: 52.2 ms\n",
      "\n",
      "N= 7195767845059839244852289531416269778466447265450702807829716478102353123399434071779728407806344671744148709695222968715702899205043213753849968524092733  *  12094797492141031922348359732273019140695251400441451186121809970303967348226017880934290956155188028316038358543979597890814421166570954215195501196912347\n"
     ]
    }
   ],
   "source": [
    "delta=0.9\n",
    "%time d=RSA_attack(N,e,m,t,delta)\n",
    "\n",
    "print(\"\\nN=\",d,' * ',N/d)"
   ]
  },
  {
   "cell_type": "markdown",
   "metadata": {},
   "source": [
    "### Test sur un produit de premiers de 1024 bits"
   ]
  },
  {
   "cell_type": "code",
   "execution_count": 158,
   "metadata": {},
   "outputs": [
    {
     "name": "stdout",
     "output_type": "stream",
     "text": [
      "N= 20703924551929705438515746090726586723665208952202673688963300553000120381646766954484154714531099314713003838803524180387654303875985349867535093634378765517007016176245345330979990815293902634781644934754874795453525481179464697056720645635078448761615199728106481125267156921661159296079072561886504951750942569412702923402874353391304719305901575270412958925591480264672492304348451022472831346812100087866239707210180825453372454528970919846235609344645430357774389851823158952515894835062912941021728790887762244497446844824863834176897772201922127654482467464203422086005820219535817334110075329383934766140571\n",
      "\n",
      "e= 7417777506236380158996631702159972878197948746293810996669850277228761925595851117758551791379715181915040268631692445884015640933288662123915701151200961652807811760239426000646444920635284229262818715180218376703762651072730108994680041711742545358013240045908330367308684597927905342517148744871220444712669246658068707164523342269495612772074519913796696289334521200432506105754424785081348879230896700284705706411783086214681632793658998561137441790982315046767857808036090791895257125518386260291444086970777892946016879777741646677826491552874892341415835480595335027689455236083213945898113366815574705039199\n",
      "\n",
      "delta= 0.200000000000000\n"
     ]
    }
   ],
   "source": [
    "delta=0.20\n",
    "N,e,d=gen_keys(1024,delta)\n",
    "m=3\n",
    "t=int(m*(1-2*delta))\n",
    "\n",
    "print(\"N=\",N)\n",
    "print(\"\\ne=\",e)\n",
    "print(\"\\ndelta=\",delta)"
   ]
  },
  {
   "cell_type": "code",
   "execution_count": 159,
   "metadata": {},
   "outputs": [
    {
     "name": "stdout",
     "output_type": "stream",
     "text": [
      "\n",
      " calcul des valeurs...\n",
      "\n",
      " generation des monomes possibles..\n",
      "\n",
      " generation des dictionnaires..\n",
      "\n",
      " generation de la matrice...\n",
      "    taile de la matrice : 11 x 11\n",
      "\n",
      " application de LLL sur la matrice...\n",
      "    LLL ok\n",
      "\n",
      " recherche des polynomes...\n",
      "|        |\n",
      " ###[(656797757917939754094592848843706530488068900619118454618869600508183902661348529328434217196232136799823742881801113232666, 3), (0, 18)]\n",
      "\n",
      "\n",
      "P1= -283331580831855832668971766157224026786800532803438415058658804950980966705317733703558096367267130147002821580961121231963798619796702309214911390590719727048294592702142802401138718553239466607713324995780579268195192605427432158042480203266377197757622233484779544163883677572254759437591876427869446807236909725538158053850451565284179659432842581177347586846384296*a_^3*b_^3 - 248107907257602411321672714397758963859214994684114133604592980877170866523772477977934309327155031209457383796302404555257145576308420501062248060264068061715653419127177334469651489105721362112472968233144742419117079813546117218212326924361874450749515105866095262411511069459863714805034875548136054485487136115248653817715869347282510797188150590124277714590409890943711806956691274640440638052967373541027804500915343249817891398053982742271447499878970796583247588754888134953744376271986774560787065590431840021948282093245506989536480854446585678221291587891265902749020865880216395942752934011746946107503968715331193228398957450930053966344146996191137257239287507892*a_^3*b_^2 - 72421075762204547813850688568550183058597804466580317039308970954023410597379047453639386932864031689362197704942160415438008353119679086613981510265963083403328086880369479620197923105752921538512066271413068384905537993973654014385885223954583232171356996495434022545352540391586681443590504296767745327857699540934468276768367727164720481304921833851475535105194109191073979279180183465475578735144695215687599624600648843958577913744152077415784728149845799507624492720662065452894806301521579603271224395953157907820687053730237878479812320869957152907380814588000888663983975557045202952174375761240387266957989223078547670529542469732231198472540592075517333470879222160816762949046662111980298950959387448364866063059223598262163964355481264662986198249135661342683166589395529819538851434418240722418617794841168703538155657349746032255182426108968939360579106614854976129228095854608931288572700357575205770002954496383011454693890530279771265020965975430261535139263802696878*a_^3*b_ - 849994742495567498006915298471672080360401598410315245175976414852942900115953201110674289101801390441008464742883363695891395859390106927644734171772159181144883778106428407203416155659718399823139974987341737804585577816282296474127440609799131593272866700454338632491651032716764278312775629283608340421710729176614474161551354695852538978298527743532042760539152888*a_^2*b_^2 - 7046412818958717864235007110238073403398829332471547031573246418045274144846129732038300180259274284842523543740598652079934421695746456348625667368067050770277909469946981767887890042574575003573918027716728100010491608704761740433767891496850128095704165997161234547573819154086401970463487975808144571499722500352589943540711991984382870247905016353055217920491485952471528638745645886916811176685254396290154672361300823353383229347112244067623060733424406909557637373117685595553781950159752900176229229522890846948108427286246536484163934728213219188037910965297898272664156638990985187626774249373016752597599681769361302507860129028813045662374803660920065844364243115801592078433814558280469541445231377166985182980878761073992887988902451288910073050869367163898185794925453791410913295381933794045739708031196863216396126786674494916855529044877285652303056985388423694221992578642125632084657414007682141016262014001201801392586680610395420251757089523169058874690809338171301361570815458036016192304200830062611865825726842962903709875876935270592347437548096027528264672044395132263847943554820425616808630175976108048160688750904215674672205880383216371304406437060185706006308882786443814604555938300323822840852414251834019981295791665136546118761888029827679686479752957987559*a_^3 - 496215814515204822643345428795517927718429989368228267209185961754341733047544955955868618654310062418914767592604809110514291152616841002124496120528136123431306838254354668939302978211442724224945936466289484838234159627092234436424653848723748901499030211732190524823022138919727429610069751096272108970974272230497307635431738694565021594376301180248555429180819781887423613913382549280881276105934747082055609001830686499635782796107965484542894999757941593166495177509776269907488752543973549121574131180863680043896564186491013979072961708893171356442583175782531805498041731760432791885505868023493892215007937430662386456797914901860107932688293992382274514478575015784*a_^2*b_ - 72421075762204547813850688568550183058597804466580317039308970954023410597379047453639386932864031689362197704942160415438008353119679086613981510265963083403328086880369479620197923105752921538512066271413068384905537993973654014385885223954583232171356996495434022545352540391586681443590504296767745327857699540934468276768367727164720481304921833851475535105194109191073979279180183465475578735144695215687599624600648843958577913744152077415784728149845799507624492720662065452894806301521579603271224395953157907820687053730237878479812320869957152907380814588000888663983975557045202952174375761240387266957989223078547670529542469732231198472540592075517333470879222160816762949046662111980298950959387448364866063059223598262163964355481264662986198249135661342683166589395529819538851434418240722418617794841168703538155657349746032255182426108968939360579106614854976129228095854608931288572700357575205770002954496383011454693890530279771265020965975430261535139263802696878*a_^2 - 849994742495567498006915298471672080360401598410315245175976414852942900115953201110674289101801390441008464742883363695891395859390106927644734171772159181144883778106428407203416155659718399823139974987341737804585577816282296474127440609799131593272866700454338632491651032716764278312775629283608340421710729176614474161551354695852538978298527743532042760539152888*a_*b_ - 248107907257602411321672714397758963859214994684114133604592980877170866523772477977934309327155031209457383796302404555257145576308420501062248060264068061715653419127177334469651489105721362112472968233144742419117079813546117218212326924361874450749515105866095262411511069459863714805034875548136054485487136115248653817715869347282510797188150590124277714590409890943711806956691274640440638052967373541027804500915343249817891398053982742271447499878970796583247588754888134953744376271986774560787065590431840021948282093245506989536480854446585678221291587891265902749020865880216395942752934011746946107503968715331193228398957450930053966344146996191137257239287507892*a_ - 283331580831855832668971766157224026786800532803438415058658804950980966705317733703558096367267130147002821580961121231963798619796702309214911390590719727048294592702142802401138718553239466607713324995780579268195192605427432158042480203266377197757622233484779544163883677572254759437591876427869446807236909725538158053850451565284179659432842581177347586846384296\n",
      "\n",
      "P2= -448910561474942272824610600526442780037326427693147537084711723107566917606945707779174194711549816886353405290505182077719768759070607308268365221701088*a_^3*b_^4 - 420601728742328802301037627308603909883946507981977118919359009786266857555308319465868230800348358020063038543100085869110523512806142325221937784102491984953491987661375219414846065274929940389027124913691951665212571425370781296313800737908837231055602645302750761273248896386866295077556221119022770061498935512123538518919946389548886808137489657073986766212781641073489223831000241116245479056453143173191035291199631375419852300135305405792537824883661036*a_^3*b_^3 - 6744855201397336812363620790023985491294374019093495586090629063106546167452141046858586705348053860433870270881160802311754842639996969273379358068023766630920651092267804479613719758962693245243700765976511205216564392957980781813046704225606797678905950238507683553111405825990881932042081393159799615363164829306490771528477413043190368081139298816779915716475794476176585802680582279394025342413437764941701696488614263005730986716956290197091311439011329265058965075622125831875168175529424293472713271554905660663305022884787371546954728179989740197085054625591132758284659937415251205353912579554389802452153139280704574957207515835535562410077227299816231882979411749459641621910043101545150901311912754298246728889428507982484285972511459122851521105283756290*a_^3*b_^2 - 1346731684424826818473831801579328340111979283079442611254135169322700752820837123337522584134649450659060215871515546233159306277211821924805095665103264*a_^2*b_^3 + 614433996843197382531562643944515534024521984747820758674596966198377035628428093425758751288115398282920591743494309475371244678259509981989553756313282912241133921517637885365073195303398083054135696054447756367511015974793485336735301987485465751947185482014847845498657066982392250888547330605946724070781308877354241206622689754919754498803943425531290853059855302707025291779014574192085354189855705568044555326575594479407896507330970542544935880610918803219064660516132276415764577096535901950868882658016295848407773374941299989247590339280213212731223482778797501133507808662431715621424857028254710020876308373731552402049278446836762609883706010764882881443403518167482950543889325410611856365507598831004202290550226569388014183652570423239150619995766874897841121450587783246583129393073828712749452912350242897232637767380132692047754837205902441567641824454763201631721422847210802381763178204895071768829982060886974639101082620625664272281114076307902821499484179382604835914028779361977665380227802673855835970983427900535507891129346787362166016994890813068*a_^3*b_ - 57216435751416562281431408884362028529399798491207851496174759894917242783048039291929090691033008425031548604037909974635887695004711622654571372631241747295297120157508239706128882849116549705779112383510683720092576696426600118228993980243127141954703948487162063274228030798268872464188282922525406660463562581770741795371511516762329283601501618469874509304987073636696572286121226217748574612660899393288235532284580943141874958535284290078071667740388522100749040329953164703677897617218962473250779262161702429708192471085774802152703144456770733422784256645962594818128208352582963950296611376663764114812949531455157553969005893739273116740963918276844449436336237381216872815432608716221561241127628539874629528173380860567128164270645099472656456525417306051345165629411161419178893151315711569415654102434808497148832894644847525181213123899241262091225759014633779244092518229266*a_^2*b_^2 - 26872919095125714356028919011774106738084924218134738386092378826861920984163417996119492854270010397347958381239765194617419602321531236201393304511794633231269390282185501901996724768091096239171844231520881062653491918518147135085086670537881294366871129061185021859402148571436972674467459304843472082355163436364806448532972701861276872301302600250598872234847665751874632514809637210240422532372516957667546787857467604359264813796088862914150047841693603760943881314513511784282953822554649359993457170684252762469803285992424115690570466744917692074546297099723237447297461409758601456355845242826605353410359629276410987380222379377956770635904617591932469787224735771048093045800573700949215286257752932649418929849073622487637631214059718970978658155444298998485893576579965299579376913718638942731611854909271541162239981725713948003422964289281168345599098692563559277309175306843346093090485142170543524323686815029075314780308528522317599570090589522665469595899765849004509557157574551340133382679307241866230400342011400778513517099308934147230569063270872152296148117059219517046645588135502759785160020494094789697361790277354198847439802949916979346543680483013781732788663497341439658279660088610199796284371790344503930614302596702570420445129694455924969270572338868832080203653613169051790869098004455071119878822005857182530665497406885586788114107188416210059*a_^3 - 1811841149063377266198743089495645113233899066158743469091602548528377551992222259288885788141291949505125512014995796301999442817045425862761327752085980266135610649229674738853819956137253093904834677968438778836602754247490351251793559234661238467418063012556295757870330243697534159873343650782825201947304557782549564973959157244905197525830946154215004224978924088345824702696367920201938443244450326241043959331364218685937873120801579606285690110191264908078243094659264969644991498669013325030679615937696281639060556468214288695621608140862816226557899645147068131615143711582395770321869103993787577739789191179254035345394316640763985983950456366306375423882234504943427931880973913276604538463245083883736864747644110098054542550255753322042150417366359270516411915117265786140938291290840076541719576134305756249378297460701348536634434729353424911943912733230112715276170720108262516261671894765792153269525237523824457644538368492048411031206433999042205578497690204448769696882153199859657972752218592162700227845618471970940321221323105892186837123755562993705259693172704495720985513980805115015556450293487985712579141777866977696281325953574674011134558659558943182557708278323075*a_^2*b_ - 1346731684424826818473831801579328340111979283079442611254135169322700752820837123337522584134649450659060215871515546233159306277211821924805095665103264*a_*b_^2 + 129037705039798870991754968739496122370697030642739868185669996955966913102476466159535489910872408422297807751478240471745946928200658623505603378450434694444762987617309108975297618886880989917918315194029545467963043455216070252914499529406835759191056789777964311632182190958104927025189694855342437205710031223814744631735552977346217117394577255755223298938660748771873739473494718687365402574942323355203310676577958820504196468294160757543235834550110901292832673862664116507248621236073573527462485977394480218176932621529170431089411885747478870545425187697965054271457328162550858360448979487302401119633689694330302372620988193657518024927342757478043507110069267755777072776598766093505133651578959358329001513580382722195710642964611640807143222061933807903109812358488589193212141120659139531293835495547517155098376454094139321882383503328307501471923856689913092030844075266146285660908699073874580016816407091896835212369657904455809257664579431691484490344477611164540225203277946198133810308065671097042921063551474015269722903462831941675061931606653996672174187046318664382494891245639390482238957758461999566224464407105211230184962654144120435224070475157735525565774584456884836875816959268289686591202957549635804858684358607179861429045850105331967219459885851786823021200585165949203643227655663601716493218973524166325530569235948828576785265602998937882280851106521194762753975196346519555338350267691944032392302461978079184216299688027046127091406488640827655801519088525480423*a_^2 - 114432871502833124562862817768724057058799596982415702992349519789834485566096078583858181382066016850063097208075819949271775390009423245309142745262483494590594240315016479412257765698233099411558224767021367440185153392853200236457987960486254283909407896974324126548456061596537744928376565845050813320927125163541483590743023033524658567203003236939749018609974147273393144572242452435497149225321798786576471064569161886283748655265382353169736432367895118389768428820382383475999037157408566145928892599365007254723983897097489415189776988655934135275030094864949523822904109229211067424630238627669283691430074273089148026563270711623550595767651724209799957470458748250740578822929309180159302735566096480864026387683404652824071831734753828329756153211665965442265918789851100878059147957708202671159815204146268257860496429860175477256552648904356264625551112113050180874710385475424*a_*b_ - 1811841149063377266198743089495645113233899066158743469091602548528377551992222259288885788141291949505125512014995796301999442817045425862761327752085980266135610649229674738853819956137253093904834677968438778836602754247490351251793559234661238467418063012556295757870330243697534159873343650782825201947304557782549564973959157244905197525830946154215004224978924088345824702696367920201938443244450326241043959331364218685937866375946378208948877746570474884092751800285245876149405408039950218484512163796649423052355208414353854825350726980060504471715259648177794752257075687815764849670776836189307964020030228486008791644628340129558769419557498385524562377178008898145749025930735405593051427057419093001804822666250950298439179385426446831270621939953316080148330775818449006225221815496363899955916895552026362224035884022936406834937946115090419180957195776939915623964731708778997457296596272639960278101349708099530984931266813586387747726183549211670658623769510214708572611827527608726899688092281176911494873933038917581137869068183825187611879916239727458142849615945404679489102534569055655373934540250386440561677829865112679449552436525066691526848586148099820331036602994566785*a_ - 448910561474942272824610600526442780037326427693147537084711723107566917606945707779174194711549816886353405290505182077719768759070607308268365221701088*b_ - 57216435751416562281431408884362028529399798491207851496174759894917242783048039291929090691033008425031548604037909974635887695004711622654571372631241747295297120157508239706128882849116549705779112383510683720092576696426600118228993980243127141954703948487162063274228030798268872464188282922525406660463562581770741795371511516762329283601501618469874509304987073636696572286121226217748574612660899393288235532284580943141874117331826805420467065665133904892929272436937200749440058899199389939535668645522770693246591774369734676075616944285032512375758644361312150942560003368613056966321288626224934422682399671574379499719178509835942691598113176714251821834860419706754761610142003214699014743334854807284474415731142815027005166399620852395618616632638208277728890650097013445646467588033564590967992101952576006190719988358501143110630724636490422386625488403822194168442750907194\n",
      "\n",
      "resultant : 1705722200723121532409242247351529440553040304884864793038211541830370338411657024241904859961861407304219117268111145845588242117908980865775104287666444261451327048526899104283863299130371273755548115387644320364452334374378254175762832843887726471399366841209750971363808420520719466991812107315428639690121866269455546957399348161034620180314042801584841864865034500343337366770135503404502736352262325068071558631792725602719196286214120467808648622923475435695188688981465257924979589995401886918409515733791807457284078772760621308957223396881038019290714055379014424357938776311688022624307011775267787514197160259121013615227267905783192044864240612626214765692709476867921547401053304364225561663604696827658444170070245362795699558901478626225814695846521104194448164645363564470803848022720106555131288347543043835776533879609807263558068355317185194939703360040301620702727673869218056393157282908984616091747041267784158312948355901238196710564277925212909863840961906255687965843607570303418103224380381902115677006964539696577460818097249823241184891775428465547889151644092052471909719464227061146927408358291654697840192430841106401140335180146525063122270370700439607652874944094821960384788669621147933129117658451925879944449546634291150332139288025271811054627075806687762167396663249900131084601807860051487334595451716827029027162463602589067320740378633123256985355013541081820902031290612075178744967548767765524846468363300145452188630132894541870924079067416344443478820229531671338689760936405729702435583901692607198959617537831825630190906247685219173777176221249718354063938206229494741590777344620417688239813960452969851136656388919904625474294186996303851460643312911820926807444489389152924023273672517838516050203892128217430723400030986801239714675510688414802582186403303347083816910119116961913139786416959940315563033683941183165723098019769131261939246701385465957509864156723516628721740328135612141083140449089534576320461822180474476971674703097649407409075745096697285225784720306529700676606372998009165157411807050451684455655596336353984692081444202139873136059125492066494530529180728335664793351529241413593144696776610187137869660127357863508748051995609446618981260308891148804294535294641719651669018587093492662141852122776987279587307871090662271432389147271559828917401119097820935189288233977638648366450659624729510033030502333605243156860404462899085767811996965769575910641881997277850283411941450355845499450239138455189282608068289435003480806161646958221904208127601625852303519159200839567615862396024589419754078793490593453271796863679858031661645787485308642255279967665023416362315138013832001674863538710491374744764129666682265175899647547953357052570757158136288704045500669567366842282873802649644921053438143334408794018703236896855238835358709766546179512958110426933604925053208553279290759799995236988494224023887290260891740468069675657652212971146424506677587724403792083794005057074851375831381319312287007436559412197037323130953808100190582427252587304478603366282164147697031128250502734099518437697376977155318402335261588918279038046157832936842584217468241271338802455374994398910478549910114478258403056278336257468812031745226669522393284292301419178555498753508967806058564273100965101802515502150759368535499985111435500673584734599097685746016403389011616538732622236625225950059647458983558414795172743951169743614347482136216093730841030715281562168586046061963451256088221568678763199214425122627795266904057292520891645517229682271510364351718579612875767434207453732858469623892554422649311726889531016732346949019439607222965976040134942860998196347124956726577131791179240724161731348411820728961686865058231814474206276332771512772816030390637303249589260351993043357869045388381006309466346070190168086114097376754951889288939598378675232687290281120050731414821074962845848301577912121949252934727470498819467720228094424846623919550782978560336772663911304593015950068067410480001195397311300309617389079412735510033481906709203762012451811181020022988039242043647316626466414905268369504117736440564230455680918312390646946746262508560227818913921980068892982017251704946964067994768566169046205182522103778954622273834841933801201022728991693851385975316108986303212019352323549505630849236448124820710062792692420097723666748841579881032216517604286219572042078965536364953205277511278112644104522924544815089564147400126342663602161283646700214490838234208803276172671099676836725600080188564335058050545531171675539835746634962539946432992899494097003477181406873252419308356432257422647303192535000360219575716601856475899976855991778665615541042203687698601002775589171531685879743465023318342065274939856887121024002687594800116371260136299974261509565139921495176431132985835083754468998499292120735100662994071045619540029034586353000571722448971504240360595381517334843989520156917867614595103295567299283128515721343311146285507598465865772320175240504876023283173976713740566214210273177626351837427137905967226445598809005140272283692399549044060846095208372863399401761913940332502724289006638263561225750359626503585189773996448739269637915819831054772259617453146905136880152782260918211515044817813305473652735478698413042597937032209521443278805400839159500222950160660726087210663069639801844121537512234493622452021870077670067941835001240897044074516023471792757127100323959002559790205975689380482123051631618295067405977033227662884043296670137942833279958154274936759637083777441764478047658024863296577475291496290793273895917495754845819221547331504028554278458493780601013077524855356924991928805179904000*c_^21 - 3360943551197400654030789114012969804252793925426201843772219690081955976105944538314815570577223365118973524526292029783414336154108830882533442114860199184106814790234258842925489898916216306026548535422820614497825961942385134703983340002995216428450624589746468448659881792905391121737438205085917780507246017569210355546844039926773381344462228344880893059820333643423974786827225057040140796960362632834940706072888961976076061712077953012472132266372645662709255518663899978003939113214631054742699871383862608826725532347757343961577001715595788125589195760521354556315320154925897160334285110315817981290014806230843536568234333430649644332205814000149748880347199250009988937947819970290131327543916412389272139470163440304793290995469940801379319124261367895669638360272397418826619398057949677075609404243947466511517867524575284845226653792694713242320822258297431736984734665676080155572380903017046750362856770840547094419792153695815226381327405595600304613053039572475932652656293505017412212577784745878858834712717772713172268289560674227035925086301020313835295059707296744120381995829542520408556375819382473619005131784816271455422412815436122513385117752003254858153899769456403134076938969760039620769363820923560119891918588911319674337593104045063541764565956291118736919868819624989165001068084373211407042183109894519434211621560709415945549428870832117135253869483291147108059899983969005622454692639199747962915444786902187481120266347110586948090927958545354672030486038299745328727216698270980026480837565387506054641859953699768183823697495910028161951884235474486699836818868730232492395150779826162125847832668042028184171510994544951591732771558858950671844219286637507218107067422095562028527837180356139052677960683826136612117289162556745502202967290856827718205000712285990376599709996979216483977491966383984544071295015262207818981334446552446995670479824260912515342149285013013405650237638112004279128792724092366295922228117335376078078124139664271933206666459319764031803983848911552916145177138603762263639088627434402192975383313661492903200156128666049320298393602796216577222535060084095817310878562541227830370401281413948692977382937861715199423711623418543980782274348406738616584025537222110017394317851190478325532695710025513742249555098331123813314010159881978681992239827291605540663890439065167700326759993366317915512005248243093751738483646370296511939671940426515621841909085949586824171517034933490462451027567519026790509863959164119767959972872180808541344657972444004631362724169375750478405853779209225804240226748787026022182415330694571779165289807123732776463970273210158562279151068055690955787701812527144124044199324240808611876494317022018619414693904133294475847794726920668208809780876607129229737389106642304113205769135452706949315123682410276274504131927541544043085885317098379608895909230577070736675900329942812206984758696092863516123295372600413111561723480474946394158089679500019639375542045154886424919774852693983831274690900662187579296071942151672862105674722133277845906989132353118519361598805468617499456791784827240812295701617289818898343469657023469483708115611550951105125249015616493984534338345846184623567086308185574804461812975072973775428127203685124102149751955395035122618815505660660879420238935221145102209894790115842603978119761596642364233143126275296040467901828764485804976257213936385216868495784925452595567183509928139415105342710552225216400709017331648797878778782171933343018074828976644072230342727454837987480668659889266731622009625987633144618719202225796474004660413278492447397162134816363246091618291528161247191374935310060346383113376237444354895140622224985082307755787807004008215203998371374141197931710734390842032783681569230124652435225946819353670711251928298248498311804242385480588729212099067722077295197761812278952132035646410219764820576547426988290474409171861225395507117650584369019962471624066868946702150692054854944051299852396559324672687657907371430329207094703543891795198534206362283723773318636330712612539338050848201906474745284621591512214370694368877962275821619579806360980995650006832786567884282209507940775808246989190694329708459137986814184517159350817453337923895498616255206494737295194313041300456369536715611401399796248979830764379275211307471727356009363310524299696429586570562774551855173825162543970419367025167318026097997250059271055821613669522270593644665730018547958356875099031588850967064175542421757356449775070447679940338052984787434852259306606810869170255459315717537290624004001918334319677360477405519018183827811907746094900705460296165983227535052340812273237468909304565113613814983828731901003074383949498612840676310153278074179315869421648607024597687972026996841188136578394117404763131900983886700390281123397341039695377296748647337971330640802404250585257177625302315323122858422738927790003036805526527606106414597761129605339669542334857082781183526474513466705891209496086508956876604081915578853073704982288717876277765010970243301173841734944367543410236782956501445028672768315651376190859412456316023312662341902653666610971911741874566057445200918002811057509752809194458107248363822405663258053085939659703404621286646041301299194956366583555600846236179251464896035022912314041416214774014421979268358406493734046960737088393928638640728076789274408778905947236332966663649865391706868523462734434661670748568734397904676825856197467516106047796951987359658659247342293427778481811647006554751611768787135620787820801494096701929488880188131626364408605027478665715760536102677204088553346568819996636564553490720902736898423529139545003940483801310193946919101564406486089430549586306099068684151145557654236552068761516458981833646018859457418632192000*c_^20 + 2207460188915211110709704886134843464893750863018154766555889938498257714512977540435969386841066989499299251057612959996973597427761690825560904677991374510173373411408157268286368543120647152796340829963219031793697681813964616535601861915691775290279362587810426438465362617193470214480232438288071631421286056150901353167811873947236794455511057371883634070163127537739249458701890860325048782399191820001160913389827523927971945973171899937968127574579306844655978814752839613051883429297104670609659612827176037523698921362301513797080933951867650639551363754743999645158600791833368498944223697731277280104254182194882143021499131404140280897964422240443798619990247096008651842547624394494919963248950458240674420347213587148455473355631603394094297671985415489859031169363521135299013448069656880345982150067955663670292652005824280335466641961746517327416730826355101660571949472757954155708695667735388597310484212322939835621616609544810673856976698708936698431554727082564537669015049417547852734453902624024929255247091127776192730494340237487099663357679880122644659102625598566919824056957560439535105279073163262529402539821291288667402258261515816999912520091524633276935993524674779476709827925050035346191782596758540680774822464933091946668623541359670803031076073215776884071913701312878512256183613331572303159476373602862321066389298810022618594712201133103589038856025166340215682020246302622507316007942035369359175890249267924558013124458102484914584255463538242711249740980950783884421772020755894788435391696045556995944338128156315284258554375305069904335627071937277934274192304141276294025892180563529913216497849650796082320857973359852105957059294470693208132354075550397393391666592223295570337320295367323271796088966736969269465726501930827043332096309820219436408505345084677720115745487054341473258901105891452105376668831333291075852185897217434722025438478363134388490415312085619292273097402283941638108909978789351337778569581003603525872590157053228861067435104711824603769000649083274178120252899086754144863347735662105969095723205069579101423483861922481973634425398071194635585369653061852331427905556416576838651201469922675120441025741948307122530540087243063107527300989434550686208295372341031142790022206173059220756602880268161384218424475356500407218946028589531246616272886301001617945452540781954250792866378016608387057516527067025782150376336225744578774084267244484392328293740313421133914385941282292278135832475122450924587870641369721792054112388952095689105293771848856187698405901350786765901098668217374393179641635974979306135826807249322662640540571914550505959411691895408127385507897104092755108979987430263965732415362644006687696911153484029627927509211289200440380154704470231488530926474697517113010925631010102078961341949476996978874651542117198476826894459026320854470467279195603499756387996807005686410081698092166945512994302570303009494243876078932888234807968729683039099294840757922026101577005653833949714345154744432189410280071430399658758365323906511505518038184454033548491862909876424007027434579871317990449911738596124518088930741247671957266034188284928026486309884462734151743828570607497029936861522945793200397684661401039588386809405744998141647294949973316912377266437696087686025657344776092876111052512510944022553591456326757010330320919433347862499388819193388775272452842144541391424747153463306018201977932617072582216540097044129328815143908560239197237117433902519290694206027796122511518351645962488564819253472088652275105312751720096182428465924812657486037626692418838816813411155765829080673594730184892024612338838614749298760815014048668444380480521850758448146980560708643264653211224694631765710951605372108722481074563589174669896781402514124951007590796880901929974865913420502675364802688828311639281028836102183976961271340237342909856560072113381880998197204748007862486930404427249687510872911889064182136160428288505657818805783632058181366370592963550546655725088114741096452743295287906385383851079597009018255359052017953194926967623183127488367374179115259517540498302251508383682139118008825965516059831829694469285384850317092475812054484044026866029488288858568766108023830710216499507025300337980672860166772732281834122463515623701981387154751441197160857421098384260454035925031967470965731295797946690170522106396677201447436000806045915140473897247735411651075348003466176632192453616091874437528260189274360179130600688445815508610753258238577345084239596907122878465142465674541747210049675378772080108198090249282565376867295287971524410169229753570110019927472917542049224237372025945423929764341539922539715056119263594207610277313943662156213015127942289695094935562996460710556042776267814933276341348213007244205776337866117652360294294822494121350079478896278302060498872725209174258389847066808230938101143990583236095647322173282482414403140877856527810084172812759605261489806317618108004944292716944314512668912067017915209415487928549550947849263411705868408235529863256866829398913862009781413088741508138459285937739590715807480532691358991480649465643418663069071519803089078417305316494406959582401834391119697183871900235497736980662084295905582209232208572741200910297626818014765891508011295430342358796633800263286177476737217128556463323687813536541470118918907147120980679911598869086884420366739180889644824052974888132046634159181766128771117569068765532415866734874840064064915229431381748709335635097112084890851547976186245982066165021910676514263563614807531468465275847910936496460980539448019148961398978045616056498271030440867917475683150039764410577064292811240236202448155726262399844491420108131116012573434362406434540683323522530167878974330451033862837091606117356416126524695266356459759922106975426570508702604615156277117135318474221514397023391115092570926626312347223324927767954052392362993173583872000*c_^19 - 483284967590874127894015069715598427514334738519291909112676314127714549448992552459435159310432729197796955550326787068676133973479790111249426299551139171451950826088478494454922221519667096631982428382149949166328356952761888110851003066357525673116248598727851451355420151823338140101949315048069416405393910421492544169170329145522002093034256433714275309742326366182715317255737326647532807351910249794350339286114599589647869151724750347054868272107506181646244011460338672006761401709198571567511799207454128628669498232724078570839425935644866135418139655081225463473618911672556157332298537325942514878798088227002556696635660555838420395856735267260900903634222665392089723139279084131816344070719147844589145482767097997989171060312748871921651467173259012255599886070124099011073050042542967748524045464975468369934905544656026171668270082418492606028572952110069092653840148407285291257885866944322403777851148028317053284547968597168799131158065938597613096005121510441194182284534481423449710249566828498124142474700947796570149003244238134433658200031588518071630546308353747028784479561092400682683745004546700106955752172828116747723628724382261135280031833475054329210205643665436335320244758026665149044016820844160093857604273974899022999106116011494623461054050752436000549158934539924766846318581322945705384585314358720912457010814522243858813994359823531646899071180415240594233115393655931457660314894456998433601341569990018668382815577266944477212767672353148894156570903117614369834888190586528014276119651103985898569322044862189732687819400217319682949786185599121718021878195384017952355679731019392846514796316544571747748909299979533741655481534052508935654680794865753722114297276415833255813077441928049514335923063626152397664044401280358824098180328506272615470204021198508310282155156954057168733694829092257539351862366359215930663037094600558561128942934751772409689723281263603665472466418705012199901885472829363415822642062732619942254002273776446465962732203923095821434512370918137601015575878415333121330676153587144658945905423256842843283196668249453847822749246472627068506027828565410649017360079591751269618272509695107309917939922116240744972513478918586488266979491260109347465794428944921116283305149737487496400434479336063329039069609069274391968395541854470677422662471741498971909639437728231373160898796783834451721609887873225071091708790058582454639257162969460346496159268496513295196996720402453263357425098687402483212225548182804136060048074972843117268206059437338551381860825980702439740589549074407578454715138606776425010024030018636568118256932223741413430297166552139036343540484244747649427203844262654333394349967481643142793744098659335521986889578457006252218219375732749630536118821874420574766858410069576949344253616227982813737056880649790802027140905573953328366413636087993808914007690433937133637191230379152559931408743460454858742538557752959196229027566332681319791304726805566671176732052816118872854618271816967592440462046705750268191421226565248382401501487419144489329889857839240888110725288678170909514206198739743644566529489701070297687111960550093610525748596463929182154585678354903055775085612292083823133627980943386845465667968418203947004925771599355368058156598837405319622776363148805184265239810208351702214025263418502104757435887292243585839651088417692382951447867050926574290640487661599860662059200158854390105975804763477176660871095318226959033078802079154649996612794841771930716449578127005720461388558429716980151760329391889088086769653200607479728088934113137796344443718710767663960180035126192572833185670364699890503466503623906687888794227004370860758923899469589878692388775250290172807045626252461896030675347077786282954887367543509682588284575210274764194133944528973260281863986046517602360849342755261631912294058338889030381204348402924937878009535825208393605590334755243219358124298926703106233877732431076786439831736519884239698100507249217986132704298592382752417884132182942802549787009793827917873556161875400115736833332032804260971584059224193193379454914601639344886740107973446533200036819419282971894123979892134541158933444039362315099496531105330026845724382116698148200440639882765909229218299075006472039992679403283205169862703725498947858382981725190240601997888454113336922336597083973533467190970737971511590960524319092601785283410122930795874013131483627833829378094811992309098294988562125062557038245000106293500513731486784782228222457380315169649121675372619688901744992426414106807966775240018469415014088617969885752074309122145229710330244775685927799024500541641914626213877562923928689918571493121681620094120360876089807349559744015066636561545714722221386470124048153859155020964873854795766003681044121791984130349103327517921097387762960616032219233945255608289487050242515324513632833260319588978777896570266701898006939995369709567242844919715642219213993578661896382104258327336739671213477873970741348502296441829789316991085995788573962285103989362942814422921264903320134424874958249284250158240205211535099908003166478166000374754143574443170603707207309751529108534525950613054615005790509633176960710431261701078731662080535495414856163604158434178420046685143475463569120865152033995536019784474264314704190548362420457783181776831300889442648679714983751924702326068408086693832968177955805159200216467709710791133805338641677708725827651194254026504890763844191287510077039619992211884847169550735136738315009095947227941902101819953461554396933026048912275947305459258317126725738199921963901990777419021956227543984941675370637466092074955376915425117478012244877708156940890108502853534150527486436619131688129666532197977457263715216909811678760703016030367460940519562253090662333106519738790654897196660643792923281461704738857602968439558762813977567499706522855089598177796876953332744836584665716930670836856721330113607427977375431456492889971594878008637928548018463242879878655478058877232562762737566058200387584000*c_^18\n",
      "\n",
      "racines : [(656797757917939754094592848843706530488068900619118454618869600508183902661348529328434217196232136799823742881801113232666, 3), (0, 18)]\n",
      "\n",
      "x_0= 656797757917939754094592848843706530488068900619118454618869600508183902661348529328434217196232136799823742881801113232666\n",
      "\n",
      "y_0= -291893461045609031716482373556564158809697612363078446346615174402394891782713709657385004648772014116044060740983339370059207992400922700787891998966129221581735589644145739577779367166774712479668297115263865377365119180359597007478684679468385096012427381813906540344173926987870123978837025728563448740620\n",
      "\n",
      "Phi(N)= 20703924551929705438515746090726586723665208952202673688963300553000120381646766954484154714531099314713003838803524180387654303875985349867535093634378765517007016176245345330979990815293902634781644934754874795453525481179464697056720645635078448761615199728106481125267156921661159296079072561886504951750650675951657314371157871017748155147091877658049880479244865090270097412565737312815446342163328073750195646469197486083313246536569997145447717345679301136192654262179013212938115467896138228542060493772498379120081725644504237169419087522453742558470040082389515545661646292547947210131238303655371317399952\n",
      "CPU times: user 138 ms, sys: 18.2 ms, total: 156 ms\n",
      "Wall time: 155 ms\n",
      "\n",
      "N= 121522897933171621138265330851901418882082724261787143709355053205778368992838268421538813573435959201060782458809731237878578667601967021346461108536887284350879615983005384353613299968597672324505258103145694865938202688994592210913323643926984711911006186146198039857267936422792758176196778836893970302787  *  170370563112437410578217042704662739927614888101291302637260121196616522789875441235846191075336054914983278282173608132180629324798955679441430890429241937230855973661140355224166067198177040155163039012118170511426916491365004796565361035541400384101421195667708500486905990565077365802640246891669478437833\n"
     ]
    }
   ],
   "source": [
    "\n",
    "%time d=RSA_attack(N,e,m,t,delta)\n",
    "\n",
    "print(\"\\nN=\",d,' * ',N/d)"
   ]
  },
  {
   "cell_type": "markdown",
   "metadata": {},
   "source": [
    "### Test sur un produit de premiers de 2048 bits"
   ]
  },
  {
   "cell_type": "code",
   "execution_count": 160,
   "metadata": {},
   "outputs": [
    {
     "name": "stderr",
     "output_type": "stream",
     "text": [
      "<ipython-input-52-3e336567fa15>:10: RuntimeWarning: cypari2 leaked 12879440 bytes on the PARI stack\n",
      "  q=next_prime(randint(Integer(2)**(k-Integer(1)),Integer(2)**k))\n"
     ]
    },
    {
     "ename": "KeyboardInterrupt",
     "evalue": "",
     "output_type": "error",
     "traceback": [
      "\u001b[0;31m---------------------------------------------------------------------------\u001b[0m",
      "\u001b[0;31mKeyboardInterrupt\u001b[0m                         Traceback (most recent call last)",
      "\u001b[0;32m/Applications/SageMath-9.2.app/Contents/Resources/sage/local/lib/python3.8/site-packages/sage/all_cmdline.py\u001b[0m in \u001b[0;36m<module>\u001b[0;34m\u001b[0m\n\u001b[1;32m      1\u001b[0m \u001b[0mdelta\u001b[0m\u001b[0;34m=\u001b[0m\u001b[0mRealNumber\u001b[0m\u001b[0;34m(\u001b[0m\u001b[0;34m'0.2'\u001b[0m\u001b[0;34m)\u001b[0m\u001b[0;34m\u001b[0m\u001b[0;34m\u001b[0m\u001b[0m\n\u001b[0;32m----> 2\u001b[0;31m \u001b[0mN\u001b[0m\u001b[0;34m,\u001b[0m\u001b[0me\u001b[0m\u001b[0;34m,\u001b[0m\u001b[0md\u001b[0m\u001b[0;34m=\u001b[0m\u001b[0mgen_keys\u001b[0m\u001b[0;34m(\u001b[0m\u001b[0mInteger\u001b[0m\u001b[0;34m(\u001b[0m\u001b[0;36m2048\u001b[0m\u001b[0;34m)\u001b[0m\u001b[0;34m,\u001b[0m\u001b[0mdelta\u001b[0m\u001b[0;34m)\u001b[0m\u001b[0;34m\u001b[0m\u001b[0;34m\u001b[0m\u001b[0m\n\u001b[0m\u001b[1;32m      3\u001b[0m \u001b[0mm\u001b[0m\u001b[0;34m=\u001b[0m\u001b[0mInteger\u001b[0m\u001b[0;34m(\u001b[0m\u001b[0;36m2\u001b[0m\u001b[0;34m)\u001b[0m\u001b[0;34m\u001b[0m\u001b[0;34m\u001b[0m\u001b[0m\n\u001b[1;32m      4\u001b[0m \u001b[0mt\u001b[0m\u001b[0;34m=\u001b[0m\u001b[0mint\u001b[0m\u001b[0;34m(\u001b[0m\u001b[0mm\u001b[0m\u001b[0;34m*\u001b[0m\u001b[0;34m(\u001b[0m\u001b[0mInteger\u001b[0m\u001b[0;34m(\u001b[0m\u001b[0;36m1\u001b[0m\u001b[0;34m)\u001b[0m\u001b[0;34m-\u001b[0m\u001b[0mInteger\u001b[0m\u001b[0;34m(\u001b[0m\u001b[0;36m2\u001b[0m\u001b[0;34m)\u001b[0m\u001b[0;34m*\u001b[0m\u001b[0mdelta\u001b[0m\u001b[0;34m)\u001b[0m\u001b[0;34m)\u001b[0m\u001b[0;34m\u001b[0m\u001b[0;34m\u001b[0m\u001b[0m\n\u001b[1;32m      5\u001b[0m \u001b[0;34m\u001b[0m\u001b[0m\n",
      "\u001b[0;32m/Applications/SageMath-9.2.app/Contents/Resources/sage/local/lib/python3.8/site-packages/sage/all_cmdline.py\u001b[0m in \u001b[0;36mgen_keys\u001b[0;34m(k, delta)\u001b[0m\n\u001b[1;32m      8\u001b[0m \u001b[0;34m\u001b[0m\u001b[0m\n\u001b[1;32m      9\u001b[0m     \u001b[0mp\u001b[0m\u001b[0;34m=\u001b[0m\u001b[0mnext_prime\u001b[0m\u001b[0;34m(\u001b[0m\u001b[0mrandint\u001b[0m\u001b[0;34m(\u001b[0m\u001b[0mInteger\u001b[0m\u001b[0;34m(\u001b[0m\u001b[0;36m2\u001b[0m\u001b[0;34m)\u001b[0m\u001b[0;34m**\u001b[0m\u001b[0;34m(\u001b[0m\u001b[0mk\u001b[0m\u001b[0;34m-\u001b[0m\u001b[0mInteger\u001b[0m\u001b[0;34m(\u001b[0m\u001b[0;36m1\u001b[0m\u001b[0;34m)\u001b[0m\u001b[0;34m)\u001b[0m\u001b[0;34m,\u001b[0m\u001b[0mInteger\u001b[0m\u001b[0;34m(\u001b[0m\u001b[0;36m2\u001b[0m\u001b[0;34m)\u001b[0m\u001b[0;34m**\u001b[0m\u001b[0mk\u001b[0m\u001b[0;34m)\u001b[0m\u001b[0;34m)\u001b[0m   \u001b[0;31m#on génère p et q\u001b[0m\u001b[0;34m\u001b[0m\u001b[0;34m\u001b[0m\u001b[0m\n\u001b[0;32m---> 10\u001b[0;31m     \u001b[0mq\u001b[0m\u001b[0;34m=\u001b[0m\u001b[0mnext_prime\u001b[0m\u001b[0;34m(\u001b[0m\u001b[0mrandint\u001b[0m\u001b[0;34m(\u001b[0m\u001b[0mInteger\u001b[0m\u001b[0;34m(\u001b[0m\u001b[0;36m2\u001b[0m\u001b[0;34m)\u001b[0m\u001b[0;34m**\u001b[0m\u001b[0;34m(\u001b[0m\u001b[0mk\u001b[0m\u001b[0;34m-\u001b[0m\u001b[0mInteger\u001b[0m\u001b[0;34m(\u001b[0m\u001b[0;36m1\u001b[0m\u001b[0;34m)\u001b[0m\u001b[0;34m)\u001b[0m\u001b[0;34m,\u001b[0m\u001b[0mInteger\u001b[0m\u001b[0;34m(\u001b[0m\u001b[0;36m2\u001b[0m\u001b[0;34m)\u001b[0m\u001b[0;34m**\u001b[0m\u001b[0mk\u001b[0m\u001b[0;34m)\u001b[0m\u001b[0;34m)\u001b[0m\u001b[0;34m\u001b[0m\u001b[0;34m\u001b[0m\u001b[0m\n\u001b[0m\u001b[1;32m     11\u001b[0m \u001b[0;34m\u001b[0m\u001b[0m\n\u001b[1;32m     12\u001b[0m     \u001b[0mN\u001b[0m\u001b[0;34m=\u001b[0m\u001b[0mp\u001b[0m\u001b[0;34m*\u001b[0m\u001b[0mq\u001b[0m                                \u001b[0;31m#on calucule N, Phi(N) et N^delta\u001b[0m\u001b[0;34m\u001b[0m\u001b[0;34m\u001b[0m\u001b[0m\n",
      "\u001b[0;32m/Applications/SageMath-9.2.app/Contents/Resources/sage/local/lib/python3.8/site-packages/sage/arith/misc.py\u001b[0m in \u001b[0;36mnext_prime\u001b[0;34m(n, proof)\u001b[0m\n\u001b[1;32m   1189\u001b[0m         \u001b[0;36m5\u001b[0m\u001b[0;34m\u001b[0m\u001b[0;34m\u001b[0m\u001b[0m\n\u001b[1;32m   1190\u001b[0m     \"\"\"\n\u001b[0;32m-> 1191\u001b[0;31m     \u001b[0;32mreturn\u001b[0m \u001b[0mZZ\u001b[0m\u001b[0;34m(\u001b[0m\u001b[0mn\u001b[0m\u001b[0;34m)\u001b[0m\u001b[0;34m.\u001b[0m\u001b[0mnext_prime\u001b[0m\u001b[0;34m(\u001b[0m\u001b[0mproof\u001b[0m\u001b[0;34m)\u001b[0m\u001b[0;34m\u001b[0m\u001b[0;34m\u001b[0m\u001b[0m\n\u001b[0m\u001b[1;32m   1192\u001b[0m \u001b[0;34m\u001b[0m\u001b[0m\n\u001b[1;32m   1193\u001b[0m \u001b[0;34m\u001b[0m\u001b[0m\n",
      "\u001b[0;32m/Applications/SageMath-9.2.app/Contents/Resources/sage/local/lib/python3.8/site-packages/sage/rings/integer.pyx\u001b[0m in \u001b[0;36msage.rings.integer.Integer.next_prime (build/cythonized/sage/rings/integer.c:36378)\u001b[0;34m()\u001b[0m\n\u001b[1;32m   5734\u001b[0m         \u001b[0;31m# Use PARI to compute the next *pseudo*-prime\u001b[0m\u001b[0;34m\u001b[0m\u001b[0;34m\u001b[0m\u001b[0;34m\u001b[0m\u001b[0m\n\u001b[1;32m   5735\u001b[0m         \u001b[0mp\u001b[0m \u001b[0;34m=\u001b[0m \u001b[0mInteger\u001b[0m\u001b[0;34m(\u001b[0m\u001b[0mself\u001b[0m\u001b[0;34m.\u001b[0m\u001b[0m__pari__\u001b[0m\u001b[0;34m(\u001b[0m\u001b[0;34m)\u001b[0m\u001b[0;34m.\u001b[0m\u001b[0mnextprime\u001b[0m\u001b[0;34m(\u001b[0m\u001b[0;32mTrue\u001b[0m\u001b[0;34m)\u001b[0m\u001b[0;34m)\u001b[0m\u001b[0;34m\u001b[0m\u001b[0;34m\u001b[0m\u001b[0m\n\u001b[0;32m-> 5736\u001b[0;31m         \u001b[0;32mwhile\u001b[0m \u001b[0;32mnot\u001b[0m \u001b[0mp\u001b[0m\u001b[0;34m.\u001b[0m\u001b[0m_pseudoprime_is_prime\u001b[0m\u001b[0;34m(\u001b[0m\u001b[0mproof\u001b[0m\u001b[0;34m)\u001b[0m\u001b[0;34m:\u001b[0m\u001b[0;34m\u001b[0m\u001b[0;34m\u001b[0m\u001b[0m\n\u001b[0m\u001b[1;32m   5737\u001b[0m             \u001b[0mp\u001b[0m \u001b[0;34m=\u001b[0m \u001b[0mInteger\u001b[0m\u001b[0;34m(\u001b[0m\u001b[0mp\u001b[0m\u001b[0;34m.\u001b[0m\u001b[0m__pari__\u001b[0m\u001b[0;34m(\u001b[0m\u001b[0;34m)\u001b[0m\u001b[0;34m.\u001b[0m\u001b[0mnextprime\u001b[0m\u001b[0;34m(\u001b[0m\u001b[0;32mTrue\u001b[0m\u001b[0;34m)\u001b[0m\u001b[0;34m)\u001b[0m\u001b[0;34m\u001b[0m\u001b[0;34m\u001b[0m\u001b[0m\n\u001b[1;32m   5738\u001b[0m         \u001b[0;32mreturn\u001b[0m \u001b[0mp\u001b[0m\u001b[0;34m\u001b[0m\u001b[0;34m\u001b[0m\u001b[0m\n",
      "\u001b[0;32m/Applications/SageMath-9.2.app/Contents/Resources/sage/local/lib/python3.8/site-packages/sage/rings/integer.pyx\u001b[0m in \u001b[0;36msage.rings.integer.Integer._pseudoprime_is_prime (build/cythonized/sage/rings/integer.c:33842)\u001b[0;34m()\u001b[0m\n\u001b[1;32m   5269\u001b[0m             \u001b[0mproof\u001b[0m \u001b[0;34m=\u001b[0m \u001b[0mget_flag\u001b[0m\u001b[0;34m(\u001b[0m\u001b[0mproof\u001b[0m\u001b[0;34m,\u001b[0m \u001b[0;34m\"arithmetic\"\u001b[0m\u001b[0;34m)\u001b[0m\u001b[0;34m\u001b[0m\u001b[0;34m\u001b[0m\u001b[0m\n\u001b[1;32m   5270\u001b[0m         \u001b[0;32mif\u001b[0m \u001b[0mproof\u001b[0m\u001b[0;34m:\u001b[0m\u001b[0;34m\u001b[0m\u001b[0;34m\u001b[0m\u001b[0m\n\u001b[0;32m-> 5271\u001b[0;31m             \u001b[0;32mreturn\u001b[0m \u001b[0mself\u001b[0m\u001b[0;34m.\u001b[0m\u001b[0m__pari__\u001b[0m\u001b[0;34m(\u001b[0m\u001b[0;34m)\u001b[0m\u001b[0;34m.\u001b[0m\u001b[0misprime\u001b[0m\u001b[0;34m(\u001b[0m\u001b[0;34m)\u001b[0m\u001b[0;34m\u001b[0m\u001b[0;34m\u001b[0m\u001b[0m\n\u001b[0m\u001b[1;32m   5272\u001b[0m         \u001b[0;32melse\u001b[0m\u001b[0;34m:\u001b[0m\u001b[0;34m\u001b[0m\u001b[0;34m\u001b[0m\u001b[0m\n\u001b[1;32m   5273\u001b[0m             \u001b[0;32mreturn\u001b[0m \u001b[0;32mTrue\u001b[0m\u001b[0;34m\u001b[0m\u001b[0;34m\u001b[0m\u001b[0m\n",
      "\u001b[0;32mcypari2/gen.pyx\u001b[0m in \u001b[0;36mcypari2.gen.Gen.isprime\u001b[0;34m()\u001b[0m\n",
      "\u001b[0;31mKeyboardInterrupt\u001b[0m: "
     ]
    }
   ],
   "source": [
    "delta=0.2\n",
    "N,e,d=gen_keys(2048,delta)\n",
    "m=2\n",
    "t=int(m*(1-2*delta))\n",
    "\n",
    "print(\"N=\",N)\n",
    "print(\"\\ne=\",e)\n",
    "print(\"\\ndelta=\",delta)"
   ]
  },
  {
   "cell_type": "code",
   "execution_count": 248,
   "metadata": {},
   "outputs": [
    {
     "name": "stdout",
     "output_type": "stream",
     "text": [
      "\n",
      " calcul des valeurs...\n",
      "\n",
      " generation des monomes possibles..\n",
      "\n",
      " generation des dictionnaires..\n",
      "\n",
      " generation de la matrice...\n",
      "    taile de la matrice : 7 x 7\n",
      "\n",
      " application de LLL sur la matrice...\n",
      "    LLL ok\n",
      "\n",
      " recherche des polynomes...\n",
      "\n",
      "\n",
      "P1= 6263425382168409487445952070755872768819737570210587965801377301908248527245513056917806452892213396604013700094055396590841294518838629812652652412978196733960557175659973827412753265560273263917614357654061250289948890419163260666933239266078634072006409811530907520943059188932036864745400732266359762531579938945502714029259316401937219721513214680330646138339243098716221591178399105040065752554735539800617241359460486498461773429840706913408823086908618569718054522217779663947974759396*a_^2*b_^2 + 621090442482362628045014847611582453577291085983383058030349039955854441463507998853516256770853616541640543253296910553337531765467972725938676446780232293002597735846490285506857074631213807358607787411178856748215772158417159228243439492098759619818952113617408583688311443008384168556055919686742306225345768939207429556609977048439749479896870410017703896547029409437592861091058776071312700192073208375352249097964379478876387406690059339830791365364798916520681543034665725363870527069942030182627288096335325844017254879890573213701816858381892731071678620068171179832065522271338408663500100521437048993742393233693562856814284923288147756936932695450346886318937554834766300925708147439824180198553385520048322850011605548271631184242926442638279292769843488156252113211669981720091431957332014190115460298997814884888024487761633063222112592541391529454100402331740859793100596333722370729562515805387877847727633260942725470720523347284067728594013269881995937316938019839307569174922687629633779323110105002888996285745497234425749802957369222011849375710111660494061687410495642079046474014405140*a_^2*b_ + 15397059684033007460994069284215839936393150356662753193982990641762003766213962704181572215636050009254828104692670717215097850952519633469077888743248445185193576104517385822058849730978671548665242748997450968978135703523114924105045967639143988008218677945546072111254987260247539634591330711701047281807087717593798112311250065984744402941933163734315786725271926279292727931450875932054163077169838609611110173669518361488091638709368808489041495116207488179863149974127426229246236307154222518754553567690570658623575498684234162073486134688728047969753899711154750743285743693355619971246429590956303302750046518472526419521858712209867178626996743590455511961586091988368809632467266151212545420096288957879217691007223282678620047880965150059384758496779725749060371459113573186214936376077480587596388558787550836441623091613610798989917437747247495311518178225803456606652979149279378213754169620955325262016413409919481170539059572434918232706453025263087919523969341527869710521938598469391552587599097423768876652885852989385054377366906101572184181105217560549555927476143331984652383272938333387835560505260016349955166784020484690146200290145312635357702105033582632164927410918049490962250956282989592288712343593715411998737661098149888074781393241451709538469790053856214666723768132062060192329040803049625191584548614152334758264796344278682775942345797727549493895545597550844356191165267575617995310451347428810081510893998373712445863708155921319585841191534262523033074857113348707727183153158121028319353212311721880530689112942163470804787609169012866515682747677158475434119830834062163311737997196039385372414900889393618806003557653118959431887511825989092381948654114122773902715829264361845025*a_^2 + 12526850764336818974891904141511745537639475140421175931602754603816497054491026113835612905784426793208027400188110793181682589037677259625305304825956393467921114351319947654825506531120546527835228715308122500579897780838326521333866478532157268144012819623061815041886118377864073729490801464532719525063159877891005428058518632803874439443026429360661292276678486197432443182356798210080131505109471079601234482718920972996923546859681413826817646173817237139436109044435559327895949518792*a_*b_ + 621090442482362628045014847611582453577291085983383058030349039955854441463507998853516256770853616541640543253296910553337531765467972725938676446780232293002597735846490285506857074631213807358607787411178856748215772158417159228243439492098759619818952113617408583688311443008384168556055919686742306225345768939207429556609977048439749479896870410017703896547029409437592861091058776071312700192073208375352249097964379478876387406690059339830791365364798916520681543034665725363870527069942030182627288096335325844017254879890573213701816858381892731071678620068171179832065522271338408663500100521437048993742393233693562856814284923288147756936932695450346886318937554834766300925708147439824180198553385520048322850011605548271631184242926442638279292769843488156252113211669981720091431957332014190115460298997814884888024487761633063222112592541391529454100402331740859793100596333722370729562515805387877847727633260942725470720523347284067728594013269881995937316938019839307569174922687629633779323110105002888996285745497234425749802957369222011849375710111660494061687410495642079046474014405140*a_ + 6263425382168409487445952070755872768819737570210587965801377301908248527245513056917806452892213396604013700094055396590841294518838629812652652412978196733960557175659973827412753265560273263917614357654061250289948890419163260666933239266078634072006409811530907520943059188932036864745400732266359762531579938945502714029259316401937219721513214680330646138339243098716221591178399105040065752554735539800617241359460486498461773429840706913408823086908618569718054522217779663947974759396\n",
      "\n",
      "P2= 7593216873602491310919215481928663937213057314913562655937270*a_^2*b_^3 + 433592830340041838300436327303727616457187212692274571891667733537237293290618452435738504203487107193569936365304001195503712385004206916289748861403094226376512984236305037966613726778784982912138283436695729088022281047147703329512919041156363733245592157140004093201374205391212191534041731891712537338114942185241591547990043964923932911274687598494922030156791884937345341076882485849381678713137620633694265937296356375433893703263196971016844028508542248549526992920477721873180179152299493859842190439380507158986813560336766896864319415965512732020159037296339458791475534806855286684398368786692164207660466505091309892113724263458423695363634865995241047588314483961*a_^2*b_^2 - 3647492382211062746419350625461307650214249278264105348040077448384855601092126357274591376693959971160201570666607231452390887896702270204196009273863900944419398490686750451866667342037392247780966966222853501913751198485666340255082987687535757858752773598171566705043054846030832002699348315091395126445360810386364922719292493564756314148827172058635670121035727490392485867352162804478636184914540875779995106711836250122791591964555575552292018948495318316199841228714168387118398114418534373508447676099027429289501946118185096575109680572807314509895570283471228399836126149087093463417877518520085398332907968828109809447725283324767227278168395359377381756109776199997116211867309899976406193637123352624755545462221559308953782227280929025550818977314935820843335211518374140131509715548473938671891114293001625688549219374494416525275462166290298055874985097724286925658984841531174444168905970400515076217301361298448524569077934538994385299827357633181277067041206553632070067401658452564257747789026496708869463508296848894543819887037411977452102937743715141322789913179660377983746375270332784820474130922225865137257268344747011077253934589206939654622736975947579564594633556822481442598635168790450470595062437468177715057982932091107792924237597738199268661833241606780923*a_^2*b_ + 15186433747204982621838430963857327874426114629827125311874540*a_*b_^2 + 30683627005211355803196110597230684539706540804854235042873518143066411050134859925300475443833033897959562551371919690746959038009117945548507054587792428689120653171645963345659327732296567303901249764279376203674344250426609489763869347844492239805033865061989324511404230382394907549278800972375210532552688820179596353861282223900665474568143024299363207295535231767803009352768136155121496425627305984523162872175316323955506885217035149662905080060940988421062727063146808251306025228480566742195422683428120210458252253019603615901474593603396959566712836556225897857519415752005298607457809162574293062578281003460544161646977907728269379719004937436233947253067799838782652474391703132421511988605407943127840707078379661854587368251108803856125073792755877086018450584571794320661493769619580993285413248686115028169849665811030525907318737104503186963109434651202744614388188882164564573431187991694985860180989059931081164420217278743291520779716540052704931602669067310035616235866685250819084025293664544032740464059639808073539606221927125900294809784747676841958082281201870348149325341641539716342656900531836486695936326801298372202567165813491807771098586052880813289041780355768421507949010301788166386314174041262927607235013140678628950358836401704420365052181451185893385517955396882664411541503332284655753165325955731097084779545720590047850353523369632912084843868375331642369787089402105282987515331095732722443575018242733459834362220193225092877408112277694201584631979525889662937431841885253294623453964206199724669264002864121808372781530588190249574151738658495696048600152622849451528243500857355457333072025493198611819428390085319754614398693133451448000741757340871400276918626199187397386526738886803413398062501571492960892834722708510262798546253412325175351566050566522349094246505451222144568604973746123819170783282634587786478429896234084530085996378879601957460153*a_^2 + 15187658351906018157629860574494086923919868158342167220628285631957895688680611712092185705336703042579670041013233491132283141187689383627951388930847045004550297749898702815130815269254484916224982565817522208815902992837325320634436336139202382172858823050729851493170907143094300912332113033121530138049690979492417380850373796639267302882637030907400989923434935417861144477569783335073522595559366497806410308260458001468785500161526626179465919283854663019093653407825166999814908027875993877909950962716797444673122023593572577916710387962572814881678579495062446528930466748690733014613961757283254903990815946925548872893473512458976555798400229266285818780034410562553262189872313914983705679076642700148726851888613322247677832163223095988676699961560161307482275579298138308899398352489789696100131511970621131355883930446007681248260171645808359927403451860289367308898450805708164061990578712158956619047842072111972123060193553753181238183017570799576549133584368256045906428350204015941772335729454145141802041446126598734623427921519500510356802222871491347509021218673159898647862004566806325329389614107500411624638248809669539731223743903996666890879196069295492758622966697005642754551432743570694640350416977647559453879503491063474646127579357603507925994625252068956902299422766304595478347946442915639363689035967502039867794334595718119591675958853882639658248714938943132854324988966614225137731542983336834273080529588853836336418479633288894994424056189373872155616569238631489481210063039153140818568652674035*a_*b_ - 127762417332308880748684945164702904654189283666498788902197115936802497545408844293164034238162243437698636936286920380875500170115711143551874983699016355105447592346724133836712596891159271310677579317448588422866385511255306398128159809518663693832618561312013563012526180666445923003408921423021124926946078449563073983069412468000926618230202977277129385668441616632298467007699712860718322355513547407127056975305360055394496686973219477998869845524775285726703197900744314336066727574741500363994941836785024987696397922949196190902466695294261555838284466790801193582973935357701918472693984690206323615354990726953884505610095868507011756065549872798112494081028343821372879714503027019762283615151780255670890076446418214780538482871018120120361358386316034494193942689505884046857989485870510560627950767240984365789207159693194149655111447189632840958704565803798397371697817043611173403124092519155621849352223413108960679747922955550888070926774987594398170188952041458765790994070819608662107225555538623558411629277736739519624366828458602434627034513863958790990393479971156276162234511958203080711905118066682195287814580498177799688524542097456788682643397942615480384347605255622005306618874373684112865614350673658246365255129624706712295415968890004638149588606102013778158787579911309702498074868165592711722101240276924559324728650110558671849884854185470869003566246737644096365198954645878592108182614159314910007089437264361325273748307231815455484591543523254975395818411687592686425623386374947695207319608225122028884234999822412000965089233174550089531675785405005172813776921924826299154432305927208835637186214533384087755376715319230958625943856447884154717706668676001671499843310814144024229632579106756539474977872834957741831108926531905440984836994724077106005388157491541715471224909134238880480722893294543653437430277054017417029404740303558064133242433489700226281967158817735616330104629229226658689607824942692428179026468355132389908151838377361063004606650056028744814868294617308910940218766335679785436135262436193735927603835331779148060016874986076986814153218560941066134723283757215524129516850240924781*a_ + 7593216873602491310919215481928663937213057314913562655937270*b_ + 15187658351906018157629860574494086923919868158342167220628285631957895688680611712092185705336703042579670041013233491132283141187689383627951388930847045004550297749898702815130815269254484916224982565817522208815902992837325320634436336139202382172858823050729851493170907143094300912332113033121530138049690979492417380850373796639267302882637030907400989923434935417861144477569783335073522595559366497806410308260458001468785500161526626179465919283854663019093653407825166999814908027875993877909950962716797444673122023593572577916710387962572814881678579495062446528930466748690733014613961757283254903990815946925548872893473512458976555798400229266285818780034410562553262189872313914983705679076642700148726851888613322247677832163223095988676699961560161307482275579298138308899398352489789696100131511970621131355883930446007681248260171645808359926969859029949325470598014478404436445533391499466682047156174338574734829769575101317442733979530463606006612768280367060542194043345997099652023474326359918765289057209821560768009701142734517598218518786175762259486740171525456569134942963410442592083797456967496318423264043418457348197182012012284129552764253884053901210632922732081709843276745145075772610193625092710214112802621005214092967414441736969813660057328895693523008596159569333578634319437900667089836696115489780166687615182296224259749485519473375480671435154602176235990005573001101493117572505686997375481604994781998549652020110846596730786763589684282562263502844975173065785846428173157899770980338190074\n",
      "\n",
      "resultant : 30433814389229049376676588766873812895883144244779563658303677504549845288506139965588408166205409637451542539187903800449776673559401769807343977896962544902866667152921917378970968228614547207215224402466290145716374691395392681428852618102957911908137490622511168526299668223914399018673989644605565610883347095915397361546217196466498283524293761769985308648040981793025703699420045515935842063402557246713245070339599827709840921389731317498072735060256479967184010729811165007336632050207721964233137108613872839948151583544834066230790396756436247087615256965971827913395588263758530001236485134332764604577009838216814338900934894012382004647845452768701054924642589602376099952978291914145310871595104926029693225703832079334872278337244259980626992765862242317641957013447554612279523655544516405376201534069894619918387693898592158194732476370810756237001208704487712823597194859664565783431625318621453829409884163385977754243805697868536586756655471756121237524680659254279351744775422128365036740173257185539738253260856178759052183815856827265116443991590355773864186105635269757861464762893065554284834942377565407792650355907598043934704943894257070644495688042777042756993122970634126418140228762729881335652977631502730432345625765814763945349381359914793655625985061419208890861683832386432208256738748794313556805764665951930431149619853681172087086623679570152663477756314256544185899529430876260582554018537347078252036001716677356676463802343297984299113560674657958081198985802812755387976704880987272694571792897789359869041862127758369943710962414020934842705664620161307916641122193336550072196448126565150653331104123345759541229750891995943275335464791333406071799653473931009485434228730805238427156699519242656429900673028845054384136027079487240290248663423462466700523603878040943258261479785575446317202516739653068079680383297593421768692278537176694461116566381913641576518760505280431973742667742980823553827435563589434380942737199270251416127208505741147665622204070707215862885458606787975568248710034675826272754158616881902949305833487303510949795561647452685148572611770412180291264495291830491714879063848940055673786381341853994225337521122840765578162923663606175394579749936093641794333097365099759209021863909407820759801366910191408632734315412506491739043874003817548320656139292235744554376088668215220598692690133161431322628556829095970183391060158875362728287640822113832952758072913131261380938374883222323759320446244560135202380352396422410350625192527826801173097467958901039321226129740020573242287103474500810950215727374528798046738920972555845145424766546284494561767683480095815060592653883406385355109705476662546490676240797814961333803878494898300722230404800688886951744098473287211112854308563876799771410018188516814510260112487912082730040610568901623397969184437560821830217187331710398705430097825883622083169602082554656036818160304016698473332246748860617463820427275963816508218131659960315557244889352474317461146532020272972203551520454827130085838197566427902133913351030888118336643283519902706446140441746676109015591567276553216665122168373573838177290901611792278851244363316177101896584175900144164189386945324802264969273916252073549048037610309781663517458611289921427748720570505400308317058008206146539904993286046981779193391462323076274867570951277491011213519543946014217467193187603464220929536202683094774375874165117756725393797577978339756780986876228285460952371204559650948715852995518596997479810486121218877652867115729804510133974520092766340385622074971095293143546780700795856371333924772645661074817133940956978335941974399613705936523526104755492639143014361117128527384212817983238324196599784503320142028952755727673737607645337787392379382368590528367372085391296455191707140555222833290476481521245225136079595477757381748727579408994037895192314869053386200012522696299700110937596567222867423794714381637551221341632470779084033103194292984971891443495123034809410502384467700637331205255227120781372208121455365760727832456951927350262178657122678244973937007327198675636079160759199410916176411381593986596283495534867354971433087275003273296567027504867655110440641078093366478467436874779325992897183228430965419151503231066695448298250351011632779983228301960865744747748509294433993275337162908217484036212334203895980412462967709744025099948224168051570501540909126680886120001135889792421494396007000410175962736622822551906937399183720282019241693605656136914409126184942141107012494829865871142171528107671708176216231691746905352201648956716381514533875835383328908577839146906502053970550586193138434308401232809283958787846586829460405303620818026552346758515936594445430815726733749468459661732436759990307877732840959754887271317243359487493439342713184122195137027131367452418518944287414851297319770450643277151975327626470758666834182616239243435679302810928140473701633855690639342146143231195073763444013785593721698375987415093066702540667293877869138137647987391110623441150779372587261782471475310686329068993331439043557909735047997262656720439276678018366993486725311613373902078172627832124221159911917254298462681756501793902541635176521589228660437633013939687731634124590978415667559172723225090051978383380016948999057098880876258789540508161273277071368197184*c_^10 - 152332418509207223269294436654724448392173792564046343585616078225188426278851238205466202585941902298479975949585682028806474994076699645941096994789146205159883969257696698945152942499571350908703307641388962677416368164860259658930977736326776745017623663696123172501610068230630143202478070490342452163577623900555867494921778892145322416316012739596228377625649065649623043718343731710499153419519898858119245226780185918273874211182359738811561122386003877821351711426326807371860421344872751111618032055159495285503253812102998701967930054188070778058468588127121343030961848885832422121748025589202559147941704695476864203987536868542821645622150655107189663848243873999701372336648137468508435487073714701398680575425849569391351186077294720395527255847317018447373127165397433815151508777608778702507304870214075458032953937979093573144724323212387192620882434138701230962579855096618485715166763311612326828812675456103033916654858713717669269520261305395847630220508363305997318616052476307107502066702635353797144338245795877859603711594056824833764750337940101927077167659474604428718242350670540613030632153651848168817715288786957793942096947286685667267826510363105964895695295606242445071262720310333054300832403937202041592438960141811255227739717824580922975330338987351331689288087259327382757635800941972732627579854030002225102770861773344028792527276992641851190254841426453197983253945561526150179678840195435342035228414768427234008991161578770247178481856357991370480657429203466473853614393653153348689621625692628528177107659766674579439355743356694694624898617384531229816158338800891416164090080525978180121209160712710019010697752508007804822016869229952387077846191097165573657719154320269791022783794038043718281818385731006564006404804193657112156285739718136520578979737568591183153202120149938410653932580454821012985902660547174247065466357945594091103999500249620749062791552622964946790023229334480460145784765258829337487410185181892151302426804165752617257425633347506197765078488127992545008608278110296952403131632024134865144620510104818239961970851041326298000805595357008281352457063525139833994738500927390835569097494177556896459872187699771186822379462226365158602862272854131875532399282120876296949690326096258429847560930712406206048468652205779650796770496941709537589678264330187351735477516294276170500041113961874156340496016086208126425187161803160768410084827389483438778327224461023549758097704499930240281260728138852852668753625006090722120213184387816667420931340740391098210270838685601804505818796613927355320269381468025563597540868107513664317643278889082252684283550057315096268687066680969642058304442836846410991967217154778147123363815745307545804272380156658886426832689423323958809588795817443044123715468821226050960508266213513714149063669525349952679630997657473688766093668553441174017215110040440804330425450738985431603231757989803038770730692747343802659704378665349307729940973627980575206456628864349228143517366631514947386528942914671802193538114643142971256722569407806644968602589332499353475138011683032342422148005298600569403753447505502212435160533847962087278458314564288640568783523242342777802143145349015180445463303095396917319724427573416398211721775436114223804807693402957916019310829952136861719801268583526967509443766483454960445400918706552365686405501698416115537074427468005728318254810017648247063572041533385697290066950997107581992236568641284405315636190201483254301986137238240051810958808315015899898753644090933821033809250513051440295370990916314586878355897102202840339705801892882788819654247836050706205624909649464957581170754275260836919730640310492240273577913234717043852969101544467699050907065644639701195495521976687555457681894875702445701491361071534185612818242334814652816601647031326703768740744033320756631769711964042596300854508884204205103416497836522923133261583184909357668496369559467100397583215248191407293508763707690559022939664502209068952118669880410738398815449216409231112589565383694276889391349253589915608381098872788727543913767910459382725292061887868954339832727518546775173744732251894439963312208812897768183101899527030921545192391033999468264263879810983826570874358226871671698953845872455876694886235304288913323522258584074598535352401114493664932005500900059354259876471704520558724166811486268898750551242129599872014705055885271608651281518281512582532450829878255499115151117058781898639704719717732133902360250642494663668580739449322116081379560295161372506478138836172528129532042756089882966811795026357930096989500530386457479569697185698027112815437382665377172842896508035631561397127616293850248544107625096093811312597947166417457574031042458191251686437406861347617530636687830394183390858141073051192527458478359679369896360563983454449893112060081101637254978599640339811633362210754510200621768597622517085210579298497280093902061984879587638203193492116007972711847077340349969609071513926241586021212998020438978309619237504229230043986392419375822693978645752675749311390822833489323401421165698529803990152781690642524932996151281335345795120958803597587429947858929309515576407904544119858621744462165991227064247726276452658901363590661916629753560787449350911559828562136851486987502380650113156636026939425908099797888910992293797348460006674155550053495378958867166362332298576564093813417423770902517437791901569199967196148911265866205159913497086994415519199334172156909718221122301177801310516551014674886067279666756560547646605482899305686659587759173543803648*c_^9 + 190619925521699398359922729966513866384126256871399187001492068844894091564140377497218028966883017670146497867911548724122990755943149065469846630814421887285493041741267270647879553738674139751936745917555187794246447737200140356190410550959932430131474632789116321671887984928421547852369197388282999019625423454380231279858207218705311701360354897124739867904118520691106812873065101640418054782760034153438353438445822557484081382321771629578116666512112388008696665989950677208338776690345241157057681907611025871898987872356073889890834756938052190307680992353220145442443891053523875544016054351156398088415575486237452062076328115962607468709567562928190815205086114559309313598558776982410773627647860545716977776397264944655794271247897102722941737126239240916387239518348644445244618534605741364125948487660634716106058899292246169986772310501901072433532243830585357572749599134445740448757303510587733442490821024026870467435301798857219845075690558829175083352277124384194420308449766144875359306319739602757522997189558355910897986288166572957982056676710763152983106976321751207611168717513625213146067538069552744046330653768421822851365878297877262345040439764156785447018071087402376316322431084393924089376599691186679518651551799698882967665388055470366190784744920348739995215532988177047118414353084208511654618555963729417992313071753915259957466991342123172247436655156135244623306946172938660750779188487110280234132859590770946339051887702193563725444651139359494821003332086107016038886777569049966554980262363674473253325257822718977681622188156307203294669724388653170328707829780553196879651782190169542305297345877538324348752142509269135053869041841360379656397567306735814155166243658046684508501276966437092263428662956623115677000314784321547485733807015004271825413851860616448273132117089976976215658587870035990820126575869385192015307686860214546298840164084683803522444613196905008583462237306083386310283034511755458063887090849664842354974422474194709843375010436731028879912093415233970004149804670667022153207787380547922370655734795017660390697726154689511057764293410572477532940114930437228300014672517656799407719403100102826397502064482919212900024141838863968448887643068494912049551474767166993561725590684102508661565296836526152178201060086301774549715874788378987914407979577928493040003989954174012608726860492739559372680262036795179726106807101348679858053641131298531590702207435659311239216293406566526446655074542613689113674469295813845058016435257131662704609296777238842811338465486637161779815318477621328356258520347243357018261489350868470283360081060386784615634380875378832442922947383743271081235883751447983573589568771708779378382803247618358011413550911079758585590955026755118565773534233091223724034171261051378684965174158940362860292489890202693483958705909905312996184861045034784383615066992069289988595299833517859421800717143992874941997714782553046730846706885784557066025588772935747551025853871218970960713240056281886050957841852293873013515002940397947020509919807939406877132794414446612212492117717449251423000322479675864441045741278939703279241716235361177032294455790610908567882681019940068657880925835114257717416864582302711528447267214846342784485045433098183431382649504589176593808584405048843764166315101900077713636975793081662746618239589717652367201003165146928938994738572708696802305575950944930235825279609447214361157979651504146188039863126889858134556897640462536523048872634913149498716708542526515118648905385474811552777340319906202546372172756440209417159725663256938861026862020383935140944298187786652249051136265051508200259024676572638260023512875795303898358278498735140562012415251787475862764024528970282344718471514718461184984957069069187140585375358782074570618999742714609251912927166509996050699677510578445141340134861580787138386067658393807078093493276438817307555352977735450018352834331449499475760806447642779808730552508029936398620729471122053475846364396429986996072845407142688229039165602259344411432093125643099997307549021092045975097267071020994158600727675129753619912888561472505317575825208041646765389051143083003764774815122104674457748529068636978307293361892003901254830547307258754594743337543241144523958014456346873486766325430778583116677820975085202404374026777013391768430726723415556783734268635961064616944735558290558051563951295017457800314495150945831692425186050509825946218911814911682577838535488638297440442656104607054912282565192104318624547678282710179316742807821133962078572957865854498307176177339231306733300283321778801699310983228678660602027367095158991789788900890421499276409425155825447067883219561818586359975704878240617807765562787949622637774026792462225921748172283629257005882315243928043920870473690627776903706989321664163940786053179503001681845166350289463985256076491127134050825427489403553168351053303362844035536109410133062529753162096085777048349164532955236263353111174442063897927516997806604944249319955203468978082914512869198039651592981393612673825877915957593200553285033011599304932138093904948940505354060902703584800966610706893677088552807728745819100049595962497057884869780158571142026627209134121013377462004516431927523528929839699482336550392039543361496904035136666088188487924519393393155264799895259728762804050762112654314186237842066808982997080004732628399192370605988372658673777939363931443939232903675883173835648645315920615029530711115067729009671326549776972562027576975204491523773115652265380570909929397308383371902237702062331978710367724404533140099076935347914416146948655346480611446923001916207304320726658248309046039556349340108708245549851550168267290060364350428200531474504910600571186071145474272575148911704541151278025984164897768045668176383779238028684740864*c_^8\n",
      "\n",
      "racines : [(2502683636053188702641743535311780204784871437959992094889156970670296287334408057481979789997814833405439202619783022910646331293904542333352388836889044045491427762491226894985941179536642036980433593547265306243169197639387895253405509603016086, 2), (0, 8)]\n",
      "\n",
      "x_0= 2502683636053188702641743535311780204784871437959992094889156970670296287334408057481979789997814833405439202619783022910646331293904542333352388836889044045491427762491226894985941179536642036980433593547265306243169197639387895253405509603016086\n",
      "\n",
      "y_0= -49580732952496670806316765278314561084608125750693090802379229938816268405135366421561775864234981757079769699755338545886351847000387328395436943039068303002255327892142764413937650499254745039277429906701026165600902949289959497358446863953114651684011770031021898986106223696725372208769747439958175619552204592259218140936862118154173143803644339581975247323473167335263197897153049659074740847513590363916232762554772180997129197328683127110073418507131556019972151110496730534238244175597355457550832588882459875188613583544096017906320852867803544230821499808851768240113318485605283613536512207651111369544936\n",
      "\n",
      "Phi(N)= 598789411991493673231574880914880370964253240750988043876176296778048504961839661724075614642997126603215141627047577369428575497646464175124614407306549069168037099364428348807513503929760676498216530632695143936506619340862404653170086805066771520988380035736633898934119351928802861773945385657422024753068905112437378497651411503148808101614962740554220446881132252595311071137175121629354946513360083798350790266042845928915777277672968814066659792804186201228346029816442406549463549543791571148539507002545062330446633727858875925300282470723539217357229997832891262427465299413518284304215456546599121873834588614912949012795480393547217444590828767036654909347327715037293340457219598811319370075900770104755513166374909422082477594283808566398169277361744559338670471679995192989813730857735336787356411398407502795417595332714162319035117199460374431357989009669768706992400933185025981264644126690261113672414526749969059678627877923532460539280975895377785867422864977982153580067975423825514107605980735010377460456684483546156250115500211859407863810668947013213700904824666328443615863418092709593375168465479256166067510655251732182195692787188026965539854922570643479094731154550211172712414430255633038756832872928\n",
      "CPU times: user 64.8 ms, sys: 7.37 ms, total: 72.1 ms\n",
      "Wall time: 70 ms\n",
      "\n",
      "N= 20818860712031992653446209193030746575043383398427480367856185794438223514818421705598923365139657304846589808912972521086560567300947609642661659375016200955856708938593759714792211472701896204132293447925741295432910761772758131837387641119529016579800234896820067765066050182859064350542326683763821268912841777479398621289194136904112794478267151479481797510828478744732618304044796975257700112268170955927779797691043527452054437884962883075048935658137924771894204158316911456863512089124111717567990750401234655195650111758065977483768635481222659155748190609464724062328943104713412080513273659632370333720599  *  28761872240464678152870556085283814509564742352265610434523044144378044890316944715962852499095324452233179890842366024799791279699439718752775283664052102046398618953549004699145439026552848835145136458775284870167992187517201365521059222833585635104211535134201831221040173513866307858227420756194354350639362814779819519647667981250060349325377188102493449812644688590530579593108252683817040735245419407988452964863728653545074759443720244035024482848993631248077946952179819077374732086473243739982841838481225219992963471786030040422552217386580885075073309199387044177784375380891871533023238548018741035824337\n"
     ]
    }
   ],
   "source": [
    "%time d=RSA_attack(N,e,m,t)\n",
    "\n",
    "print(\"\\nN=\",d,' * ',N/d)"
   ]
  },
  {
   "cell_type": "markdown",
   "metadata": {},
   "source": [
    "## Autres tests :\n",
    "On va ici, compter le nombre de vecteurs à partir duquel on trouve le bon polynome $P_1$."
   ]
  },
  {
   "cell_type": "code",
   "execution_count": 281,
   "metadata": {},
   "outputs": [
    {
     "name": "stdout",
     "output_type": "stream",
     "text": [
      "Test 0 =============================================\n"
     ]
    },
    {
     "ename": "NameError",
     "evalue": "name 'RSA_attack_bis' is not defined",
     "output_type": "error",
     "traceback": [
      "\u001b[0;31m---------------------------------------------------------------------------\u001b[0m",
      "\u001b[0;31mNameError\u001b[0m                                 Traceback (most recent call last)",
      "\u001b[0;32m/Applications/SageMath-9.2.app/Contents/Resources/sage/local/lib/python3.8/site-packages/sage/all_cmdline.py\u001b[0m in \u001b[0;36m<module>\u001b[0;34m\u001b[0m\n\u001b[1;32m      5\u001b[0m     \u001b[0mm\u001b[0m\u001b[0;34m=\u001b[0m\u001b[0mInteger\u001b[0m\u001b[0;34m(\u001b[0m\u001b[0;36m2\u001b[0m\u001b[0;34m)\u001b[0m\u001b[0;34m\u001b[0m\u001b[0;34m\u001b[0m\u001b[0m\n\u001b[1;32m      6\u001b[0m     \u001b[0mt\u001b[0m\u001b[0;34m=\u001b[0m\u001b[0mint\u001b[0m\u001b[0;34m(\u001b[0m\u001b[0mm\u001b[0m\u001b[0;34m*\u001b[0m\u001b[0;34m(\u001b[0m\u001b[0mInteger\u001b[0m\u001b[0;34m(\u001b[0m\u001b[0;36m1\u001b[0m\u001b[0;34m)\u001b[0m\u001b[0;34m-\u001b[0m\u001b[0mInteger\u001b[0m\u001b[0;34m(\u001b[0m\u001b[0;36m2\u001b[0m\u001b[0;34m)\u001b[0m\u001b[0;34m*\u001b[0m\u001b[0mdelta\u001b[0m\u001b[0;34m)\u001b[0m\u001b[0;34m)\u001b[0m\u001b[0;34m\u001b[0m\u001b[0;34m\u001b[0m\u001b[0m\n\u001b[0;32m----> 7\u001b[0;31m     \u001b[0mRSA_attack_bis\u001b[0m\u001b[0;34m(\u001b[0m\u001b[0mN\u001b[0m\u001b[0;34m,\u001b[0m\u001b[0me\u001b[0m\u001b[0;34m,\u001b[0m\u001b[0mm\u001b[0m\u001b[0;34m,\u001b[0m\u001b[0mt\u001b[0m\u001b[0;34m)\u001b[0m\u001b[0;34m\u001b[0m\u001b[0;34m\u001b[0m\u001b[0m\n\u001b[0m\u001b[1;32m      8\u001b[0m     \u001b[0mprint\u001b[0m\u001b[0;34m(\u001b[0m\u001b[0;34m\"=============================================\"\u001b[0m\u001b[0;34m)\u001b[0m\u001b[0;34m\u001b[0m\u001b[0;34m\u001b[0m\u001b[0m\n",
      "\u001b[0;31mNameError\u001b[0m: name 'RSA_attack_bis' is not defined"
     ]
    }
   ],
   "source": [
    "for i in range(100):\n",
    "    print(\"Test\",i,\"=============================================\")\n",
    "    delta=0.2\n",
    "    N,e,d=gen_keys(512,delta)\n",
    "    m=2\n",
    "    t=int(m*(1-2*delta))\n",
    "    RSA_attack_bis(N,e,m,t)\n",
    "    print(\"=============================================\")"
   ]
  },
  {
   "cell_type": "markdown",
   "metadata": {},
   "source": [
    "On remarque que l'on optient toujours 0\n",
    "\n",
    "On va aussi, compter le nombre de vecteurs à partir duquel on trouve le bon polynome $P_2$."
   ]
  },
  {
   "cell_type": "code",
   "execution_count": 73,
   "metadata": {},
   "outputs": [
    {
     "name": "stdout",
     "output_type": "stream",
     "text": [
      "verbose 0 (3835: plot.py, generate_plot_points) WARNING: When plotting, failed to evaluate function at 23 points.\n",
      "verbose 0 (3835: plot.py, generate_plot_points) Last error message: 'Unable to compute f(11.0)'\n",
      "verbose 0 (3835: plot.py, generate_plot_points) WARNING: When plotting, failed to evaluate function at 23 points.\n",
      "verbose 0 (3835: plot.py, generate_plot_points) Last error message: 'Unable to compute f(11.0)'\n"
     ]
    },
    {
     "data": {
      "image/png": "[encoded data removed]",
      "text/plain": [
       "Graphics object consisting of 4 graphics primitives"
      ]
     },
     "execution_count": 73,
     "metadata": {},
     "output_type": "execute_result"
    }
   ],
   "source": [
    "#points représentants les valeurs de m en abscices et omega en ordonnée\n",
    "omega_list=[(m,card_M(m,int(m*(1-2*0.2)))) for m in range(2,11)]\n",
    "#points représentants les valeurs de m en abscices et j en ordonnée\n",
    "j_list=[(2,3),(3,3.26),(4,8),(5,8),(6,15),(7,15),(8,26),(9,30),(10,40)]\n",
    "points(j_list, pointsize=10)+points(omega_list,color=(1,0,1), pointsize=10)+plot(spline(j_list), 2, 11, legend_label='$j$')+plot(spline(omega_list), 2, 11, color=(1,0,1), legend_label='$w$')"
   ]
  },
  {
   "cell_type": "markdown",
   "metadata": {},
   "source": [
    "On remarque que j vaut environ 40% de w:"
   ]
  },
  {
   "cell_type": "code",
   "execution_count": 76,
   "metadata": {},
   "outputs": [
    {
     "name": "stdout",
     "output_type": "stream",
     "text": [
      "verbose 0 (3835: plot.py, generate_plot_points) WARNING: When plotting, failed to evaluate function at 22 points.\n",
      "verbose 0 (3835: plot.py, generate_plot_points) Last error message: 'Unable to compute f(11.0)'\n",
      "verbose 0 (3835: plot.py, generate_plot_points) WARNING: When plotting, failed to evaluate function at 23 points.\n",
      "verbose 0 (3835: plot.py, generate_plot_points) Last error message: 'Unable to compute f(11.0)'\n"
     ]
    },
    {
     "data": {
      "image/png": "[encoded data removed]",
      "text/plain": [
       "Graphics object consisting of 4 graphics primitives"
      ]
     },
     "execution_count": 76,
     "metadata": {},
     "output_type": "execute_result"
    }
   ],
   "source": [
    "#points représentants les valeurs de m en abscices et 40% de omega en ordonnée\n",
    "omega_list_40=[(m,0.4*card_M(m,int(m*(1-2*0.2)))) for m in range(2,11)]\n",
    "points(j_list, pointsize=10)+points(omega_list_40,color=(1,0,1), pointsize=10)+plot(spline(j_list), 2, 11, legend_label='$j$')+plot(spline(omega_list_40), 2, 11, color=(1,0,1), legend_label='$w$')"
   ]
  },
  {
   "cell_type": "markdown",
   "metadata": {},
   "source": [
    "On pourait donc fixer l'indice du deuxieme polynome afin de trouver preque instantanément deux polynomes dont le resultant possedes deux racines dans ZZ."
   ]
  },
  {
   "cell_type": "markdown",
   "metadata": {},
   "source": [
    "## Attaque sur le fichier RSA.sage:"
   ]
  },
  {
   "cell_type": "code",
   "execution_count": 172,
   "metadata": {},
   "outputs": [
    {
     "name": "stdout",
     "output_type": "stream",
     "text": [
      "\n",
      "N= 121178899139602948260717755767413112257475531688938516348660656129386588712348577856440200351401183816685433722131146620400600124827599523006291077940452144157082110313841594207916561120323519349092607462252690554415837844163048957117882300058095700791695540210936674504547128932050939838698686574215733698741\n",
      "\n",
      "e= 103602461150278043969365247823062226256469297429243494796333737300496950036959919645230971554280651938824673649187239944582165059678702599711651836206548586808411759529835936686585757801027494975786210143284411625853293737356831926946805790343485820793446067080643502834136611045778107395235444718738701494669\n"
     ]
    }
   ],
   "source": [
    "#load(\"RSA.sage\")\n",
    "\n",
    "\n",
    "N = 121178899139602948260717755767413112257475531688938516348660656129386588712348577856440200351401183816685433722131146620400600124827599523006291077940452144157082110313841594207916561120323519349092607462252690554415837844163048957117882300058095700791695540210936674504547128932050939838698686574215733698741\n",
    "e = 103602461150278043969365247823062226256469297429243494796333737300496950036959919645230971554280651938824673649187239944582165059678702599711651836206548586808411759529835936686585757801027494975786210143284411625853293737356831926946805790343485820793446067080643502834136611045778107395235444718738701494669\n",
    "\n",
    "print(\"\\nN=\",N)\n",
    "print(\"\\ne=\",e)"
   ]
  },
  {
   "cell_type": "code",
   "execution_count": 178,
   "metadata": {},
   "outputs": [
    {
     "name": "stdout",
     "output_type": "stream",
     "text": [
      "delta= 0.2\n",
      "m= 2\n",
      "t= 1\n",
      "\n",
      " calcul des valeurs...\n",
      "\n",
      " generation des monomes possibles..\n",
      "\n",
      " generation des dictionnaires..\n",
      "\n",
      " generation de la matrice...\n",
      "    taile de la matrice : 7 x 7\n",
      "\n",
      " application de LLL sur la matrice...\n",
      "    LLL ok\n",
      "\n",
      " recherche des polynomes...\n",
      "|    |\n",
      " ####\n",
      "\n",
      "P1= 0\n",
      "\n",
      "P2= 0\n",
      "\n",
      "resultant : 0\n",
      "\n",
      "racines : 0\n",
      "Aucun bon polynomes\n",
      "delta= 0.2\n",
      "m= 2\n",
      "t= 2\n",
      "\n",
      " calcul des valeurs...\n",
      "\n",
      " generation des monomes possibles..\n",
      "\n",
      " generation des dictionnaires..\n",
      "\n",
      " generation de la matrice...\n",
      "    taile de la matrice : 9 x 9\n",
      "\n",
      " application de LLL sur la matrice...\n",
      "    LLL ok\n",
      "\n",
      " recherche des polynomes...\n",
      "|      |\n",
      " ######\n",
      "\n",
      "P1= 0\n",
      "\n",
      "P2= 0\n",
      "\n",
      "resultant : 0\n",
      "\n",
      "racines : 0\n",
      "Aucun bon polynomes\n",
      "delta= 0.2\n",
      "m= 3\n",
      "t= 1\n",
      "\n",
      " calcul des valeurs...\n",
      "\n",
      " generation des monomes possibles..\n",
      "\n",
      " generation des dictionnaires..\n",
      "\n",
      " generation de la matrice...\n",
      "    taile de la matrice : 11 x 11\n",
      "\n",
      " application de LLL sur la matrice...\n",
      "    LLL ok\n",
      "\n",
      " recherche des polynomes...\n",
      "|        |\n",
      " ########\n",
      "\n",
      "P1= 0\n",
      "\n",
      "P2= 0\n",
      "\n",
      "resultant : 0\n",
      "\n",
      "racines : 0\n",
      "Aucun bon polynomes\n",
      "delta= 0.2\n",
      "m= 3\n",
      "t= 2\n",
      "\n",
      " calcul des valeurs...\n",
      "\n",
      " generation des monomes possibles..\n",
      "\n",
      " generation des dictionnaires..\n",
      "\n",
      " generation de la matrice...\n",
      "    taile de la matrice : 15 x 15\n",
      "\n",
      " application de LLL sur la matrice...\n",
      "    LLL ok\n",
      "\n",
      " recherche des polynomes...\n",
      "|            |\n",
      " ############\n",
      "\n",
      "P1= 0\n",
      "\n",
      "P2= 0\n",
      "\n",
      "resultant : 0\n",
      "\n",
      "racines : 0\n",
      "Aucun bon polynomes\n",
      "delta= 0.2\n",
      "m= 3\n",
      "t= 3\n",
      "\n",
      " calcul des valeurs...\n",
      "\n",
      " generation des monomes possibles..\n",
      "\n",
      " generation des dictionnaires..\n",
      "\n",
      " generation de la matrice...\n",
      "    taile de la matrice : 16 x 16\n",
      "\n",
      " application de LLL sur la matrice...\n",
      "    LLL ok\n",
      "\n",
      " recherche des polynomes...\n",
      "|             |\n",
      " #############\n",
      "\n",
      "P1= 0\n",
      "\n",
      "P2= 0\n",
      "\n",
      "resultant : 0\n",
      "\n",
      "racines : 0\n",
      "Aucun bon polynomes\n",
      "delta= 0.2\n",
      "m= 4\n",
      "t= 1\n",
      "\n",
      " calcul des valeurs...\n",
      "\n",
      " generation des monomes possibles..\n",
      "\n",
      " generation des dictionnaires..\n",
      "\n",
      " generation de la matrice...\n",
      "    taile de la matrice : 16 x 16\n",
      "\n",
      " application de LLL sur la matrice...\n",
      "    LLL ok\n",
      "\n",
      " recherche des polynomes...\n",
      "|             |\n",
      " #############\n",
      "\n",
      "P1= 0\n",
      "\n",
      "P2= 0\n",
      "\n",
      "resultant : 0\n",
      "\n",
      "racines : 0\n",
      "Aucun bon polynomes\n",
      "delta= 0.2\n",
      "m= 4\n",
      "t= 2\n",
      "\n",
      " calcul des valeurs...\n",
      "\n",
      " generation des monomes possibles..\n",
      "\n",
      " generation des dictionnaires..\n",
      "\n",
      " generation de la matrice...\n",
      "    taile de la matrice : 19 x 19\n",
      "\n",
      " application de LLL sur la matrice...\n",
      "    LLL ok\n",
      "\n",
      " recherche des polynomes...\n",
      "|                |\n",
      " ################\n",
      "\n",
      "P1= 0\n",
      "\n",
      "P2= 0\n",
      "\n",
      "resultant : 0\n",
      "\n",
      "racines : 0\n",
      "Aucun bon polynomes\n",
      "delta= 0.2\n",
      "m= 4\n",
      "t= 3\n",
      "\n",
      " calcul des valeurs...\n",
      "\n",
      " generation des monomes possibles..\n",
      "\n",
      " generation des dictionnaires..\n",
      "\n",
      " generation de la matrice...\n",
      "    taile de la matrice : 24 x 24\n",
      "\n",
      " application de LLL sur la matrice...\n",
      "    LLL ok\n",
      "\n",
      " recherche des polynomes...\n",
      "|                     |\n",
      " #####################\n",
      "\n",
      "P1= 0\n",
      "\n",
      "P2= 0\n",
      "\n",
      "resultant : 0\n",
      "\n",
      "racines : 0\n",
      "Aucun bon polynomes\n",
      "delta= 0.2\n",
      "m= 4\n",
      "t= 4\n",
      "\n",
      " calcul des valeurs...\n",
      "\n",
      " generation des monomes possibles..\n",
      "\n",
      " generation des dictionnaires..\n",
      "\n",
      " generation de la matrice...\n",
      "    taile de la matrice : 25 x 25\n",
      "\n",
      " application de LLL sur la matrice...\n",
      "    LLL ok\n",
      "\n",
      " recherche des polynomes...\n",
      "|                      |\n",
      " ######################\n",
      "\n",
      "P1= 0\n",
      "\n",
      "P2= 0\n",
      "\n",
      "resultant : 0\n",
      "\n",
      "racines : 0\n",
      "Aucun bon polynomes\n",
      "delta= 0.2\n",
      "m= 5\n",
      "t= 1\n",
      "\n",
      " calcul des valeurs...\n",
      "\n",
      " generation des monomes possibles..\n",
      "\n",
      " generation des dictionnaires..\n",
      "\n",
      " generation de la matrice...\n",
      "    taile de la matrice : 22 x 22\n",
      "\n",
      " application de LLL sur la matrice...\n",
      "    LLL ok\n",
      "\n",
      " recherche des polynomes...\n",
      "|                   |\n",
      " ###################\n",
      "\n",
      "P1= 0\n",
      "\n",
      "P2= 0\n",
      "\n",
      "resultant : 0\n",
      "\n",
      "racines : 0\n",
      "Aucun bon polynomes\n",
      "delta= 0.2\n",
      "m= 5\n",
      "t= 2\n",
      "\n",
      " calcul des valeurs...\n",
      "\n",
      " generation des monomes possibles..\n",
      "\n",
      " generation des dictionnaires..\n",
      "\n",
      " generation de la matrice...\n",
      "    taile de la matrice : 27 x 27\n",
      "\n",
      " application de LLL sur la matrice...\n",
      "    LLL ok\n",
      "\n",
      " recherche des polynomes...\n",
      "|                        |\n",
      " ########################\n",
      "\n",
      "P1= 0\n",
      "\n",
      "P2= 0\n",
      "\n",
      "resultant : 0\n",
      "\n",
      "racines : 0\n",
      "Aucun bon polynomes\n",
      "delta= 0.2\n",
      "m= 5\n",
      "t= 3\n",
      "\n",
      " calcul des valeurs...\n",
      "\n",
      " generation des monomes possibles..\n",
      "\n",
      " generation des dictionnaires..\n",
      "\n",
      " generation de la matrice...\n",
      "    taile de la matrice : 33 x 33\n",
      "\n",
      " application de LLL sur la matrice...\n",
      "    LLL ok\n",
      "\n",
      " recherche des polynomes...\n",
      "|                              |\n",
      " ##############################\n",
      "\n",
      "P1= 0\n",
      "\n",
      "P2= 0\n",
      "\n",
      "resultant : 0\n",
      "\n",
      "racines : 0\n",
      "Aucun bon polynomes\n",
      "delta= 0.2\n",
      "m= 5\n",
      "t= 4\n",
      "\n",
      " calcul des valeurs...\n",
      "\n",
      " generation des monomes possibles..\n",
      "\n",
      " generation des dictionnaires..\n",
      "\n",
      " generation de la matrice...\n",
      "    taile de la matrice : 35 x 35\n",
      "\n",
      " application de LLL sur la matrice...\n",
      "    LLL ok\n",
      "\n",
      " recherche des polynomes...\n",
      "|                                |\n",
      " ################################\n",
      "\n",
      "P1= 0\n",
      "\n",
      "P2= 0\n",
      "\n",
      "resultant : 0\n",
      "\n",
      "racines : 0\n",
      "Aucun bon polynomes\n",
      "delta= 0.2\n",
      "m= 5\n",
      "t= 5\n",
      "\n",
      " calcul des valeurs...\n",
      "\n",
      " generation des monomes possibles..\n",
      "\n",
      " generation des dictionnaires..\n",
      "\n",
      " generation de la matrice...\n",
      "    taile de la matrice : 36 x 36\n",
      "\n",
      " application de LLL sur la matrice...\n",
      "    LLL ok\n",
      "\n",
      " recherche des polynomes...\n",
      "|                                 |\n",
      " #################################\n",
      "\n",
      "P1= 0\n",
      "\n",
      "P2= 0\n",
      "\n",
      "resultant : 0\n",
      "\n",
      "racines : 0\n",
      "Aucun bon polynomes\n",
      "delta= 0.2\n",
      "m= 6\n",
      "t= 1\n",
      "\n",
      " calcul des valeurs...\n",
      "\n",
      " generation des monomes possibles..\n",
      "\n",
      " generation des dictionnaires..\n",
      "\n",
      " generation de la matrice...\n",
      "    taile de la matrice : 29 x 29\n",
      "\n",
      " application de LLL sur la matrice...\n",
      "    LLL ok\n",
      "\n",
      " recherche des polynomes...\n",
      "|                          |\n",
      " ##########################\n",
      "\n",
      "P1= 0\n",
      "\n",
      "P2= 0\n",
      "\n",
      "resultant : 0\n",
      "\n",
      "racines : 0\n",
      "Aucun bon polynomes\n",
      "delta= 0.2\n",
      "m= 6\n",
      "t= 2\n",
      "\n",
      " calcul des valeurs...\n",
      "\n",
      " generation des monomes possibles..\n",
      "\n",
      " generation des dictionnaires..\n",
      "\n",
      " generation de la matrice...\n",
      "    taile de la matrice : 33 x 33\n",
      "\n",
      " application de LLL sur la matrice...\n",
      "    LLL ok\n",
      "\n",
      " recherche des polynomes...\n",
      "|                              |\n",
      " ##############################\n",
      "\n",
      "P1= 0\n",
      "\n",
      "P2= 0\n",
      "\n",
      "resultant : 0\n",
      "\n",
      "racines : 0\n",
      "Aucun bon polynomes\n",
      "delta= 0.2\n",
      "m= 6\n",
      "t= 3\n",
      "\n",
      " calcul des valeurs...\n",
      "\n",
      " generation des monomes possibles..\n",
      "\n",
      " generation des dictionnaires..\n",
      "\n",
      " generation de la matrice...\n",
      "    taile de la matrice : 37 x 37\n",
      "\n",
      " application de LLL sur la matrice...\n",
      "    LLL ok\n",
      "\n",
      " recherche des polynomes...\n",
      "|                                  |\n",
      " ##################################\n",
      "\n",
      "P1= 0\n",
      "\n",
      "P2= 0\n",
      "\n",
      "resultant : 0\n",
      "\n",
      "racines : 0\n",
      "Aucun bon polynomes\n",
      "delta= 0.2\n",
      "m= 6\n",
      "t= 4\n",
      "\n",
      " calcul des valeurs...\n",
      "\n",
      " generation des monomes possibles..\n",
      "\n",
      " generation des dictionnaires..\n",
      "\n",
      " generation de la matrice...\n",
      "    taile de la matrice : 46 x 46\n",
      "\n",
      " application de LLL sur la matrice...\n",
      "    LLL ok\n",
      "\n",
      " recherche des polynomes...\n",
      "|                                           |\n",
      " ###########################################\n",
      "\n",
      "P1= 0\n",
      "\n",
      "P2= 0\n",
      "\n",
      "resultant : 0\n",
      "\n",
      "racines : 0\n",
      "Aucun bon polynomes\n",
      "delta= 0.2\n",
      "m= 6\n",
      "t= 5\n",
      "\n",
      " calcul des valeurs...\n",
      "\n",
      " generation des monomes possibles..\n",
      "\n",
      " generation des dictionnaires..\n",
      "\n",
      " generation de la matrice...\n",
      "    taile de la matrice : 48 x 48\n",
      "\n",
      " application de LLL sur la matrice...\n",
      "    LLL ok\n",
      "\n",
      " recherche des polynomes...\n",
      "|                                             |\n",
      " #############################################\n",
      "\n",
      "P1= 0\n",
      "\n",
      "P2= 0\n",
      "\n",
      "resultant : 0\n",
      "\n",
      "racines : 0\n",
      "Aucun bon polynomes\n",
      "delta= 0.2\n",
      "m= 6\n",
      "t= 6\n",
      "\n",
      " calcul des valeurs...\n",
      "\n",
      " generation des monomes possibles..\n",
      "\n",
      " generation des dictionnaires..\n",
      "\n",
      " generation de la matrice...\n",
      "    taile de la matrice : 49 x 49\n",
      "\n",
      " application de LLL sur la matrice...\n",
      "    LLL ok\n",
      "\n",
      " recherche des polynomes...\n",
      "|                                              |\n",
      " ##############################################\n",
      "\n",
      "P1= 0\n",
      "\n",
      "P2= 0\n",
      "\n",
      "resultant : 0\n",
      "\n",
      "racines : 0\n",
      "Aucun bon polynomes\n",
      "delta= 0.2\n",
      "m= 7\n",
      "t= 1\n",
      "\n",
      " calcul des valeurs...\n",
      "\n",
      " generation des monomes possibles..\n",
      "\n",
      " generation des dictionnaires..\n",
      "\n",
      " generation de la matrice...\n",
      "    taile de la matrice : 37 x 37\n",
      "\n",
      " application de LLL sur la matrice...\n",
      "    LLL ok\n",
      "\n",
      " recherche des polynomes...\n",
      "|                                  |\n",
      " ##################################\n",
      "\n",
      "P1= 0\n",
      "\n",
      "P2= 0\n",
      "\n",
      "resultant : 0\n",
      "\n",
      "racines : 0\n",
      "Aucun bon polynomes\n",
      "delta= 0.2\n",
      "m= 7\n",
      "t= 2\n",
      "\n",
      " calcul des valeurs...\n",
      "\n",
      " generation des monomes possibles..\n",
      "\n",
      " generation des dictionnaires..\n",
      "\n",
      " generation de la matrice...\n",
      "    taile de la matrice : 43 x 43\n",
      "\n",
      " application de LLL sur la matrice...\n",
      "    LLL ok\n",
      "\n",
      " recherche des polynomes...\n",
      "|                                        |\n",
      " ########################################\n",
      "\n",
      "P1= 0\n",
      "\n",
      "P2= 0\n",
      "\n",
      "resultant : 0\n",
      "\n",
      "racines : 0\n",
      "Aucun bon polynomes\n",
      "delta= 0.2\n",
      "m= 7\n",
      "t= 3\n",
      "\n",
      " calcul des valeurs...\n",
      "\n",
      " generation des monomes possibles..\n",
      "\n",
      " generation des dictionnaires..\n",
      "\n",
      " generation de la matrice...\n",
      "    taile de la matrice : 48 x 48\n",
      "\n",
      " application de LLL sur la matrice...\n"
     ]
    },
    {
     "name": "stdout",
     "output_type": "stream",
     "text": [
      "    LLL ok\n",
      "\n",
      " recherche des polynomes...\n",
      "|                                             |\n",
      " #############################################\n",
      "\n",
      "P1= 0\n",
      "\n",
      "P2= 0\n",
      "\n",
      "resultant : 0\n",
      "\n",
      "racines : 0\n",
      "Aucun bon polynomes\n",
      "delta= 0.2\n",
      "m= 7\n",
      "t= 4\n",
      "\n",
      " calcul des valeurs...\n",
      "\n",
      " generation des monomes possibles..\n",
      "\n",
      " generation des dictionnaires..\n",
      "\n",
      " generation de la matrice...\n",
      "    taile de la matrice : 58 x 58\n",
      "\n",
      " application de LLL sur la matrice...\n",
      "    LLL ok\n",
      "\n",
      " recherche des polynomes...\n",
      "|                                                       |\n",
      " #######################################################\n",
      "\n",
      "P1= 0\n",
      "\n",
      "P2= 0\n",
      "\n",
      "resultant : 0\n",
      "\n",
      "racines : 0\n",
      "Aucun bon polynomes\n",
      "delta= 0.2\n",
      "m= 7\n",
      "t= 5\n",
      "\n",
      " calcul des valeurs...\n",
      "\n",
      " generation des monomes possibles..\n",
      "\n",
      " generation des dictionnaires..\n",
      "\n",
      " generation de la matrice...\n",
      "    taile de la matrice : 61 x 61\n",
      "\n",
      " application de LLL sur la matrice...\n",
      "    LLL ok\n",
      "\n",
      " recherche des polynomes...\n",
      "|                                                          |\n",
      " ##########################################################\n",
      "\n",
      "P1= 0\n",
      "\n",
      "P2= 0\n",
      "\n",
      "resultant : 0\n",
      "\n",
      "racines : 0\n",
      "Aucun bon polynomes\n",
      "delta= 0.2\n",
      "m= 7\n",
      "t= 6\n",
      "\n",
      " calcul des valeurs...\n",
      "\n",
      " generation des monomes possibles..\n",
      "\n",
      " generation des dictionnaires..\n",
      "\n",
      " generation de la matrice...\n",
      "    taile de la matrice : 63 x 63\n",
      "\n",
      " application de LLL sur la matrice...\n",
      "    LLL ok\n",
      "\n",
      " recherche des polynomes...\n",
      "|                                                            |\n",
      " ############################################################\n",
      "\n",
      "P1= 0\n",
      "\n",
      "P2= 0\n",
      "\n",
      "resultant : 0\n",
      "\n",
      "racines : 0\n",
      "Aucun bon polynomes\n",
      "delta= 0.2\n",
      "m= 7\n",
      "t= 7\n",
      "\n",
      " calcul des valeurs...\n",
      "\n",
      " generation des monomes possibles..\n",
      "\n",
      " generation des dictionnaires..\n",
      "\n",
      " generation de la matrice...\n",
      "    taile de la matrice : 64 x 64\n",
      "\n",
      " application de LLL sur la matrice...\n",
      "    LLL ok\n",
      "\n",
      " recherche des polynomes...\n",
      "|                                                             |\n",
      " #############################################################\n",
      "\n",
      "P1= 0\n",
      "\n",
      "P2= 0\n",
      "\n",
      "resultant : 0\n",
      "\n",
      "racines : 0\n",
      "Aucun bon polynomes\n",
      "delta= 0.2\n",
      "m= 8\n",
      "t= 1\n",
      "\n",
      " calcul des valeurs...\n",
      "\n",
      " generation des monomes possibles..\n",
      "\n",
      " generation des dictionnaires..\n",
      "\n",
      " generation de la matrice...\n",
      "    taile de la matrice : 46 x 46\n",
      "\n",
      " application de LLL sur la matrice...\n",
      "    LLL ok\n",
      "\n",
      " recherche des polynomes...\n",
      "|                                           |\n",
      " ###########################################\n",
      "\n",
      "P1= 0\n",
      "\n",
      "P2= 0\n",
      "\n",
      "resultant : 0\n",
      "\n",
      "racines : 0\n",
      "Aucun bon polynomes\n",
      "delta= 0.2\n",
      "m= 8\n",
      "t= 2\n",
      "\n",
      " calcul des valeurs...\n",
      "\n",
      " generation des monomes possibles..\n",
      "\n",
      " generation des dictionnaires..\n",
      "\n",
      " generation de la matrice...\n",
      "    taile de la matrice : 51 x 51\n",
      "\n",
      " application de LLL sur la matrice...\n",
      "    LLL ok\n",
      "\n",
      " recherche des polynomes...\n",
      "|                                                |\n",
      " ################################################\n",
      "\n",
      "P1= 0\n",
      "\n",
      "P2= 0\n",
      "\n",
      "resultant : 0\n",
      "\n",
      "racines : 0\n",
      "Aucun bon polynomes\n",
      "delta= 0.2\n",
      "m= 8\n",
      "t= 3\n",
      "\n",
      " calcul des valeurs...\n",
      "\n",
      " generation des monomes possibles..\n",
      "\n",
      " generation des dictionnaires..\n",
      "\n",
      " generation de la matrice...\n",
      "    taile de la matrice : 60 x 60\n",
      "\n",
      " application de LLL sur la matrice...\n",
      "    LLL ok\n",
      "\n",
      " recherche des polynomes...\n",
      "|                                                         |\n",
      " #########################################################\n",
      "\n",
      "P1= 0\n",
      "\n",
      "P2= 0\n",
      "\n",
      "resultant : 0\n",
      "\n",
      "racines : 0\n",
      "Aucun bon polynomes\n",
      "delta= 0.2\n",
      "m= 8\n",
      "t= 4\n",
      "\n",
      " calcul des valeurs...\n",
      "\n",
      " generation des monomes possibles..\n",
      "\n",
      " generation des dictionnaires..\n",
      "\n",
      " generation de la matrice...\n",
      "    taile de la matrice : 61 x 61\n",
      "\n",
      " application de LLL sur la matrice...\n",
      "    LLL ok\n",
      "\n",
      " recherche des polynomes...\n",
      "|                                                          |\n",
      " ##########################################################\n",
      "\n",
      "P1= 0\n",
      "\n",
      "P2= 0\n",
      "\n",
      "resultant : 0\n",
      "\n",
      "racines : 0\n",
      "Aucun bon polynomes\n",
      "delta= 0.2\n",
      "m= 8\n",
      "t= 5\n",
      "\n",
      " calcul des valeurs...\n",
      "\n",
      " generation des monomes possibles..\n",
      "\n",
      " generation des dictionnaires..\n",
      "\n",
      " generation de la matrice...\n",
      "    taile de la matrice : 75 x 75\n",
      "\n",
      " application de LLL sur la matrice...\n",
      "    LLL ok\n",
      "\n",
      " recherche des polynomes...\n",
      "|                                                                        |\n",
      " #######################################################"
     ]
    },
    {
     "ename": "KeyboardInterrupt",
     "evalue": "",
     "output_type": "error",
     "traceback": [
      "\u001b[0;31m---------------------------------------------------------------------------\u001b[0m",
      "\u001b[0;31mKeyboardInterrupt\u001b[0m                         Traceback (most recent call last)",
      "\u001b[0;32m/Applications/SageMath-9.2.app/Contents/Resources/sage/local/lib/python3.8/site-packages/sage/all_cmdline.py\u001b[0m in \u001b[0;36m<module>\u001b[0;34m\u001b[0m\n\u001b[1;32m      6\u001b[0m             \u001b[0mprint\u001b[0m\u001b[0;34m(\u001b[0m\u001b[0;34m\"m=\"\u001b[0m\u001b[0;34m,\u001b[0m\u001b[0mm\u001b[0m\u001b[0;34m)\u001b[0m\u001b[0;34m\u001b[0m\u001b[0;34m\u001b[0m\u001b[0m\n\u001b[1;32m      7\u001b[0m             \u001b[0mprint\u001b[0m\u001b[0;34m(\u001b[0m\u001b[0;34m\"t=\"\u001b[0m\u001b[0;34m,\u001b[0m\u001b[0mt\u001b[0m\u001b[0;34m)\u001b[0m\u001b[0;34m\u001b[0m\u001b[0;34m\u001b[0m\u001b[0m\n\u001b[0;32m----> 8\u001b[0;31m             \u001b[0mRSA_attack\u001b[0m\u001b[0;34m(\u001b[0m\u001b[0mN\u001b[0m\u001b[0;34m,\u001b[0m\u001b[0me\u001b[0m\u001b[0;34m,\u001b[0m\u001b[0mm\u001b[0m\u001b[0;34m,\u001b[0m\u001b[0mt\u001b[0m\u001b[0;34m,\u001b[0m\u001b[0mdelta\u001b[0m\u001b[0;34m)\u001b[0m\u001b[0;34m\u001b[0m\u001b[0;34m\u001b[0m\u001b[0m\n\u001b[0m",
      "\u001b[0;32m/Applications/SageMath-9.2.app/Contents/Resources/sage/local/lib/python3.8/site-packages/sage/all_cmdline.py\u001b[0m in \u001b[0;36mRSA_attack\u001b[0;34m(N, e, m, t, delta)\u001b[0m\n\u001b[1;32m     31\u001b[0m     \u001b[0;31m#on parcourt les vecteurs de la matrice pour les convertir en polynomes\u001b[0m\u001b[0;34m\u001b[0m\u001b[0;34m\u001b[0m\u001b[0;34m\u001b[0m\u001b[0m\n\u001b[1;32m     32\u001b[0m     \u001b[0mprint\u001b[0m\u001b[0;34m(\u001b[0m\u001b[0;34m\"\\n recherche des polynomes...\"\u001b[0m\u001b[0;34m)\u001b[0m\u001b[0;34m\u001b[0m\u001b[0;34m\u001b[0m\u001b[0m\n\u001b[0;32m---> 33\u001b[0;31m     \u001b[0mP1\u001b[0m\u001b[0;34m,\u001b[0m\u001b[0mP2\u001b[0m\u001b[0;34m,\u001b[0m\u001b[0mSol\u001b[0m\u001b[0;34m,\u001b[0m\u001b[0mracines\u001b[0m\u001b[0;34m=\u001b[0m\u001b[0mget_2_good_poly\u001b[0m\u001b[0;34m(\u001b[0m\u001b[0mBasisLLL\u001b[0m\u001b[0;34m,\u001b[0m\u001b[0midico\u001b[0m\u001b[0;34m,\u001b[0m\u001b[0me_to_m\u001b[0m\u001b[0;34m,\u001b[0m\u001b[0mdico_monom_bound\u001b[0m\u001b[0;34m)\u001b[0m\u001b[0;34m\u001b[0m\u001b[0;34m\u001b[0m\u001b[0m\n\u001b[0m\u001b[1;32m     34\u001b[0m     \u001b[0mprint\u001b[0m\u001b[0;34m(\u001b[0m\u001b[0;34m\"\\n\\nP1=\"\u001b[0m\u001b[0;34m,\u001b[0m\u001b[0mP1\u001b[0m\u001b[0;34m)\u001b[0m\u001b[0;34m\u001b[0m\u001b[0;34m\u001b[0m\u001b[0m\n\u001b[1;32m     35\u001b[0m     \u001b[0mprint\u001b[0m\u001b[0;34m(\u001b[0m\u001b[0;34m\"\\nP2=\"\u001b[0m\u001b[0;34m,\u001b[0m\u001b[0mP2\u001b[0m\u001b[0;34m)\u001b[0m\u001b[0;34m\u001b[0m\u001b[0;34m\u001b[0m\u001b[0m\n",
      "\u001b[0;32m/Applications/SageMath-9.2.app/Contents/Resources/sage/local/lib/python3.8/site-packages/sage/all_cmdline.py\u001b[0m in \u001b[0;36mget_2_good_poly\u001b[0;34m(BasisLLL, idico, e_to_m, dico_monom_bound)\u001b[0m\n\u001b[1;32m     54\u001b[0m \u001b[0;34m\u001b[0m\u001b[0m\n\u001b[1;32m     55\u001b[0m                 \u001b[0;32mif\u001b[0m \u001b[0mbool_P2\u001b[0m\u001b[0;34m:\u001b[0m\u001b[0;34m\u001b[0m\u001b[0;34m\u001b[0m\u001b[0m\n\u001b[0;32m---> 56\u001b[0;31m                     \u001b[0mbool_val\u001b[0m\u001b[0;34m,\u001b[0m\u001b[0mlist_data\u001b[0m\u001b[0;34m=\u001b[0m\u001b[0mis_2_good_poly\u001b[0m\u001b[0;34m(\u001b[0m\u001b[0mBasisLLL\u001b[0m\u001b[0;34m,\u001b[0m\u001b[0midico\u001b[0m\u001b[0;34m,\u001b[0m\u001b[0mclean_P1\u001b[0m\u001b[0;34m,\u001b[0m\u001b[0mclean_P2\u001b[0m\u001b[0;34m,\u001b[0m\u001b[0mdico_monom_bound\u001b[0m\u001b[0;34m)\u001b[0m\u001b[0;34m\u001b[0m\u001b[0;34m\u001b[0m\u001b[0m\n\u001b[0m\u001b[1;32m     57\u001b[0m                     \u001b[0;32mif\u001b[0m \u001b[0mbool_val\u001b[0m\u001b[0;34m:\u001b[0m\u001b[0;34m\u001b[0m\u001b[0;34m\u001b[0m\u001b[0m\n\u001b[1;32m     58\u001b[0m                         \u001b[0;32mreturn\u001b[0m \u001b[0mlist_data\u001b[0m\u001b[0;34m\u001b[0m\u001b[0;34m\u001b[0m\u001b[0m\n",
      "\u001b[0;32m/Applications/SageMath-9.2.app/Contents/Resources/sage/local/lib/python3.8/site-packages/sage/all_cmdline.py\u001b[0m in \u001b[0;36mis_2_good_poly\u001b[0;34m(BasisLLL, idico, clean_P1, clean_P2, dico_monom_bound)\u001b[0m\n\u001b[1;32m      8\u001b[0m \u001b[0;32mdef\u001b[0m \u001b[0mis_2_good_poly\u001b[0m\u001b[0;34m(\u001b[0m\u001b[0mBasisLLL\u001b[0m\u001b[0;34m,\u001b[0m\u001b[0midico\u001b[0m\u001b[0;34m,\u001b[0m\u001b[0mclean_P1\u001b[0m\u001b[0;34m,\u001b[0m\u001b[0mclean_P2\u001b[0m\u001b[0;34m,\u001b[0m\u001b[0mdico_monom_bound\u001b[0m\u001b[0;34m)\u001b[0m\u001b[0;34m:\u001b[0m\u001b[0;34m\u001b[0m\u001b[0;34m\u001b[0m\u001b[0m\n\u001b[1;32m      9\u001b[0m \u001b[0;34m\u001b[0m\u001b[0m\n\u001b[0;32m---> 10\u001b[0;31m     \u001b[0mSol\u001b[0m\u001b[0;34m=\u001b[0m\u001b[0mclean_P1\u001b[0m\u001b[0;34m.\u001b[0m\u001b[0mresultant\u001b[0m\u001b[0;34m(\u001b[0m\u001b[0mclean_P2\u001b[0m\u001b[0;34m,\u001b[0m\u001b[0mb_\u001b[0m\u001b[0;34m)\u001b[0m \u001b[0;31m#on calcule le resultant\u001b[0m\u001b[0;34m\u001b[0m\u001b[0;34m\u001b[0m\u001b[0m\n\u001b[0m\u001b[1;32m     11\u001b[0m     \u001b[0mSol\u001b[0m\u001b[0;34m=\u001b[0m\u001b[0mPRx\u001b[0m\u001b[0;34m(\u001b[0m\u001b[0mSol\u001b[0m\u001b[0;34m(\u001b[0m\u001b[0mc_\u001b[0m\u001b[0;34m,\u001b[0m\u001b[0mInteger\u001b[0m\u001b[0;34m(\u001b[0m\u001b[0;36m0\u001b[0m\u001b[0;34m)\u001b[0m\u001b[0;34m)\u001b[0m\u001b[0;34m)\u001b[0m                  \u001b[0;31m#on change l'anneau des polynomes (Z[a_,b_] => Z[c_])\u001b[0m\u001b[0;34m\u001b[0m\u001b[0;34m\u001b[0m\u001b[0m\n\u001b[1;32m     12\u001b[0m \u001b[0;34m\u001b[0m\u001b[0m\n",
      "\u001b[0;32m/Applications/SageMath-9.2.app/Contents/Resources/sage/local/lib/python3.8/site-packages/sage/rings/polynomial/multi_polynomial_libsingular.pyx\u001b[0m in \u001b[0;36msage.rings.polynomial.multi_polynomial_libsingular.MPolynomial_libsingular.resultant (build/cythonized/sage/rings/polynomial/multi_polynomial_libsingular.cpp:42043)\u001b[0;34m()\u001b[0m\n\u001b[1;32m   5469\u001b[0m \u001b[0;34m\u001b[0m\u001b[0m\n\u001b[1;32m   5470\u001b[0m         \u001b[0;32mif\u001b[0m \u001b[0mis_IntegerRing\u001b[0m\u001b[0;34m(\u001b[0m\u001b[0mself\u001b[0m\u001b[0;34m.\u001b[0m\u001b[0m_parent\u001b[0m\u001b[0;34m.\u001b[0m\u001b[0m_base\u001b[0m\u001b[0;34m)\u001b[0m\u001b[0;34m:\u001b[0m\u001b[0;34m\u001b[0m\u001b[0;34m\u001b[0m\u001b[0m\n\u001b[0;32m-> 5471\u001b[0;31m             ret = self.change_ring(QQ).resultant(other.change_ring(QQ),\n\u001b[0m\u001b[1;32m   5472\u001b[0m                                                  variable.change_ring(QQ))\n\u001b[1;32m   5473\u001b[0m             \u001b[0;32mreturn\u001b[0m \u001b[0mret\u001b[0m\u001b[0;34m.\u001b[0m\u001b[0mchange_ring\u001b[0m\u001b[0;34m(\u001b[0m\u001b[0mZZ\u001b[0m\u001b[0;34m)\u001b[0m\u001b[0;34m\u001b[0m\u001b[0;34m\u001b[0m\u001b[0m\n",
      "\u001b[0;32m/Applications/SageMath-9.2.app/Contents/Resources/sage/local/lib/python3.8/site-packages/sage/rings/polynomial/multi_polynomial_libsingular.pyx\u001b[0m in \u001b[0;36msage.rings.polynomial.multi_polynomial_libsingular.MPolynomial_libsingular.resultant (build/cythonized/sage/rings/polynomial/multi_polynomial_libsingular.cpp:42169)\u001b[0;34m()\u001b[0m\n\u001b[1;32m   5478\u001b[0m             \u001b[0;34m+\u001b[0m \u001b[0msingular_polynomial_length_bounded\u001b[0m\u001b[0;34m(\u001b[0m\u001b[0mother\u001b[0m\u001b[0;34m.\u001b[0m\u001b[0m_poly\u001b[0m\u001b[0;34m,\u001b[0m\u001b[0;36m20\u001b[0m\u001b[0;34m)\u001b[0m\u001b[0;34m\u001b[0m\u001b[0;34m\u001b[0m\u001b[0m\n\u001b[1;32m   5479\u001b[0m         \u001b[0;32mif\u001b[0m \u001b[0mcount\u001b[0m \u001b[0;34m>=\u001b[0m \u001b[0;36m20\u001b[0m\u001b[0;34m:\u001b[0m\u001b[0;34m\u001b[0m\u001b[0;34m\u001b[0m\u001b[0m\n\u001b[0;32m-> 5480\u001b[0;31m             \u001b[0msig_on\u001b[0m\u001b[0;34m(\u001b[0m\u001b[0;34m)\u001b[0m\u001b[0;34m\u001b[0m\u001b[0;34m\u001b[0m\u001b[0m\n\u001b[0m\u001b[1;32m   5481\u001b[0m         \u001b[0;32mif\u001b[0m \u001b[0m_ring\u001b[0m \u001b[0;34m!=\u001b[0m \u001b[0mcurrRing\u001b[0m\u001b[0;34m:\u001b[0m \u001b[0mrChangeCurrRing\u001b[0m\u001b[0;34m(\u001b[0m\u001b[0m_ring\u001b[0m\u001b[0;34m)\u001b[0m   \u001b[0;31m# singclap_resultant\u001b[0m\u001b[0;34m\u001b[0m\u001b[0;34m\u001b[0m\u001b[0m\n\u001b[1;32m   5482\u001b[0m         \u001b[0mrt\u001b[0m \u001b[0;34m=\u001b[0m  \u001b[0msingclap_resultant\u001b[0m\u001b[0;34m(\u001b[0m\u001b[0mp_Copy\u001b[0m\u001b[0;34m(\u001b[0m\u001b[0mself\u001b[0m\u001b[0;34m.\u001b[0m\u001b[0m_poly\u001b[0m\u001b[0;34m,\u001b[0m \u001b[0m_ring\u001b[0m\u001b[0;34m)\u001b[0m\u001b[0;34m,\u001b[0m \u001b[0mp_Copy\u001b[0m\u001b[0;34m(\u001b[0m\u001b[0mother\u001b[0m\u001b[0;34m.\u001b[0m\u001b[0m_poly\u001b[0m\u001b[0;34m,\u001b[0m \u001b[0m_ring\u001b[0m\u001b[0;34m)\u001b[0m\u001b[0;34m,\u001b[0m \u001b[0mp_Copy\u001b[0m\u001b[0;34m(\u001b[0m\u001b[0;34m(\u001b[0m\u001b[0;34m<\u001b[0m\u001b[0mMPolynomial_libsingular\u001b[0m\u001b[0;34m>\u001b[0m\u001b[0mvariable\u001b[0m\u001b[0;34m)\u001b[0m\u001b[0;34m.\u001b[0m\u001b[0m_poly\u001b[0m \u001b[0;34m,\u001b[0m \u001b[0m_ring\u001b[0m \u001b[0;34m)\u001b[0m\u001b[0;34m,\u001b[0m \u001b[0m_ring\u001b[0m\u001b[0;34m)\u001b[0m\u001b[0;34m\u001b[0m\u001b[0;34m\u001b[0m\u001b[0m\n",
      "\u001b[0;31mKeyboardInterrupt\u001b[0m: "
     ]
    }
   ],
   "source": [
    "for i in range(20,30):\n",
    "    delta=float(i/100)\n",
    "    for m in range(2,10):\n",
    "        for t in range(1,m+1):\n",
    "            print(\"delta=\",delta)\n",
    "            print(\"m=\",m)\n",
    "            print(\"t=\",t)\n",
    "            RSA_attack(N,e,m,t,delta)"
   ]
  },
  {
   "cell_type": "code",
   "execution_count": 131,
   "metadata": {},
   "outputs": [
    {
     "name": "stdout",
     "output_type": "stream",
     "text": [
      "N= 21742129921792923819608936642112869655417066872341784750429455818139017389209153441418092388262804335430514307200354093279214735266717653359732131372218918576602073631734369923077905204055326184507286804117040720977562763473350779622122226163796795370056185308868084392492242446462227642920180825852695855923262183782971717961574429289919794023429104017121431698921378479044138258932917327802228979658426743647304636472326501911771419211284754107730558113471255596685754243298173046399767832402785997558527912099502366803925052196780315972852131995722803789608031990683655537581953853888344763262505198329805796724641\n",
      "\n",
      "e= 927201100938185983572879830276846638796579276263493396214156284879755750519390052295011528788483415165130166531286310597557788404842737134815623073354396039511043159206951421917899156952721009328564206368608967484413206367673322424345078740304789176877053286339224936796740339051028897416473555932505487814901153407917749066010337778664772092712160269916332216361059940580512386099142585484340685762554208801436890587459558010648830056423080450047581551825156224106682632623260119392884821753878462237471925510405584383572936763132631643762989461657076194119499765211317354370677150600285145693274054324839572378425\n",
      "\n",
      "delta= 0.200000000000000\n"
     ]
    }
   ],
   "source": [
    "delta=0.2\n",
    "N,e,d=gen_keys(1024,delta)\n",
    "m=2\n",
    "t=int(m*(1-2*delta))\n",
    "\n",
    "print(\"N=\",N)\n",
    "print(\"\\ne=\",e)\n",
    "print(\"\\ndelta=\",delta)"
   ]
  },
  {
   "cell_type": "code",
   "execution_count": 136,
   "metadata": {},
   "outputs": [
    {
     "name": "stdout",
     "output_type": "stream",
     "text": [
      "\n",
      "delta= 0.300000000000000\n",
      "m= 7\n",
      "t= 2\n",
      "\n",
      " calcul des valeurs...\n",
      "\n",
      " generation des monomes possibles..\n",
      "\n",
      " generation des dictionnaires..\n",
      "\n",
      " generation de la matrice...\n",
      "    taile de la matrice : 43 x 43\n",
      "\n",
      " application de LLL sur la matrice...\n",
      "    LLL ok\n",
      "\n",
      " recherche des polynomes...\n",
      "|                                        |\n",
      " ########################\n",
      "\n",
      "P1= 19112869106672773367060199465095337490295854926485691600526016385842697585586681055135681588230517373154901477760423658172128463741553794895325055616501377723416398926048573065812809217209600072758733066429757269387874417965142581306199999396422045507585839012509988247020561250373525533904568202459641415784494307899795665535013968974353465365380288841486622532762328366641351552099849430790471587952301235071522983512972705590232776740272382025311742629435626210719063727249916577839522271836290085132306362227623360712021471918349796168502392604603810585173212604745885238315542929661140067971920893782314744242772617491652642347055520218157389160427161114919859360787457630721491717065640285388585102254231986063769401801529835841609859800215669652829341947188056168023591714327256810600850030834115947544434578934101108694169978975392658142182597821*a_^7*b_^7 + 39484791186493223522647430192187675050484474253790415179606277771465966851733790489507221231007745379781097998970893106588099592607271424083939754853113420985993966747647795611220040606029960164743184697187494823074211358543988084274714897029161858298261959536070912752399598270945138291448859870759476379797561461878469869339092140481487121418272411888032122442230125366000857021483268814632215446388728677452649609008128355774591038139546703583390619346272032363177143894561286415294216410796806875324785421323033490762382388177426513464843836044498880267459713556817290812349885251902200592412979532877344355341969173383376515034592313452593980334094503059705307528525442076842154722855881799754584549816759128905856781053095605257796696366209873190215220351660195195748734211004845557872562354825474109572578739331341562896483710649690505543173175094727987137953560545432484118887597473000082027398906988846828665298188906730969943730068741901498688470515495300571196277081422062964108565419013320037893620354014793115296555463576221605915081920066839604049420433904377789457934268720790458723518040873366186023638944509497339648709355764959247765867357125099*a_^7*b_^6 + 34958840551872768469927997228065488613622267775203953163386750153474340482658836875798008637433828923488805177812200124096980572159573534832204265863361295957357410682667742775505791335477739652219707572616060104752250770844975936523171599390167476904344436749062570456601514404269426342306047003145172069652711429559836507784277520226227843838848012366663925331310759375534370643025183977968951245913441559344639296554057129548704467552876125970407326238502768984848472134956412820013713946383254101450294282639804576749945999835234492420743740736311850078946736649767886439468679192234544827672425484057660060547560561427472104848553556921729877279852345636408922464467460098292604563456634021833238606334909237814521297900681497058261122010363944826022727298655552654245340739517927304739355699508152728871710713832523419608342668170779196779487487882728300630311788569641535656752579657283946954017938017265097370377987606566762737692059360789989982157608085084103554691950423300055623023623878615817255258393598282923661368827567790416346318770757740236845057715810310127173646969949620325503458410925254139678828857706376544909301299240598568249505634367249843776660065206937126216974974227741621520848474689864622828206941449451874784456877090229329005758140664281566748429239759244402761720750360339438937978710406405919624005725796699040021259044870273778324455692396362608330847243506901449487751866087886905513374916620628404549693461188525202198706420677224449*a_^7*b_^5 + 133790083746709413569421396255667362432070984485399841203682114700898883099106767385949771117613621612084310344322965607204899246190876564267275389315509644063914792482340011460689664520467200509311131465008300885715120925755998069143399995774954318553100873087569917729143928752614678737331977417217489910491460155298569658745097782820474257557662021890406357729336298566489460864698946015533301115666108645500660884590808939131629437181906674177182198406049383475033446090749416044876655902854030595926144535593363524984150303428448573179516748232226674096212488233221196668208800507627980475803446256476203209699408322441568496429388641527101724122990127804439015525512203415050442019459481997720095715779623902446385812610708850891269018601509687569805393630316393176165142000290797674205950215838811632811042052538707760859189852827748606995278184747*a_^6*b_^6 + 17195376526383225697015831135842056590782413259216889416668155547145197023082329002135062196946492804230293677959762967200180691576252693665131731644566753889346644843501572639431148516801555654111034694740907761668280812900756699905402157644447458529847719595211848383072593490190381316800278060313001818512660452927630283319925269427505005375920724373181678145841334611298364564301721975506366903041285386458493045263947615788786601266667743394753946068497968637642227351438205330322241533187266724240562840280711966133490573435881261591317575412824638276235976614378203176098985482637887241303830221640397591586941777588604835246602448465921654823090812377565678720639579461564841664119385467692798602784690371591929408088006364879751128929333003624780109257303317504168403119646043785354634490583506394420665356284797040938281590726967419733829853758428665905944904714711438585236592760275682592747186373382280895312742429144088797596974299522237258501662444101947850642802955169425388652944045443397075591131477036222221321855719799155093363447428745870034810052147553582925943643049526514512278131196178916294463625356645431975048876854983934606202796068731790412183808524841268527046228078673193091832814362653394826102566765896332455217747098265202515169182685457145026649231481133039321430112023827563544796853600598592917328959124455832923510977073239870373946905640444930125713727400252964410284710924629550447120752642409319723734959838188949452857579435871201132022838870996384188470637711742534375976698460766373729315009497087483768094680457733070259668682014090682609680792349022461440568801560058995691007760894830550641999048283617238969005254397388467330224372940281445957559912670164424971848834059785121387387491879321890449177635194244816310512211183915084055*a_^7*b_^4 + 236908747118959341135884581153126050302906845522742491077637666628795801110402742937043327386046472278686587993825358639528597555643628544503638529118680525915963800485886773667320243636179760988459108183124968938445268151263928505648289382174971149789571757216425476514397589625670829748693159224556858278785368771270819216034552842888922728509634471328192734653380752196005142128899612887793292678332372064715897654048770134647546228837280221500343716077632194179062863367367718491765298464780841251948712527938200944574294329064559080789063016266993281604758281340903744874099311511413203554477877197264066132051815040300259090207553880715563882004567018358231845171152652461052928337135290798527507298900554773435140686318573631546780178197259239141291322109961171174492405266029073347235374128952844657435472435988049377378902263898143033259039050568367922827721363272594904713325584838000492164393441933080971991789133440385819662380412451408992130823092971803427177662488532377784651392514079920227361722124088758691779332781457329635490491520401037624296522603426266736747605612324742752341108245240197116141833667056984037892256134589755486595204142750594*a_^6*b_^5 + 5074784561782351585234595940322597097000452581347173194915160925096077296182922104378568431574078139685632857241439453885663918948959305069777375380749283658060985339598773147265067537821984295227230240558681687535803206919624641760422217657716415314983009584927796654439140533710287007049281485338245166358431883624233901242298790195482655665218666249615518413571534105509215871229328162632527281567137011896692588826129282419854415325174528552391417178711950910503690264072783974032545731077488512409199675685504666077787347796002308013139640073616724449758017546855017306751726679362095729683494513136589009702885278129222115932385569626713170388766620661927600435386235404645559972570419763657545498862701636057871978786076127579306312377755168086657195655693611749059634587981794335327015940222353767362655155724347158235328624086025893491600468632816638188643782324500466346732094695444833882101765972801533347580396730870119479327666735536969084673995891768588579355619644169275283639034590617332995959643008110091466793129396662342270083551082800432926913250998884507259918716477192058535698787325650485009302130747587787466498308925687398908245926374668592066959041626344870904405592998320139564996467465102676542382874405691132583566781187734550382111207942040088944258439384002062569644806259928710627087852783724657240212566861756389300816136852861416399765272428486354559740907210399230498262190042434890975880786646395541592133332346779025562836300401217496098122764436441746643771866067800424206076816678313317003440692471772803032936759773022467434213948570179154949497626620738091192226001057758169628617241390065593707872609245426282663036898588615939711278407363534916650735809353448056482294946850453157460012576396520399572601219482744078235710433666741472842239654887932165075700703331790791816772213277779559801962557297790021974273966799240708375664998046344935566117649326463010195597974615584487118715831792093122780859026824227123579885390497108820563504944886351831142658534646220142043317581969361288965586436477152612719135572537467810666120444596689818014935*a_^7*b_^3 + 174794202759363842349639986140327443068111338876019765816933750767371702413294184378990043187169144617444025889061000620484902860797867674161021329316806479786787053413338713877528956677388698261098537863080300523761253854224879682615857996950837384521722183745312852283007572021347131711530235015725860348263557147799182538921387601131139219194240061833319626656553796877671853215125919889844756229567207796723196482770285647743522337764380629852036631192513844924242360674782064100068569731916270507251471413199022883749729999176172462103718703681559250394733683248839432197343395961172724138362127420288300302737802807137360524242767784608649386399261728182044612322337300491463022817283170109166193031674546189072606489503407485291305610051819724130113636493277763271226703697589636523696778497540763644358553569162617098041713340853895983897437439413641503151558942848207678283762898286419734770089690086325486851889938032833813688460296803949949910788040425420517773459752116500278115118119393079086276291967991414618306844137838952081731593853788701184225288579051550635868234849748101627517292054626270698394144288531882724546506496202992841247528171836249218883300326034685631084874871138708107604242373449323114141034707247259373922284385451146645028790703321407833742146198796222013808603751801697194689893552032029598120028628983495200106295224351368891622278461981813041654236217534507247438759330439434527566874583103142022748467305942626010993532103386122245*a_^6*b_^4 + 401370251240128240708264188767002087296212953456199523611046344102696649297320302157849313352840864836252931032968896821614697738572629692801826167946528932191744377447020034382068993561401601527933394395024902657145362777267994207430199987324862955659302619262709753187431786257844036211995932251652469731474380465895708976235293348461422772672986065671219073188008895699468382594096838046599903346998325936501982653772426817394888311545720022531546595218148150425100338272248248134629967708562091787778433606780090574952450910285345719538550244696680022288637464699663590004626401522883941427410338769428609629098224967324705489288165924581305172368970383413317046576536610245151326058378445993160287147338871707339157437832126552673807055804529062709416180890949179528495426000872393022617850647516434898433126157616123282577569558483245820985834554241*a_^5*b_^5 + 898617310612202832957277866757342917648588059990052646466618994829403030795981320662440140608031526330649116181054395651937247171207791612366814652190485314857526296205916371747106330176708138398110257914048671785414570392166444287264070078836611275532888212552897227298567983074352759714223276915781979848436436965481573367621565242421408806837494331863914409232588289504208596157648774021270326993674607043710192525761679624573850821224910879372306680301000428706990121755017359472139411834194529482482898080442557279173534191658391233288279775889557546582347558316132010918434718508325197007738900182914216208327478819797946219751355197448229883695554081224867768510044194680426610816297211398736623028523189835033295983607702887566848092026095896615916282094965106182169658433237716480356842480787175313890182612780865100305453537197836292795794313039940193496099517982963700180092416972087075080600014411226442348089466771553701071122290515722748821171764832543780056113387711784375886127338089966421339895216559211981649823823421237735728776088115762900074278896103172206819535312681348317818587190838153844576407660858903577927556863538971702393409492754715546143622114339018414717510729649541363408282853580425351990069307568611152856328123536912769037450421340196345849552599636073076803736487009897787476469363240607246223081555225805643553287410899669432029767399321303048020914045961031305430702158856023576051202098485437965246593752136069057680988643501796602277361987850158819418538219098585048744722410451966279116909575600869320914623773869787341738110018962355190125603821833135542281901986680331151518796399046796096220539566939585217264902968124817033809187576679381268409192187974070175517596759796235232401830038473515767781467450052842610849987994888590126636260990264026846778829206783514729956872912434270818312064516175515811662244442110893934236697898630966068534315766289989787758425663222991712383646243781730349351653478796434738250884577509879129382378261174025401312054390626324347204266550408593301436909379498365838696072539021287347179535366299703647338600969240585263324120563118119221316827463067148502833266328809727289423459181580026807927732127670571022347223122982619777375098168222541525185979719241855961815633582204677101404120215315032083166390035032333737812449516228825834410919097702084479120160922735910447250675136263166522568430743254340000249537*a_^7*b_^2 + 68781506105532902788063324543368226363129653036867557666672622188580788092329316008540248787785971216921174711839051868800722766305010774660526926578267015557386579374006290557724594067206222616444138778963631046673123251603026799621608630577789834119390878380847393532290373960761525267201112241252007274050641811710521133279701077710020021503682897492726712583365338445193458257206887902025467612165141545833972181055790463155146405066670973579015784273991874550568909405752821321288966132749066896962251361122847864533962293743525046365270301651298553104943906457512812704395941930551548965215320886561590366347767110354419340986409793863686619292363249510262714882558317846259366656477541870771194411138761486367717632352025459519004515717332014499120437029213270016673612478584175141418537962334025577682661425139188163753126362907869678935319415033714663623779618858845754340946371041102730370988745493529123581250969716576355190387897198088949034006649776407791402571211820677701554611776181773588302364525908144888885287422879196620373453789714983480139240208590214331703774572198106058049112524784715665177854501426581727900195507419935738424811184274927161648735234099365074108184912314692772367331257450613579304410267063585329820870988393060810060676730741828580106596925924532157285720448095310254179187414402394371669315836497823331694043908292959481495787622561779720502854909601011857641138843698518201788483010569637278894939839352755797811430317743484804528091355483985536753882550846970137503906793843065494917260037988349935072378721830932281038674728056362730438723169396089845762275206240235982764031043579322202567996193134468955876021017589553869320897491761125783830239650680657699887395336239140485549549967517287561796710540776979265242048844735660336220*a_^6*b_^3 + 592271867797398352839711452882815125757267113806856227694094166571989502776006857342608318465116180696716469984563396598821493889109071361259096322796701314789909501214716934168300609090449402471147770457812422346113170378159821264120723455437427874473929393041063691285993974064177074371732898061392145696963421928177048040086382107222306821274086178320481836633451880490012855322249032219483231695830930161789744135121925336618865572093200553750859290194080485447657158418419296229413246161952103129871781319845502361435735822661397701972657540667483204011895703352259362185248278778533008886194692993160165330129537600750647725518884701788909705011417545895579612927881631152632320842838226996318768247251386933587851715796434078866950445493148097853228305274902927936231013165072683368088435322382111643588681089970123443447255659745357583147597626420919807069303408181487261783313962095001230410983604832702429979472833600964549155951031128522480327057732429508567944156221330944461628481285199800568404305310221896729448331953643324088726228801002594060741306508565666841869014030811856880852770613100492790354584167642460094730640336474388716488010356876485*a_^5*b_^4 + 88401461634144037296879147554803158612194862314733473214063579799700821645443967600014118471800946312103264390314364590370567807638513506790523417373089710438748856589509335742244175048393764963834325180683719709504231663491491254792286536359921609615892408838988535016317642721741993850788310753172747701946291298593916386045851692402990821462695259406025750163463430296683790147309227774002079628076074219823643688617503476631397674467643853544034597057171235046058685358055035362111958111792142053958444427525412291933619932941691142798233036488184176601454432169911563024264485343189036973888319371575690022566382355150175358127448124944188243352049525796322090251005444595523976313749015422166966584229982900367657202230808125362088353235924537673880078091369228340417978524020115571623096524221946753807918733112129076805222677908957348062367868263145367289867758062857938430428647430834121386118773166133191323291126155268512756816096835121706671600746924429673954556761860488972217754569207996124524363379667735201185550904384732802034056218403261809270851439822587702307514038756589740517142787672903492135791565200905307615726209605335520661710569656069669531141003217909323645538935573202799532395395685634119411790345861406566803400834604803000405657797389070383195573876995437636805220856021107770430291029068733276507059777976733990457146182393014725708177994097980657325891163295403866131440628226411627250244233190439651381681675660172463275530860435155714446476782742546618649674246093485054351153589974325724114165221912211214002276567537534694616973717860044092634399803242936034121813145340806294631229647278188501433093042375608304483470462923674027775174097723087485048467079339951305965067826905765395366726211835461615282783000984918792426934787735896544083826857288727136319903498694535888508993839246419800770998354206924626165775854307348205565278152976545059261685495431654465202754498420746454046332118932780333001668377089374488483339460915107173613678764241989730132923931588844667558252917268508253064866959914260149743914351444599658933641671196552421671246975781700732315046514958553874728045992342333879682708570905614707821722909441628237265770505962725761536032094172454955263838248138712673303049024130661817654349354759158224582545195072683465207598769693421004194871416124258476688696058967156714708335447683334842338178628213691507060430102456784735167771258721655638634678143477353942303240111368373110159027411155940853040872352020360552770068401601716669090527458679474954291567889494064987107292870346165945893388550591538698374924562181705996010374391876898736818914195305734924851758718220581943756218426680812243646423088785608860821835926400063529610044843*a_^7*b_ + 15224353685347054755703787820967791291001357744041519584745482775288231888548766313135705294722234419056898571724318361656991756846877915209332126142247850974182956018796319441795202613465952885681690721676045062607409620758873925281266652973149245944949028754783389963317421601130861021147844456014735499075295650872701703726896370586447966995655998748846555240714602316527647613687984487897581844701411035690077766478387847259563245975523585657174251536135852731511070792218351922097637193232465537227599027056513998233362043388006924039418920220850173349274052640565051920255180038086287189050483539409767029108655834387666347797156708880139511166299861985782801306158706213936679917711259290972636496588104908173615936358228382737918937133265504259971586967080835247178903763945383005981047820667061302087965467173041474705985872258077680474801405898449914565931346973501399040196284086334501646305297918404600042741190192610358437983000206610907254021987675305765738066858932507825850917103771851998987878929024330274400379388189987026810250653248401298780739752996653521779756149431576175607096361976951455027906392242763362399494926777062196724737779124005776200877124879034612713216778994960418694989402395308029627148623217073397750700343563203651146333623826120266832775318152006187708934418779786131881263558351173971720637700585269167902448410558584249199295817285459063679222721631197691494786570127304672927642359939186624776399997040337076688508901203652488294368293309325239931315598203401272618230450034939951010322077415318409098810279319067402302641845710537464848492879862214273576678003173274508885851724170196781123617827736278847989110695765847819133835222090604749952207428060344169446884840551359472380037729189561198717803658448232234707131301000224418526718964663796495227102109995372375450316639833338679405887671893370065922821900397722125126994994139034806698352947979389030586793923846753461356147495376279368342577080472681370739656171491326461690514834659055493427975603938660426129952745908083866896759309431457838157406717612403431998361333790069454044805*a_^6*b_^2 + 349588405518727684699279972280654886136222677752039531633867501534743404826588368757980086374338289234888051778122001240969805721595735348322042658633612959573574106826677427755057913354777396522197075726160601047522507708449759365231715993901674769043444367490625704566015144042694263423060470031451720696527114295598365077842775202262278438388480123666639253313107593755343706430251839779689512459134415593446392965540571295487044675528761259704073262385027689848484721349564128200137139463832541014502942826398045767499459998352344924207437407363118500789467366497678864394686791922345448276724254840576600605475605614274721048485535569217298772798523456364089224644674600982926045634566340218332386063349092378145212979006814970582611220103639448260227272986555526542453407395179273047393556995081527288717107138325234196083426681707791967794874878827283006303117885696415356567525796572839469540179380172650973703779876065667627376920593607899899821576080850841035546919504233000556230236238786158172552583935982829236613688275677904163463187707577402368450577158103101271736469699496203255034584109252541396788288577063765449093012992405985682495056343672498437766600652069371262169749742277416215208484746898646228282069414494518747844568770902293290057581406642815667484292397592444027617207503603394389379787104064059196240057257966990400212590448702737783244556923963626083308472435069014494877518660878869055133749166206284045496934611885252021987064206772244490*a_^5*b_^3 + 668950418733547067847106981278336812160354922426999206018410573504494415495533836929748855588068108060421551721614828036024496230954382821336376946577548220319573962411700057303448322602336002546555657325041504428575604628779990345716999978874771592765504365437849588645719643763073393686659887086087449552457300776492848293725488914102371287788310109452031788646681492832447304323494730077666505578330543227503304422954044695658147185909533370885910992030246917375167230453747080224383279514270152979630722677966817624920751517142242865897583741161133370481062441166105983341044002538139902379017231282381016048497041612207842482146943207635508620614950639022195077627561017075252210097297409988600478578898119512231929063053544254456345093007548437849026968151581965880825710001453988371029751079194058164055210262693538804295949264138743034976390923735*a_^4*b_^4 + 3727068079289673064173792762656374764804464611631832091493163694545890137213960482014013878983859887684024169378777930708791138728603558635154473830902813854986710284361305226274834065118446974753978246167810769096435616685759544364457525260853951313296325633897713176597477642163969667967064661764585200921517071772243964545115362765296901556930723642355014780005613722127828717928571471382783450357667107101579174173066934656408328374260625247371154763999790278685211211919256189185904127238928108987915575273873954888708776792648584809249851929999454048973064703987604014696455450142809690778397826250459465661057259785704276029878682281318361674216775134158245135960995485179958888770631437423828392465602527768389334894978637848290955633426649231861282619286896506094339582447914164204017434665805456642666594090118368710651115251523214829313255426799265293776617122371838759464579366924045183980292706501027541418890105368736982618819705429065607016775947421438420965101675904327370765071786483234809626050602054501836894410209223564330996381396887340041519551094040383636358191848655320192717137933810358149174055841822695059938338963522423831634499746313080680953128714251231472003409917529662942991483153615995246215711447723443414190224136168243879855058762006098730694331799768299793415069018778842214068854100498566602465325987922802918452869697771394525302059924406175662000859254004290551211633116427230445318495066215559591749270124617198346419437088217405740904110528782979675985830809654937737442590324507714233869486009441772223698810644846968047710087203655499854530920117222246484876363801214062578071984080300817058514024958381235955077507645338392539384908151314273620062971575049892235705624096405596628299517314384875453772970723841420154112340956551345020375343635836230372614009003643532457534335322637563430111948183921160687795948676323143931625013635842499770068849412069844168260737279280401915705907231627792676466387392902535224173114119549431227719704875358472545115127594551521145986960706538279606429919429702352172790009529286116265212972169959398749160201828199257947503792080075777915179468027974792487956223537665302566718668825149494062442270175892084178470148215876425426669269010671784065625349439435908238980165935051237400654910447456784486322829036359395074986952854539402425335859798249333205922647704512398389805006931398731926120940205140723171208231934172116275849187662197953766789003071394739083602904680953072051211968978566945066282115475741772302964235677544463825143115218283332942197719329151200390527707114556258035152265983510127870873805633694024781422823964350399277295571314744157962231839493644479816480898345476695770176758321693039852256910136320282430544726340110366046762532422001515314780004497977125630269154117856253420015524818478743441554689644640184507694408647557614915374566065543790652263922039819693330645489789699865763677366199435001656996813974126604203042621240520258272833430279098575495140567263443725189131488712251639608188235133*a_^7 + 1797234621224405665914555733514685835297176119980105292933237989658806061591962641324880281216063052661298232362108791303874494342415583224733629304380970629715052592411832743494212660353416276796220515828097343570829140784332888574528140157673222551065776425105794454597135966148705519428446553831563959696872873930963146735243130484842817613674988663727828818465176579008417192315297548042540653987349214087420385051523359249147701642449821758744613360602000857413980243510034718944278823668389058964965796160885114558347068383316782466576559551779115093164695116632264021836869437016650394015477800365828432416654957639595892439502710394896459767391108162449735537020088389360853221632594422797473246057046379670066591967215405775133696184052191793231832564189930212364339316866475432960713684961574350627780365225561730200610907074395672585591588626079880386992199035965927400360184833944174150161200028822452884696178933543107402142244581031445497642343529665087560112226775423568751772254676179932842679790433118423963299647646842475471457552176231525800148557792206344413639070625362696635637174381676307689152815321717807155855113727077943404786818985509431092287244228678036829435021459299082726816565707160850703980138615137222305712656247073825538074900842680392691699105199272146153607472974019795574952938726481214492446163110451611287106574821799338864059534798642606096041828091922062610861404317712047152102404196970875930493187504272138115361977287003593204554723975700317638837076438197170097489444820903932558233819151201738641829247547739574683476220037924710380251207643666271084563803973360662303037592798093592192441079133879170434529805936249634067618375153358762536818384375948140351035193519592470464803660076947031535562934900105685221699975989777180253272521980528053693557658413567029459913745824868541636624129032351031623324488884221787868473395797261932137068631532579979575516851326445983424767292487563460698703306957592869476501769155019758258764756522348050802624108781252648694408533100817186602873818758996731677392145078042574694359070732599407294677201938481170526648241126236238442633654926134297005666532657619454578846918363160053615855464255341142044694446245965239554750196336445083050371959438483711923631267164409354202808240430630064166332780070064667475624899032457651668821838195404168958240321845471820894501350272526333045136861486508680000499074*a_^6*b_ + 103172259158299354182094986815052339544694479555301336500008933282871182138493974012810373181678956825381762067758577803201084149457516161990790389867400523336079869061009435836586891100809333924666208168445446570009684877404540199432412945866684751179086317571271090298435560941142287900801668361878010911075962717565781699919551616565030032255524346239090068875048007667790187385810331853038201418247712318750958271583685694732719607600006460368523676410987811825853364108629231981933449199123600345443377041684271796800943440615287569547905452476947829657415859686269219056593912895827323447822981329842385549521650665531629011479614690795529928938544874265394072323837476769389049984716312806156791616708142229551576448528038189278506773575998021748680655543819905025010418717876262712127806943501038366523992137708782245629689544361804518402979122550571995435669428288268631511419556561654095556483118240293685371876454574864532785581845797133423551009974664611687103856817731016552331917664272660382453546788862217333327931134318794930560180684572475220208860312885321497555661858297159087073668787177073497766781752139872591850293261129903607637216776412390742473102851149047611162277368472039158550996886175920368956615400595377994731306482589591215091015096112742870159895388886798235928580672142965381268781121603591557503973754746734997541065862439439222243681433842669580754282364401517786461708265547777302682724515854455918342409759029133696717145476615227206792137033225978305130823826270455206255860190764598242375890056982524902608568082746398421558012092084544095658084754094134768643412809360353974146046565368983303851994289701703433814031526384330803981346237641688675745359476020986549831093004358710728324324951275931342695065811165468897863073267103490504330*a_^5*b_^2 + 789695823729864470452948603843753501009689485075808303592125555429319337034675809790144424620154907595621959979417862131761991852145428481678795097062268419719879334952955912224400812120599203294863693943749896461484227170879761685494297940583237165965239190721418255047991965418902765828977197415189527595951229237569397386781842809629742428365448237760642448844602507320017140429665376292644308927774573549052992180162567115491820762790934071667812386925440647263542877891225728305884328215936137506495708426460669815247647763548530269296876720889977605349194271136345816246997705038044011848259590657546887106839383467667530300691846269051879606681890061194106150570508841536843094457117635995091690996335182578117135621061912105155933927324197463804304407033203903914974684220096911157451247096509482191451574786626831257929674212993810110863463501894559742759071210908649682377751949460001640547978139776936573305963778134619398874601374838029973769410309906011423925541628441259282171308380266400757872407080295862305931109271524432118301638401336792080988408678087555789158685374415809174470360817467323720472778890189946792974187115299184955317347142501980*a_^4*b_^3 + 88401461634144037296879147554803158612194862314733473214063579799700821645443967600014118471800946312103264390314364590370567807638513506790523417373089710438748856589509335742244175048393764963834325180683719709504231663491491254792286536359921609615892408838988535016317642721741993850788310753172747701946291298593916386045851692402990821462695259406025750163463430296683790147309227774002079628076074219823643688617503476631397674467643853544034597057171235046058685358055035362111958111792142053958444427525412291933619932941691142798233036488184176601454432169911563024264485343189036973888319371575690022566382355150175358127448124944188243352049525796322090251005444595523976313749015422166966584229982900367657202230808125362088353235924537673880078091369228340417978524020115571623096524221946753807918733112129076805222677908957348062367868263145367289867758062857938430428647430834121386118773166133191323291126155268512756816096835121706671600746924429673954556761860488972217754569207996124524363379667735201185550904384732802034056218403261809270851439822587702307514038756589740517142787672903492135791565200905307615726209605335520661710569656069669531141003217909323645538935573202799532395395685634119411790345861406566803400834604803000405657797389070383195573876995437636805220856021107770430291029068733276507059777976733990457146182393014725708177994097980657325891163295403866131440628226411627250244233190439651381681675660172463275530860435155714446476782742546618649674246093485054351153589974325724114165221912211214002276567537534694616973717860044092634399803242936034121813145340806294631229647278188501433093042375608304483470462923674027775174097723087485048467079339951305965067826905765395366726211835461615282783000984918792426934787735896544083826857288727136319903498694535888508993839246419800770998354206924626165775854307348205565278152976545059261685495431654465202754498420746454046332118932780333001668377089374488483339460915107173613678764241989730132923931588844667558252917268508253064866959914260149743914351444599658933641671196552421671246975781700732315046514958553874728045992342333879682708570905614707821722909441628237265770505962725761536032094172454955263838248138712673303049024130661817654349354759158224582545195072683465207598769693421004194871416124258476688696058967156714708335447683334842338178628213691507060430102456784735167771258721655638634678143477353942303240111368373110159027411155940853040872352020360552770068401601716669090527458679474954291567889494064987107292870346165945893388550591538698374924562181705996010374391876898736818914195305734924851758718220581943756218426680812243646423088785608860821835926400063529610044843*a_^6 + 15224353685347054755703787820967791291001357744041519584745482775288231888548766313135705294722234419056898571724318361656991756846877915209332126142247850974182956018796319441795202613465952885681690721676045062607409620758873925281266652973149245944949028754783389963317421601130861021147844456014735499075295650872701703726896370586447966995655998748846555240714602316527647613687984487897581844701411035690077766478387847259563245975523585657174251536135852731511070792218351922097637193232465537227599027056513998233362043388006924039418920220850173349274052640565051920255180038086287189050483539409767029108655834387666347797156708880139511166299861985782801306158706213936679917711259290972636496588104908173615936358228382737918937133265504259971586967080835247178903763945383005981047820667061302087965467173041474705985872258077680474801405898449914565931346973501399040196284086334501646305297918404600042741190192610358437983000206610907254021987675305765738066858932507825850917103771851998987878929024330274400379388189987026810250653248401298780739752996653521779756149431576175607096361976951455027906392242763362399494926777062196724737779124005776200877124879034612713216778994960418694989402395308029627148623217073397750700343563203651146333623826120266832775318152006187708934418779786131881263558351173971720637700585269167902448410558584249199295817285459063679222721631197691494786570127304672927642359939186624776399997040337076688508901203652488294368293309325239931315598203401272618230450034939951010322077415318409098810279319067402302641845710537464848492879862214273576678003173274508885851724170196781123617827736278847989110695765847819133835222090604749952207428060344169446884840551359472380037729189561198717803658448232234707131301000224418526718964663796495227102109995372375450316639833338679405887671893370065922821900397722125126994994139034806698352947979389030586793923846753461356147495376279368342577080472681370739656171491326461690514834659055493427975603938660426129952745908083866896759309431457838157406717612403431998361333790069454044805*a_^5*b_ + 349588405518727684699279972280654886136222677752039531633867501534743404826588368757980086374338289234888051778122001240969805721595735348322042658633612959573574106826677427755057913354777396522197075726160601047522507708449759365231715993901674769043444367490625704566015144042694263423060470031451720696527114295598365077842775202262278438388480123666639253313107593755343706430251839779689512459134415593446392965540571295487044675528761259704073262385027689848484721349564128200137139463832541014502942826398045767499459998352344924207437407363118500789467366497678864394686791922345448276724254840576600605475605614274721048485535569217298772798523456364089224644674600982926045634566340218332386063349092378145212979006814970582611220103639448260227272986555526542453407395179273047393556995081527288717107138325234196083426681707791967794874878827283006303117885696415356567525796572839469540179380172650973703779876065667627376920593607899899821576080850841035546919504233000556230236238786158172552583935982829236613688275677904163463187707577402368450577158103101271736469699496203255034584109252541396788288577063765449093012992405985682495056343672498437766600652069371262169749742277416215208484746898646228282069414494518747844568770902293290057581406642815667484292397592444027617207503603394389379787104064059196240057257966990400212590448702737783244556923963626083308472435069014494877518660878869055133749166206284045496934611885252021987064206772244490*a_^4*b_^2 + 668950418733547067847106981278336812160354922426999206018410573504494415495533836929748855588068108060421551721614828036024496230954382821336376946577548220319573962411700057303448322602336002546555657325041504428575604628779990345716999978874771592765504365437849588645719643763073393686659887086087449552457300776492848293725488914102371287788310109452031788646681492832447304323494730077666505578330543227503304422954044695658147185909533370885910992030246917375167230453747080224383279514270152979630722677966817624920751517142242865897583741161133370481062441166105983341044002538139902379017231282381016048497041612207842482146943207635508620614950639022195077627561017075252210097297409988600478578898119512231929063053544254456345093007548437849026968151581965880825710001453988371029751079194058164055210262693538804295949264138743034976390923735*a_^3*b_^3 + 898617310612202832957277866757342917648588059990052646466618994829403030795981320662440140608031526330649116181054395651937247171207791612366814652190485314857526296205916371747106330176708138398110257914048671785414570392166444287264070078836611275532888212552897227298567983074352759714223276915781979848436436965481573367621565242421408806837494331863914409232588289504208596157648774021270326993674607043710192525761679624573850821224910879372306680301000428706990121755017359472139411834194529482482898080442557279173534191658391233288279775889557546582347558316132010918434718508325197007738900182914216208327478819797946219751355197448229883695554081224867768510044194680426610816297211398736623028523189835033295983607702887566848092026095896615916282094965106182169658433237716480356842480787175313890182612780865100305453537197836292795794313039940193496099517982963700180092416972087075080600014411226442348089466771553701071122290515722748821171764832543780056113387711784375886127338089966421339895216559211981649823823421237735728776088115762900074278896103172206819535312681348317818587190838153844576407660858903577927556863538971702393409492754715546143622114339018414717510729649541363408282853580425351990069307568611152856328123536912769037450421340196345849552599636073076803736487009897787476469363240607246223081555225805643553287410899669432029767399321303048020914045961031305430702158856023576051202098485437965246593752136069057680988643501796602277361987850158819418538219098585048744722410451966279116909575600869320914623773869787341738110018962355190125603821833135542281901986680331151518796399046796096220539566939585217264902968124817033809187576679381268409192187974070175517596759796235232401830038473515767781467450052842610849987994888590126636260990264026846778829206783514729956872912434270818312064516175515811662244442110893934236697898630966068534315766289989787758425663222991712383646243781730349351653478796434738250884577509879129382378261174025401312054390626324347204266550408593301436909379498365838696072539021287347179535366299703647338600969240585263324120563118119221316827463067148502833266328809727289423459181580026807927732127670571022347223122982619777375098168222541525185979719241855961815633582204677101404120215315032083166390035032333737812449516228825834410919097702084479120160922735910447250675136263166522568430743254340000249537*a_^5 + 68781506105532902788063324543368226363129653036867557666672622188580788092329316008540248787785971216921174711839051868800722766305010774660526926578267015557386579374006290557724594067206222616444138778963631046673123251603026799621608630577789834119390878380847393532290373960761525267201112241252007274050641811710521133279701077710020021503682897492726712583365338445193458257206887902025467612165141545833972181055790463155146405066670973579015784273991874550568909405752821321288966132749066896962251361122847864533962293743525046365270301651298553104943906457512812704395941930551548965215320886561590366347767110354419340986409793863686619292363249510262714882558317846259366656477541870771194411138761486367717632352025459519004515717332014499120437029213270016673612478584175141418537962334025577682661425139188163753126362907869678935319415033714663623779618858845754340946371041102730370988745493529123581250969716576355190387897198088949034006649776407791402571211820677701554611776181773588302364525908144888885287422879196620373453789714983480139240208590214331703774572198106058049112524784715665177854501426581727900195507419935738424811184274927161648735234099365074108184912314692772367331257450613579304410267063585329820870988393060810060676730741828580106596925924532157285720448095310254179187414402394371669315836497823331694043908292959481495787622561779720502854909601011857641138843698518201788483010569637278894939839352755797811430317743484804528091355483985536753882550846970137503906793843065494917260037988349935072378721830932281038674728056362730438723169396089845762275206240235982764031043579322202567996193134468955876021017589553869320897491761125783830239650680657699887395336239140485549549967517287561796710540776979265242048844735660336220*a_^4*b_ + 592271867797398352839711452882815125757267113806856227694094166571989502776006857342608318465116180696716469984563396598821493889109071361259096322796701314789909501214716934168300609090449402471147770457812422346113170378159821264120723455437427874473929393041063691285993974064177074371732898061392145696963421928177048040086382107222306821274086178320481836633451880490012855322249032219483231695830930161789744135121925336618865572093200553750859290194080485447657158418419296229413246161952103129871781319845502361435735822661397701972657540667483204011895703352259362185248278778533008886194692993160165330129537600750647725518884701788909705011417545895579612927881631152632320842838226996318768247251386933587851715796434078866950445493148097853228305274902927936231013165072683368088435322382111643588681089970123443447255659745357583147597626420919807069303408181487261783313962095001230410983604832702429979472833600964549155951031128522480327057732429508567944156221330944461628481285199800568404305310221896729448331953643324088726228801002594060741306508565666841869014030811856880852770613100492790354584167642460094730640336474388716488010356876485*a_^3*b_^2 + 5074784561782351585234595940322597097000452581347173194915160925096077296182922104378568431574078139685632857241439453885663918948959305069777375380749283658060985339598773147265067537821984295227230240558681687535803206919624641760422217657716415314983009584927796654439140533710287007049281485338245166358431883624233901242298790195482655665218666249615518413571534105509215871229328162632527281567137011896692588826129282419854415325174528552391417178711950910503690264072783974032545731077488512409199675685504666077787347796002308013139640073616724449758017546855017306751726679362095729683494513136589009702885278129222115932385569626713170388766620661927600435386235404645559972570419763657545498862701636057871978786076127579306312377755168086657195655693611749059634587981794335327015940222353767362655155724347158235328624086025893491600468632816638188643782324500466346732094695444833882101765972801533347580396730870119479327666735536969084673995891768588579355619644169275283639034590617332995959643008110091466793129396662342270083551082800432926913250998884507259918716477192058535698787325650485009302130747587787466498308925687398908245926374668592066959041626344870904405592998320139564996467465102676542382874405691132583566781187734550382111207942040088944258439384002062569644806259928710627087852783724657240212566861756389300816136852861416399765272428486354559740907210399230498262190042434890975880786646395541592133332346779025562836300401217496098122764436441746643771866067800424206076816678313317003440692471772803032936759773022467434213948570179154949497626620738091192226001057758169628617241390065593707872609245426282663036898588615939711278407363534916650735809353448056482294946850453157460012576396520399572601219482744078235710433666741472842239654887932165075700703331790791816772213277779559801962557297790021974273966799240708375664998046344935566117649326463010195597974615584487118715831792093122780859026824227123579885390497108820563504944886351831142658534646220142043317581969361288965586436477152612719135572537467810666120444596689818014935*a_^4 + 174794202759363842349639986140327443068111338876019765816933750767371702413294184378990043187169144617444025889061000620484902860797867674161021329316806479786787053413338713877528956677388698261098537863080300523761253854224879682615857996950837384521722183745312852283007572021347131711530235015725860348263557147799182538921387601131139219194240061833319626656553796877671853215125919889844756229567207796723196482770285647743522337764380629852036631192513844924242360674782064100068569731916270507251471413199022883749729999176172462103718703681559250394733683248839432197343395961172724138362127420288300302737802807137360524242767784608649386399261728182044612322337300491463022817283170109166193031674546189072606489503407485291305610051819724130113636493277763271226703697589636523696778497540763644358553569162617098041713340853895983897437439413641503151558942848207678283762898286419734770089690086325486851889938032833813688460296803949949910788040425420517773459752116500278115118119393079086276291967991414618306844137838952081731593853788701184225288579051550635868234849748101627517292054626270698394144288531882724546506496202992841247528171836249218883300326034685631084874871138708107604242373449323114141034707247259373922284385451146645028790703321407833742146198796222013808603751801697194689893552032029598120028628983495200106295224351368891622278461981813041654236217534507247438759330439434527566874583103142022748467305942626010993532103386122245*a_^3*b_ + 401370251240128240708264188767002087296212953456199523611046344102696649297320302157849313352840864836252931032968896821614697738572629692801826167946528932191744377447020034382068993561401601527933394395024902657145362777267994207430199987324862955659302619262709753187431786257844036211995932251652469731474380465895708976235293348461422772672986065671219073188008895699468382594096838046599903346998325936501982653772426817394888311545720022531546595218148150425100338272248248134629967708562091787778433606780090574952450910285345719538550244696680022288637464699663590004626401522883941427410338769428609629098224967324705489288165924581305172368970383413317046576536610245151326058378445993160287147338871707339157437832126552673807055804529062709416180890949179528495426000872393022617850647516434898433126157616123282577569558483245820985834554241*a_^2*b_^2 + 17195376526383225697015831135842056590782413259216889416668155547145197023082329002135062196946492804230293677959762967200180691576252693665131731644566753889346644843501572639431148516801555654111034694740907761668280812900756699905402157644447458529847719595211848383072593490190381316800278060313001818512660452927630283319925269427505005375920724373181678145841334611298364564301721975506366903041285386458493045263947615788786601266667743394753946068497968637642227351438205330322241533187266724240562840280711966133490573435881261591317575412824638276235976614378203176098985482637887241303830221640397591586941777588604835246602448465921654823090812377565678720639579461564841664119385467692798602784690371591929408088006364879751128929333003624780109257303317504168403119646043785354634490583506394420665356284797040938281590726967419733829853758428665905944904714711438585236592760275682592747186373382280895312742429144088797596974299522237258501662444101947850642802955169425388652944045443397075591131477036222221321855719799155093363447428745870034810052147553582925943643049526514512278131196178916294463625356645431975048876854983934606202796068731790412183808524841268527046228078673193091832814362653394826102566765896332455217747098265202515169182685457145026649231481133039321430112023827563544796853600598592917328959124455832923510977073239870373946905640444930125713727400252964410284710924629550447120752642409319723734959838188949452857579435871201132022838870996384188470637711742534375976698460766373729315009497087483768094680457733070259668682014090682609680792349022461440568801560058995691007760894830550641999048283617238969005254397388467330224372940281445957559912670164424971848834059785121387387491879321890449177635194244816310512211183915084055*a_^3 + 236908747118959341135884581153126050302906845522742491077637666628795801110402742937043327386046472278686587993825358639528597555643628544503638529118680525915963800485886773667320243636179760988459108183124968938445268151263928505648289382174971149789571757216425476514397589625670829748693159224556858278785368771270819216034552842888922728509634471328192734653380752196005142128899612887793292678332372064715897654048770134647546228837280221500343716077632194179062863367367718491765298464780841251948712527938200944574294329064559080789063016266993281604758281340903744874099311511413203554477877197264066132051815040300259090207553880715563882004567018358231845171152652461052928337135290798527507298900554773435140686318573631546780178197259239141291322109961171174492405266029073347235374128952844657435472435988049377378902263898143033259039050568367922827721363272594904713325584838000492164393441933080971991789133440385819662380412451408992130823092971803427177662488532377784651392514079920227361722124088758691779332781457329635490491520401037624296522603426266736747605612324742752341108245240197116141833667056984037892256134589755486595204142750594*a_^2*b_ + 34958840551872768469927997228065488613622267775203953163386750153474340482658836875798008637433828923488805177812200124096980572159573534832204265863361295957357410682667742775505791335477739652219707572616060104752250770844975936523171599390167476904344436749062570456601514404269426342306047003145172069652711429559836507784277520226227843838848012366663925331310759375534370643025183977968951245913441559344639296554057129548704467552876125970407326238502768984848472134956412820013713946383254101450294282639804576749945999835234492420743740736311850078946736649767886439468679192234544827672425484057660060547560561427472104848553556921729877279852345636408922464467460098292604563456634021833238606334909237814521297900681497058261122010363944826022727298655552654245340739517927304739355699508152728871710713832523419608342668170779196779487487882728300630311788569641535656752579657283946954017938017265097370377987606566762737692059360789989982157608085084103554691950423300055623023623878615817255258393598282923661368827567790416346318770757740236845057715810310127173646969949620325503458410925254139678828857706376544909301299240598568249505634367249843776660065206937126216974974227741621520848474689864622828206941449451874784456877090229329005758140664281566748429239759244402761720750360339438937978710406405919624005725796699040021259044870273778324455692396362608330847243506901449487751866087886905513374916620628404549693461188525202198706420677224449*a_^2 + 133790083746709413569421396255667362432070984485399841203682114700898883099106767385949771117613621612084310344322965607204899246190876564267275389315509644063914792482340011460689664520467200509311131465008300885715120925755998069143399995774954318553100873087569917729143928752614678737331977417217489910491460155298569658745097782820474257557662021890406357729336298566489460864698946015533301115666108645500660884590808939131629437181906674177182198406049383475033446090749416044876655902854030595926144535593363524984150303428448573179516748232226674096212488233221196668208800507627980475803446256476203209699408322441568496429388641527101724122990127804439015525512203415050442019459481997720095715779623902446385812610708850891269018601509687569805393630316393176165142000290797674205950215838811632811042052538707760859189852827748606995278184747*a_*b_ + 39484791186493223522647430192187675050484474253790415179606277771465966851733790489507221231007745379781097998970893106588099592607271424083939754853113420985993966747647795611220040606029960164743184697187494823074211358543988084274714897029161858298261959536070912752399598270945138291448859870759476379797561461878469869339092140481487121418272411888032122442230125366000857021483268814632215446388728677452649609008128355774591038139546703583390619346272032363177143894561286415294216410796806875324785421323033490762382388177426513464843836044498880267459713556817290812349885251902200592412979532877344355341969173383376515034592313452593980334094503059705307528525442076842154722855881799754584549816759128905856781053095605257796696366209873190215220351660195195748734211004845557872562354825474109572578739331341562896483710649690505543173175094727987137953560545432484118887597473000082027398906988846828665298188906730969943730068741901498688470515495300571196277081422062964108565419013320037893620354014793115296555463576221605915081920066839604049420433904377789457934268720790458723518040873366186023638944509497339648709355764959247765867357125099*a_ + 19112869106672773367060199465095337490295854926485691600526016385842697585586681055135681588230517373154901477760423658172128463741553794895325055616501377723416398926048573065812809217209600072758733066429757269387874417965142581306199999396422045507585839012509988247020561250373525533904568202459641415784494307899795665535013968974353465365380288841486622532762328366641351552099849430790471587952301235071522983512972705590232776740272382025311742629435626210719063727249916577839522271836290085132306362227623360712021471918349796168502392604603810585173212604745885238315542929661140067971920893782314744242772617491652642347055520218157389160427161114919859360787457630721491717065640285388585102254231986063769401801529835841609859800215669652829341947188056168023591714327256810600850030834115947544434578934101108694169978975392658142182597821\n",
      "\n",
      "P2= 20796105317920902864124451174349611197425857568888462787087899912956985125852511882144840337662566975874695872771864924106056687078009193575691628887394970678092490233669887029860707528744071391763114284125356142154357153815937930706071630169131050184412118998187811339562047751716728830333345642832800117759599113845393757421707457023119984533788870959366470833975122834043482956144460350788148295790672150820586944531505071195883588820814026589897551268264381968138036907173920333380965122060831401840691803233085662351491896389770698023090159579781637910223857860690916943894646375779019773736627323599244971960433737830440802250618519521844588237452309208874732022281384911675192821251433432299482816343415592490972133271609099572282213538166718714912619474434085408777308667645060291308873933294760230262116726303633599332966780494449537512660263967291641230905633208446434204231156093723154639308682177008764148980313903419666617079007692089961946994035300717438914800113123862856009317807843111742803233100041519652552427743264357839929817654671807915651890135311986916150286804930402434306385400855311999021622873680161325143025404517726296855664167483086278774031694743355281760009652333023403475265752259711710120764255574692524423242030759151242655166205191053729788697070820136098357664552883945195194165691292737264675902813168456834307303497835383473148684398769294888341941376316700906023048606032487896816149327957383833046723092712653429502468815101024094812899116239279708453423432235831680392014016952907074845333077837279023800481963344430386880583586235440160664365592897159767720179603668409966793500286496888412905253567919945668316470676081913940911468528570752351104047275586904433788691027211408412462027443504882297112401065698621909212817328267963040350138223734367358490388627574177062352008390696975886187882892905583148162103902272895014723853764624919234550464136314916157425925093154895376460656903185810998374285791812571932970563470410428329186827665613337815499840443012493285039245687841898434310787883583665936178452710652548448753862120155546285891150734272510541317311221018637922993872442086376698221204316046857730282078073583069543419576016175173684442953272547640161207813977857689153783186534445788089187680485632486021029903269403097319507277162142053669533394730152245173000981317961573799657856551631943153047614410752208837880894601435453879159724190986074688385718998829382316323031188343455265198102439101420817235552120499781940900450272697821686583322181227528818978230194021280217108471772534101554250214853070103453853065123066202972374104944921875*a_^3*b_^4 + 6684334042065713300193367353666760486072737658858000159434687774403264731680442919818207032249014562314051690800258572408248102789569613031875766860000283336498805197004802734133841731565889483818960205915855861257040194996142389486137746454629619672231455588580634075682165752727359559057160462464620938637109681366574966285820452325340013220443723157791967609382740161805625680833311005669804551730250197318662664501457031726383891483204632037411024231016810886923856094842157097509785797609101093356402362638427629587435370473899864813798635018680446932104715966470549136380741846341959542669280334473229875341223606684583428768735474845420677687979371707317122659674144142196287257863096933836215289214135568920536144737488494525608780673031205955917015456184342689691600694365331313257341584004616084582027471923941287517685049750816859164548292671025310885056331691586251431200671414164917239426160209443768658328435593696061226791914607376541905342814477532143070277996394190362259049441638870289909473819039707084534893074100021615820648466186193157473273242551963302715078266485532892905965477617776629408746779291592710460437188908583821330416599702337834593020029983844554066384972690338417308032325166528214078294178650891337255007674646028981793433867830120149863012153829823263187125742884986911709370267119832461567974450445790689483287878580121866180891657469388506475881971513122294108510943191901161996688575131753875525354121322664167343906483627066292220464961539570182602981764344001595303206136350357270014416339133229789502770886632949256986017319239477053727574737504773936381787272292823118274102913405411043001496720370798584384765075135967500915295868198482308069887372261363925827640510412569463739553780160014021801652318656018821979613143003309364390107537583986184409335119617773381227790975170943649665407612115905850958829581917287417658951260373990092373295885286091434773812468734544947656703858390491404843222391080167247863455883760908009037046455895659417092044807585879631448135647279102147290901031366631919075431113401665815100249511018652413394734406179985272111704496114068667380025774215889566339907236159543456461060405899065978118227982191255113475953890421693684862927704465050426776780371397630076899263601971865420122137997738013847668024128265640452404820612122443486191160512475627401047563744458508315787602303072859609982754696918275155763025695986882654447227037357385906163972726641112447078397488049569042124146932545515862179918991001106485095574036915200419276655102876571575953969396582488420116156588630620403998569131945798732075021263095125973906353979931875637237979141066827788601847901998432544332511477967837916166324651601138011897523417475186739487024964626901482898680647747230227295328557816902800785865093375737262523878185935896721828175376033812133090670900012815381430052587873199990925433331146978881059140189587459464078175781241406250*a_^3*b_^3 - 103271660991448394419370707632814040121578238509920336107431505131071669164459189939076600953037751387235145045963317990605250975029651309563790798871453705981160469732837364167207679638021167161872623962499268113223611083344432280521790556660515645834869316248861634855040347239908888809285179570882380313417928593333753306638618678733185920947509206620077311356261629963652216361553525400836641608623566224933575554361259184377502484053965450703305397259466963251961966954997951629922707290694901213653554056916261755199707695260500416708699580357881335250771494132897383864007768534808417586397302168082515833283494205901956503054149581678638508738996570496065571166164137956614511599302945813665969357312198059926077664608388727674720014927681942664483102909675388862290628440115887600308542522189560767220883818470438599924729217458804810528252180290331739297951902967693093352347702874337709056602020684693099159939940759826889899966762411031865658588391301880646529434672514688423301993031722472517832267349140358261218781061062260654711132857608418566192177419705881815517115985917287262641856796205058454385053222227403627273932678256784087811158115424885541497322742322416069959268573196607374282846313262502166398091437177885156203638169184444653138847774777230094167884854716488930136509445894692273513893478463633762005530551245496376876370352163149371209715370419047409696121024604045874087685317124219177933355537822968161723713187973329411611408449932067604497888731663828174437733221504812655909358471652962010679026864782480505255636172184325227305898588084618236155490881308771898825216727074564106592796046050297908540526759212554375590334051491286833738943261368912796735988540274973069090907235058565172738478229817073494108158253280045456618788032752160247145870304043592725098360893251238164503838226471486622558673992848926220692873567521892075334103141557719883206388150462198738970255762289958539111638021687465619449381871778294780615779976424859683714570542034003648051773270017435776951575674986524217993574732777421973666052522232041814502328910851141513264063458855491747837896216842171775417965171764469007666977488686073234749942243335190601893265704176411806239107016042842702220063528962975124848194397935022086009258580630429526969820566654854680742875518825288033572570140029871085901011723571001685557273827501049975595906023651999582842533020298245620663573451181695148708677779138181139695560245436448255912740756528829127876025455489402208407513402888343026813775712497174177182093795798985527468826599622367034901799550402772581650980852794462610471089975269119903231586193600773887520006622833747713364562880772813374998660483496716386722001615000148579034824036993814294462266142974918377303450318069521716479874429884599654217486015288833591045662541037186532790750694156236894297857114645820724009840086142391565695791234167011574743248507439564727420426844934755424998095907327613477937886190017867395705983067895722032037425325173536908935674413020392925546486042862245208686807411513255682506188511286969717571066202945411673874038487153422756056907973134649849925850922154895030248523134232946420339685076354620570937471677113321122757253258609148443780688746739453125*a_^3*b_^2 + 62388315953762708592373353523048833592277572706665388361263699738870955377557535646434521012987700927624087618315594772318170061234027580727074886662184912034277470701009661089582122586232214175289342852376068426463071461447813792118214890507393150553236356994563434018686143255150186491000036928498400353278797341536181272265122371069359953601366612878099412501925368502130448868433381052364444887372016452461760833594515213587650766462442079769692653804793145904414110721521761000142895366182494205522075409699256987054475689169312094069270478739344913730671573582072750831683939127337059321209881970797734915881301213491322406751855558565533764712356927626624196066844154735025578463754300296898448449030246777472916399814827298716846640614500156144737858423302256226331926002935180873926621799884280690786350178910900797998900341483348612537980791901874923692716899625339302612693468281169463917926046531026292446940941710258999851237023076269885840982105902152316744400339371588568027953423529335228409699300124558957657283229793073519789452964015423746955670405935960748450860414791207302919156202565935997064868621040483975429076213553178890566992502449258836322095084230065845280028956999070210425797256779135130362292766724077573269726092277453727965498615573161189366091212460408295072993658651835585582497073878211794027708439505370502921910493506150419446053196307884665025824128950102718069145818097463690448447983872151499140169278137960288507406445303072284438697348717839125360270296707495041176042050858721224535999233511837071401445890033291160641750758706320481993096778691479303160538811005229900380500859490665238715760703759837004949412028245741822734405585712257053312141826760713301366073081634225237386082330514646891337203197095865727638451984803889121050414671203102075471165882722531187056025172090927658563648678716749444486311706818685044171561293874757703651392408944748472277775279464686129381970709557432995122857375437715798911690411231284987560482996840013446499521329037479855117737063525695302932363650750997808535358131957645346261586360466638857673452202817531623951933663055913768981617326259130094663612948140573190846234220749208630258728048525521053328859817642920483623441933573067461349559603337364267563041456897458063089709808209291958521831486426161008600184190456735519002943953884721398973569654895829459142843232256626513642683804306361637479172572958224065157156996488146948969093565030365795594307317304262451706656361499345822701350818093465059749966543682586456934690582063840651325415317602304662750644559210310361559195369198608917122314834765625*a_^2*b_^3 + 582924849339377850589408845178906764524040663120158277747208784684252711991170458094754097933127425375149403921166080423999555036195859418999998491418428615863801671073187769811084974531297653732176145811563655846453223703421510128957408951548091654716881161616367149296553264519977117459392819340826566714573620390652079963230290467250353598687215513296418019627454176325261777230707632382326533371711814649076495281754149885022436253773338246944287579417613506634854190324579173804983202983774108788434922458434134652031785613760116266525593680725971329559233351792466344114794187549056301517787147898058690466055922001222433777774707260171852603341698982630424406539167053116361085216665798113555870045580903953788193359561006404339163636825634740460086067181322591132291259562557313775299716066162775126668298715150355795526850481442422939587467986606636707066217661046102117019465296711216765887164556809048108661737415218361000775107909309642767504280416860170915115914770304581668911269180553893560966485562772987690458858721454367007925721199757920015815290622660388495086156516114630250493548038366174887028718283143908028541561481137498706698893727647486122151360111726069119032846612323182983276353020818554522556797743259880910103951264218845867117859834294611001644150180300296175100283196087474318658521075718235805475906618175705449599546579590348922192608911675377890404315338128962460436080888042287267670919729516327022488792641686429455427049074294284345571905814943404000519631385268332828279703206670513312798526932160497096014714746437329035792641013108166420650420018423871920532323843209782471534371910209926709688138519600334425031622072930861981307265716286066136891709170622779029986901126492837749099122809738696128024239208830347116896478722620218810309685662393166460497028530573971828645287155190122123735638946162199244615560356669801559277172439258315314511286344931327829731204005412150915870229909759005606764610976994908422406683743153691803414816447790029231234201812507669855907419546580718918846594849765557004674127561593401260159815139132603012126428262792916106445343694625485213839453217030348370433320242734682732242599868696808668119525520892914778990885283426364876534747075806034012012314075812339307706615214353042591641299018210847405024483949777028882478569624095808404231798137590154876953289550320223694321403663649224304606525261785035799619309324203145469569021731687650024924404499002485167058131648405514584623098578815788945708091463851586687370267480248296146438048445224564569402312666961512951695148129007805348898959102904836075380750870235571757629256899556423994483081323158056163824961672303452329044215036472417301081425875553361845615196945603400298831497931949461414891393995388149846619015497682013584786706433467909220918890543177043442347836361404647195618500206457190745808127618480296213264874330158666639505939459272419044428415217866041164674871507797613755643808408719347715433149403338587057671636025194041536498867026673144726393067728163967481928568419601433388184805644479017396840520355417911440698141799987145108330264263892138364977910294105240128869290405834777636124821009174469575195775032880980155405075946810216551358085724068119891215572267529558721838004286146726478017465389169545678951095830464320727469386801346147472542915278092004992526513280609860730897546520247571944812337063133974663682431856101001869769853247816349045185878036886153510736504832668976476455821300778327252473493917234040854749954446933652025895412488589843750*a_^3*b_ - 361389298008596220547166766075331284186333973051404699835276408481417779031357065745789066091450368352402172529825303004467318209957914286434127564499464780065428542938209336846449492295878195097383341508987052330069344648735693725164982834250762000979265293139352021532934073126787415526460793833508640779059620174681490789422970126108839184539972808723568905494803862320013234527122046444642618942991322664645689992465862630216956375113701006102090975635484654366714065616602740657247879949897021930419948280130204770015270243188489776450886638459203597892540015101416552965800522426001309841730534341230504635325088744406513635441917750074610700548251210446840055020280278447600388592405745645735228616093412013283132566172662902779487965124133571434797749093454621548676445625364008643208982675977708203633637463318580781649957115970592333432992907728551523538908687200904658522193034331297425797725714967074875332044823542651247184460316682868700405304871792975944400344633932458431567991313986547289778389647175297375745229840122000103698109033285659453103661283863522352104867252261225231543300943138789973244017748120766930730802327507006624169637608873154057043121838786391612931551272360626851158365554859656233906466487905069329788120361600632396182051372872266679822933668204439285785095135604005178432006478909180082024278885153904767655301249219403985294769730264821086555683742024609022289293760294547543448305850617626233506929746177302344748325419492465394727674982449888438762979663468320221434827408216681551587897559073180181064139599854403563726842093395250193900724788636722684366020890025164333920185304907028662908769920563670138375528145613645994255234311772752876549845855456434067836163184434174926021892092305195468016022715089699886824523469747484894085851647243041648434432372316436116297054845169561971552881607333246884451825245428333761729589036921122482016473334298389936172109121704662686568391389308258638044733942630801489005141012002114065487466112227099969234944255837102473550636376577414816303135933761264969873491839894535644230631554937178056679374124414917164361344625733314601017909023233623810190019995011435902886035193393606936090865854995489199833063172614837621359790522557883323259424618215401108916326856374727462446790079090588799335266540976788490984482466182679610883322924119646020005558338402175240744550455753603132767561301522435646074483032726410191513536565052692242656225029235616257358034372041164714532093176183413635259558961110350629474340213826870254637256078510331236747114534786064529202783354845837836319833519467490552661187910818183501573456623730419181998329585403709928671073147560051614726928905136623790718974687068462118156384554368731545312937248605558175088443635123361013238046960278878824813133328276768579005799469380134046805301596189522635946473632021144147140514696718712763050001687713808937117489810897469912601882058736529856295177449648795733604773308291025089236360478809862254376675385347097170168268073222904250343286645022434144356259042941213265454096392461106810656671638171892672651099475880866942951342455552304196450774242194404275162077125399241199376661819278070701327131263540842631767217837654422345525985131979235599721672167728127507943176357204496178624727742713102853487043694934132938396005260586971750945233229293063012252394055932629189333446685768975074238322980136718750*a_^2*b_^2 - 2643442268336225168229378974856011013295476542892658683515282638755951911053455793999349454626872121078813081428233629543933873502541101606113335111470776343359871184500273874119556033668982931945571450154778787189798414964718896911970087999290596246324036172175451041449453991080625931716949379620019875553219113719908933493017052360188170118001680554037878876582626303633398599058493742485901175128514729345388441236150587167442883861901183431645808065388084219571483226270622853473997071506838371958193653967056657441156959911550697537296726856899256081817855180455374427391660984584315642360891085804756684763466493685282284710698353465042961508796417860354918942574171979098205165996688734648897247826298011525664879561443637209684515182698698905228682954655247083570140545453633653200340630340595770362943991032958507857954713286290971763043877619581092240096345341678737212760602867709396997274653244799305770793616849318931839680314475922925597762906058281038682231479933044234219958817168548385777900169140169172142596074843281693692741913502099266902285174487147346834392024558683839420750918766936544732158294137081091305831452628918526088473372818753467186172364054142367540409042262393550281993451383192764693925084279493169376503658422956999701304779418844752642416771036850716442122188712998479898339635493616506371852712065102694358920458250630276653045774881733489576946830839746252694995729886513996247268920875269616980995478472824419927992676642928552858334232762914240985625350140074580834837154281074178222850101302817196938858355340910351897918105565685494386704391534118253078585573481179132577748273338577422788440816248727998722276918159326121752390389464800291739133548297049042587290804034242152252890692153081499176061108248651708897924270356103169743227924530820936237872723415483054042326777349670222279804115504252981835879861993830399554002395561665811823045128720762577648865407766644630188984609381580230766514758714080191932721782629290015120875979220975600258248117138825961556534877859728976646550928990610444090547474042053392530153669927314863618968834716074809254732965990928602318815397944272495085274357101822070989159724798955993336236725723191263337846448045604887784065087553464156060019032050238297175334057888074845518460326438625732416107150801135175054652104883091130091526363977556742762156480793271502982369785502736917181301446662983714692627122843840979179305430102918154297311280692037419172544416343214587425163604012787234764337566170140000335574909053799569024935251998746130143253601010805857088127483483081826073915473071530057015004219253179365763092785557424034389031317635139385796625208663729357969948808889580571722774594982709784029122587807576197293306271078348330649613730168686366189263422358542647810485794198320208107992213326369889048921489392233091276444318356299817521124169482086888318432707235941587314521962225908023338781913640920511315938072267015296083745050940321277476018284180175838497764582931912467586921323252053932056542531738000683790537834624755609764173118264937530001835189049029093463001783094863204010601091902456549381484565320961323757641674933461504011906682361346661446098003081444107952847877703331999211819137190954679090089255021435610320551179199081629511335525340537749387292830208448718712535387119782958299531570070839231466617785924327988302361084838708970979438394598534640080910006957748470817500596788130007762185773691012041853769507774569199090056425427118561784392030211311503084895309810773116571576824862133492806170548609745334462899325103314545622517837181928616924222059810426229247383358364519642108131198820441559698561571146618297087794134973884601144075905508463951705209920665086837908961255792794182990249920432955088264039088084747413585269866868675129453316458763971670150098611038549389965835801275743359375*a_^3 - 104419730104485826586448862480938669439665925354640087272745223177837301521536928165882378886852575283798268936749349689391544571705935787865278554794745965709189850797721367730141444056405014300312504238709898909652824374627923059097158877191526882434033594148573946911591499274348219315175954144719242906465000326024546467069624460379130470190841849176701041979328435880631298257478197892722504909572015601756277738734498118019592284441497555215369747588513815278566569288101383648763551813313341546407078704725907467821260923800316582701293393530510630881500303777549898646392058011359554355109157826344168587057002496019844174705967995794517121906812681865972250438935478390971053926617732902371658611592092470030361346907432554502568013340570877796135394702480306728011069505285489641320767796030286633269974673175902255641465859581955159589833446926963392613115696357713783157149623827853220931582080557572721802316935428892438163024307068504838460473275476998854191009228699572906084051958492916358201168930886286195230552508215450141019114902984112013054147855787379967104725034543279077355122872154706384337668181822698292660161697821353201871118867642090921318690666934634444356493256558240501310434181813145386409405441222872644944493276056201149295126745709747390591714824497952553917002455642375000423888686855895671418260528810854704364620668027750548848638709183659856143634791989606152664479832704150119489064515480243801881357033173389957217264687747557681346855240224296967450532065720745289364721115137367740527604495096995749355561659566842709827015060433939238753840005840187241155293629464082455990536951659993346454235063453269384763828862616665316964037290033470005910766806555553836882488626311273043625807994598308677919687998357166794565991951359908316266616350771941204741883932838980956275255700687066511298046463899689714322429527820508539313524706478212430597853248362423087029549295452511697759403791321211344211019650598933790888004306783455587634042462137546818595253014504087195488495235523396263493840214721542943907489901443896315128769737663626126318387614286994396178604382433392919874617415850091463122462407004496577780193170670225105766101069568406022819390045992136957130090726570722357297022335914650525693981729322559894819211273947992588875193392929839370924917587945304707945835519257590425858003551452954082034748748703104825134448965729922993192802595739403709353838178747505434601621314911514649124834574948422602242590084642695372472380112654998092233599941646882141509699150646692844895924563814634962880214605460746899065544735868977144436943654026633840386347478629175064056939512953085482688318687647038940786001529508014078463023696578193249048199684701626502495643276423607798355271596306900020028185359581733395761763242687529677775540611958967547070238745690876036200366397666045671137387706081735286177123813159596358575921930827765332663524559682481651126368504958414293494630223362019996327291628484704744488406751835042029362070711474148390390508769530402690518675517133340065380046480428868031941221187718221131303280467258358678836939542330561964125808181305201377633098343472530284983532495613336499325872036575855981868482760613845853054295739808945580623587600129921007938564085032645713136294555996882999859659429088308090069558372500184080270972087111336368736186613742640108792900651778728120382214284135758622667894528798512019997698571099171986895446852916429385610442271623485811105746391490962996101959437867335071396200336965917001136251207295826318674116326452865475012764823841715957300266083920074786684213626038126344131493321790995360666797082811886602376136253376865932332572812171139149147774420232591406250*a_^2*b_ + 62388315953762708592373353523048833592277572706665388361263699738870955377557535646434521012987700927624087618315594772318170061234027580727074886662184912034277470701009661089582122586232214175289342852376068426463071461447813792118214890507393150553236356994563434018686143255150186491000036928498400353278797341536181272265122371069359953601366612878099412501925368502130448868433381052364444887372016452461760833594515213587650766462442079769692653804793145904414110721521761000142895366182494205522075409699256987054475689169312094069270478739344913730671573582072750831683939127337059321209881970797734915881301213491322406751855558565533764712356927626624196066844154735025578463754300296898448449030246777472916399814827298716846640614500156144737858423302256226331926002935180873926621799884280690786350178910900797998900341483348612537980791901874923692716899625339302612693468281169463917926046531026292446940941710258999851237023076269885840982105902152316744400339371588568027953423529335228409699300124558957657283229793073519789452964015423746955670405935960748450860414791207302919156202565935997064868621040483975429076213553178890566992502449258836322095084230065845280028956999070210425797256779135130362292766724077573269726092277453727965498615573161189366091212460408295072993658651835585582497073878211794027708439505370502921910493506150419446053196307884665025824128950102718069145818097463690448447983872151499140169278137960288507406445303072284438697348717839125360270296707495041176042050858721224535999233511837071401445890033291160641750758706320481993096778691479303160538811005229900380500859490665238715760703759837004949412028245741822734405585712257053312141826760713301366073081634225237386082330514646891337203197095865727638451984803889121050414671203102075471165882722531187056025172090927658563648678716749444486311706818685044171561293874757703651392408944748472277775279464686129381970709557432995122857375437715798911690411231284987560482996840013446499521329037479855117737063525695302932363650750997808535358131957645346261586360466638857673452202817531623951933663055913768981617326259130094663612948140573190846234220749208630258728048525521053328859817642920483623441933573067461349559603337364267563041456897458063089709808209291958521831486426161008600184190456735519002943953884721398973569654895829459142843232256626513642683804306361637479172572958224065157156996488146948969093565030365795594307317304262451706656361499345822701350818093465059749966543682586456934690582063840651325415317602304662750644559210310361559195369198608917122314834765625*a_*b_^2 + 659682995042222234254711418615891763060017534007499351446128977731104274964690241213142777747435220680440835376482938968269632197889819195363699719040498862533468695573321861424959523828214922229254799353640766791641912386520747301011589265430725169881122366212812820169377887320631605835246073471897924955227965323209538780283560486784339273800621727179093628763436976640289546181498038052874488168585612101582083779509217540825455475248108215537977171401234485023481084972512536556600732990905654678467367764135342012155453003281031180817931460249131738156838336116570124064638305116812245904032796656211338097209599648520336837928485509685938513227564442984989412388149061812048799448373759548671979092148905566057677583834765773940273967137241038239448587203221061376749952368230814314586769908010486749705241452309939889762030622561658323471922106986215231423665847032246064091954526458597360873218094841329971375510199273992779252519178640440567438366455916219592511053417073635466038074231132758384104095023138252135330971754296234360196012432856048654201488225804159461868580020400491524746328115081875702566983625806837037584512582945336209677833904038759797195824377936734047817554186843786744580023183470372217823039325910808392251554474802124812077718282703780428852892950531264400196967936304554149994038385067918035375459639047594630991698744142832803053538498233305050513593556716964106867468176308565458098159979919052843501536726476626633165206883504074779605087501267012746322569268236036993311495097032434720246950122422291784443166189984121256539863726213507613456735179186670192856870809326361142275284686027797612366475203618821309707114084278720783701416722356416113776502347735646263215676310240949340832433344382014911538808045577451910258595769870460376756407380227815164021345083881733149413842467281537020131013348941061758126522690850615183619167170381647198339501833831965732093570718237585110648827327593694739851707077260734031026410428235325514557327910841233423602217272455080513002875487051947848722261493179911926285397335910340622824616578165227594840560492377137378593788780950401138846408719768364326332137961472717580495288415158658325909969689038837280373975931061293781821258549563273381030463129611372422176690239933019428389606285203243958831025381219969338053243938711902913303447163739450198879400858730104011829682866337016967556808751641504785680926449321536549628973452100668668870804303978764086458986444303685755577376152754701226852100993936027464939366652461566868819677085677156182586824646899509394835847713827406214361428966214419282901997634008977672496951416552828362394857980317892581379439019129847484550993280835590396487279659727130414486928187604123365073043339244488849128724833741636046179450249996586674663650364849790920786798733356683778383483522326190496905374277546359861017618044091477932412791853689438116402053251041119133555676634254493650619160418264563070193298647815590889018084468154616674858353682979316526152253908359283268837885390976459992984617538755217134795275576232793857979459837193210894555562532147716321436349300000444952618647102867450508038042061968098900000627532217605654813394293466146967070318135408434523433623025877522560172629504090987545747323092317985618718371659917452724697504284429217923109019625915058589443996239231607425942230179002514568917256734184861393845500412240809468404578443125501541398240242484462679195990181292094111657718868187267079972372292183921311889224588579470563439372439397927192266238587312329458479955389353306788435191905442091955014651214269385779057503627796476316455922205137670820386721510795115794738870662411611689049202048785814801068607433165216061279573520023410850271492657768525332798189976979667744757173707051457825343780209068565277798824913576898897926236232420561868827183388642361332226766158585286245847418872516629184419694989022111914680758871766796806874317425961179218261914986127943540428689757812591893342565965733557084901292734426307812500*a_^2 - 722778596017192441094333532150662568372667946102809399670552816962835558062714131491578132182900736704804345059650606008934636419915828572868255128998929560130857085876418673692898984591756390194766683017974104660138689297471387450329965668501524001958530586278704043065868146253574831052921587667017281558119240349362981578845940252217678369079945617447137810989607724640026469054244092889285237885982645329291379984931725260433912750227402012204181951270969308733428151286207607511635660479896104861121354778473386114031018790440302762695968318247166650406176777246520048086673445627719844427769437391300104897950757489663036767299426514557423802621697118562131566921178304462784548305396479718638915645426187915425281826712091547461202976745525324948272669668296636960168802579772117011316822813312392427306936257806634939202742380161670083743028315390120056491472565152401273032379573033690030747125879548045862897162340135735155140488917892208693339967136413255168869896355780199751898288739394794173998175199406636092286773828143411854805360292110344784835330408730464393835758175342504213372908092702116208521099434356655812829583677446439837201048807037109622732111319979489987471536757186737279143073128812930335563979344363166728651042806297258732136127497758381613391949752180702434123245420460460934357657835831436096703726765382568289604204512681302722307817941157973479086352790830306228258963264411224712612640144667848896224693481537175776273799163901541659183771422018898131130638549236705290331600214991942575595614845802250270273513999165405806171580619643830276027689915148223500113353346776080131831620408921070829596599931078873938950211209298307240434565599045090395334574246865542147437349392806436797424085788100751385621081891668869563210424168149930523299814095845580681572788095970244301043973326079489541648438187074659288331296405396034405784710903417948450023012393992041498920280607377317875168502229497716152750862769880313525819227317036232916884550633505271748513137529073894315609585413053677403564323825240961100929707892303393097606624926752825468181056989046067457727179412579024955190113271875150123125927594618318729981732503571305649664653241228686790884787685709717308124538001083823112457688665440730311002976325501413478121585517034497742353906007466407930965187768713076774643134593991154292987970457926320758608988567365480569856560009248506135119077640624294597556740303345886228902817709753956541827208111769307680340320775124466164863524864058007700821383521753636266500805497225659918794977602628086298589769928231631488974780527277187107462453144284035702166634955939468733379840388504617791696830241693868569881719481538328636026732487532075516643110222930353321323665303126712610543301263460763569480166305354679006840728492920867616585080476187150296753294425754570219255754173260867124229293484192250993389080463388265837576660733867097543695682297396397053825547363446298593581987414218597765012477930623043964040072881439795598166501455075523228548481479792333549060987851774287742903900180759609817538407065629163267021260891557360797616622334305091758707092190384106183321688684701996147252297593359555438346832779507245481995510569189549139748012207200161881329330008906963418243947994536204144821090043233895872458613517969702276064023221212389646180624222205725997281088105306195021844313940300328540711173303997656250*a_*b_ - 104419730104485826586448862480938669439665925354640087272745223177837301521536928165882378886852575283798268936749349689391544571705935787865278554794745965709189850797721367730141444056405014300312504238709898909652824374627923059097158877191526882434033594148573946911591499274348219315175954144719242906465000326024546467069624460379130470190841849176701041979328435880631298257478197892722504909572015601756277738734498118019592284441497555215369747588513815278566569184829722657315157393942633913593038583147668957900924816368811451629624229071320691804899350739798511411247012048041563749858182796692859023266203624566138193545498262957152954699133043844805088566311515891702940703006649557939378089801535809514715512038116305640933158300223637887246585417300735845630756087356896307567461157411607900084053725666695635564154503320325195937617085373437991776474087734147558223574069466594036554079596503607271099011538169425474911062340113506886830550568186303952977355674642656644328852250797655857784460231305928313895301736721317243635250895215577204636561458485211884588891751049073175398619818005124705699159442826127796594590531657215245256607268339145107652721309622436384430415591949851773635714166885463443744922338313197256082202647616085261694818203187557829824493940679482115317077726424916195613360434675605339678962576907887011271268320324876211139582107162975163044474852048846325774579865941739087623405927088941921234827598500875268793962694715835208829022972875156609189313284659683028710009982279759321961412317677289867540044543580925422564373203637734180299454952617959837528019696785825671902725793544568460912737740710946968693869594043468709589754443720207503744368715118375951726284988142088598972669146823531447825520113502450305635855441914013623993102457293477570979878402287735459898379330334903361926836748529270666912733406795904493439437021161088211419919892824600118867825582264538368347792382871279276606521761867269962713566573561950774978133103665893856584573987639304714983239599351211938266534316133458325671334410562587543229944520936551562211794818240944098270063855674180365499027081798600176288723463743127664983457182129950132697010162333347457646651567762319883635982568317442311840403547881898365446835859018516302094112913054741350710689554703367884302358913952455781725142645690068533782669448311396362151542360552642626395478709967633034653690957717716243734388796875727139821005534935089789441120004406388598594538311372677936695428536980011568015606366914104719536033098124460803081422234903783821366950542001891407317706839652134972661525688854869371378680501140488990822189570709750292086425421942862528979762422491971235760803633049230273923351490303691480409634017842977368828301775740245165347442484062908107728190672547499806689639600235396545384681471863374986224770491642393671554545173061437040556460239708414663427213253048627151523828999437045202870455764201885464366754197906530594118884115081816401461592976122544855184888617678349404863039942930780323483773717582937292798395499576073569330750097742952011400048881064757904949419535707728216412443618424428564258099682989033568596810493998336350746837212538862167574020494470870934676992289490876058907107725700036408284346599017356879545248893455845813326868678394151853175260515385538259546962247025193977170490822508473097218157403271288555654793857290823867242896432891184406519760684909154119499740869848533663578404846298312274196810717077942603176412951824472826187513529554403745453745018784539348956545260249920063338890785354562534544209175946940136834287775115971449101244798656762414246457397735531981805198781699752611209815558912530000703993731485851953125*a_ + 20796105317920902864124451174349611197425857568888462787087899912956985125852511882144840337662566975874695872771864924106056687078009193575691628887394970678092490233669887029860707528744071391763114284125356142154357153815937930706071630169131050184412118998187811339562047751716728830333345642832800117759599113845393757421707457023119984533788870959366470833975122834043482956144460350788148295790672150820586944531505071195883588820814026589897551268264381968138036907173920333380965122060831401840691803233085662351491896389770698023090159579781637910223857860690916943894646375779019773736627323599244971960433737830440802250618519521844588237452309208874732022281384911675192821251433432299482816343415592490972133271609099572282213538166718714912619474434085408777308667645060291308873933294760230262116726303633599332966780494449537512660263967291641230905633208446434204231156093723154639308682177008764148980313903419666617079007692089961946994035300717438914800113123862856009317807843111742803233100041519652552427743264357839929817654671807915651890135311986916150286804930402434306385400855311999021622873680161325143025404517726296855664167483086278774031694743355281760009652333023403475265752259711710120764255574692524423242030759151242655166205191053729788697070820136098357664552883945195194165691292737264675902813168456834307303497835383473148684398769294888341941376316700906023048606032487896816149327957383833046723092712653429502468815101024094812899116239279708453423432235831680392014016952907074845333077837279023800481963344430386880583586235440160664365592897159767720179603668409966793500286496888412905253567919945668316470676081913940911468528570752351104047275586904433788691027211408412462027443504882297112401065698621909212817328267963040350138223734367358490388627574177062352008390696975886187882892905583148162103902272895014723853764624919234550464136314916157425925093154895376460656903185810998374285791812571932970563470410428329186827665613337815499840443012493285039245687841898434310787883583665936178452710652548448753862120155546285891150734272510541317311221018637922993872442086376698221204316046857730282078073583069543419576016175173684442953272547640161207813977857689153783186534445788089187680485632486021029903269403097319507277162142053669533394730152245173000981317961573799657856551631943153047614410752208837880894601435453879159724190986074688385718998829382316323031188343455265198102439101420817235552120499781940900450272697821686583322181227528818978230194021280217108471772534101554250214853070103453853065123066202972374104944921875*b_ - 361389298008596220547166766075331284186333973051404699835276408481417779031357065745789066091450368352402172529825303004467318209957914286434127564499464780065428542938209336846449492295878195097383341508987052330069344648735693725164982834250762000979265293139352021532934073126787415526460793833508640779059620174681490789422970126108839184539972808723568905494803862320013234527122046444642618942991322664645689992465862630216956375113701006102090975635484654366714078985270824788674480336631729263940920425605522486015589112564038582980349999345043234306604513130541181069182122943146126337936113480456568386858808744973186633052311759680078968231714342225807692940692110159322902672795737930514200891586321272522477029083840064047639329455639026153915863414379550790553719844726741793141554316882358883660078350764896365585175881450915944684354574350562863148012147701299295847522037245360878565508681376338950154093285576273021032172506367182895424876467011178131113149359209313690742862054934347019405986917212658269609439272054941201970870516978343372188999844532468811855549699474594398400838414088480814599393706864181564976121675795291016744153335067021729473700267057529454003840747337615902375926900922068145740497400273754709171321750331295022696734540881498848986988612052321860820465235105638896761103064251230703794391548537077270517702592047733819773622050683708623872340613212001144742877589509300627258991479572690519647485738965683069266424302770205974546622620529302607832765811668363453076124340589067866534444044177106786494296132825469349538773048630803452718218347219908105286895267842331976581018504311704332094809980531359246508298090994322828871298962105809304706434212758216742346178533726232889608759827965435767742047022749346413198774955517458717504592181482706571570381273208017495263630602329805703914664922272023897403589188454578349946610923304924806009850484561897687222817364349991021256204356562391222485663865709941854211104540690117256093878384927814509263776934103562052556178149843313330275170572240219077328641314904083516994206099522824293227579951225739250364338066474911769787439173505558812020611731408400519025809937916334787746146875820628127312170732934865664963095159869920967218650904222019837696541931542699831265460318326135561790848491318675790315297690414491312800982087954220855323460859150155425491142226325786002315186238991525541387890749507393001199981347213026738383136796757432275432127283832483548716182791355172898155830255668554924056142276560134092788118305313662866947613556823369355992252167205808380543242511695627887421239459249962634253271096049506094920450397201841884907529111942561841678836685980011160444830095998562971709945297163991699111464452549289015332719630599388708574095216810159729622774552521655551388120494331388848900429085106539267521678238166863367106024090555263074576053079687574246011943885612241724929827512018754750451972425747933817853067173382056813596198460812075224567823459177498008721578278976047402251225438187410984588572220202454073451234656352704274806714164362144620463807435744618217427300737685959773654470046191269363827100081334917031709311122480346725122178098491216110741267766908225311323346427473696054312329283361933109514906543955970703672484114584896297143394447001757204577347060612602513805338405039462994103260718226586951451727064943894002394674542619531250\n",
      "\n",
      "resultant : -486720206606722996424248166977268574020215403579169899259812190696107255581470113518276874746624438123847840064199922394786126624782254749216663053080844438899236033821973396785271715555154854383551835434734302565126513450501900895632507210707638761132664170565681585090703638859031811462155333586668806636874251589706645684866404167944754049514709748185959071805712840314040388722842631407252821385039507299523386582060360814161212899619836114285507869684397945323060602501232145207499378191684849115948026018811030782002596017888776614813195526520024472419692788564576538757700617370719839875633117070369550164387566980086614760350467872778175335553228932754622179209741710091915206799364583084092156771912802193716054251527567827549286197433603660854724193141331078097267779511031481185404360424774769417548231519634776379704892655811512687174885495232617069263924673757267597702479113241802291238792974453780913164106864472823955299362679133286868180409004827103965486304295484466034526522608000903607215458278592220863720625076343751883200625318665306838149421113065733194500513936100217921122780763604330666737596618458109962771524530913005717737848111584762729934597985650685826936844453712188283367524491535291005253878636706351340667005141015307777844494159652026657387778026732794604280014150198608938521849598602772516142700504569737876568921802817632913886215923989865910154935509924002555606918751025262598288625424581920826221173039887576507082128573234410273659222949711981910495128981981553462407140060121089779306988941410030888449528068804382683515154908821560163207809540596931006405520682409940924921141612897412818876363914051792761652355851231271188227276257346281095664447583745170333654245854237805872893412902364480738693622620432205908390381844474740247586541379454937494415691441498154913416492506961735560877817357047251580898209831135017143434129185751924769054684966334081017710098553510424284167655425653863737691882495692193765857675628629952298045243580750788105454126869746203530621656553451213632301412365314391600039931747182900564705521060123425143446377367168969206497147514373213483419523640925222915497274165449065233180464096924853102024414432639178863719103161319035350531459356789364359855957734710225929776277416167842486883533845943974099088949208479140416477737274685391926973133940763078979793372783864826089350778650395888508738445386880055476643413159704758753414977625166728964059355589541283067514157444304194642626222014495967473801860804456889788046362500228819127834069478554871202150387827471521852728237739086578727679036774877569403105606418684646322047709190510702669606920321865762160024210812356707605758994486855422429303867832469236709996065100668590902616525736003225958295813644967945096544202714490107999855839847935701239330242384512982563126498050609246701586578731875486509777353960874654138236729077146481569775821154146769937585877728547912380821271122962478414476402266497998821835092161482621455218239656521201663793946709854482111476058899288253239960176883534136178849609377754211634394826899727809767418377107921455814099834539875204970947068314792079903660660214877374321995876109006691875599595572656126219732921865207797720286419326556623720909951042294079785905722545534305904729596909137314656654649444031930544688288282383693671922433563418996171312214050212862805104572841491628894655619151370483739400248449186231566902956518283075037193022499754843244113011650538663734845037385505054682815659381369690221095600190956521003522422084733711432931879445105056230626268506883053830296099174902675074638182637612523450612938617727599304368726835388934011066292227573912588352519263185157658573794511051533044499819406376560821253615002966581498733405272908274641421765487317842754749241762398271278571971155667110817613592452619035858193355837308139306785897607094038045616990872752305322045507586539731930694136599062191829682609743209715240090216636865998513397602647755731916773889827380011721030690681683603204827543164697146891256103797083256299558783592288484272974652283239389209811333155229529690375680200374006319471095686188423913699816077818709107034079064007201358969800212486403363618371050871268389180385306657238914226441285248213368365226260846545044671214177505869075712962135039248834329116636584286428454906724706521401603795737977027279828318970635029601981447546472246621824410072486533181256167548552219213995679321591770931285573844194199768092349790568927072684176233369842208311197881507594069322035466486812269224784834706706117054792855098855869882192615430166873331094191053347493290733302527323286967331243863194305128792756719780764378565269984159902775451132360769236598976791624176707591325393317217079072264420530947000492789359995743342924519298214526312288727129471749553212672669866842706332901215423944731107103189664855422447606260666760227394198075332787782088993179834173306291141587842328326264809596517775431364113256589947972421024908221238459907934030984553692696741276682227252799141070152032097991846534808093188126976373067695248773649525530683063542447424924901089019310056826512800612531627878324883235830867755927883591333071852408955853062724039304415184939601929492610095778070182191170437987198371042681764771931964931346691863296070760214181830166859327137231250147240303572149180419747293410460674839941321069250170111036903435688097584926314437180825620987317295153619273681556442363930560737315244443494726793315559685363790782059075302954077822787389368660053352790730868066700634067836634924392221278546735892101938958611115571683496420593028003842528637175236635176102809108406213835558334042994465338308371944860778211911565263653277064199930293155995593783412195808275325496176757463508214988019413771617491873106903244961289728974164144689475180209549592074622365130118648895590433760308800997347110549213447214535520523061363464040235295037611305960434438043103272555227536093305129251159863771405580124764456121260630969248141534938768906518563865301997512688133246957941984484402359973037152080942725223867092132004068803148793754870538189429532418179106636386769344520467028459564813703107357533662408058380952026702815403834829255261261831548359528774060978150152930686002299099879924630627861644341328710978887060268732358916735379315580689753988241668377276613033431428616673716106782617305173437452943830213623119174616156433809490419693500716019768169488613576661499980079221724970059343771374026142526305622946744314088127974412706717757200605608921751571502209705923773372960165412606416188968396146257145307702806155269510755274239460173629202353052224983630055604674618087112750758458578895408598279012500456889733952825174468145123846192391780015069707575186124862551978002626958136812691619713064701265674958095802175670887979976692503124127517646474244752874893335322689668057574013111686825009677491701170534541795465206858732501466168949538145675053766113553976879218651060180614755073388476303506257385545447573747682446144922973666816983466319898858341922997790899464540734524863214546560495136388110349120612472520639874685210753014753661743701106867359335126834258188807978967336495662156918977716699398477150972791773069801221652069574692439258816868788761274855975528757101835987330252799944407033600886923396409340757741827304706903779904370104839622630820934453348795804725317543623126874341804362881487411389693923950668024160746798213579605672737787562501568558261335093727177785880748460354502010796053022532229708617857951460026873007155309802861444181613381343874728835872775894100008487327534029154599652897989105060868182915488301576373684719057563138679795880554321269988754425230825687607300931077075165929501519759643530480131107614668754730505375264744860807545500035153416528139643088408115539119186910208743831439632757435771213478797865130347880566648414285022144782672513422987843306970142398502003786046213292146701474710801202020884980696236562441822394810949301591241256499826103257970412520495337398925104532433981328436817776916445088651784669762839840745790260323669308125845762231781744381500002850204819783261319705311260132166689817204106384233631285189454244859759942064001121136528197628239239586239414198387063679151149822822477980061056694584515833284968836268668532187133120366234626707824705893023332547725262590780257749295502626325120472719057483245938572541330224571921613575971839161902811750616339854876863230678391860049660567792958131140491197440984050253793599312739577583864944899666879714330701201652625014192849522297760437919180455091306672898780129809766858224966095724498259696484258823784218818834914483146429298476393720615882648139035716664606068258387302643900977595041088876389037759356688410749012584257139654652221852143808424483618611391255447532545644909201892611769188346931506692625227153196623810690609404902187356827754940551293952311600172731762707397495255235767493286108482700743972069169840278950181124955820171258862991032416210593857739786694323750562899350447301647315439082740141077891290544610449503455922879291307892543463359292251047453189272136530401710599799786286935499714330514366003967870401261217397606134523410131599898232907596514559205430949586601763723762373871937639014715586027858665441891555859401630875568711573522998976492413826619291121053634400442368569750945604518929877781422632627995502704595327413529583874394165319403785606440193268268623444089925310144144800532569451594325107603425741371933605103961558891026534818588552037312965179437247388180388408104396042996240874577631572889460434520560316546603835138330856920602559252521456063845151577062937421126944943652909386583716732798453013751563794512550717092667379626510170113451055432441268934539828740428193876739086054696296753986035498407644590909058067964045051447476768099871316148946814334758807969977971331142509884780493246122833879026977860618891618790041923438135354712301355990443457597654668361670201128247606937877766212831463887245859888289909379605298884531918630000494430324978672827354771272564131028084149295632447796974562737411090376932580671602773777921731944121255254661669639637298781101419239227866503022556345267943000633631284268801980067508659741033132099444726031526740889085448858439063465656951958381780091823369661903975410344344999204612518492942948721214889333309510391347594112373862625756921026558968672274479050124866759193363957173974079688258965089593912360693198890809329016816145604206859999038450376171440262606989817298356899619518343823676863881029094950172364178721321038611771191259419330054823059093313333266450617049906518362866762097775502649129824515538102278002069633167600524666509011957909285805770730060086946723477124443819243184478207461983203585561576506815537922152928219297201837520115227804988172392761487317416432532383252204196365958576572624087476559618861658760100498434647965286057572614902727753542381757251798294708447305976073249911233832354750008664148612936220104109746754274536269304383761626505667322602325524101859120099911488477094303533600844559284107222509877599643760208031455920843280355593160431998333668493336030783021968147678588011605183071005556341187581854261158010850739159986235382807636725889383727879669442340414649939176690342397725167415048818988056956872312763138635206494636662990918667926463733986753414324478107739561620774365805573471097940420212105678993862574861061831360572672556191873339315747764188675505519400796786077997911684220376868497667115091002922599646098940736562119568861604821496761257865233196700106437284996503097362825258142193332062355314993606770799917354853047000677331803775948732327114119318194451168255135921486084626616006807791920007847491670894928459116105959086956543508356780068076939180638910693703759600163527554801905287871964724341913972844056499562671850749081060925811134527408992501382636863905499297004237633045787129584619108163324105065396020497625121038518569667323941401263672018745158298157798254720778266379900144498838424211076338899422996854464445550077997830487397562280560547214187301363726690901515101499785983524427558775948134271939823536262257606926167904213677395930181446685538456874326552781537177255335205864431602410890257694634167478142584430748735688714308962754125063961194261403845667086608508669942057885384278895241797708817109021462278531829115497050993921278762811774603322956587191004174833642774782934273238442707464020373933407230231225396391455719611201659685557758321523499501603230680758468361807032867628747111558625137308592626872558548328648778876516403767830670082422139836279660577471946523779902115256818995947991145122987369366801939807474038155345963439032913704179521486352343083796303968314402933614626967738618525492292083447261256148340631920530440643271861653491059560110993805570177717212582208628608518891992512079534228750884413425984978741179230544999946333356361827364402621618234880595036074006909608800582777838872005624779446258380362199019617165857794855421622126782276516367430843362180834899314062200682244977126340252705497078115842365751267833688248282246549880981422131281481992999208022951216300501563747100086238600189589540445384044625402904607769329764912020005468142347707646614687202051659332863501415771220778971382036005814055584794013257125657933259194384291169572654472987263969685263568374075577548113579279491006458165009090371445200665656140985577733598431969526507087983172527170436480977692154384050989624623295048829554315315052589312799125822283262981234386065509066621880311061830251001984231852717922855334846339426161702500469823568266069818139488760062589757153507354041544492479526235683537145672381279594881051440005223897136991141041072837924323331540981638168450066773244466247903782660866460890533878019411385945951929245055838043022294165240470165620603725707933429336599184518593551036620155018383957768549174157116746016488724304437659497442042590052895427810682425086935670130698772989919784240522670532192234032530351412941158839251869214315197579396462442158226192078060031477048986135684868870030960883423606040536885365672646190165816919824436398196893215437401610373438607902104463963907115564679066862985263497973871795388690217731971639770079589662488747451683733389338501105977557255860951554252795442087549414511009182904492314885880997275626053967554984580536398540273346566532211149694089599121314193941799650131961811783101031521016430603535317852656585112924692305629885774855347209920624822457472577366949757345319680942121881888714674436012442995486622767963493817007274974704595540267876512086766919451283010117188011685897761998457656071543213492963781321012852574684919695729147764494176966841832438812784046484130986154116709842651924283407904912242198600869565980881106308731650227988075561623413814850998637804426820848117597269108624282451960975729085754874175115864997281350889870480720633600532721641971141409235590586945083536562597727299563632372246033287434007836262134004012620009253940000572788639425531371862936505736835032811346352695125648288580726705832543506302768680523456398468707105840254944345329624668395379925922549311433896275270316031957382119718815950703309384754086775914411687010734279505720095342607944312079659544412839548812434413069346867092350022746742405835763279950870842154254960713689968262928777625383093467125478478981484866321934192081712172996880037117932149351812769788155890217572702004320404085640129963877072413902667283180435989139403557228389700144766347254774380229833076835282918492232139237045067686791945871441214866401324346093998441075586454751314237455652657227198892126520107863511106770532192804102864641071989376858782876728607797402517355996240483183493914338470563707523474029845774669633055917020960363773518381821838591867067621288386216405638065751756156246319107632009694200527173987560326295726139527905889302118857771084434664842613033044516030589812133536849802942425132847514824019353804954617751754570651172963349525150668124545712838586609948380184021711102337850471522545601466969276357158090362163151827508751852967967282522061017774666542417646896833285890298972287431714187160631622599719827031616210670056700919301506333959449755242296449436814221420802175467252470783323011701320485776012813708558144795141977007917891974357448706692110722977163673001986683978075580172337280425700275050989474903513858376125533028234236068332887579831762312374429057560426790533808012821312799278294929600270319524607511877224647994593988231689235913431236057967333694064136708805069322579918588699730831864742615045173924433933720044796978595578733184632860593608390421138015999077808020311136743447630310773923672991594416799763710476600556668988435693415709516040983320246566718447629994119756143524222901721592525000614953151222536252959296360703702291844043059318062038129870086022537241981958901925736782477270735488250196776105795339048240693546613442567244649648548090805605057739204749632287088732453103127240455893581623756377452536214841555340452019477108668716330645576217743526215620763331339574060927044335675217468281569362950245603174850919049895197942262401492005628367276034391561415775905691352213364560294115154920870086453646077643547782240372979412547665127685817117921959476433484600489124684979455048074360695673744922410001992118949768942720668649935207327129650523961094377935107522498883823403468095600089912158954908018880657526546862295817746448417240707348289848014132795435028157059349917340038314218567928550599431121713815519053763762384428849142405679966814774018420383761856441876758787353431872641878516239589863773023716680202341130309722187942009870301203216344234599685843640902352664405251359756624901842897626162196687342295840360324073843674979325123198861629628045923009775645018768903555583927363459852488628344599586959220072461655912199162739985910179348579332127292290906875213990764469602082573928130570732802230779010503259840424929379330902193130905788596734555397172273509765349857375839849596850990485960858861040586828836920152426212637890720697732968466910940054226680341383770656964176896482148827827574879604309960483520378430147787905789727309853867538684417636094129755585608331514893342312448163321576297724942185710252961677365841936476390600135264612566786307744510250775572050290656212423002890791949305586182938577218052239941433064375268365273940296406574422802030483869906882675123629959465645256847235773575714135192232676202938860933058120981313855980077816556017941327955922024939492229357024448745404183952864385734760331085168833174141775204475611258104856574716888326950637684634994199594758957004464853272325510246655208793519227649285010974947630212637350642045143154508624028485124085783542923856737442714684072351866543878480967532653947046091261306505170343490867397523355966452492156121982777519796929978467329812033679291984751829817627261327708002254938102632357561451249825770505423239209426093641487453951528552937225150686663512821317088628345403267373465467270414254763930023124787721847850744721382439203310062301054643028234881214377214888677033198570676670564119355050288036144499568515851094365626126657576543156238193768576130409935919979311219396670313375883883719077539346108592873685409027552440992413775068181960114261088483880103780538621131033624766772757348301836905263135288752662452375136344108386836272782310414951246672583361166007984054157612773490165372904054533402545813170384002906168288092935714526718824392962581166543611547046964711537731992425024129936413676683915209832510441344994574982861130164895587614893188168559134397442279149302406067519170897891973208484614241131817018535345483910550840618366192990064582131706858441360394618089329062759046075244808615897446280310021960341753636683962384337517973831754464337979409589204455456226176952818095088276405102458035102555818325418749015975395349794360675195288996489245280522991491082874220895900851183028891068326716351898767738490787690465018748275679798783989246021913293765512011446013862989111434818181489056250874123241423824687088310485304551286051401643954078722867664282774598645475611581995558586645643818643073993923987946264819744798520081638079433087654465240168807553083147704832438678205962247605885554549741317974506591301763531537087235428225002535771040422910866268737207826173984312535415125696986223871893756673658952009982121651499181381815514373978859269501622360069178964522128509977755200885373894710061961235266801174456322909778966300322987748468601098507434727603310837421881989203201447778506119439346686310620470258655912562923622509393800789263992049386790161217817808224166280369688044212491876564965372146665153294663544484358502418914604896266985501231578967082060676439924270685866155132159396672094663777767457235292831051795617811666938304979033327811094864027904778188015667524506840830584409623729149991480321540457621191107939873884227211194870929605948356356338750170439306038589861793832002416192805630293258917962672918525044674384816650841068297655802190754508058081672501299749547393924421017470661109188698443177312520949607052711754701323848278646312175386808238378232395819572897695753676108616169849761756484105561051138445735214543873241313995222603896503762995300001339039496593827660519301841663021733267447690083610922733118067769219792741763492740625929922628970919556845469031779997236803992744859315590519474936441815289397195608208513603040668246866326655047937865025015299656585173078821959248381366914343055696825722159507026296366840690963584585498405285476591644118208690586843302497060938045939843925586391558349076460115257007137431771948483216163365426841557764743436595868056331456622740249309956268862238484240611645325590842068865991562467657651591642731764051556453575822854262710929523117415670511896569580638768700957021352375253493925690621758438188541862677867241155723413362912075695225234442681175217373856621039620328138223124983024976364611241860166850931252672366924385098118921945479842746922911816354311150469305518955522864567582580712643888863269884246819882831307254158300651213828080745208514285931583796458397609424500350366228482577832882414257293289623201902250893739549564031787229457704877055274192637556372078929106035952874206987161343328932926600473133084906107006078202136211748310267150485494000287457275335820619823149334411298859763319985104652677109519101180889874555511547667962926193510330048797292816557347159214333648615315005463795672781321540787626544938144816630819365314554099501601286895167922189246575840579915112878235670473389572554866797309367659385906537136755142478825817913789374355665397186220989438290974198076323635410115305935386046364301985585157126403301109969198074037620706657632126576910665413184643874569690885409069463907910865058900132994149948092221822762027951275994019345179862088094160482055394043708505628276262933915863308389996556679676179976455015490655815888258744674186449024314987433314322456768961697933276463934909312455683578808332370104206727691815926383000892500944450292064497563599253457349069346842922088738439888140149874898245538593911626671983566884503652802256312305771219102749921018213986432631348167520739219380504963761921361857160319239530436791150420589470044890628324499477960966005067034110789601331657794744996086481210744290721983861552320509515725229532319630017910223037923614255373352101373772348043575593336058320416235015132387226788152731636074372301811164618297790529227671677268509235199337117386740013359910681064505845265963342383554241409826704801917515503709197562107712316472037557147793710219134089236439921672087500842456689139752614765255845550449022528334273285690651439324331117691822068097262531260237275931484900275006141695911403960248159723181121222822692972946291347793734902081085166758564044044336305694845076297515745261639771719844702588868395035233362941850031124450494756845399384743566833340586807389817839654645237294025315838394424773295292934430728736703008809142040429791837790343757077079942705362962340094596727242563070272886446553940008866838231805830421210575011859781103472386548297623250726663245929973956208156759843043277371285336792206894888088296067689012044666740150033432844152736464256555661703397931688029514181375826974019883651339726050152576039543709155169181905372750596808002262940613542834494501342633034444210339493549867850241463773430777486963936473367501885241303837045479082155384508718818154400721094564943215358983545968139608918166285592756236878583805864443847872135619653706589837288903181514472445818801178653518434972224363345665450028538882829143996676493492104053394742030867473164864025890959585475011058129118302053484894924063597476492779635208919148861884029256241117698730403075126893835609063515919704094766049134119833410965565400604920110272191758281545079273922252936503886974821916498657209437297297293766637697320050673312738265005238964093683097264636868247204852109320108245058077094243132918325426084659089172123797755086132178557230279213332352679921787687958310321135204395635760870104036838752560748064353951903016223057582393426291192550786875184980423284404876406193005266085785877390231550318427151373130524186933403506876478418567290674746033996690787434425928684619807936886071807177631235092522910793040523133954744814778762366735354189588146879272287771885926236799929071440559247301680076815334892041164371324640408328579316572130795162077347058284690484482673062290605010512767393058659050003341460280680697317675005035110631702003510308487507586821558634388612693169239136502406533466629133912186899384051548823835868666280071888641235820288918179999901910255173987863676008268867767694202419947541580350984897329475079155769052933587757897438076782648495812762800840967858196059678464957493418603655799739310098540820420963086833273157262516573188476711303638673445564368859912908590024007179151046415132574209863168249566985767574027848862364800821690516316785028135623233805225396352908355529560582012182269111752135752692630799271128069179700007376084475189839769651898891147760408792798230802608074301718405855802408601157034208578090616289202238549997558908478677257166766158821732689427511031196824020558494483534603091534103399509877055134814984153307355188757372269608665154135193808425423135725869909123147539266638929637130276234775510913303261508281887061955534863962279966720251495296098884230779935468007323141150535562842592726365652088732400705532668492849749978325809690359395204788141468185830151966403105875724592889547897151174725586472931723879369268290377666695117395665061094025625414972593595985398457995144422060360604267277043395941407513169124428420459636032292088140398755176798622005905477469037578048312359344402725457217068998165692774016490412975993204293477613708630451206958846604130928246875212065227321669298853919039673589409292696206458661709663344226247119363745435009856871884607370999100300493408548065719475119731525897483206531008141483973226095964277558952199857143391605759181079965527456389255590005924648086056787668205509506596800475166794585326692571892155313986923076382654966052666843295622478145201292492706137119906435988451857086812044057836067920717610430474168804468115157423070618787370504009195877247824767550912287655151526662651442022240526482664969161623952779162234208946246834135559463316728880495434565068560172877507583667873831711019764045258741921463903296752510436623934113613644992221830058867469625671880230161558512674377669783937340127931004870039633845305377195787153290798341318674085160554825487033002749892633231319647519776619398985856859710463710982429140603224542791405627504840416209009460804532081336858022389872618560605889141824619553588687156457900331594053431703148903094460895058759701824443324260975156543082486015291606706767305550309259870317202043917355962934756461225446475041828219288677297779815787758254800939651243272585258295923376980720039822556972234514978271071980307254114447710638291785048555430218925717277275230481269802305292421812594146399693206189970301501142050703984653235989199962350850899159390062074028602637547716514438644543611003272268199390097541750843788357098944761891355487008247143655288457846461480530587529705672190306952402358058372581177199414859193292027963667729013282807431662280181850263097328853005510245445064854572515713844172827027341147038826720033706450247050427002067122693279990859898001954660409381219636453896480444354602247226430252367497927914119529282358715037449642258185659668986010574444255517695038414127714872546352466687807690237439611835618515776899360488662651840061145362808306412871334669083460882551961465559057416947909605084529393489337732237571033088511751639863255328256093348742089885955389813692453573663544930207288742748662417014494432180800203481112377417671771752529695719522393307129328921900456847939276622621208912134288176434421889090610937294743007541943590283023520962662602398712653163392095689454730141818144770751685314454600355023024932674165524575315208785243421369570598230020738130593682813731045266840347230962603838140139491996796322699697689819759673913948725461282334584935511152582498419347466022439337484966955277940842437422958021867433166077981253698432898221235941709261712311484949971777783741449471400065947774610995940402391344363130941417891722828438700710869454660442098175859210113592287549445921620373036684400819422799229363204564908348478456466431922803034436783986981787046790825376734690516968485418821930227714649289826276792729846664669103624500870652878989842088390613947609686010194328324479623375503547987378996143282800406554388129700893960825423274492961290486920011812121531574217037213338605000750981254476798393046224820137386269501967280993473973213541290524078519999255097585338340872309185045880662366025029132231847813695858672845562278581048953574816439083787314788753142779331992260292948883674048586962259762582013947578791806015298494643899956178604892234559591830186091640179437324371908993714669577597037217117704176252587303701518054839379707601226891159676549437830428063570694750309144851510684721033213284085246151606864761291710110691556597504163830846707533952872932376653265286131573341527704990580989561456302872705731279875629361849291264776066477395065809521830974375953583754839115727008902467787265777587890625*c_^49 + 268973618831452599283921595954983713229598662793118242162266071782905874824373668349205731486005822435978291358232566026269241494155690597737099749735966881077989686163883067320615425963872342246589068681793520706078703401459572241973854009396110502180141270623683556416731395339914484922413729477291626022383841703652207599346260365918803517796498210983537677451632517828543984815587977190725335965884452289535430390918153489754494202491406487628584039697624607679613933803027312152844782371161128255390748613458952205859728559060759219958200018453932393196296317906730180148498216836685733143743665541602828128575854656731404421462212063862661220862330895136715697941399282604641590525899503092745892070911612951331569737534403864211518276591639997506470121456097052833342299682889886817236633711591729877074847504816076091835341777754090551966704795672925125080636203180661471574881681635529934321263437254682384707328423961943172402042979383190374093984348201530430055679740483200306741305132759814660008787880615633885876933990250973776776876892737312845297335273498470151433985240664082334630671102041277161705473631227205481644264338251754930046968961294338222962848124976848539352492775425432205394829663611685118042983363601181912431644345087020864687552856523523541066961915104344476490002513600021192969714894288931776545173815638935432301317090735874785428948119744257330574667406200101681453999860439510230857117366004762628908400679156523769813023956863921672657843109747875089333401482752346611044349145472452515209787825087561035150897194965152318997960569219133678903883803644644383337785229499497194162314947754037717227700927009558969467110753849847589838494969610943475713126086940180898109417809525462951676711997053228840571500567148746611253516577703807623731701599051352929215635711753730925910252139030235404240939253165732375122198117046008188210261482162420369316277859523373300541957099128532930461759119964426471777342404396510288251510762733640828729928834365815018074466802685349170822062353175936982258420048526821032390807903348348597151894661225651781514141516060102301376629290433611320677092322647469761623764553578761669604844667489111054781564119333372257866028432175702537400642097182346242363927507877975857008346156594674197417636248948467964076204641285831701888205134677406499135378626335804296778751197266969028267874493586288437830147072405591292827265964755725506589779306718269265347880348378061449551319328087523180187315825957238415107630363732328540184036951859690050481316224717578919533020482619647351971539084156786571491731778057701177517681569131975049218349050690524502341293634006737351370337268323932260849815910750718745919707648429852510467128282576493617168914515500896311190149332131235703445519288464766118187900588766361922452080585129986015492519627987782358744363370137547026030035558553673619737562815059758489100517090860586870548913249041056185374555897713020880480896889157085534227438842320309240492393223879801915896201708114281425432709951060048423829675949413631722428111147894707227878754160893910551783512721232167639817349946460186679789210092702978577433724782386863857487788482101075936691066800549741138791941277553841933751613581286066543919506751852580067408356472195871308819578529509895634145338382288299714859783492089344101692363433755125521506662141615011398158730920426461674387086169055597502128147705533141035401700974403893989888256090179285668671287993597052012381693924461910799825063036817073382858434095493932027417516838766498617375089791221884952607766256126017949715697547990034194635610255993265406015455978911562252126537953875282929620600001371691218575666210399947330761445640297263837206132190075014797883047111675129362488526945172455396872318332909151484834222463440256664896719508805396265930948629783960864739639233817662499609232506729926022665508556700965595266034144890449297484850290293501607164918700669017460069128865619481749837321919032752108885391868908263073461652128899555978624573991245689759041222363513308540265602571973745938272895193467999405537236779871491297719270811496527173189229150221905708426222073790838864123806071440980760243001966985362229682298920606567130296928471655319089206657562876597259973755305454585818929993354959532496770293534130527174553615201280965592789656514236662149708383305435052861101259230782219754486744999114251461355781345572294827110672480929043866254903004739473360611199439635370211417290860408590332217393842026311637909530791829170469693579429661049725733375598687157246500597734467448014840408836017747861952742148145454035107592097194609191802507228407365995729574553812242330243837150712252193287987505179001802928731540634249860413107992240637925459238435458657377498619109081868450886559061462001227836075649413565271639824359273609112685394150667810101504210419289238471306733293597591684570732452602718605206081359612599780141236096862878988643231413078356563838923266092718460805091567762016504141940951058860655028945688545193988473698437570633698809315057476757406538255913228330315882903673859177427803215520113016513733556619396175547796088549895455008842117508974679246156370434276128167524830696826593107140234285211529195895292438957285130300673930752536335546098926850436722088738543717701313709139986337442975688830167964778293603584855407566680032965225340532392680391266688410677059877295482599564251008488816652831614113531570484965492466467894636058942271070662158385662044566300652084095983568164707378652668101201548123750606920843995815143034076379896343985119876317168034434095881895054726448913137725535670806270468574120142353540890699067786101082993530810575739679451888180535751016086033658889475108586945232378474193958325722575972714636513677199726124013117037028928585423948992479341116641146678992234788883075657499219547975234651108069694437977604484347302530936566145754137974001904323148900451546615000893055918592449366230300188245445843327269613112559860452048219041519148438360675900160297463824246168582648923653581627097841691446703577261068121840017225909738868269669828504897585400488037038115098421027149881769680448374781310501652183629106184886103223337145815815944422414589069835437482081011940315828999495284844628398960669811299419999100375787698683689507239582239360203995287681650736105892226987007339092567321407317161605161558840636982209279363424618891197330865147008668214002516428491170029578385003277547265579562861362322516968647617825361943712500604614354981726719803226069974453864349710270922984461028749862724078183230824062025222207619938437875110481789733312206972343489956738410382344363364968291562058468804005030378840412704298074201481979071682336692516618830477506429945044610823811216561102364775979165544107383004399302186078432402670588557542036224115199412147273319465024408846889507197217574145789321511660652890761228117581029716971923667266958745543253785962481237787230484366493567479150828011576148214396932799637166067197461876760264306494727335247271141437707090741986475549464787660034259976113405569714215162037045138991765193039659419445885750272421051272128856595104407795083794530384410729128607356704882441299259299312950093731976601836776847579590788321754790294733293077972474708813954802964938366948505995823043395978112517853398046928969624593502567495687821882183158278419927370102596944676435375215085747184211011421287360232891260904849393537948424785173405849047923717225116286983195834731721065240811364016853661621063833033642892259067689687163110432076520304379996453702288618230649528829228778892695983252917425867123031699457253250689442750425297018057500896454728814308909083539974888281958002999919351524921954944991947824889642398653353910071566726144995711394815109141076722950906623693156104223860782711318742010548059239044660455080647270050762129291716666726555508897946237377714477544022979023223509272789719102631655967410326533885012963117462209155558769082944359450018850686052517447433690447389285018381452690097492017560728089282754602969234329420925482258193557820119972425587429531693599523765513745160298377943559386049678699397335825537877358848628263568908296307360504222443502745487141883756813577244660140067095331346058320494993725200609359287952061588283580945129401510944649505542673195157449727301450599838477587308403280757622396092312151933802901424992425626152052228949901540956103220394942401363834334382864814946242482350536595559350042508965664699678118115624738036669480159814035891398792894025975532986768360621267338356483601361355032293555778016689671194158432530140643816375850851462356625486114039521209692138803185514775765301189979988282862685334313239605063416389389591833586545174368350949645749183252150015800726780900273200122219524772861763852590989970011916845540521267520185900453765809409687536786704067862159442180755670943307737270615062480298444418743892067432165910619761737303095145801562788954857596392875905085936199257496396092626574450798196760133181287183283205959402898178006762396452521350175650952554319611304914901914820627783771563688227656469555139950560261463073009335967392412238927677972466481448430221351351827733434777970672771546580429281578694759083193726348003246812129026012778245959865441926727587193107526230409584801739711533469373731629263622980288034485402611428910998332360322938837155317969405800689689117235757169225485769387682665795978235094641409771243221459555055058744168248878345888314113585737802007542717187896490885018053300445133843100214127278802905982496326554604164173725516646171664701838423930298957287492068004174583294603568125321805644689900334820058949732730005099654661808136411149616647500293471490685985172491589725818733862535856307877769785624249884646930801581810796833926814766297614724064364232443482422336454016506368756136752002555479067278876727094628405613640399882974744277304179300368706616905322810286236900474105565417084325366001005421574432203075714856802017348711317696533816451207692647434207882158410872260214290941237854561164923365275320656116166714136294021193971000277643462979276558319771275132864860986499737362656755043184423231045197933884376259133741254644292726261866193399603587565628377117407365277191507664400904392315358648097299111721125757404169777909954270047574294849528386896874914028914101236913395448212104631243740561915411733332260051422515854516831322930426049366324487388786983217861557274110631245097624787694608952018463043255190851543183954028524582307381599264078823506166599159119981229466983986153786941280418939610667834531817357164539218347646910076885177103252119254393649748800728598723159129972281482475368358637294199168019794022663637226742474260490285118299949230959401501620150894479651250517806579411953204155946206427102501869092730432421210163950121886710689580154846745088811924178674325816570003483202839138196092110545731738527031433914066871847822264388760035156076864313400759833771475903914977176244424339621568229513665190497738476491796779567571240619722269292965566898730252218525480942709632445976967994231775521927370858170581243215028639228128394179839796361041107495548923607698633840791279891872745837678209214577818419894034448381630215918991161805582698361335784281929237733663665399295231678060415449790754379533361890358584298439859323620419694133431202104770257690069349576009480530507069546328565041601115352027339048194232694186232857254670642760930493509137110440461622652346115207084207110846151586109338480088057289066434494122812332889557619057695113701209481673820021957812849884547203637140116244972718757336742035088932643989959920231062043056391297146606216953339631751079566235211413875016268898771676860923111540392938390088787020545167217828054250745900297627190216219637386762778647512381074825812463646986820282194724335552698985871653093052868091701867553017767513739708788980723880555729102570800998177135632471887465694564908913190253692975325497213639022334792614031267022035615872180666983784815077161762019320018070904661061824870052024222151838536689787907664156874527495962793758181642528389005941372871407990379122063616646603884086441296872976818327323227911161333358319767016311397187718553716738459088106457948817984831591509354199053179917011798885442462749431373541629747513844901855401908235743024358076524266290335719941218378284921815814937778558835106472613760803760274835253651092328346821650247241528882099721147203994476541689084179144401834607394031796205166130684950681824520619377219244964564432042890899769251816704697416889781907378895950758570232627081637158316005870919358688724278550294343716869794131364014363328928148906422983497047473162536088631631691086452622395278825332237045387536758275416139973680379991763549138511322932473374709457513703513119397608742717600560692079990238956818162420647861988989741640710381309896239468108450763668785521847067756582897874688571561605774592996618119820660590882736106629467511181443225168294483989209566292868133405664092200343066609228990615867956435125414971356628055569569844727967988599768042343222400755084741512018257422869700999659483114381346248080463141804679386586408520713124754068130419450618568900521304787868159396652379373102354770165907236783561376202578893132120263043837785967520665141410571162636615282754583302859098131133702081864774027953577179569689098258820023034252008129425695624055666384837567552705239122214222990085881714644857584480718263836784918491174736835306325555965045725106309233034330568640154731373471066353402861977454415551092597576126091354866366824143205777985592389062385335333701458102951356440361889556305530475397700249321115730079830367886448593141731997441857558927205825345942632513971600444173002366332755803636894265339329844894639204562756826594936532722815566804049951468468413629904706185951424756848569447930338487347409866197278860243628046926787937759900116129725005389394654410804271851502888516376234600260215006506924442405270227075746596504718050346245698674565694677387712869741188766130260154872580498605028429320892341215987298267870427175196730803556472868499751639812835201748985891281339235440421867903619427124159862523417648500848487970845302034501981725812346480262056596648325875488875663880245622160193433652976429214792719562767289694892342700974861829007216282672282120148865350617968246903969300250308078974775459296655788988774524384557689155844436881432215500980778565582980242632736524338071002671582138273972152179028240206902785814808759585755527701772806464380399012382038418276946338708863075774391882928777633981009940323918654679341150088718153812073572601003256179355213464561961674507931625066331461779325741977813175171663170852547029995449259642199590702132637520119614529125236300938836362219163945338576149731831161730856124599438517037858043942362290265204684284820449770314226340343007263334910694429937001830431510559813314393964613983094296391883771016727693664961060721152033728090759047059551398908608348293615468131429859306945763837739964560256550312408606527454093010141712362739315177563068705915263236916924349826436517271360692886568665419320930197767999220403068235774975554874364897450378728238156126047784441749194271420075473445082278473575336471357475432144019655110629020910554709443364184731289294545382161300585196433842652615468844987789045572903040930706023595097988035890526207943274693100456562996696708049109074016527761845318969629191925360482552495422420362383568163678672553217002436348620335806376219238071157438667644775582654158879767249862117128650310126289767844812660258813007260040328214948031435939810541334239626513441873063533506146633009338581392859426579572501627870299864229515791709441844393880263258367286985622372204390638766941333367285075065814290377864106603231994133016910208246722051759738990493028102092746559644546286905419739960486334789948969363987367497609296576159480215405233577744937482515810677452433592226145298948901480855673760824231968849611993244166828343688253873800182170410065753819409304322765782377644588065450602504448890629912228410110438051055430104939265919893341697942947114983919433562581928468642566396082903425452499823611555626467360428811206520931371856505676898396357871825280781742324256309173157869900023418749606462681928913333470718166976474806134168025483106491634341762153636919939489523630848433335572926564017652488777882585887174861729268133933474386311957460836995008737609212910208261412429113973364021689514251667713673391312784705260412772809863016143764649795157388506734280387916617019582075835087018807846971381677350127576396730201334496048583476697004727296999469428724733112540909490412446226233564361063291248539464595729137582456183585061198737221323554014915991429944806313172885001403518997293884852432088572670379843486321458544963126129069190439720659232253887536922190140447668250497172669138136305773739926113715508789184633582758488615638036034143485147820112298501179170297890402829187052472038819461593964993160870347929231819386763158700670042192189775687096967130745524707967413659920409407304256459881533153200131472370594231197457444355945642680766496562384421395872819858152133899300013615636411779518091404249482744345888211387204958263932118595564383138250302974052994606636602143204123829102377130072709764453150315371050976101934821903734083117874535668672119132744679193481924964121488472639935572642201955952699499007575110789669444032963897500836733116463253080948048552686922709750319856258811611588858393330304654550819476654140148713574299479925285049224624661815647459465996960193848374549206903358854244969694917524740409913794247607904133559192113763461194619971346592675702806032416852317842194747644237244293454527852898342695193954617203723530458619442830003242952631526839847375963127151829397318199579359591110855932907782268422438891520814014983375024618852986490675791708267865468952286077293606837963571995820317146734128170153520877512761684124263306045873131620007241725842738954862116244161613621441614879667609734560958391151642456022268954355698209084595337733857953962332926800318133112395326543027499705555098735686157710480875554000419737227439517764900188788249225324867102799547406640407749409561872163811849021616820022669039449630470504588023093775491102834255969522637927980259054995197404712753560619068645701343317729288694007471740823641268576652158187154069757914909611223271530474044908062294168517354315505372810949860777912482294508203641884283083184680570552894475800240530414767353138148425991828243288647131830350462165694386880078994988708798458170429921257064250491387516450459216259056145826138932592838282879401021844462208538574351358415404784018953117460150508493215348543389734106091528843271593959051847746955741028410649725710927596474429067360960713728193243227021525066022088505595474876360970194146026341044461552466594133110010085115234048211711869169663102572826069817103700853065427734926543757371180368061284952530081727541260045556608586077511530873957723523234773485154424210771622428228742220202087084020858140687087649651645664302024181065061920187439502291705470636266315422524635524302511513314576281549345345787549248361563858434901208967648715826531653808358124143162130268541276278510955633715900235935373440417563922982407619919230465815868116801790068941619658287239668636792730420663235717613323606480623730040996625604484988672262876009854168452796996902917556362881499541462570519133912595095401620463809742583830240257017171157111860280881240235799654914784667569393353146634893074737875008766137688699014226931848147688870562772716426061211261017668850920017414884369533186478337069161425134850588575045552733256981343303911410101895773607466791922508105897063567806414022822867497809359849207395703970392790591331238214913224325344136106595465035591610311131350966208410382503926061134459275575414963249782938086379317597522759290982486121042211299494447866378085423306222829178562456019263048442787449264870917966248671422092264439688073378622631102615243540263909116756982291473688931915800700161007404392632522382445359196967796581622325436100892483017072152615659755229043504439578246575652354219519146784552661606727068531935248002128756271302414432962640016885149013504209094610216213825848983988260333771087161293089707109967425968997509379296914031482972037189916875898361936361042676940982344015162633487510391601954940149057283058766409492535037202974494435422122011306411643713390194464263344906184733235255012301495001111926257287685210900738555768675413573583581924393781540580515988967089201166998372651487161158712906509713559305827922922222305150747017003793003271522749653878997655780516723748729625917299438729340285884798599554083456382530370667018310317272287209724974515888802357623610751629816647014836479274999454637269618386548233851726323702205284303750900037194240725165052629993862160430372421034023193400880183031560166159450987412354394210776420149871181378293798501363940626246026571755100159209177000142643281359164988229287283375384830318291486137101173524104433736150394138137196818524209329210609454392943303984639243234880526119565293085650395598170671027557709441300230594485286734747609529749037492297458175173257327424792405045563088056513850585509317788207052085174186729218665181354832918292958106945323046858638906411274166426074791889059345958462952449547516345599281618578886420090833959819105966466934729492056826558868039621529624212350511159533182606946175487564200748360132826615622335811031068214770037548925657064373717416036284971637199571679775309736846592666953493563459105748006829716149291226886567091444066275161889382339732003038569129001208777721050721257369741847412405037124276487862015943222156085060410658286299217244981811843388902138861528246537116241667849646196752422200072916562800955621886387112870931262763406283563932876838300753107425563120917192424169964332265629402841555562641317611454320915822999276160402069963265494123228536669383445384468616743420526093926153610555083827311668725620583625189576694199255064586570186038729984330206435716184967566045048144024837492791276382154777376034110454802637725262205687528242294876820883663237098411721802458898615136213625746776165534043861138253069066982105964834657287509695011300685529299553495832739321486504992993254645496577584285899914061332773831907038291307881142081723409495146022339226984369714559973017062745099471388809808396039151827069997113912521209657010492312430529785019179482288082345968858376221101911457772371893306581579836828865448365145169330330186399467076071410240863888884100688245341615376318148555472847333153982745187792768998857603725438881340998659339234353830357484513264545826430309001127997485404517902974657977395723500568659279748767636325808559465614835987952847204642148758803436486160255433931783227027805594687913442206098510627762571311458752524830708806596203010600454878415941916909987654598550880331666620159235960976857901922816647854476622852734769632323672270614123004757435494537594766890004895541236360892015763695243964792203972281329508984648736503522656176589296835058348137911267311956967111212466981129766256206339929766366981611093781280728755287385099290379848295765518522390647737235224734859179990152325567315665230818734375450899492657335426281411911165388576600677376655106686904299688225676242632339563284421327132873902343569657041574900104495850491120687252828279554532729796161596469864480532846249776132535006210101788350173293602334181313969684534289861464960188895084216852897689953469570326568678304825451325268249547721758625576067205430645340771372233478626907001751292002706631026200418797830717527896863926735778092596138874317086540584917685086710921974885921577471836694200973978249144855111846357713268646267596102412461779097411002179983951583546337159263460194495034292135974281933000585120057582348516097701835220735201468785648004291462121887648912273104246050306779681686890841918346459334069260857198683167205250046509079847032649470154322305154307399578322729018233267715494693385695325216888830640632316030121318686174430882373119502956988450837131124555740700328157756404759024427680012429415248015493824692285800028938703501773818187251773068260335578130043759458006356891202226063366459893472951665117903247561863676332743640377883503899930278539973581245398138086892576826714873250811079036146606514347545099909025451307494425168697199043718236413255638331153419639664412751598707456278461232918046094493911715505288631863110832546628002040810608008464011817226135988572256323601801001910148232534747472548224052117630171111452740130315569300676529245909229505697788343623177544907187595753386534022379180678167309729691883916593853377046673489214660765109512045291534877246565310253986685828430808701139168840814317641629931054096733686390119874155135249574566667608268703203881038761740709642650532563033678496217962750551520601600560803691950311755421612409568950837691685073554869771763630560730981251107501694301371648127008949198795817505928815092553930701530616098468051658055591781922572802492187188419022476449324911754252997169122010588356845720782334716578216296697437447024546095435569553911689852866895491258411337536751979280555845846290673643403815841259745013341157133498335967676258833379030882590695476044131937985489897223378079879645971998516260880308724237512149749590333851754410767281634981969464217241456486122507967446579816298776632890576114782346193167881883164414664176977426906476987293310891930006831044972197150635475579313997643022204175514398507174376939320957948293789163894341617626855231011800321320264447523989427392375898572874907375215883963779491696060318925760295076417875355252849186936666441122849736892035863159327322837129430209604619947614961149500020721243693222225569288956863781919760630151796132746026963977972046997576271413447346691999505262074826969763535080951923880452302648935542968092802055435156193661973108371829648525805579720632256465714875299037889777804807586727544937638974377741680857441629085241491061332298388881250433553222368212000227962660912570484407493296304620214254528897121194169252998184390312840842455898411752106986073493260132499652651759817538905365950324341269606894785675902845061860912988968389257084113521758656407264427641555668405117527580456958110492149174236075094776475089270422926092130811102701898506989200878786572610194662929145716053284541898404936850908684457497134199035536056218125239914394989139440782315732279846119621211843528004087809261569095431278440129172063480580222478195541877227092999919125837323797771903450792357255050883271855262971862646233374138919729933971323232587740070850271846286743880380062151373997786674363170954566217801176992686519799555240422147346337106666316696434588897365339519309244056343153122648928554488473158103476856834666485107553000383582822847876761941357135930280217069070465197152494021179523230937649214326985254925847831600246409404851356646305782292452374928239684197337547559267698088939766046172731839668355378686265734543829120383354964200064114626912087286733683784156128867657891941468199982803841999545523174347980895004431499248477548660135275741673916269749777496283178984728267710438901531845612466596242544373469346462778301481821796114516485374771695684477075903625063209861481503508312247904788960541539714276619447261460605216097468525902379653894409399218465163740274778915984465476058344090938532578840495371164374825916162277308516244643893914799063470227578154891514463403357737504201425838788517757279081075891671432566815518118119605109875620593370210327307610506845063854178139143351704250603860198755405769558082947280547253058827873371707138872703911711471234780214914453795415846004746521293236719921244558068671869842479745095332513962339014397424841813307702152674231235757188962742715136593407802290468217964898360975309512603934440983121384783726575968519081397249223521243188785520334160116814487178668561063781630752803339606911169186421052278882252937754991706745610007945774474649171653296759945501545132697286031728256336768782181822108449659755404325925390069751795196497474894045472211372574382574046796370378198534690490131400951999885798356143194494953421905966238069499668902760031851532987488385772836355563998303899813306251137871688706356011102620556538361730207747119922279876355330692313486758983515060965565240483286661475942108179294232475908240240202779639040325658838223828419684274501058080242158725317482227960054721765287892780027058672628163097203061857699683574039687171192495302385030049034861240091517355394075618258377276584653775830997971134352818739523855099216734231581470361748961912377335876156517303915304627391053397406236464154858425695027722061985302746614449895319563525751691990502395661888418306568327232050307564029508352121884860260585741457529851532738555122039651235358635317704133227045456047170278311460669332865559979757686391671180821753029192104455048309259738271859859117674539562483899174994435465155469609498185474771341474142864261580111626551917893075203128036233398276252051262948350570382345502039616828913098118601936535792166400431056253548921556865350166269134436411375215710953599181235084036224557501588601441371396069487161964095886622578441339710226135913288334569790983620817409025724223708527309616548982270851008252647694114351886298579361819435151825023504988830832739755180143706996601600382990889166482372981040550573284556324958044399087795921484549853879327319287026601246074258604249419046807223091892536404057030479455281364823496494747077391431117921622159860142174935310318741149476201886634679658033690952306493248296968190744168746054889238319890255282628695564130506393006771019617987770089424351455643741375700918407913705022666524735919500415650056310650669979415765251767433997615027089846432109304063024243411335707497392323746575885686228810016971706487212077409197491281814336268976888247334425595658682404140343619962829596891612230384519314007598400389037477643338776710103182435740486034159490454464724022504236536188280060551121656084167220433795955323510260672471185373846113778757945795646271017316287462183557534996222513175918487352143543556612303398817110347012723807919536242021008582434038319411781037973672634844296941549731021450338653099690790386831046419800130544058405450952270599270416362431713073647808651166283441778415732169493531111559835826481270996957118057935076649300754070281982421875*c_^48 - 63703487705128436891325736956155529913792673930855432582312772184757135602141331221661303101287893264075144816061173536877385686431456387017117520581410547004260041164146780703538697217816701344561269219280164069522988566793329424542062153281294556990937326041146086413831921462100995126486586191745491403055317108647803565598552545775384420012978173915596942482843785405498531929965934635388967611387084862966866867898779027001873778977852288583077558964393450888075663703375209508627557208214697848994461215071268025427096685690935638303974762462662502241912963444477952116221054282339534190884065439836898271309208113796866866590544634717503569098342239465478819792202035829915005806346092380015642381821916670683045993273238199458076233695249800828567066335735709619101738847636486248246795514235951881289952781590627536077389255128989651366341330545891573182537953692938506249748828298188907833753477927964109282443837897373427009840862788087522118468428913717759089782585516804957965781865689329239211630417261442897463769892139288018345338848110986603382651877403942408480664137547322706625690602399310790759274995556346571082792005230734258764684022662292926311631783109850268121955524533308921334349663053049587158604020071922574053615017031389643934078249349194950003071110750469573797919308311021644266475741121898609229687829681974587571604407849372645257700745806936790813941616033051301436674660512437033332933411218542605917458100187329262483388429106401276031044399480025623123487231516220944924196615167093176564085974502990853873580677053610925743134981421682441873604878147944425558387456759614286006493020264968709640872588598138962921302564991165615483888498732420908610660930817092342882203364202045460397118965651037369531415440226012449815051015332034347197098005691016921394753774042710373968475005208833606335786681810706526154873071560635286804508876273892514130749809390038240541783719837207273593250129310650185340902433864156343346679987487853319083449936998802178558043590816528901706431873796683360190161225631424852604539057128764538954181810128027214687812497222000171676568566114052833778735207357676449685995711207293618490832804220320476776784219581136275902019297123029377760667279598638688686589486596843130004986010437115990023234806446312277968329453238284627925279399660028036178843912631152469653923253361565749091820119523569080224986702651517706070252382526591359268732447396298199422745161507682711886246716628653721884588533325658439162084315474734810390771409158754429569248225354739750731801936227671870780195819347497494437896630586779148497895824376968781171958055288547727032214825182131129829310313195816071726724569500686893704762203090786675645491093074499213089736892498908215771156684341610957993546487258166637166062887300747156366319284055334023493128544336983407566772593822866033829534093911782208009282629467345599659846395821214522290312292079393238959395188546034307427929321128840911351010765761753428402961911582752783272133199899611360731648369125463233823193870473535210253498894269019759595959175600128146087515467068279698136750548136849143825417909327143827082852881946017917814603713222955637505970207186426443390272454457892522219607774756249762545674437841219822165028488976408665110151121766215868764723037559444367779039003987449343923307743977216351350106401638531460492178092043724217033850577795853970246883108706378457007669211338744135623223531007491373885788176008767497651238907336467708716413351327271969718407166333792945368937214747790836047546937111097964474027968108642532572939084575787291818583035722455809736531343103334596445586624457534215815557502589437569156516807257435114700229706009546566306656412968976867290824424433414861226080308684536315638601610316372244019163440316796276432998233620005841189309254137232313154019568151478376470819984342660086354710960305944848553511244213170870412621233133518399087467048366610156481926969209943040818582778994388066073040425894753998069226657192360664885595036645261755903530779845906951136784890133903319080351559171745639526461853608173999297980915648037929926398033333545150208579173444915554581653881458413111546338444542801841967829336349809007796498716249383416217052729121602126540129273422287222176877832924452885367303606460137498347359831250538781262108832646146273664797927927546167778280266423298920370286492918548901521943392685597634488915946724866253240392937982971506393787138389302201844968265616381273205620109046973719623916554022445586297092918540493458917513118456892441476228506526186349845557008288558812116655206104549204785491867967757037367353844968804437475565223460237394414496889538341755570140324004525836529452632885603983815693228592418855831708539453347991282322631408439389062337562240095537729223847117395985191247157420387442630975796923920351706376374133017345740785360174193421576806701043201539893788604824532017679099224855230889720023533774844440004798792803749329150747006126526958629715463791955257733893291431234359780573057956144619236235510650644041448270709670321469454695658304912207288571497091154453354947965574768765913660654209352175126113745186140350599439213607277273558010642005568828160645081678049725448235151981115245762468459204273334384295297628098253705880102219021740069140726404286306465948452305229916201110188715094913636209183243730892915789234666321278688726689847902955477824269844633471134004601018222056700958753624584685795276820617882392417925515011705598058839808687121822949479457658113495811019000857020673782839693472701632219219018995794542580143130333897991133837532303127160575325314699286534433900103139123706637179940083812557452955590876508435688321449150351969290311066072061357129893763969669089249205062353799561432341491425747225551681959309175973319341619339765996837453412391392261956872827451960242057533746498167673892583303537192421445851941710569141510292141245176088923604902651722746573665701600408197223243784047310613506219364761782722663100898152644291404865796339183665310386162622609067956325625354738062456841053704404878374729927131514124958201416596130466119170574701591615277182318561804278127355252819162982314203024005467710420923614130445401781680100102005950025862879109530233703260276895717092174667809061653572118175004366937494429941956157132600187274317426805089739061361280167423218105688902284417766165745821382080575179215530483609858795916151957857327100085438019860852400245218838345474927957920578627979583256229213525675630061601515841619915564742255457065331251455813193957230793992943912696367550242921376815340549724186661985072471573949834015681699093726780200769591874407972458904119609508261436999922469785027988219948199811545041511232618161167689114919336791169751601209531205366445699828867210053012372162598008122479611704226301834533577485832959619082206463695061036490084250049332379327422166641735690998962952035475917847515029523507334007847663422620256772660364231512882825893614207770995973714377327652145288760795547137536131046723007159276879631930936089866518469560842661143448900627939086525983317072117959012308529923293617058324839331150896147516991285069234033119079849903750183839238030278428105091263803712988897595225090428826040302528279536401490578223725751127606065566698399492705746842960416843273239015411345729402891316644151351885244202335098880165153941064170466899088635642104302263422956330039310454852125461983078656290596702905045442677133690703544676005663343646304472428913411740983328236695965732842127754307781543912139689040623275606007604590222528615866729200415131112173343136795714129363277626623855628577281307977935671731769345425408845022059685341351824237982024732710641508814166995219247868332945476065413201147297487696561527566148732321699604888708739463800005119575426843614570258321224826433516493820341943020189130527918043423420911427561186056559564000556891914039150443506290555921030580365122226414283916245437833586433351416652254136388247525582626456576571436172769548458190163145972894194869046451136511338114518929422127091776207874448703238919187932750329429739627391043816264020748268868918197861058025660862425747195499824651988225008442072149218917481734216364097124747221937708233916398965742329119584278706995818132272400362102550926213382669027923947171422650730439859365966580857942027322975209551515254956219421316029138600350447108293223616227585852260857053851475264461797229963875833374474664551279158128000221259546020276761407656574074776610144311186537446186466281433821766767098165939592339687032829469976484585402599709053540543030323208129200565001500312294742814335799418246932430493820191421563814903015175229199169319468373236197861822800747091344373314115144918688283983929424802602068896327893235353288212655123882107764983063661949373464395338442060576821040497309704902894383717006726425232710947108906911943664826090804214124395295674903777237011202170346811310293704363606763893654019307387735068815668992116481747780377246532365923098469279029039439102518493555812836932177690050532739320682513355803690363723080449285743006010886779697010757688481055207926407973381356268070334123636838717383529013699021320577613591319084458310834701338359480225203470238200582204399499138912679107931110371331944277910915018442543244777442640246487161086588146047515034398073112429599261896308629210688307664405144189422805462993473683652071523973721933709924937040805484221946519501619809538117383497238286210564022309934219231929137097577097804187433279044909175821098628365735446216702436924014818820122226289115095067645703082498558272598819897819542494944469324153012739503972084621316077853971641807592112599501201609063208840708645596366538803320202260022275248067048372468138947969818828660315428714579803880724311484780079002752107908358640861280800160657431026798088610368803544790191761453188552879200707124091614205717493197148447494065627496916707086294605942384011074611792214687957666216512184014456529605573413532075565030683213468310269958092194182606746181736852603088751715417397187097848298480246228841977600789679787521506888844630383110635123788507869114561731701053573234625671241438642313936291617830133722133309399099510669405789130209490733263253236824601382624375557536737792350830327219557338218988346612318816484112774477894978666050919570317336600121536950447931651245203874001752163422332804449594248089530429255990735395496167258872061098434231292910513806526409289882491163971919562957482541591584838564359393397415302022081146149290860215819251864249331475313322552034206162146145600076682003169327627783765927537841765128953614315721630676777132398541654671745825918050773418019888725604990684869323236962241840271178068270818147271735879718256878638862302376113689199837091632217757392255378418919270354765650467270030817929323687221171924408717230096162703469395625194443817757814795570379936549341883323615434370724268594193986321866902545037097673522002826927668252558004314208753333694917147555400210567588436590138460291535489184989044582928076767274295505187993099702679375995533673805539049658990285822068912466255461207191707850138550079739624361073263474856843796961345239789642797231191458036942178663465965904453548403559560645444992633375713119583658403650353690466006527798656933486406081501125884420207670743935655646306283461067523945387116754340294902412928908719617853018506603045387092893298872130514608964828403901499881558805944850070157828754189819934532864509466870224512244978677261275944744043364734983788398525942275699057706550983980871059827939876957218853431132507122535777325517374590048726867878335022470258120753439515332051991710047139198366865020688421083417712041456019344913138593855384760420691941811914541744798733754309404971733351901719780083326954810216014238629121096221178679972664495481561657402294261406115718235637197812204673532962925032068672899823412994107253670619594046715210764639667392271368059327852334991288292771682256587223477454758632374876912644329623811883531135715384084414842129971891774037617361296219073138143603421082457414668890287554743579518757801003928038516597790404052673786155228555639863609221164738191616940974155676251640604801820645750778477500223736416068380328159391262313831963960146725895022719123319005071112499112804710987088176893101297887996770761470726701229727411549254050702572793561864229090749089042842439819752718482541845774194313925298320605788437276626546252084537134000294354315163736996860498496232679082856905060497392695942497874936102699259219576994253798276698303596585819276607920317590392095619192802171651082497586132511534198553896669496191398264362426840425245868268548857643542486432757737276888725496096473961811919592708635371513993719268776738565139854333711888847483843349057544970136528954502344222251842929861937909930849379513295018387566319762619856709488903368354197377212400363554037243871450904982310295221238628651969451531731164846002367992430021065093744444568496538542856570927153119242036677447787975703324684844465610022954013095477509404666763093452132134248586116830774905673025943687202416323979443553998551117618871326521510367047996345255552260206343356132284202366429458379674004226744028644463061348784959178392296910952196184000418630466023051724394616348340650169946112668488980487352827429278914837522185308355955688266480820024477800451275524833965869777983974622731217753933985886799235372333954815545181597613355032865820298170612489595550181823622302529337955535096995578867737586835186298327143648370212748074404563344016856827057572160946471312931698866986183339050995015398982316877904335531335161675184291581467185454630638907806931786510597372696813862421790691593029031706653122461901579076019163864240158267811761675954656534734562695264296872139505758032725554608518524125566527555459413595257542505828942947688430219020228906010277923179637239812310649871632869553967329780640940619989922343151055279125732417996001295748752854718721817479041162404819938693704566412579607128942270672620171978779693988518736312227505803300287430249965164792663227726809301539527929232798380395305055907166695081363969034359188928401606909942533082168501495909477406057217268017755482873261129766935727060819828614799721089814061968378492180752358719456380747542775794104131869493147493261135790552246992085268320616883343348433085602362709648169712566581816102581402166027042872300633453163127701060574365098955896856474340066914863067021247105590244932390610688284412279395390768884891026498570835088968698517423229257091175668113550825617636033206268396415582813159618663062824881555434820356431620819098391833987436426685529542017524980385773090037895329560990850493372210563484100051901716703635845479366964826592002207176876310841000844800784421138818517247242470697889557705041938712855036990145565643337241337296061639343663963932352353812252880414833786932942639147969336162338011353567655224132457295391376337385834980073753764721286396888469169820975209842268536910983287069156670457653867695969850839120416034702754537059576800254288025629447840445192643330134791390183100106756619239980062186389811057748624708713310183149565225860971016366024786163289080293543089013601137045566568434237572461066454212688121976016603786757654253583723398353423483348420613393359688116027828309075062764625720922953698566475875797808447473080360327125944765159618182633998647562317753692123243384395774207919508674907467125042518878353003705867996697957028212799759002248311599988730989577688454299548635591260226585441759620661959076005044239788050311151666124101248468134062377619352155228354205709743275642762576883349159088708129042991052479527267150909353260985638817962601702753608701968223216039935271329879274574593471782351309563552465739441954762942027657558393567007131240294895045268611174148497822005440206908415858961800500982793942054657358870262351662046425206315181903188735767554238349613274391152941104888246488760720616781305808092956731272090474630716745566456827535776961092478286848173179752082715691503640001650648272377635069641729404235307870479690370248350106461761077548166592185258651657981430040230650304926147418392101168867882655570113042988235703193672584801927644850996982421930422868507249015199263233283991312635353377971377220303131844987636796419127406314452247201720323974203596456109853330682675759512292346169759832130064262724150611148924564147239217746104861104411724246177292736721246675595044496353375598812483788458535243019916335838519043916866322529271400812049289047271290042047368486156205173849759837392616138278854614437411641383504315777363939395137308782730320263522558531130914535541857716640270220764035006809598107000018865544968966776115294484567768133307279616503621898336525743929212718945777311061021373414149252126003040580480388142445562844033465522933909824775901353011462560064529996699667020702788898497727369324828227300352608289549089762956515891607918171519299255142553467620176454885390182434578129689577404013542956069909798139851471655967931645560815017705530301437177895534219829405179108582048038638014601102354957300691440050983042868418195812453436309692102931782701113847777837328058393440138080924616098905808160354997752881428244951059438293541372930939198142937650459263688088261170321016091559894843222314952529775381345392411452428500632578717050475066637227490460532103689261104197541897181402418031711510020807182278674313591800826515545737705208332594801249655769832496065293208852851387459851049448596025779476436184753664258970504615680129805560277230155888463866262340931113802755991589013754864284164337339413930100487807404807904805447248650375558672435872937747127094706522453859396661262736245921794564669593831584420304753346931217509577627162269304802212335463898599700134955284741726665980394905911022714201476643194350118991336224391500122001983445829702354311084977470197158207008023048201644071836920983450028311358067251404274861179014008412960728329053720957518498063273396210032892115603516697257430296331733165703443874642985247005915248216130854258119905933191651208087423973447337993076171351784787577150261126958060253786368551023159168050083720936311490818751902339616067796741220600431539681680124058266794363906553180255331139845639352769607976490287206343125475858326511676811635407761430186219045081609590855866231096107703319978991683317162946457209224660659060208287576866371244618192295959316010318088492275597890336014578649025013250109417281576645036574047221483488604331313167926543493099431101579352336587022134912838661014731122407328823265489854676752202334406758694162088926940535436481076337378514214580428510448738874434853507548726418302040716271201036204001064789635861361122525923926949358607544832979897893410630459643440058735896490472789084779754481998571522930626318026568301048317595839768649395804026524633930661144251779842949581410954060671474145064562160725278021483240825167362497327324434399940955317414694861485191737069623360557359943038965286473398411545385891366345483202591397438158688114762346006504007921779433683267189215463816345737065391221153620664023977670178007050339413109564983095700030543152056803040458505976170618251180810784231702851792204168157339173536401833314696063523572497267263931077479236764503405845368774401128255010796859594511570325979190506912999841167410010602459835306840917980950763407021824430655597472814668964337239951933815811108964810320477299711619287473299955241913046429556067087980624274765273854899081041332838374152455775743853825636034700832529391552674910292511801395261718943076259857481290854616653658692268973701645547861424885271110601201332472771498490828935460036324709053110071146783082753619168228956636560029822890697960202467271057829621556762716445610221236934749762860957560644681955562383150146052016390556692556170787063694873027666689038341459805076869074444345198861117063331148558979312201439941360690466902997016647480919604978037369629542288371512424617533593241780310225231202008236172030184643560774331512882471603376268679141612519710609864949006151967236262615241728911170284810183216212918377015019679476678403864751934878198841960872739222232496797214228811965511932234723224716313360837998853862111595747129826793996882909215617900790314813463465872695459121631580894180363823975678555240817235246761665212707430649673488699387917351757261221003014013168559877740435703141856593779408771836742409108161802575859063080375835822025762399970601738048984273873721732406026278543855446639540968756866548768679369887587239132218730527067335966463216399712320535813685665294301106901461734193947024122886308063061680966307385960771384468655868316305227431138444594324258922943033198473140927474072859326428021852824821490766877099396175303922624518476191864014558749856357350598307656684494054986578091788770066877752495311722773677498020158938801995681903511823474092438361705780209339552098807134689017821989552456239350364954746308762929159265638362709428114987020231759276699080490283090480616739855721210024258690074031997903748093753326742330630292801743552314384730839991838809167503996599701404826882595778688139446064082020709715113769004235840016566790691716489625183439929833809651285703085797585180952651520229922233472517870520307635870720315781449427689814694136261614519153000432974854469055394738028140653280514669265264342275459557271597349798463683055901351717063828018288823585999978707338344384287019043270741345600674373919835721317156751034958538315203721296064858991365570014294642993059760027529931575249467868364577156661742763588230827070614003551171253205913838865890963240715438532940876992941585065924534696321793865980693196074648294553605128566265987818119022593087331574470450840680676743904557932368805620531874347817822535957830782249850401907372609492424400793148944276283082969530984461631281934352013931443919750577389737034985093383816256155892749028691457889935479510987679812697024803426962645038823227471120977001246927679539426230232452780417329334779941846357021033645108461872448280473359101304897908821092559480726579536021638248078634824048033604879656281629130633066362588956100798765401969136165071578777184390439555150592604722464507668648432234587490270802537915981252009528489694127301159931439984984482647045472949951954136838484703119370264839723010143547290797204754183273396123884252839976919552657465939004747820910250874653473567896149043290067178030879626548213588882793139675485386522034047046806009343115898170677303509836162981764048133633904080786660867583964876457666079846838648896964101083260744029102798764345163883719609135997150873150529548447521959444659024418986681872255054976303201762629000163907269475558476712913578924727310778994871248361960743522196574053346147404386335805358833033066446159472006936293284678487964213047611418633634520965038768416977595317589874641540330380173099604614994867120735511129518362249427893940015856451901479294779790815194355666714515783917182339161367312548736137644848197333208065702787058871544124890482157302090711397485530042242022450171968600652398619981026394934608671863095359531971752348524018780063575591867794967240965231544226827436909885366080043197605746854338640579676511514319319726304620329480260256455144273480967866055676031883347623511504614539169410118371715045765195037141523463702821502638421668295090253284186122306044167950093583358736431470896660454183048595103010924699100197024589797965912121083277329050404707235166232801221022459170751904842494633451934652546551697926010028463667782010398923067489494027184565541878424734956693825524742454209251334578915438392657571449365410108899013711995398817693129386545661133159636407456546090567916456890993904943593662021682498701577386293354525294575945490938833187911803556019329266592398047466455702656012754634762457067458921078013845532259676210606525148209623493858389010182613359647086464566487890387890383656618533471774353329828629400004573465759553522345878198753386629755593051952350012989931895830497348843512636187678916488036607076895541373009807041125324466024191750760786628980283580846091072977024044675357634837454226423064833436428237963535982024463160998578352723607487280426949799079718154663633704132216446536788528714789082332054293720024286631928922129692089849889695625170617147709847768420430331322440094564778241291597650286153393184825045173636156114237302893589674213973747216937247587212676189803707245455256671223404755675063057848640268316750913352304478055702949350409694244604259052351618195691098133652531540550660086729470006983743984838183636911237238076026259910595414719089256517744960950904289763916012663593739726128011078338601013763472047041603660854831344073287590706003141996970712563823889606404348360996196930475331194785516403108904714039792981117130629105247179645287295310590496825110924766615243798431218290289421003868925104495001431581948692914330209449275200642286377351569090703812558785639853129236190907016091203296372488863727344857127179898927122031580318502101906109101009587624104551883934804323915832799096724450753428352040079885562524910443519850518303124195866446980735555907025733571291507541397168702588916981189417957655693177138318360145170734498546641416508064326489964572310442146314978919239086291905442721744265601411002649210142325875533181435531991070356110784979446968535335181767415342544617681058412094983584380952708226564353739756330036736408540916175233839504234816652763733821913032934588513711665137773081197196390069498077397658904923090529109577339552022738879879835383437425597662688407861045925247573434865593689818852850219381128164106283945502563245233832844601906573083829274932749470281481721823159710845832321743504596160132650024648126164523152161122867768864502622472848723366704759673712650394420835778989434194812926047587700157300402391011146937652439865698322599349984603140736131926735723378479853487638324064235045365989226656905551166242806986011140024088607783378614178432243777553192415815140999269625905640439246751403669990303667985444484344405441142537120612213239676878120159090014852432761607666348235988865410873558028095187611526221388623275670080131471565894588418488392767233948954624706332235771801316661674593481286384391974401441859507285061621352247206941573916970396552015847031246172503014183614910784073862534491906404789265159084326249541914942743162921951406781084763152972153631013720001460667735272528562942000030217365370857204543421076207775686609316060455248531865374438925801051985674754412532663718794232899653870416567716588332160578023462065953196943817789333938131184710825886720588973677539860141004921623949642629516594336330574320952485827140931211865899958305243170865659006862059170983710402428221299409569725273788741716722697403952974464028463020083839823885466094574940927915805212567008077073576109597253655679021097264305817517092384288394563080406774598452254179444741057132603891578546945425607539420720995502933595481282480608687584603242198654106334025312915963698035685779010717504741173244214194693565034314164102802906459647776522366429547153859638493633403822071159581553610630051929170799610135044802898825239715204363402498977527606635706407047445913618876467819205277593818710771847064226016229322325957962436719728247695000784140808155997780833698512124546726974495253785677007909480406626837259001493260283456469328569493119023559582847974167409137879168100381337062058467443422878412225779919769140120635806405191384741635708874600586473484215105769623311910219867515970437884904706847415601507599258584537896145724273359761679294201927242267986165365673721571937950164801290341636299770353813296023762748370843847141697139939447232808333383300097140775096920027307790678459640920177836305572697047491263768868858647809492327746866906277586752835003935290686081995248529939052819035920643442135546669071751276439401972401770402428426601719569153471401434947621086670607455526830559091039267933071783992377281789364173750559176300909809514693799163043749078663265996230457311311987252262227463669957324525312548514172192723933830403710369565325963216711422160563034329268827596961203411080564444168553895764266037335952693531170356325380134499112488499664375001683051834398744554599385970453701334573013864678865072925300707443237606018254363054465760437273143765771864952224725830292841143263311548024155013881695608509192036090610101379519226346118596866359278136975833092244230771641954950394415188603788052750561016429212516186365390251797144847256113439769133054530950358369589042093352657617023355420635506548233759576031039295988121884720855213080468972386970758428251182316637753117773385922240383639566705211870511852601879183415035279859898438579794402670937041941994303148656329987609473264625837241325354292399653347267332288439043450354038060549270690253872287265946217397702658621211862534895573286014682021634945704196530036843490221468120770332885482396245444680758047502456965302379981034807186727224550779386876330846799760803674069515591086106082882201601510493672376108195507965521315709864527151274512095170490415601703423039240203902701199870055812842275481534155158822359451668600392438729995495273553323358365425505124261407556868133779471839014409883643132599912055513180140878843552350399999667468970006395097590523989423743779024410878474586797852146888006646001735472901404897915754958777533907725181095483352078926841601187561979633547466419329519569616094499513463201940177077859456245646091064849556248550424492432644206215068526907355607201715439066708760097328612384385924936657674038950101460578387704758314357079701375581080151293969986667447823968143593782354961833692821008799101209994956345337170714258448107887593597522861038314727214740520267630599993627041416189983260547355750950219094742105687662623403575233507788732730424051686648226044875439519745269483548568453888023675865376064455082879173290857849383173750088471603325233505601219617884987772369939630154327603816629512780583078776517542600395631712251997051805156560469883703399129294546265078458553872436710528376583642593924462474462514392681263767466434071492891466500637525730787011443582906169419449958151238169362562888828107227943864571887704548379167883286128155269925123829773088982141520658129600474405596781295524650493007876139215942896877913293144826768349380785754260686201776610245204316211951533388900508470105547798814888607562023417703942950729567711084042404248110592393433181983362284298888643845597327951640301453573034251576245878823101520538330078125*c_^47 + 8381933852075420282129033341753136712147776996220526470449108529171808230746017806342655192467076498170674979516714107192203279924593703391333400470588046607943495058642678957461737204155974609253556742445419184389577201933440978530436331937153891652109557088219785031439574997420762326326642994535448281919339651115385741562856137762014155919346712041964538650043927651614782106114759829014021214545048715395926605068056694635277501204888958265003220909586892562500755219584312989192560272883571270899677709930531390614539470514729396834570431545885372650978296201908853963693036985936186546822359136479780120340081513609427645681766900370274930968530537897311371076867463155378395495539710017420666247113954507265019980452041608672273494946351797505785715712916778332250607236977906441619551029185508983771254419758092706659808958538867446189767554480001375504665373768588835350735986119850797433303669085837542145943156727246672512824741359913625861977023227527485679621293781819381458403683196117520638019939187472192174026182824571530179028969370127827472861242079136333760999567487310922015509311944086695835758525268795792898158668679537959071226823897872150561014913869155046914560012820116560355166976130185292967199924863690398318972688578285743376132627997170206077183062657085185887596863988312359402320227321755028344700264315113183166680207744026697697982752654454572014078359410386927858404417010058368710015188225360467000246562030113154353089501187045697810381750360804449098890643262700745738699948300686304028761788322631650859730165131264306810559364713005530171703185664895805509805392663458388400680626544133578006196238184998485481737441258643835909226502606439484640838951672739036388156956353157314264250275137772009914601618782286221432811704149169223663388325900827042133216595320813376158534491678205842703156910598670321461787360910794365397419983710075296849864893791314588837617742638076334850828336511190251600903327261301784635246457598089347117387305976812272256672103068363074022869910274802336826292555866057053164549383929269563763772732264053265294761372022208917261819387227735381580143809631156221896260245761132269542173693651936345982639023586889121788486583557865483280158309396018682365781561498108164406047187800432579257490146259829827353305714259730851818780454368582566036896710062452804982360278112301248339062315022335962446520685993713410407041940517180752226517140619319157206710880753724895471559453264369363347699924234687862120463471128637344812854728931541217435298313340587881009525517558561994805446011138073214536563565129910952713477293828151123182274121579568136777017064123974629489046927472482395334114232255105340222292448456070942554624433133440642436551518279492650534124815411213078536330268700999311158777502953731004195511574680183459163021189305721080863019767267849298977634600321613553044293943283733338437822194119308015692581521566745532436239061359021001075184850114198086256103336386764318061402217693476128645962409066742680634447614049393825216977311529264858980101990009898069050582487424599989149697018912024759891030207468857759230072782009797995277637630118152710733117470234556068014057013088185173568736136201284886845237217417952376778380653010518511066923333453737015548829451597643602414213827502325853969681550883919253418464950911485143719763264035167559969737758488988989185087398485648571681521539139321908471267074610602440930006322394217902723960411296836498965666275625022170411916123183963377448981910157729788946937268831276175745687771504114522328624136249364549458579635142048217160721252917794318926702829682712957712584646718259021870567689202109441951956449929095279874272460822947096980899334270880772829816589900562320279878882415193807671928291958124684123296439357562904875813440575839907856160609118126334797951164396644639704476293893427721672366749947185692226818327163615125022363486593527212396990494166957067487862458376885912593870424964457162549112836088028435852274303397215089058381184683603704351910028223199896200821856144168501509248181527557073911631444652712533709284631489489290033808770535081977490645895788215285867210651158164672037230027443739867339339326643778973033441531951967306734430588410217561849906462633646109020322178004723322473654776581168337830562620369827629838321270446004950158069731476194229793391546205051659923708806681041660662858048760264996949519893962335383036875344362236909371230283878823254223295486847684452332029836992660002714611710567279848455947724207109255084672813209608258797534682669016817231103785936971848854389745893186330639577437434734589026493181173347976693089610106641469589218416686241593035301231152799546134484791115980515340006545243255128116565955734174150394869149646514744352587360609292930683759029276665377276798342161437649381031740660669607525649290950471023507356560982212470527296473462777793503681484032108698092624829906438314875706996163365964025023842171272915999401380232451733630916869374811734337788449844820932319332156988627832371289940555875304344218927603977800812498229604786937157085548103722156493498554893894598766782452819811086846703727170932360895512480323580198625106275715908047549889236625087713404935095501885003600189202078263840342229577574671243833849188888410045364448900695709761917605153267600641646699615176023826815376082509933872975368689390467683473685812369469560352106137758365754031629577077442705103436170197194046860558666326935101719952904233169356738369812873419386465124706992677544268713584557514190082283634385380961727185496592425369707624649346761462641135442491790240437901842971466111002170117686731661311278246297793353889036066344264325969076304017870153726454944414965989388853321957117284893621353599003595203848488731794312211397007958594751448942002016009319650661489997019021477100718367535109941215469682665212531074131393547805143602536225130225557274039735101679195231249186146179883098043408535028780096837600632926371126007970991193959100391645097009333283154871344341593138498375656728697640757176056077807075051070892454655662681623501886775599223872344236753515429645661081069609171159141452087906336113208159982093254914481253847841278507552196037373058937440657694985524720013545870650390269451637013663443329633600888729151813225398457600252151248622242392064566170306886638911459486489742455296031635353835273854563626003263804158018196638960264365111466729884062199397544319719510065804422600964950070902720470741411245486114615546139971026303528580962966539157622671383829850156023276034910707140097568933585183099726706690156718564448244193287705673107279143749279683337363764960776436496569820306438604065622081839931001053075250500272403037718279462513520848167133870680123195450325829987265407265331053922554651640032594751676154665791143845333614774082084849403113552645205441688948723291580108998474935546191522681547838685261048500384981952965449426642905908464587558950941396617042707145152170281012993261593201632283736052240660285734945880389953212747489261360290649743622410016517639355478198446775713882358830867859659197923749803182348324676650288971614111548384131552486378468865367989897835661370854082721538677108696392040349747952692269273330898386869874851181304917162277836741388716915242829434488653976255844969756642715252272292082628744497297903481949446638603411294162946671462807571169104156698047314102510848142663759228730624563821837061840869305288677688932718749847512969818502023556961921567964395610599554742784271437234988157350397625272777887226721519784870484567288734937391556215067515125625946020996969750472541498039592179176100462317773601314807521271716422422915852685795819329424268561636110134812980627907950789424243714406593636251044081670391936931634905159288988986678369937550661458635537756606463613457618274689404579571715203228864438715822919378300599188173934186349395750073507453382569702078593508734747080341835836299402690028923436669160631191283227319886327143002452991404278513147439639704676607590308914866828603174478375209901966056833163737712730304318914950744650039161501659033603398979571333274094660726731771995177074630423096338510369634930855278953560232273526476469913144525632825610342026321352722171345001270337491408895542867454772971955424330393752412997895518879624618285515297983411218853112185075865443386398101421522256672865553303811831236847429521365182745788224265067483337263027798359623075798645657702797098141694190117878020742998695644214897906219507893216203943431003088002239936240470472469901214255313235601348366424990631605114133986508257121828986675181629658184626912972768426266209086014547907872507018918155036337803560369611274795886891815206837364444090449002827078263950849093999370815724678371285842765989689417530451600071275148254608838387858168616953211856627567465303324625479588564193746279592558382003060577785563461571548401066096533074174368045810239602112059190067656756317497808464362511875032005832054078953311972855049815304695561553307851168907806801547812725938447271875193504708074239946684338147893688111232293593920204823683260016702804028268403665699789729159283302811639648568755928348557015433613254427040968694673258537468194101521940226584996674330529917871022754423473864949074087936477240538152485986700296755649755890018145464977564792732689645772049397215504533382705728932011006643652475298296871763430251122068202731677360405272768288688045061909254206325514366128724890955359209078945319086949896041760396396638182461337362823299174592501834849074126967665243231871269618056646702412342712382444873115937765768037003305208782318380504355773060079486345810932315586367617682546460277631991834998116694807176387365162543831658413175615377870673833923376321640324563430054044665951989484126025695726657319954677532569553140624358114334583919417702583046731398201175201698956447024426928549812081377783248122219476284849591989343348539930175873806439727992742393283919081892037113115191453801213260154972515404811113298148084680120540848989111255767750262076676426226904595617050691973792161939216193616042871189385524986067868065994959597121916434565528615655709572604747213822403400231961043908760142672663566355412380523478847521114819736083085270475786384200862067552973117526099097688158562545361788905719792095902708830077443755451074370904218003336378959303825210411879232429808523272786641437645653127026662554792194012622971129328421700882872844094357119763336825844949681914499700630739871140715888288654397304544716761850119038179648595370494665049444494364594003153306167963723382821242267769280712483715763288418483514876904739572746834437287142357061202683241267637821326370631748896086137210196163827771147216180064858709841058802652163525278510902768623551497947868353861260703802011581485957039270678072711946831229985891139431077342655282424878201218786822319160728241158082343671585742931735395275228189431390742506475782372739240538522883554462778221165474267014312761556901118075465368553596709045821480623239618280728696226951045665926065236693149662665846565101182837673185478355171918112723663651630454436632905504471404367795484914187017571532326902594653884746499331930963938903818173404240185138091851595110623449043566728531340673522977631031345450388709618580310230315177734179482142652733100201529430902533364060254968859773074863407536224956857592869692251700024778369189092569324711883577152424628052259787677706814637224552696579334728992272855012590797410650595922497522127389530474781518730817507912857892713152714436657151989796188639822740868510588693247608704300456091707760175742327785903620792907839662895756707721823848288359263756642328327248839779365003930565642192524316219699979651568445433571385310516575942373031155893656193994921759981709299353295342099550858903873764243281064554116092946467982081900384652025359232560091711814290812892889736403202319016952625858289450845034721828743537808884435312565969909754257423287100651191669921600366174146828759747001309966323940558882942767400877080653894095892065439534044888911545111865862142557206683422875228048610273970910609136881033568007679250025731420738696963647269991084031272254801491683406311523656940897295042054138293937204238255986269089371353154344882411347035690373511944891370756599472992228140891854090028204736291032595354325269396570772872941736709470707879114125080628905561661093543805529685673400238750502223306722424868913429784247201871508539932031054159127853016381087639899162435581456579150688611639540144603690884444185708568878693850685906689435681762397292365801254370082936175252355836465774270765686360948997248155870460212457956193796208372544467359220250968937921968929553703775900388963586567179532761196509304497262514432355019594254082715367772365933433054338885512853622368348147176474531204546561711004805081395096133767250736953717694624955845904255347417629421637205135331577674816703139073997348221716024047073608607550516742433862269959032383815253021738238731102747809517945802558740579357380009564383907060194729424914254765334869317863823896160859012912116517088725682671534636643702662072421349452417482578449140084657172030759536214834525497070090660915147873899260301726752618368561574687051509284309752050230949093568969281321626770778976762724125539500756329482001255424590628999527142072387449705037356056183616302916968546462266895549670160213884787980720680925693632910244392378439617268925884765561782669188581303795804193017088175835256305403715690492381579670571672851012397108450783213351768331345676494346384581955411021696803065215964107752557794667426416174508090094515215887815107175805510322716033154671739504985267203070812839740191061316282963381146284133883706411259246997685721631063283252404458654344227031475749110352468480303973845576849227096755052849319229547492588714321537889412140830233162918441816143803010564290700673268465950332002230510051846972972444934016789976533511778392903532047512765724817116996483296678374973214495685092717178998335746106514629058890983933772145267886033162147419628915125589650106926648918698339191692319668397884124074912306774225331815413977853193384380253205882171625443790406298340317191476415433705092541390568133415471532295622660296364920834758489712060165716795966571148194843751441156331300446451008520265590565739390892958062569091498803379745403396707238919252393904724933885138440381963945978549413679608171779257847859032667880758036383776953116749876165071804780637412718746364289221967567115151725830303175261458526846728379218660318615527880172734423752847835662064320625633791265106945748163695685007411051565538853537668917855211947858090925134479551686043884905634119644911127970196741781910452843522240086865476222778905458921601605875613526160346430187359939686636025807462477641323450101133563381652251881357023280275165609643519397952294067889036841400717250425392373709465564794551184701680540600258350081666648555321624166666729434798000190995337175792678942471284487806487251975708488770207942576653423595975506112552474857655638816163170427070101822094061209187335429291962014069425311880501099896944295364494034371137971392840296369675394234876550973800430476520035422005431148918952228334202775115189102140993643876770715018768805061305794099023161111902358540738753343205769278932573718246514526903817605558738283890917769925777898617558577716929996445845243339258040040325630627960903101290112848001369702932040333815111997511119251515546140868983972133863139434030309442950640634007943455093906409115300128335223983878348053640377609250005130385799187610019778189245163251758748445203305965309322229148444850521503309633062930710384459071105720153531814607231182636161960055150283398349412819570170461310750750596809452444116027691668926524362222921450126478131748243460309844217074877136864063124917994857878061796357711616997599780287726566545837112943133204663663854056485975053664403057429419377044233305822755534554447977440348143128596875070100302617329985559950561677967720393341881069285911459111063690320227495826174602857432294424467194275246822873523425233977141573791191421225546869043114432321683885378818132094846670073873819481510351699331928716731514603772935175206860927675930770913308993549898293261152220267321416895037769734106492868980854875866779398922117957519062478562164591957479492742342004089124041721903449368173542626725058354465245284150256209020780284897166230595363468412886802490695618325868931890413507180127587354338813586071109922422054868295857975018141367519424576431657815257891591007521894897398468968216116684565240621220909579334948928675292867063956472173586540689667956073659380420345088198869331771042401846762418089336812326893266463781185441185644794356697255347366560399523894336114605075924730598942441673243439323578075465765145769829850218048367564116946412327618256762183635812234818100502989242714216846965787458674345152354745194731935655588390361847948061354700672523100060983310016910198205748935035425502223033811806852204490928943392963946122676428692116691902266324958423103685991733217928819551312113135984518500908796719586083178812656569089536202716529839283865118570308339426236276034397501533017478993399141248414295407456395669113371514047456803589547367452083842366536570716985982812836139426624287057230897495041798292978694400223014645349267259478560290006678707016297345611068506836552016514609412590531727169387353629440821028241207251669461136646250104570529000971336320949770904695642715389521867079143255177053873241406625841722769680048086966447005898494960602851265461186841015530733685666976392787865614096635490805211581656184581220052585440363437016661308402884917653790658331558928120523623109345905037830080131997922925589111456919474681171613993617785537898473854451233757103515446246262529759040572875378565257308429187909618112244245110318536251862709306868752532575389691172890972461116143389494507710636966009807582817432352981854019103958901986067158109771741546699479527244960415324103011147980143571148841936469022174325995949598688909253102479493429160276272252047034231056942580479848296598138783081004268178995356123574722518324406064062493452678667340966843052130669360232677280811293376039054290832195807502766009201160947113856178071796892059230502425157382399581982753949779516270716748028425974959890087519501294611045174133565754039893927796396614692296656706332823661512319382321941579276451095129408937713106337915512524416765186632528683732244377815582228162217132882919718525573322233679601853354129626998305521002405726928317452290720546856317599161485017361191007456419082336244945802360233105361726130959418927722259966383388831793185175858059332486446446528997234796202394678743405206442244387505790376333427138674441029852832978053613915079511241861395995194592933801092743393934767373171256994992029625729857380903615854854904714347324987335450298026215475506924657167102073702459188994982585196624274051923005412943057948153239545080774997401082327612495970394378689592389493462841566771090899404897114670463972243921055759143842717453361736312454442466018772808952885904605432887821812323975839762327633311968573634248230924919971202077047895500223325744490487500615496064429482736849157385352431763598724817064324284551818941495253490354692896951281817087798967431828933306324717139164873095766237658981054187018802578477355610336266200665422546908897779413469953998380256232865687217622639869963224575278133488409096264604550956516858864043882647776377796700061761813049494609635671620069535154138468424567329079463322335796143826384203572317918199471283766433894298915412454855526553237696730466115705491116347505897562094179797101397158014168888727287389786689781719407011169996949456791496647528815353062721662244123949201954456557864480240175745759772892576821652571335725335813654545720459244651257258658250639044547862148347434666423157653663934515825421690739651691225065635705074431016527703962130593969465535499577627454114423162986351172988652222067733743982353583527995050005135228717312295049675558701627053829482053277434318276446157195060066080013181753067837347202976807258833642141909486147636325410512087875697575792461249106674913454538406874550853242285139000199027615154866089446659333554862484069039894032619926943523110661786089733732189892176596928146566579125685112990059544140248136815992638088860015741670624744196555722033097778220037416908602500816209722467306772598381465551348757695615434334962212121931494823685735550894075090077910125174361053511627033021364252995917926231978279534628148305681421958055601523718266130634032407480733050104546323529728092068300215297854629356269558421424777742469323132558655090791794414605121506227124397395308429933656998065538410150579970871934432221260509734892659513369233585124947659904006495498996007920879698322078663528610367313681367631637113377331157804892715828453608201804383623480253752822158698508476583828432755229582459987037368879170776527531132455684559520948263471387992876811141952392774471497948472362313014727429765419317574727225277375230783362255450832252237765805869259082806144165719355900390780796375644218651819421995438358607898253970137495827052527802909214531065543270126471432591406642442350851854191560289053437616208869539907490663725530061488532051926445807980863119283777403600700961280016307064154032535710914310044927473630377608774433093674817058667256752809735669661227616775196521508943888772353831789752105463563933866034168345931456102893438340237345163638384938531648752105440196772597948446490963682919035299279815146653048676908208916447352109381906647848258262578395424231878052655046130284348399872662223837531465226652074335608205622764675466311985844091480185416366796883888791807085225459340207769229666824549362319170902725251833844011454706529277033296017916801145554446479650313314666180563403697860696102899653231476035968838975457048535432620890135168391364365148513440777322166342402690478336946096418010788287558428773096860271013748155480171923976760263868659045119501745930458464071979371216491586033145039597807863855800281374894938208413681934798645934271889870367286947176362308851732128199005466177244145469862846173216991414350901919188038396767087924372233509296210358970367578680067031869256590086616915493715820107270703865638227961651944661978927890539405290537452343499335004549609842309707420560069397979924132533721632609661849782284415542781620966628624222392351444436519929489100139619322040678766468296759144556583054826378285071285929458227148401995032901069836540869034154559134929411571028758201162107793694114393606297556485486007565550821686220501133187999560798740083605816914317471542622211851951723638486851581211696547960485111622521033573603736755424039702047537397252182923720082548369321421864042935702221116931256776422051684274740209590234607778624716379793758196132536467491057386607154746797528931037883039852277732991031317574854258869761587545835473207117666412631086645289519631886387341464582287065420086676198608012337727567865317696458958089172661398096577537056309092228653307411350911571978314047802287137622631703176182284626502098989680553335682414973315074945582274983504195357790154138296774845641275519290285922185750583202898755643440372403852672391985497476136271982719023492840892364283083486968979238812687653810571194377512003895412292342659192144928778621063083562276555885348225663751824713486213922422261503330785239236271846310534403315452277243593753301002196438376913241277087519980490618504111334137177193286541143752960105607723442592860782601744488572532452865392681202372482316163494262443938265165600780970903720665046333411393401030962737733976193160920672857720138436197783474915464239053584916330154269497583798528423629176495755917491251622268521870430953606432896467155658788760446001640125917928605967563603574966064372655443072722428685268301897979195778773194630515144577495601171332490863106401299519131291917662247710466962330948792250765324260838899207931552445369788184960342042810191025639594140929617559629374521453251024543570278736424363349593998501445693095754634651984893765473030058533240866452822261635062937025675840742817414796100539425622678019898952215109903264397418591306442988831721908079168691085895579933660858283732109465970810071867378439250973533218652845383694722429183821476361210401659688719171976150941206878288524469025024604704888146649811036625009117396969232568529254802079129525960576236441116119191402894178421781722861929268774392964993162157010307195092890130815137487267068210791711566044155666207923475064248734446824436517152905607856920459997406881303746569845162591083240062636415031657010721880284400230528549579108998160222213316851852873070543425215450608800561182356957982476300122303202404371427709851490858390060640237523846762851464197730059157854799626058939034889994394290301475842541198650660716432867867382559077559457174744648085519561110527192435917330232275552398644255625612925983089710400373631206218828211383684327370082957129826003347131428102041172769592210234267247249507518384320292663542970642053221385570739000781641620262849024169201372238956927053903115947735125477571079459960840679081086304629021133650708194082862289038741366814329299175717833721798616103729865456182598161639282221059626816593332875098308991945505778403288037156776226240835477756878630428489196110074537110202815717900872661985806138896053018999225063835477934211333772337672758092545871471341972721286006762203076077703569618515603610046649542216643875975140854422395443948514121182443679138608140413523867934918290671100590727138750232361583372700684081768065045741535823341303175569655175238274621609960534885364622630227158131654382844879390203293783622755001403179620593844406295169645706973657809822832491039802067694039403071009719588198915876857515619834274404072228114997367769217722548395322421268086142625881325581224877073222860696026827538471728350582445159186063572923739629602209361454116025554217964455581681420676821984116954525852149913548668912049366684755264502863389423946121748363697189556053136544936135621746730699727824840863138837824564073241643142738260475637611438642897634877879264665286901909884966715009097302403497729821785161348255399014937845677280166207249835820343796062754324370647703085222492738330489019853825856078409150819642430591752064944585533247852886786272054035469063144513215434341400600047144620110343122242351269475812481579335401653652273133818998458236476499238946886901399142292258346464633015333409256484180026702441176467021302811737202742956715570842643721179467960269248379520839646924270566102047282123159535716910304802472359716245060315724256661119602608250110088777346904255515972255204309767406315256742189775902532047291268848394078283887771148714464313688745211394735834620343522754656979438241087744759676576102206325066692436994015208517947608565935092260692695330249652725009229961285465962496609405280562691451314161377714196353412374251567337658953967467619451838035219801735351443270512153419660512680084582036396278567575195403512709682294920347021093040425329040891924892491840460618931504654355944678853266719124213634725097056212856701913931696483338207812065803123634600898561469584590952230522814936337321583413679375326061498304496879856801821611781308353998758108806948214649444540022437020024426494077572987611138430324420986706456623740166886335993973134103131420062389497611415400126939558618085586831516487814227255487267451653531108855406401123500285917156809782194117975478417667838039045029892630212048706412248474105977508461053233554382740202789249337411467342705857146498946958140759349668136125808724253561297330937718610619492140686572480800804927429932959306309607363374739627774487118935581100874106098332759813594114971424275983182254800257543187954130685716845710231347012039776462498796280559513590094039863671247367782198304924449853805172723088607790291677880097994631764966741486277822130838097498673159969071320277431731057571838489486349589143442862796674170978622101824369630784946511833572258548764825501527805818523374662390519331541417750150973729133033425251494580392952065072999883054676549164944097772095017697437419952882116221724865258620233491075032862784747615899313873441088395105966059945776622867574738144277681742694454409963022316784620203024441044207291101121435649873903806707388722638917306161350189081888836033969333193366479078928529006482585510013751323836884690906285699646628628217830016305790849231019027545594259809428153289882320319870854756899804430359157376642250248976826765097949957085248814994644361541388775383307579964662169883377090760076038739272869705318759789827434777189189822114148654863844605021791969713678478054652756047068752172265594612756882111133426649844784056532115605272042313752227108798041392276694749428765974881523694187903532296242888219508094624406789509642125154672296127540095061539012028646586663965619819692807689566181142662600468230190069460775684150625502995701132625461940414317982866318819869939592659529224503252492211420514839468150645113728201651979932497036136475730182009060131184351218124458839591788772202617369954270920309054956387679900771167067965983358187368722719675239803271938210557925738747713759730172544842819425729092805392466716626588357328656492058191393139559212329467930093944517969277419825206077226598764521423411523260223649679683097574775326111728226019282173545432737658377881170203823742755928692404771554596488826545627406254880773276773092069032276659607288388112540423275932701171204605043306584636475726685836501418319412083704611572360930399566598915673311180646641778694130980869823405180776527282500110630091261088248259360918774186050037624638874741565901645895700854177094947607797972809396686380154350988535969830216660238612088693712498174652527375830926769708462280456726327663770053453502027117885318516249835617405199902854742608057786358890613533125098179932282157288999531505676052456138320623867625546927987224395629283431816584744385326932554199328139227246988460689342586213603775286821456778948350647776822535754501987148388150901095276499489593315230258560889849515941162003745690360398667913874282747823021809738891917097562885634880649110437464830045638987281581868164639225062889769271898303364924533392494707093566543857343198714969832584723446458247078259052950888798172338570952424778340869369508631887196980015800686298304449083305864670697022605861032306813091627712640461651018308186344755873593064649815773078614373406476562694620162382544834343661288223685277791498564082440412517169325108801345971079327825303386590824103984098680797387714846991002559661865234375*c_^46 - 661723409171318093750792736428133248035294354605441527275432151803365799436984457692973087554665054662545422820146770564838300481101168816881219551688452474432943171923029014862611970641089151129167577908688065808431785532692169906079073119016847565561019108528331941914339542379280745148821750543575071816644839161714938200757285546631788252225309089518401342439927988279242196927246819173963678724270843718367837869309058271683719317661003764839306822950260439332300557671286458255670973314953041624250807602087951286567953995896512484614429077038730779429972683695940669171236429886701310875004114642169057352824015373326176931441667227263433320865440476402987060496844883833144033195519618993351382185102367712997823532733945744311014407583847970213603467262353457414872270821495357734823907092793029230625893094083064827671761709403789037761512829382972572650263348705543175269102865775048266448792945575142209279158260787645023466288133560136924459778024652053888785948599792112808765049034525432031302564934106660921294669832805461884848724536737606316261391730666077180487525322168498705422805962864671058463444566770661644552975333037326308526644778189972029489845236992273007060697331638110592203300266712160804585632148802943882731689671726895529147788917796226430626820753182672843252299444163239806385856736778728007254084059742036543932372010375664278783706109415448900814919177614682906864664043337455656020633785102907319325953780762118650672879890003222602782305384188534868044143151665484962883327623981137336155616671678451224654332674433277701712616408187118769157051607247706256497753527576097663462652058374313512058165400853303942683824194013384490277949940126180674989841488827838831480798311520849786118164275913962026175211790458528582488698311964222528622201504379361365993764324547346297910545875749744037854171327607631104095134670758146384895468799089274558062788216772035408485003587730628186843525879939054972696255554619406932028712962738887948195499697155134877395098679428258834486915906538560630000888578541835830178537601078605632085766019769853694003265486320694485991571655075982612313777801669291742859849817763335246498635218324172045500185757529157609940713732663342419902396196249877621195961003698650500813856378889887873209378214909945372460956464010935193134011682162125168030250326953447657745397539120788551679086441967106141883661770967098709141991307918280883095288480470516043433742215815508434750652340082233150106155112218687586419367760605454218557878549642322603639577833968566225840029887057544393503744003250116907524436124492382924386098639618319449268695692803329494471473018091460090688097438228863369069667607350507765478965542761765888013233825835046434411571333278098199941587439896604282002140908886620876165717442815186869351476316307395874195172122916460136635052982650071291035197274528055287693411769290607485933387368110428696514750395843635974307945644154812251470114628277467810020222641643734027567087734295905998682178146736807882270715988233090014503314509723725354167084016223961852132981746208802646794728128497924524773072273172271387046179191347694870675366075735558541760224941306727950008690341272135975039065320903068954612050829268009033499832066136532393996555674089088182013404906398418173816372260551263707284511424119028917873879131326674638476123565017719573560717101314623728429496726335883348820382265221817376062615652971371286405582134825331139026930152495995327194373376726495063621895189139775361527075371589603120985145058850200946676342982239111696188316978986026966205824562222405275804129092345166711981115329382214553390463019739098455246914194436859200743835492436430393736449114323694300763198011227661410546062199986839910645818927048058076862647143711493693764198571371931300675166483786614395195457619658280981036662235778530072209623771405706448635511386253237638555261842634825926750810194780581884425109867487470675028329262984449538255186587836062858750753906275888107354966507529009382170390648596807746371717456405310746877714011782931558574162310151960790316967259921917376105561955217041872391564940277510405441002514192084302404114782596019712676276249453779310860186090837679900847603522023190264763749257398554405941755156662760626473685027202593730700805232976088682439814963139586814941690054792104119598467778386549542242374527500613282163900926374479384809501233985848397895941711494764194433173664952929111761794926770026976422689017480030223861296017415595317381555604563157620627530183840547629208078997543977528843989338298546744970478784172985574975672053093841655754356889671957518208633290044525046156100512985226901239799884610382098240505495698934028994438181377588028800905046462828065907439604898366166571159436634296037536057804483203450117368284426844030257577669227554640398225930772975027041615710715572169739355173070771163395530554995836052783109131124634105462021523894782600102992937642174838390675028632974853805394943971794960311208589780338053486758737712281609674700669999587251803164533577168754105760646075838548928401141530928720321694354806190576170964715245100339325531487025672101190708833054015651250830176715041747591343673138850157533917745290080661750507533185939089106449428061851016015616858483126214203501517148666986822602391797529723173313978386073300664159331584615686752769644172783529346820970886446350981847172605667968441952486731885587930495992413239825290946719249747282773481727338718832836866562717187902332160684579484343425083768060183535826005100202661452077177928904235935847181100277286598269366556199585283408418288175367180544398186025340994812663932350502215231289761481323629908274071746973956302697029022158673181205554128828776004033391113656625297724567106754593153139846388123625567774406922518624543015045283224830379752868737351068388646638203967806992398867373774783709905688324360009703842865208921057049448982837881223189516926471940695367169223765369728454814819497368532246893743618765330307116578283972017097805630540623689434215018040904069842032060190316165434338866976813502468539349478008879308336086978320120138918812703556986030533601602085777440751904781222425132055299183674948974375858428604813875094094045743547009222647850969382810674419920831545458741089369030931633118331133519781462060658243998550596855737074256401381076295154565038401697135408750552986317132822005532583009091954140120152826620129216259390464781890692520281333014348493287373502368655944196132310047580348529180281420491928359307789492434618066610427814897647899854230690469160938175641850833043541546012795357213240120661366116725293920891634366855990196945259687239740301998310449040284833653164877256457043551735611705647880558516882162820843917179981612592382429751219834083820738350947116316492884191787952017813247114741552246285661980195972729258956770403909285053020076861817786843627928010491836077851088512198903004617211811971286217670063510507762105537780883662799351568858838877184592039641190023534220175421478681119392222208361557914059050302895607969119211592275401449001749751508915525018365404917108791150500893496671483073078668394343038126226142864959524404593854607171128120715613384470146714908886307336291018025696544186738045354286228067435015963421019658179424992418197327450601042262624892991665872014376182719048707722121388826258939921327421536976838311704814445408966204758782094439764917654747170831322776658654288833760381433296806715626870548976207814861541208713617225869981845465086691165127666781490874937649128216368533360227135386963923692655919017941156043949546454008026200889068565341939607206129633803168969454179705760730670147244145838244580118560260890887797576402774290545732276389593131010579084201243804520057340040411661173242369669685649206092569460647071139239624315177379567493272916661275694689873430642860230966775038019702423342130582157754892471755093544415467408955604359179982420125851104856524933645049463939865643822057186095360052739149275946432480822972100188659696631884639558706294501358173722256014899561980439255600405633571857987749350486468855895840279901871187989110275700198763336378314800607608434419347764582418197523386282987448795263357332582193087903144213066132609182123655343008704895782888714116281285043260280506828232729507024213340636308363449223255354438421501905165891901561514847717905076916407591243607666170476011441605297051555416149322961890298288507167578382476049917851383379678107724532454453002553888982699226965449344330510892262596673779028043552401973154651313563208820999747402619339898994794791034674452575003714919179853716179450275167670716860304439463740913905744544012087761712456252394857232288484563757266961030162682591095666497613301492523949920228942394869953289096810731854035916124999494971696930133588327763493986505896499064577768200250055096033443786406131335898679719151684334124949708737956895730094846856104462436205582230991194293511716596934276762397951675196564370171217586075919951329372125297418128246484503906221402051474849929363402066983684181092979090550766735122919816985388844195768157315495894396905739332275091124755793121428823383632174218040394775889535579767131119159794504317267412992113529616390295678481862221227534866671784003556006260913882464187406681308377610323280249435872765007390832723859867144729317744584710056990280322401349993691792061110253247212678086274410295530424670740027480902174916093084468338264482651550667426696641842538981896494745544149406085165551454158384815095044937430477566215788121196721568635743111214996643531396901276228130716931846908047982189960171579679225824440837071813974860213839451640104586698251543463563863617029652959497979988409773868327485482511268692149994451642938537987919610044840178622846613278258150266848369043863626611431104350662262125282596670024727831954762796916579571173687631675534453617605858837932027771457263994355702812268551149836248312781230057925665617643585557945960958590183038398983371266798136268791877424131012480111963643717698180893937850617939747909716729420913554173310827707994835758942525758902924815685761026785981013435191822857403601042000457190136082725536549379455904168714963560384136602214232893082705155302894061166709007629565471602465412971996914569477801797026296459312056603400437634003255906776859823486743505922117343992640603487211218503878619678730449098607541250359858408885909843427594546925402859887571375707857674360989237138852497265514412706434833009553211804182433167445730049759926051627165287751886708989389158121996792313324333587076099524715695085693269319086127557219518542379644291823859629972275050019829734136893402781429877996007798518218767045805211100426547103815282453914645717485071875781991527946083225040065896026137005061339158864588172765600231082691814360986994478049994448590095722533673193972714616340572744836089647693582792247178943976950017190145149550650521919357967579389581714927122459233226183289116110369314038414180950174314544091825986737416154969689240450443354903857668557149925094397297117061210573372734326465179832625058595718097514908346653804792123179350596785879169926083485054969657637043548263999212670049699378902245881085499792309933739801889003560924531314776157394970343477772038395086359867587292956287506725970638570219309334799017401426104435491538685617990422983063461853782074006627156036051493432253368947060386994564978469957297663035920097356727152505669904440135090400406052734776595116762954775515699380237389052472383199626989629005178944340272692517169244979321375697457805804765878443602650279963287225399566956167597147180337149662693561669151308780702736174173972040084316072790409709549616328121998155466965622801471537329077390483357707090725463760613253962614352302216285600900380502557593056778434168370260514439428472895868123154298563832560573878735100095623565105272057359288060921532386385382820738310166339695360071479533633261156925578475061150645479177955806017951770807660869758669012435487924088978742204863959518756834380478363637637795509340747064738135021111356842783138010407668217232314015558291606918508391883177102176480441934490794000707834051246789746465430973821234242273672321794102456270941705760439355298091261885037288442140484397663215201915691987009512514292965927635911199061726567532454204542091623354939259044547584752112964347066351070562839939926641123505553482142388327312663631458441701821798864412175999318470503970452580161200597147029444118882193183225424565940205695021072173595491695060876136895780532502420525990760197306170159350884564937039221146685904295807191214172250483544139528173971419387376795676629790175624422249301422400246701439428945615823599619780644099880254599296929496037684008008983749154036832045949045908178698793101140069959707385825042385991324718428562233266745761139759769225250012144835501722485277348833469731049865335877250941981743519056761885988398529942048561544827948944850896036713573629987720961661652788789421316661905319428013373697098168895831739401771412031123256070421539529689116367491583806872885889400643870537546423146064991545229035623766522813452164355056723230969903753217681751289400031380623152590867787318882614271126690113000975293946463768587058031214824450248037896399472115441147589709081001728744416435550522723651480817489541161927599024070592977440822502364811913112008263452929087532448553448265000431228724087805028254125529654724238563700663864561164564839495978736711259301020580947694338847059810431162031555801193747392897810404309909323131287750509170148696997720252448886134509321925125841354606192738942062388107195707646313385767926096677540725331256681673674569840265926388786400706084438371216070816941251461966073121937074332885428536179004091934835698725944631916356960390127628017924034378412848584003654635034986839813783284742684957121245078131361058946571603487875740188743719165769210994815829427212089716506645363736024771376283550661621157238997298811059444774920534410398620941004991521305316050091358860442715215149312180862512752706256212869967831964460420074103514182651485876007232977141958187476758142129585297313736139449574826852396740358158500794735184426510647215263759347718640258482566530021827640434957028658655662446098535948932998063238257949520368735135875057587533128495668363843293258147661759306398911387803831065608429359730323028572619008586146931961682279226045309145643399806150409425328767924891928996412690609827622218155500312447886591691366220482646707382807592207825418508991483111587452746919320493722300033027666112578652877911689286664191606939139804984003609361535201620384618963064048737980594168982932779100320322885741230829627685255811608904647905991615466956794747483914734965374077538786462643357549726479148948205432390677297288346624246820906145580266364752035717596302233618388545131548461252140781248773842456482969061205141270290688308577064303275230960225176336810678572814572712677490862108424498534295303160748741781520508872858137244541399204563875017075028235557958127176623652329595897595007379072892434927673769632691947451907467258697361354234468510893790670763159881689839226929315324461233131817883316979325699953582977762291563908566253528015224573110556569004507705605673658250423972098645684137034125441646274614679127021047409286408331055948358712283113309467487838403816665791801146642348704454878092451047041761474271573458082851014925274761138876566814831354108332800072143972989992495960202281461326003071831848941769021822074543017134361085070215917753734215603455121658387300181356361417950836035722594000594643597320197339763803394926063783693928534863448009831013151939415342596894766023598009705168638151549958759833400319959954223054366438659976426716493278050845249917091247038802493962638473264616794495972139594941947810158254521736023237264231995397709941439868969515529771572182623119075533719978668707455675653436036858723305260642362008879988580896339395520238623164540790300154905674937390680627300037849138924577331123116287826996471939152484599254247315940190122603989040328689462365648668986375023536645029287249193769113236184961297793247861784614253013973608431724484030081353795981372691388501457753928284964958534718270373148517969856142597740084354742817587649540750919113680110230499640327590853788396711398763710758726010505910728031675479450731457810833437130841148759022328807279505252303286325843418670042146286370653015229828865283347249032743088047322054917566044198635071097047049573824312313050139695573444639337190492083576988635595028120875689768890447628182917261481648361336101594405022120124569118714105271210336461686876871282953417166863778457093036312353418133914517919959089735167396621461209236996206552955713055693610148626614314529062776709337188896033716814749583213546568383514760057972983739209014475536528391001015474914736223514894888798790876839232316132450151459468554568796015155158281017373777856616085315391398039519256886052379411379993093008288874393652154055001545087552979408473895006836029872839427709555636012767362994003372733033949553074785493267429347832249245705113210832417921692720415923390979411215726380005684726391071104099476720432315673767919957436991153410773830663694757925785182711786535456451443159572120790942038542078148767643651343046904654958949616765964482941046695363149597859514459465171157213019880120632493558134299790313988080627607670624447618113332824233627480450320032308422396081016144548062386244843459539978170891433459411726976909732584056330564937331292638567453234130852013358049894241022873784210175052130805832743640100596590345961232948966668352183150423226079973103297841922403789664890467242571081021621988111768101397515538882641150458670950515311150339646265499345288717970740743525359094793953527783777667830707758856634493294427121434242051328360662553143071671319059170018149659946514987583066542841457520326115037675655019303976311279246562909056163470486875852654016089764341389774731747066396394886792049625423869904758253948386452893644038972910990235045488353184613043895106232466860417432771945909330298027363118787666779288829035873307885470283511804905068128104634085093518675267952711173056317868891943337268985285430040034932210872071290780574492708289221528870036767100396257846259087458891040431737155962946967948400666072812513269477107792019208349107604559376264874571779477012008614000056452134617807012029240512526495744794123847436441765352115697267252341373589978334594892163314330843998079260997055581919736600862219257932937250950613095970043799797889018977644720353941893555714035215027102802575637245124662160777993003311399067198219190902605816704439078952008754952194075087285745636910522603938595753601475343103659123227209745348029125548567665419358861234168747611000765015537563696139624145928851886419603509630753676314521530864825290439114394013383559997012629740598438960306007010635318652852602202042681113405800595952288437375546448084659579255310805687153591846526402454369112633352027405942574408481249400620484662672632868893483937173184342787014183591303372576201495178166467646777266990920676962059884457467242908962458135082765644219795831412112716012980048028432349512370347079714854680186213716877090097819096464887308042224438597672550787706623284847380094386670867978267320016782542203342805086992238104174981448253183942658565015179376808621702870178262561561780432811640947323349054333076651031387989336053265874831321300074728513073901778557796925831357700046289708564005227049787319675507940960602738806183055959817483629554324769392627699049517208466675197280108079259818298727560905053944479745154099175253737536614460194159040097544870551241016015448469197003916015040898136229995751271516563689423383296534776742369283625271087864668372779442482439895021631726073661976149504601129890375457086753810520361065784962929458533350628016703074668252267468705899796837513175558772046934652084240066634384478323767933185177801365040993360661746885886348561573854754772272205045200738631683154848239405939530503297612614769626721257001728114257558363182108713962341557305443966373456006614487625268916308102787035120430328827072453178435815500368770440225189657696255050273837112273745689876809871172069044592283562700168575045381776810073761447085441952962336318652778936320398700797585550078154956172877552674965982334590087265183215537268131494964402132952484931399836693415561061514799085845741446150593695135633207793622006956145229546351728763228222954291627609091445169036873358746405830559081883637972069901956282022205278001857148683455297952711892311677965087210868509421231009028284799108852022595511318615988420335338699184980470967641125660192147842682715923106858253410741722894201166792609431826109667747706924701340322867317126243634694840668924952788056379070238323375179603886454772329635114089844157517724870990515952569079301406107312750983099246418752971142903235403921820768494228538289778323830262233216442333655417516943782868504113660293447065684717405191032867429106514902808557593801953253227017855735925645167701494663417135779480449721829673053955837974115038472188213659873498647529191364366331297069747218033818443409577575630300542489319096430150813461610090272381000000106018091920137218350132704475958993619448935030802206801481210969969775862816359843211904966886688894648657059759227708216284093493184788961139979811804326477646984453895477053216067208539829111458675433590726023319856223412568989273126889888186050904700457581931357065697226011149907785467815462284884615497431926674013563110591937269613821550922134461882301844132658834266106377617133995617409163629199082505147997079456992296565422438531859638427056123650719810107321932779420139970340438799103609864784136833399643817610638671275268279183622303409269044714720125026260707506370906795712646785046443224838695276731151596160703841324625246971633880575578138490175400808939456743037599192556318857935572316781882650600422597178514407415272010389535064835861225925091980387734966203874561125178988588528756472829121649319356619421153435239015450785559987404034719952136020729075694445060197838348741939789522479453350098548772143007692247266510332189614814027706686859295003585647979055895647300019028709923486692123234800473375969185544476196331623210186555865242959646292639299634315609338809218289801142584035501517989441823369634222497606999371016288632296313834364612133692867052964539388350760645895654604453815913891374873900240190665874480273130799380075182695954138933157734543054678011766088989235283226994677693205576876045387920338396106324424873164232084463779620058567202575546310317158322544684380206969212123797581574372274442332552541295190536173637293778142126350216192737075990283311330012674385279980432604780685212277994233966655472167951990571393251216325186119607805716391603410498929281915179632933451373422360089725943139991025798145407974074597375898698488480877278620544961027279265960205683886317536097644443831356543743183957542099748948864036469331754461450171206653924120595869806884093188657940607248681169667495200678582203646254769221458782491472768449489666828588465303536718682740715992290417035220861392632068012894167007967612251525082964678897045940367031097704284970197439480653988397885198574897956394234124838451674789453078162038236021535284122177601646036451566253105358803614485164965534075002524600058714907528251377532379032826232475403482099692199470487817499485412700772389889321433047223691975977912839849681192340407649399097413216604998079597183897976278634789655817804146726193652436343169950440443865469660924418496974308130715772581994151574884816055276519022397839462467419492246691653575271858610160576018391626389605132809607397601341409281955311923597654019441534545317431258856520547653703654151423525017231858842113377848904386328681235645793284942073395217423273954224567149517050413549681785263007618825002439219795791754631646994214174234224307280339928280913937318463146147880819432406321252773755598892280834729280189343851087448056101898689085702280605013027535707415421965630932893655091453253328679621225854190236892994753655397607251714786862737079657302993758733716886704368047585822085959171962463592105139233003112345282497799896061805301205462395689278398530701268280748340129715369521661306650585164291824767718294747610754306902546938842308482524864145916999186889460019828407158488438147172398675839656953506137535590336936691037580522343070187737604760780780894273756034830088136971691171471368810626365687586136829887748993650349147489563601721191400827847105926922736075866884511977509143618712699941940822574817232340536920001029214381286981549952500395858155000916663255864861179976948317096110087309091080611166170073072109828239801125825300939073610297630446540255251456094261330887508433977336650108896413913018470929981699058143070509318270082516147247692472642124348667169559655124864795655017997516726483043497610865052953946976620660119501765042051599448633335776105240902478567559773979120821296447109907969347031537862557334427668225816358830122381948960804936345533519628448770364925739021102530419737102744608642973422931478869813829112942016219132609639910990562319762496922764063303377248889718206833218688734706339462912790452647390996540978837791157860943628094806102383729546147208127606098919381606900643264054281386902311073205258017353940245032566543066830268901744033437863743897113807010576666437389151145664747735817635139278771992293632571184784600177100248903522199886846223372033755170548464677535378774544723619878232535845019548416575154678690360402025120681869102986064618126351879016699009069833710168459406285485368789130983496975730282472654381394010574923136728077692543066038933457288044492650407223854354641286944205029960015991338485999560068511990501282536636316448246811012014710114295152223614844071829950343715524211270720614615157494156891421218915862218772907288714104272468444566632142629285687128399452383312253566789552411141853308259298931169850520422337366483236874446120172196408249019003167252767883020795156107388944926680538693564568003833265978046861161577089988088493381016950034364259883999756529100664430516642901535604923114578603161133036888115720362024895353608733834055059244986449970356794585669800082767894444985841100254542378249811234495809112309846775085668149606471300850139186338173783666277124482181151423486653576193805133254688267506704972224970622448963080919894688999600694009856224298866972099269399100104469859129835049465557325745682812280306504500984661757752753579343579475701175192713107259402323222817253656753538451565745154651510611214882123152319977867581937469647431636811171098552867765441533501360586141245373162188313919385453963677585227025120012626334743234394829443860538940383162480863318054603341439344974838616213850052791081858928787504198818208585729153681216865734845234929595218002325206355847289591536629343152647345234015854765821999803757824057712668001833820045537906060301380429618994916568393869584487770371972137096850784588502775413749439019711512765512897986946889295414385247203830136236511543847260677978454969150724879946554967942113919086404875253326573714158971954399828627620570931750552724769515880197910495596131326269720812596503232022035290911222992608411989468866240417961595417813504885486094685238182346835623407223808972495415995132560010032199655793162670636767165159651067597640228376505820686008919187910775917659724708337460027631231838941186526890726733657097619092228640525681663418602414980531705014915937284902878608262586587973900159220317693732925609901525998575427723449605520483446803597681334498264771368749492851371650009949922833294756194871148517353120643528333307341797649182922223488015621502338097493497195927318821761893912299628993631825239150277163280100013901910702295732146841988844942790946456089076342038423122826189229774161985601632733836746748394894611832452408257260417597266896064457314524576824536029408668517181004106871653609336207492471066047502924016282802161030857145100125298530418253467746601563808419270094637754093741994487730484505969567183996028871755248794145415430938760758187706670285633253085574980098817410661105303830354194004226036592441746899511679050246342910683595214064015295801553757487904715779068463342974074099518499290955465262838284046722178188178487851714691633311932952974035411271959668361118272288532871164107348032459021779154826331393187384287380685294611213107413579926023229597715592380685379474934752295276438406616886739517437353929914570717670526237074736942724142928360584222125924142604046582395310159870021463024735553442494625197430677284117756627625656648562218703357326504359516869383747667919946425220603170249257240577594621153094192630245815278850955392413895018671688918656905578428501766000952029732418999944773406010941482249211324166155796644319178221459835992853828553231121507792465957542313164578845613151062374473320656642403625899023009477310087572010082053943839881861117759205486311446532663410952753071253558262993366280217337101753452277845390559200313763371720685408318153209226225962610193253748643750492126725192240653504795346223633752399077108423712419656927629969113663800020122534308604776988227733519183160498119965399000935708389408402378556947596620661173149003989340787685760320909018376603375447629085225370765342894007397804064198145611674818017250877360178436249392951822258067874050598177059498140528512868824976356829035622526379976160705047185981995741732172868100692503190568919691648594329023783557370562887906290690642265769260841663992672660081020590975131333352449587411350646384735940219728848734532321860460913002097004082638108685035253345464647547301269070985391324694610458102565078988732180328064694525549197279093060844567250067191869273630567378749668069482897340214983243120745568154114870164801795823734334211909555745712028214135918537076139128632036734231192108774951728828358728368146731048114891538759871704818301297377936924776611183925164700945942487747402278578469231645312851232586388343393909699736338011119151199888260988932335519365520063819903233602828767439740676411582031557376996699159301902796325058540600382002043507999568726591584529182518783666317268455842161607740705080497870155957270121139182644009164284960106724374245761564977071530552881454380849637399173560933715091420805068724969051723280707513854131683577686511508029624282128998377019584037751120995473085598864360227583920059055769180501677826302475268121874098669850468155366675144071860721079011008974462403086090343083200655484867329069225435931252701426037807085072942519449349384540760564852697241115324094264820165000361581632013057879396163281854956497533951154537718580377407216664271093817133624854768983274133642424885692889802157878875732421875*c_^45 + 31344404141549528949715603905464812112697632273369248497029154967152149541000952679077932748656572077071964197036011046510880088110911528917612688563198900059891012434380468394826809215302321262493745179806915160958913323340426849578673414353107068323842227683995712805153004127083234767167583329049657567566232712119558224210654041325769705548587063803278230333130893685046412684825711852942945990646940373293867628578592557258461140508563320743144788761800423385321677131137478381058948175015443752071028649358713529089939834570505291708110428785428806344256979734618806998395395512442736689281935244127541520202173380260566993600245309060318093386773105304333376540990815708050359612616370142298303935151854827228305190631113756100069189068020961243501380290911795943843976383620681088888598785472645819190947513916598290930856512782892736895335764460905221962034295768235883951890951630803696409742366313107378622641158285400100652345577483256654561706823447076754699357281172866708281117538114097743643726318072701146347588747897788566576784722799024896621522392888493240949709123059812443578718144966689473434741600618207347802374740028568251276877463129230695808403174323795042479759611040149756002350307642364226630853093348036639302321378319024139388087043370463504150647825200301209912208110617510546918217088791443008697862168505464287223045765378792662129648240395572771364749234045483022909259852205474920195988848286823473852840163409650452801677386621779771846874720828312621134287776309997755398931917630988910914859043596364710343898563109445639245195074006262586714151113284857422883388711337389042138588119768999619759638792873429794319103421102772240445335278804906680872499283619275287465313088068160043799993334585411094312559489958657368458542063713521222214840716343573065812652213924165633377154281331696630673498171492139153676243498707782597076294976434516863978551972962502797156569290915906568258480637626678515149276258655120437072319361633384272675943212783781693614816376412355368321920992539596171375748525690236422998733458911339262390350075065810581820175925517215543339128609517386170154270604547230210773859458263884754325179642816643083259738483863123730042638050221707146929388410932044554239422125051366750179988325664755144358796704088522832947279442071177258191596117083797689483948589494334287576630786353020597524775066707659570655486376287665233395276859540803970789993938818646966622514709987313780095670178249359613450414693720427997761112422895925048823427959728405731121696826696978414520932703869798504487772361718189828081235630651198965235745471768084036027166479599922250972003163273351467644567187741449631558233369642425160738985839726873655818090907003029248738428664174503197687184602580538920696170702157293181888459826372673700303741395682905448652442676044515559084974350490729401397787310090622579568195206867550097117359075951372316589745819116495700458000626266017957853237878679900825182674734545837555380929316284545640599952340291867599194297304905737160524873564566121113031408185450909419016736959474942098470378857149187250940438015571533812266221483443010449696679243276877421020922311327356701429863771969264641701125513048634353140687366761625184986651118690686878704433607559523845146852806566255174509507288875876461025091081760065975059030284018428289179975252673997015575636861341794061174153487007984347224856404769700481162031615218172590949831261896972249483040111289841458806261942411756868809407931267168060675186145903877802021848454715315101541949751663997781725805765216653461744515481343460398845764293059361825113190777857525709084996658314175292788692584703216370134920454244099367102095758913145883118392254221790017322857761080241802559821243910999828935702220722836606130777224822415302321372288484484042993369244346999314018432898993413021204423749326862967540430691870461805480221822265840432449287204016463611098914556767688586533564736744876621423939391858293564934209476225014121787561280613748898975260661691697007981854192043843572183981022443320923131455933526650970975702722161538994507520865636994367424731113332206565725291793555746216270671264338942974354332598831490462251049659062121488467543950276669737585665097410788697116424580701372297679883442231114184129107461818813855424591905622258277603398373117742070010846378887474493661198558253612155549425051864606583497087671504091295926328086578220154274511902355714081332242538089933170348280569654860577897698091876306833043026928138568988974560514494826471722151705636684838414609736723775491027885881108169093143475214460474405759352257115169163284204120094907992184065679679917990625761578533263350048583237620902779823607222765285179565753032536226072602510475599082682033817640332133269972319693119160641939883162603717598145472378478098472153314242969187538251894192025174125846024497398242094896122327888197719571197846132832559743821016928905540967459874573382559611161417719051130631850977477714631629074958379635491376162517418389782574417899432756861060541749937276580698038104540727992468561915287547340833611149808017324985974406850538866464286871811477067281783862228869249618906177103209231641059698457017744683584590297597357187860439086690402951504367139560632047645131912229496367833438858021549641499823721450716819259921150345011222173323022606557103773711776380337071353389990946393244011521592897924050212512643071507666056906377701841179568762171772568478794492127680943426044132058642038244494032101310531151020616877620865473687783779649345082842245864906494432183740228307429169905724783914025097880758902997806289615491633548039282215662462983165466788235508854466390494621625218882221487019279690593756520964507003271555525293577187793330579958840809917501224673031113241812316302018010142541333331893163425766493613893057609447656258309069383646339976238779903707516068580210926798968331133726098868610096286200277142936669819892277220449575255793030238852648285982018332671668535476779633238647876917685194182056445535980933327494446672843414960106428366709633409937692078127868247702000362231685685687900709524707218820208324188326377045268425414261412725629762649190593588175049917107036572601718463288400807325421253193596173068800453536342116855732094755607310042345086447767652247184703770042107467135314509112390014586550405892213703429892454929480944005906961709715175118400181042056608717271904576581908916336868366354005329892814657604691848112368804985309343385756147904664484343487104769559861784293639308647575699990398029029308547319707921388185684176028798210396859263087727411427506783248250032715206758377007966290365404706728892352711972851820400643216070928981230082158611184342037629633120593793496706315048011780634246742670967508898374317961806152128093796437778857619011059348127260739341818221466549263195623161972363680776690486146719318181125548870597426210105211436885063960117456748608402974952329718047466422922816326688739581251445093178708803527769489188223565268304773488031216273610190615615994916890160390911250164096835368501550406291238218352420629692149261130078738747208010929746303495767971141194242284321695476980479967711077210603582286193266876551902706795387765952687597400513714412152612047958961004498760197805504046469527012821949853371467351523654162730940263572886478639971751502721566712084836717316593161122679119258707755218731417337697024000953918585402790308387115501456287682257065676000277987737247937419645967535588673936312456690455725153468307521269335478201063941579552963835286341291357066260605969582014657457207095984809423143039756503776405337775496264946945896590982946973012503422137133898364482971213218009561590693844870196218644619664575888588438297884468944306108756943962515501404487280738876858149416369923215061849963545575438308624642545372070100964757489861815857174299238495990272699193915047479762340189359776933707889885309968618640115924922424211290861801980796911618533593855290631766403434393853793901744379818421055744812410333919469617701270899875332101274008534625797397543977529626929842181058434095593090464396505171805905906266822082910639429243988799212687230373669701090013002841223228890438405038300967081523123760454138480841106183330282627278264462359935283911031165235191281988297202927758587357767977437350066529099119352312560210041748811052682767169755476309725142502407001905383454994560139587781326912586505978118095793224008631979507450009250149675698448920358579802024210431392419859639823065512355924335691985784169846491998831040995148620750329089895697733050393542134380480624156048250470876752365124749255495889052491774693767868235266540791211943068173380904947775895962732109252046381733884069856630214957163381798251737450732586933782873104273434899352420103425315320559172795652861885766386279568602433368601147574863911413030980634054776266054437317858058764844957852165557711462652378220393411381737978294300113637207897341626427702967640397758876519287638855004774632678443448222588603858671485491347206658560305588619211900786732006135353541907442732760489709478807712761621104555328848125068751855016425454681250969086797394785377721007487387959029656809696629225733222611300018577082546016253268772058264859122516948547104738753129620307202282830743299381262469293460381360100399385518751109890571965481448047051567407456191564629497950643814951935910584688856250888126411781062566111465637602326703303943102272256983336349411538655738224918330007695276609113218859240093982585518181388309084246922888839052338261143220609126031677893185415391694984833809231644372276796926142456645366504256971193638888433035902765659304986226652640617156878980451508753526724121098160114530822102437281801465981182480241174303483972550786370440566571990306506352240748831730878196176362142328059390180796901602921072391555035336552007527855778857191955501783109810285585369089255535366068284490058598605358571634752822663075658177727504412962777413820187740557718477245835320993791181916561120230855260662150755640751358319628482544166693385136051223367590648605352711361385337104589307616530871388653265665725106143615114008470119177228415986099794450390764217200938086527995838278794239759494786458571230614846690948740284531913517920268935570839206904996425562420918388465389273475845607498888375047304767427808074308635411823845688417098060685707212929958323081011973809927156600366466615465490764242398425891938575658001606140306016860710757815846122060595099812091105114587066182804742683963806322813989862238951260200759300095718027638898157270639573976678639137924687388659431973861412209001373328624215928315618907793945081419058094039726547835062954756869403267688966356837963269885603949251910901655771234121087944690688495174814810944846605884852753819168486599091533120002452581440478806938340819861925498147015836179959985686090947803255189041163677000203656261969514710235558368499116304828529234316441957866416279590914710833469037203930566906089668390043420303304780219352776411060540143582556207776518169712136488351523389388906392532423382213140741131441686551534019331837244433512792170854952823158142393815237529845189707179931946849688365052771536977407146586007654225441963039879611134034246567953756897658479259135585800042260258964654887589368891254696514095221381112220131544749954387199692298635751976583789157942285348500253693143138648689357077153967277505111805114262684363448326692623402069123944008644561879638330199140237051047132733860720149686016752035435499683302106992367198010954628359799239524624124852939884825188398043877560605253967503767753126908955303704280332212044149764074421692517841163969530596191742674546156470236323529677332916571304772031419416061005281069779136331584962412012377562764633925052171382816591978308740872768678707194858246073479298906400113841100716703223900163502326645110205683670329881196261595195696858079790912084320913585004514371014893128224431208431522280156446141491555307552561230770613931108835289516652000296120500119369847913883641374914430040204130823269482010044396897546066017502815398734425732879897199887268393523510988392586053233782110142187308628245266094610021286252596596710920806139272733230072524222848616609839413813853515915984236029852089605883794033797233804406642602095141741464932799857070491627032135305231421517172579630942242364428758335490898684094539331841500563663631298778196114518549655371779420608311191612394657807822232983793182939812940559365824514220982061667717105372548102747988139292441730940704453030534532096384404311071891389182794101273461041180337420178853782554563535180481379988095781706595959014139121207289744775257887085962219637663870366390529735221783950962584613616720083521037834916131274800671253185325120863883108632402388607307203130974988003468296182321447813510882968303126997814052031980265021441503526637873782657865288279733577470034824533202572077731539870904643355084679683614294690253593655009772566814266634860076287064492498799150884126035198061980560175354153160902329138684842756618364230958960349430084355796765799080024633028474788621583916595721740112058134046944357555679758787863347777389703440715062354018802238420264284708034567733769646385104324574328164507510550885557927505083949613466282170773545424916823046374899550105884617604592480341965845147126519564494509465882223944137345172800697627644335372497508160852642843842108922659070303442863832208147778862918400768162414716803939278866787205228782443664573339439240431092801282245327969559104453303202460920273605357241680371801101571214024958167027290618789510247705476555119740330285508042605260965087153605919720640658394546319448313028666851572241270285313677972372275865581089972397053953391979909950036853063479843645589634171852915640147965891681584802986310050172706779038972696487102941743461499794211233954609821531667537225960638949972335597467306071923519028293977545273037637190402996775814980614862169190681789374957814238745200629624841966637205145145935573811232403421043015842705412141444327574856434198721036246493930602404360729082731269044611839162236863147139045826747052849581504559725937241489774724826718516240447603327096287295379893221141529247566465396348107698376751215058399945688221384801552199340120874430835854316665854804241999334668318771883676719790522478932328307022623735030158751957559665688840258980932486899288139255684334005383304124848386840075980252271508781584811786653379161880499025594029146270944233623010576363222938108877488669607508350578021886407571969433413084361429849255514154201792608856051692359834605948668885648168456562266117799633337272156982809162505637109153074244901206411074360208571383251484558046277836302491041326839693630802100199052711537292423911538076232795790322086115025140243567614538670562869531215627314967715706646568789587435377685657887890802031665472041706017782070331373671190092957060255645634657510184537971441018606976671281975692497948512962751398295724722283859538896738494838275481415201598582534165141718774196989805661284892947741150637862927260775128332310247569455100625678625335183792114903385308452787357626361908871481879460845948313460016399530442750239006275033774911888219553285837802438632120205306710920273533044409779946192775322640699003481203048468409400292039762022926266291002971298813236502271492630140203869424020527631130305472554439189837059993479333526776059768940145459608718378038771144542032621328374766396788987078039877898587593924529439299897210308964511827611490829776496365070244312535548489488635406534417131980442483134840938106068957281152232059157876804668841052412957118815822268342354027196179512279817279585973603499596881045012542313498323340323305714692069398588309922731670120235479567513581799747059406377986380623450202589863643544102036389678509407801038251172307112152818947243806176735630444645534580165594137065830205367094640333993950950596834045590401105844633394833779842202621522979222883841075461374997265739243002409633294500069643773626720776360121247353413645645181783395625715229053791449098764827851889053996879253401130792902699281290761239558689130827790212790323007413169100575052620379076300509391802026395622648702528316367949486461748679219796121349341172015025511674350660062815172381964370092356528985080645131390963327272621978229816037007245663991703157336903895307103139275103888649779889946356335375073320113938393957312790598984766313838272162098189434186802566661695520895938162862131923874455212059038431264521422387950017882726321066746041569611292796384750394910632395191717935733939414716475252472809970518312124094976240916858912921798771613836846612342707426797172491260497497311875427952273928444251945148347746049511161039632287283523233846620294670761514661511571609845671472893639062932192094926591226876931736563039272349948611046938926822334769728440849493926018855376398211212489699580252852610418084378802764520585620017076225939183411075267418822073936584428845150839697358038905520013075542609304823546343536394491649976882258695822807812593909595999503967551624401555881241956226340554727622975790079035428886134228482779463717181840635282528231215888258712649080836142346884359180618035249433533882679399462335857132336338110541092387126754020988475026057824983895055747158939439193891436790920736457062837489678053834677396869650136128564149178683665478126383314068137339105025892350657415877250598405189379715100406893305348314207801792363180865244125204863298360381771275756799458645685202935814760127793983477364259907915943261670424099779881359759305251166402958760493845272969456578335247461866406682632261791853351347740861492781429168692471071618378758187381100725858038776952605600341038965414113333686001652983002216982474580621208129136765360952686118006409464128850590269654206463317016633879871021612859127260907663861830396861581954776863000356144494801048612302881342712489275367682169712598591029788398758921183387090615198887958351739341082535610012981468674204393537105281523993013149134033798941060278887826868104692569772377164990489352827823976159753049221576020604299812343903271136374965337477376611484443737609580031862852512151259371229496342455341442284576377056444231516322547965611274948832588713866391260146960130123531557909242374607210279174411971058872114940520787239801072232827588801551561066011026835588994605702714900137587304324748265333966242468080892218998909552538922561366248924471380265159602772700829835863140146422434705707100458490239329631384469735397184238746241297099470978566169595294415620378959517265323612831300179558429626781411492024346724112092357030302599538793050823324842293493777809913041859564697532648954852221924044455383254538619428888584720306993878383314924183069140734039113523974405582136430122527935609965463857239206249193574770276019395549242761407994264419631543962729220128868693835100945330353393223726406162393833592926386464979004186658919358373108650346077810321510137526571145986425827389508654728010988037136892436370776427787936677478751657244249698276793523001056505877799559449165175317988535930395350580006093284138102588783004192121918796790694026420171657797588069359934869264573196051058673345410047102314682298180032711203416976744243173651367366004115501502239601372198946086206643957006909370197510557021873640130200623150522288216873513120056794243914862278948128452417050574461781687376019140846092064214524999236464183936250253289096111063837771345364449500084312284959891022801314940492717839556088966794446241913980017917982506174292842350005746346512078653902277885293769219320787503155949686218653993497795790076331008436061220738272316131855937093673693556919851264369505864610981977314511632487462106627366489502220066341502616496220550079507869077885603000864911780017724092900568788948746723200338039732499054360676634346984153273024967228915747328343004684661615844835580229759189309370495869842912622909948034722614668959366009813505161046134161832190308491181356066431344484882162855639628029660056645227054989803232972256486390222777027049028369457222294745282984233937836097213493523946394724932854766189452903083209486353782717810875811689644449333819227763716857293066212000283980443768581757502614606907389233521265337930300637315259126712463184959881376712229585985841977513435737792307525753626517322125297231285204557852554323035798506801053764333371722648865736954881042262477297762038257745018609857877794226704253927451065823092427421117989124217517923513496228872145880132767981528251428379228798052579999526364809726085242918118943032110171587156186419295038036192359678809439690536523458749411175195114684750714039202261899900570995384696209511986105749443762260537618767606224739179652448096600952423378957284960485057790159954733535423646093798626882535790323293404372358204136775551752072384891076891041258351760761381216021458865126808620702511918836170844092654709463558279327669377800915337247230503353302703746651455641443691404874840574075182972859044604859362444428373299816179330674444297714885012566894625843460540101534672534144284219169193119756267329461607624835408314586379062537902014181988412525815662247031429980689204133839991739491195925542948129247419852250421113451330681939505370023817339770032190537022840315930338155964349736033143245777947001421450200557813522959026108571024354371229384530162249017716750592822760930912597515648911253289060525799560476430971889453904215524572149428328302133991186327771749667473832177253885964887292212871621284698996107117417903821425471207493687069923170941537059956701707875262680012420519487605206502313998083249290131503592996989204377460244088219033918466281179516981730114864013476442240058719363364214372260060980889067907124113889717653117477400762969107045014195071592729386216432375973483573497984699993100162014569983260070229421872108661295292504392923423792684885405348573538576405543974625339385868008698370596171612876450860934938718616536825448479591089851979610664005735942100359918413315340131764396298584598028300445694336572552517216323731542507008057219531675099344984259275421187412576103674629873076328063194135649827429950240086414430204162060423325416265043301806073739399909579202396556887436011134016767593576024188679945276107729416094988579067601645918406712147529857343004907162432375619484728330995426451144828776425974206524369036284792195479485774544061375988268798278189074735459608807540149382125042571935614783986336702270193731541125586691283328155456566399359702506042384625774148257421413516159736479041040175024937047863018452352964786837809613052686401352470286289491603146544685418317748182027282444177207031666876317319727230243582068132427941195613808449121801150109922232623407406226770485932873523021745864348183609863323566739006975445399799593057429447309782576148851098384827460260923570994593321755321340811914507575417022616170459434026368212923702906907701359926018320997726382520360186745361648989382642310766505662158627581071109878845441548357589983515648957692318233153989635194901291260644201742267022521137094402219587650612978860124476282724610101779088787728882893323743188491948449808263701870593768283352360536737180418767230888288326916660423193680365232672123032724365503711533706340460694455567216161223772587509484176752918202911374651016695461452121643704124865263546316681301486921798680183328291355360649063304437265006474917616197449947225355736136680961463521974879902570314054204369323104617655448466077262114634915920911130731449600546005510074447747903485670180781151777315823788615800775218304861349242994065028903423319719871200865014019995890357476964710675922112254869985495553861560906173846211864760282697396355882036366877887291971248487726302608446707645077787502112211021255584897720487000068367642090179159107746972972354768059970137808919153875417630978728188245179083367113164502477771903705024126225657565988091535205676664054908273440891627952684881469915308493812076894173618422189041671939586353715192798543142527252538779155506581114255487487491650806296923761196366208715606793978368500838007625399394458894109830087731127419430626875468700161028673437840278418654633440891923938146568974654565796738383488999010434736940332268705612941945274590608737481536428018899277793623778787866080073687839709031736768463771242415443491856656017642620416629858651640382661187714237503426436239709407110975842267003378829771210913111922728757410108732648560961771615173626290512334991932907710865219852276340764172828942947209746745960400587362831191853989605967744896465862369482187836984648836115156975624858071940027271553295922938630194546161722245664735455555435901230819041260376400800273612872518783425987615186311479700772681563301363061830505239692270623328072797728986224658508284189672054079614986165388296125781218698044524139051726849216233570179671611898294735906414490521486727861625553327621704028380602795292358808954192864679340843863648590973144089427923624091189812413256704975399272472676130020803872818499336175863489294639840711845678348488284303071773828753234949919350102276595579835760905400811623378743977295835872778669737200576811963796612311225651359756019033963593765209453686726761678133733161988121470636275833484983756114360366851651675606061473700615033926077059011450107429502668231824993103560544473772275485288064287472006526650597572962231969542378405790364401808713822515745769108724753790950435010360502495791963082466745455587710714603232689970147778063677550379934980436423031924651920721351491700246777404869868975237583834114603219200069986248345078478754896065446751477874776515435224823298592143624154983545551120049675949069238365245329680146257330633383922868740038639434961926671429981857857618267845140535997380836081242488835513556011743621201748912639227841149209283585559543276774760788036920364465549898505672297730067883646423477505212416119414087149405621384882653440126744969750936311354489572850255891816031955482382489187811450548987206413379243228106691010125067320982980046929011460809878357383592928166400290792419597269791891656517271980747454784259055577862995792609891510508529319324231062949870129095320370370246283724278807019252862037939476729583848151628893231704084249156098640754447532589473049319581233836041085672156974967817715935221095454086720438839597673453082613762213628941684301877637374989611815376421754112661957717682862949054357169721898312368756028646339327788118561655673426686134390005911110911018061500227287420588431489360133344554753272231507473609376787759384142563197957917351797992494528918894253704352311252080261095185246905372407609869563817231426467490823862726165349837626027923493655251902089021122888609656297450427242758046367628271184623655631784146909751404400414803568947283734164906823402958454080800401319202556661903213231066542724034753164981344467433423627425607570724575826945589751293389860298746371894647446004338134486062865258744287161928122303022019639353144412374208220252781226362301440582667771856837189220928769946010010365915306340617473124909015135345923563711144084121334257294523852824020323260833492197964239542719915730247589444361608505601732094522331577937887914315267610514402922226938349606693452237527407128376983679139684227032834399049561814784143243412992152350502850628812452992132274566662308690071665485140402328576787920134530829289055108807971194694372456229173394551607711290357908532297258920297621492963404143283571752140294913697054699274846167596910860742908510771866629613385633471445326939578424459811113768899614362616481648029941609824822734257702938269681310733433901483084464029485024493568919891396033032230556431599723717854402656462147556463180708910440912384373472191937476888561436553587028975177771710575412009455080797582490491460489599551338237499617451939237197132434312978850943581326213780216113317129933035352827774794970439229701384314443948827642203032207708519354659530337076831351068700775751972164189080831110444290251299719283791743825168298255595512692379260107916608992284518829051697014761393760710594719083159341390536191981712543717834677755451411921262121327592719774238465216770800189257260106004960103829061873557585453361745841410600517917073707692809590199339275919093054401288472604933520773512835414447449183606776498654118955289933117246897464183555198360215231488263750085567315860320193842362616067658551714462142052893957697554326722573350145853641370288613729267154478819629181675016540450200223418732868573948087022254645412781999779365219537849694814167809183368875016147757396696089101086988141572155204999955222543597475077938826479783119006208157470085026958235733161740400586174681573768966955135644169421269775483625482755314804922738732533665311517262718281603695488418485985503224121013882386303070233917258567517200471337267821583179462626233118331363659781030203466933001016184880234813996285432114129334847110144216559728356430864952879513948403556004151153268547054577410506648850426406678156484918608135944719358799865677177279618859726773170196786661553003258221794579828475926324064777714809416006051970903430714484159202865596095956481925063617292246797605122268354227794530594260811438166320303434883767053494922250882827607568114397358218624857518472554241381442254215713121276050250575843929193272076307620226815459967587127000037651191776480819984570012363723030590921922478376887763059366791362706718604586106097395322489834630731868966712649673614280043165698592483017231714236711009175268977190050780688345709307165284791312839325042084959656602836094072263729510487178773418650418871925008136239018931684172821374583236494887642600608991454653304697639363695914823970944339145919985331660496479237848299102220062512679652419595228780224699716470367633093014187526277249274538797320224117314270939269043999117025520755696780602056382163068438628368580244165338610451433222171690625298061134987565360632141873857289488931794456749965453573500089099283240674741848971474868253535971844958045752931241906050278907096348600266257305004563026722437510557765632499681061167547953624549866453694145327089075444335938105707570779402604278898149749575091359908709915598478027144601416816721812757066978403509439902487972428617406973280580898877798187886499509312578128375758390998153533994776743199495177384331906030802668307388173523885015171887210343737222011596766109933817088169329908500862109337640514452278841388556913844427606558814055322269065710825905043645185831470711933357744911746069687478739826878679289689784338269115064760662429302831244550878166248326203883796172812876944468969135296568506432678734421011672184045231154873508002753763437000050841766490743113438589455094573036763404739905143952199860704829663745868863372749609768102992524313898695705850710378843659625983690738501513048331604937932737236553551760979285515183511463208772519949096706286354365226546786931961989354644020945583893222874394268728792667388916015625*c_^44 - 824842505839868596580414855582739943886908588013341546798346816435868277317228720422228990541585715845852447225640343368133240667259075185907116787098449886090575894299678032529253856637295593702550884394583273955179831892337365803006171538483092497327632572649291845781638010837031529433045893227225797904954382935526988218799365850793432492245944134909484175641143588808777313828288885211992870934870324951969588674702506159308666862092245887874342409820027168844389387907565928989920857189217426630828957571896052174326209681839905179714564402386401493277199650283549729301029720860285572812972171060971332432425132064278672350557139815816713155807730241655107302960477927263260258431760310325091889381641674685876517653077532625978554702040892784026554330015925522683617891142824426322856467610933084260608060942696000702383510204489140113515164807218454853405291361716137325327693419490467348073728772725311924145098909698852653761606133107360575575091144395686942323735787864125885787835315364115710570758384537224847880038544368789553912993561353679333150706870245379196005947300250223890890580603843289789698870289524636039121308455323443907454465685112266431658806480906998310924685596161065371934713625187620066945518952361731953436215034205648135049856634070964874840681250595754533980036827633741693620592428841449387086841539267624478319487705939737321652909368878922725261073505623006054487016057129182807370450450748952288868682092183850947507513662711727641190655705891337359553522361955216757643421316211027864931217075876461886460360903918976782597076841996618890141808231221771919743146710262566108724526503569022527388651847123800521502380729856315084803425400336693509030883247650496819279938622321980245622172233265990054247279858446637238929572022059059932464752820725296106330758849481682896413776105483668233237258284352992709847222961160356231154274308288321007693645664517306303516030446789981042281448199934373052878102866797562649481278266946179163780459465739186024578659015015408657300699863650575118158577591136856917635730613962004761400453330544285323196615328971876661310046448894916046426642398331547598297822287757663304807900194471724605916193368343729049648122710133070723766484835883332872688566916709025277167014720408948738898072144870610729905300116269437356170043336271477954223908708583817372921392345782554983609871292522837179659956902903087144559370688943663981962117358920293937215526881260342542041389012193859580485451329205996215639171096498336032308802941884776958723421239325841008709669792748872724254731289245072976380357381838271733690029575721551013478564224449673363085196425706067353252813871729972647145257496693153523050147846720106056990469601652666463569015965792516636838480261448897651975585401331052098214070527024270283618021691591237748348429109785257263505453568673624992169106449532008071247280506148222949956568899435746918190434506827595696835964754748159477268287186801787435660814395510726127363429006469190856768236559326126642986022410888037532822036581295647093487261870169176756479708725008455702031131590553261288080050792056066525250412874207827515591867088066861244570122815204994322237158635829766137733641084519822668237748781812935139641012944336332944126934144377486611393184696123062824024246789574117378177464595359755074966493266129461968694214673041130310818499262738915929060318372139197750589272197672104315491360768615037583004310271790401599678536893219250895027178118432362835898611753353451436237437597872969816437535060191531812654242764837406627073003597259700444857886658974471840470656478257154106865983990083921460824981498796722437095776855642404677670497508272015513300627846447275855995816432142769978927057673920311103811716110494340369545344064796529441416633839603734092205641075677354903208934876550691999747232571841888967114954098394064629923012300291203484057166682315347336312300085407605329315212191333941750961231661640459142139631562608027010871022085136447293528798760890925975277364046693237619047055667410624217222543022706882940738135433034716465643588385124629824326791587794955688918894631832470796513529270097151051101929476282597746077821098116654888273775193755829164427578941412108743313379632754846623403212227944284573496832213247290125033606546732164748101949911777013576890378055900346102466329544958046554473662397170814859134994884845680328771280955636279168636346460899316174491939305193320231888305760233289789327208383563163869837824806339085626445754982664521014720353982962309354030786482555590330971043333852516251222094708401460978139626706615632662174577378521601384780930108778412518701047539673576379978897716432698255784748641554628519114325443139209012948315914791138048920950152913438660944009869635381932271625082239827355597246889913483929061396538857199361375649381699332916194760516985817594557013293601421572915137201878078470443116633236487125404080326673753895061034122660085382260627216024056391244867104389683970972127247772317291777396733232235901180668625496120258258534626306554850609775496630852200855446425152454367466534207621686368200488108608328463629873534715167112466280947453325577066438276630607232564050920895370345038523327003379199546578406610791350075681203549982912417663494014019484504189581344163721707536662789321549776599186898302890327062258632231997633513669391678689721356910315443395308547838617781737853316225253596884631694885103589755257601049609100686776957393437360045788173691603525724465466280487314156057919754088021345798489890007418074380780089392122326540731881383089339721420611456394421767551948937882034016642552773405114447618343234139671080751988525219340420587927414945731350098265422355856304559950671136147781438212647367910941999675182663585746735649998873962465210635759512780981003337871627881865026071239445318848733314382311487616628564710727394472616754321317597143811820016147486589508555091534121391217564003360748065739405559805588689513609823409112538086598890749626377601924599503811010464100104360022711074682882645146944029505157918110664026654610241665519565333378460004175554828390941297786342052957393885863694425425297035125675040357754698980103268102810724334853059893634027623371874950687333134674795312113036006944208386208141815222718246766689919424239159830486241329551779041801098615940398475993371962570041501495186849625119132310360966757199373391758945921634147537581923270205387371241766057086796315107563838622781697962225197400164135962928811865491445687883821674117323578786572114976922785978413413144365226713209225601468246380637156756243274110849977007214839679405306561570045386995704273770027546710357911461527634038633997614910476686402048312956425791861502998140917769863183917980144109239241450847308070913921068502637316018409369846023722462110503546496001474316510146386745589812636521562220557052084079259841380623134661341773785965419609628712716971674283060653190383297224061400438788967800558351811866577722172003202740708245990972146327857797799104280234600850377346567219305034522610761543520215689137020435599239615111206987974028413569494833401115212093702862421245158675598993890004903396940654555621811443994304414916916954176661509263825853407944502358384089190467401598345969143639216169440290978537659357399610969945264967679363427555614421856852921932058811950364823575324315172337847642470743551725561635994560297501023332983236816832830643378753307748994080891881681293811830958386605466955162998143586008675133879747293656036714935199309385943041458518311323081238868912092834165920005110583822523784838199292920854181851780613302154471485805585787707792581624093009659769178164021888333746133113807935068218322026372584944383290322237994946810159391043352633210938326260999221427842335381264807728201685291597560671020708496668931321753220388671074322950016657950577680427440512829568912138958079980982943105907094920679003235909032830815618560772948190780557354009652361356198368051029637899861768399461998632246596498448024649142601901562268876282974786601479712725101810866313568351182139847264322586512708414230707818721445802642797759533609605004723341554589163946070986993673953455816470455962200980483734379029606589945998905776617277934510436748094828581790297627761189856577792933557648594485130700596982070296384122568022366731031808679227533738564296406572290069005898665605810927273775740150107030807526383578646736034800047195755550483016076757880167634550098683395127961389093210661994369133688022131374186713268246806542645277577733127450074902003531734971713641361501012037343434433011053679427000045693474493954579854693349178955094900344544288131855281490938163853502951984217694075474960638715214652745972259042293051030850984690869305776999116206657563882868449354375101493861835884226486975709617987255871286549753220255842529737803363682659467779953584196321454542747096001157215963029630738375645312381549386858090243227834816069953108915785851262297115815467664584620246123691054583846522990220033143940340008410232199539402124464526277142234350218854783229103685458741608413164777132920592862155791455787575864588583638404855367809453377786056358656864169948116888705293147195461661174830314561722563888391218328251010740166842980255901086773979776936386498652097390440141724094364991660633636803835230292799037721501701253695387509692695038622151107740076268496651702630197903076045520742618259927139517701572275049647376444528281581991644341052505150533698453892235298942324182248560003061785941366342806997999710184166089035566153394290716940450577411319637010628987867639015658727124473871611822811521659902543451265126232322152884572757673755941723037236262862093205805161662045504122915082419289212422684326600883584112799206164467376326166252676479900517001342568047451810725200025125437019814768986350857166661242599219435049738576982969171493562717781552395388321994703622763864258620532289774257084084132880713230142859076576748679135647948812189505246651883313509368748408982904479432548798053303010712529970684595454211402187802924082921457676608607793464581894131669328376516521402479713731301900514706532190732294484675493349414590754958232019486730460720531475313503502477682094085201111979992678684166775075294100491778101918720735568030862114458336031446011443286242449983067855266275338555925076128209833689419645071010047360509538980385589515979074977393765440951870414466542666174222075233094518739455762985118200421597458698194237837163893045524517154558766765734783678584642666154826588372707269165034895487905608387354655953031549198517060183847804080991126691241179020026178622097734009294134635825518796034559988391768629659931540365437549361099564630523163133045468341310004950322937353467301844934689322346370661458474957876537296585745068536106496870448523492051091360467937914647739996042255763798367160320571430422986121767190574147939297529496924776407574611075475550692126215236768252937761504347246798604911123092435181380275368248023717711829363686024957783170803705522176832144624580323421935802412217190598256613589417697748390954301049396648635380845524003059898051779869055282196632411034150201266055318471538773667785577603471235072044638689233915110563524845615447616261446665451275632587213850698460331558043170623906572965376093331249683147278252028798527199753026623440789465286746406567420503800245879852324912481094184683620770501978372279822612845869042537666891837246466929168320549677824156113808171826413232507833319902505128379811680866324293401729817671721779502569128277254176726159511316192225463219224181006941097747793691047031113706660586354756723864716285216785595311630405923448881626845031210754892209289635651188489353154976297495721993881394263295475434612531243766269654669361437247170331912965192936769425411579149142727964501338723865029491964216828476716562319469246402314443138011255506061155177550619130080564497837351914477419908782701647335215015174356076765953119553675567139295064724951323604251582633186880938187282898033091993845762357601652264543483540643585474544867000103364227389977617599293582239089116518574762385675134219359255255684836448202399113638776360590411755169246007373572602797537934850587278271990572433196172495527358874301424289196375332417434251594501480393061627890765775338459090051356534319888478098159671455219400802301228748837813635543588632783959250200203364973304301813696829169459535515032005948821492736448956547070255744822009355146931160423908886999097220022332082874111249957135410078509864393741259321924384219766854109824338925748520657606451698800326837867162246227778181726614764775482922269909384064149711063090195274500709079584408792072549201652270639752649661867422396458334022963103695598543430934080423572340667604631834331894702946685461886396355409279502679922476581782702117521331589826608834399790717469100261453990282329305667809351438547384024585111808424464807174954185419460857677858070113822092728647089704334439076801464384531226116436459799118286811048021016769364732068169642512401287300501064507041962398161768211976713544456540264890185577949247826103814518929755602892677531591541064325204171660195515219533006278919513480701840652411263938219766322807807527780782244233524007314584876064293967971671054684808341796283838293096268557048512125100791143370105907833659686458996752362705451339529457922445826345059143093615614720269135803403839924252979863826525579911142537928323129827478153155845381508235172525085336911268417230419912788104465845471008203020929877361884319291594175411708272981609661763100014404212582820507375871799078739258811514651996767963627525009184148701819170679858556614141674461661691681537361302314538580487036183972941741607076406702087734535236515314170170000718276355991387210109571267496185243096407419338194894674850625310037009243882011543840036968835602616863228510799738724294690081243499779512445860475207735853750824129036959849826238894053162981911055788758684395514384423794044968371689003997116539217446464450658794325961148919507524229720056397432966755833203618081087793243818076230158386133265359268126551984304198374434573469892166834414363394993416297649970137749468215544334969087858660669519298440502581583121463354923010991626866205524467583085261661783808582800738650254971337269253872926407882254508100187466503446034337369366061325593257485843814439186612601237748235654549927435619641811730351693358638956274698424353386428193974417461493647867318083175219453075682280126571728168062982395930180493008295996553538480450212921320165728126167423812624634847735687221841285790639728014269410849374149456987192307007645573790481334031371256387267301720247484349752825550341873000703873796369859161176115788345019457571367404213182406718281650885092213813089172858917638064615744079242324226501478976353322577037484247566635237665027480592437562072360017286438865373369364402814199894742377755631772566290342151687238384287653522653350244105197389795050071369294142760298127377584291458027192969856473041313152842553703956811644373357723008963523982409073130034348814053857499540282550273147123002840540143390835672506698978129354437885932094236921501432834002996628926016815744223946142444270758037451225821140032159011295477851858269072322828064210419666235799906198432824788972777931511248370555281970178540927373931516970001742254523640836210504394466699402422345029173770200944573471955262982445682229527302015776945209424250005021177082845083865146556049175328340339952494216969290362298569415777422134849308376764160825405175350707790381018340191657869632228194238578119700319037336749644699522832858070679374536675784168410520735289637806527463366237363402317549361012951062859824645857804365512051713145500576148517759842198030287497493678630101377191996188013970526679832925858842707435967053971139240375767492305476842167872068319801395722575582677114641426033020362120497633060722825502145021476809126146021815465704407200915587828983216389905054941089159424748783877536648333671615966500675274146052545818530222167565697609987760624978370209723920471417582339625888738253628985833435644410328127844656979296122395236918802517240074469019945509382318461910031152134259702764880808331924471148634714286528297410117969986470727816341042296437903846290759051188957275738863114326957677993529173775191259504653513741809860147861357273409465848838050110723526904600415950463446386237302264804226494615219379943053368672229337740998658702260267584848851408480098833019052716563506944941853518061902309674633358608184149943180721857205577982585792920591442436712686569190431602801523086012914970532089931764987188726153588839847814427893503288830745268574207497841634150170484220991320523358017763640919546868815840285774910398876010880977198808283342113851579976889816669611008003230468339859555284401242140280887739736149452929546907039070352787533970047030941663398574053850081968728647915223917809065421901964843884993814866833630307502985365449120396078563429288956439713174266858191842344335223032819708243978337783797685064244796516073559794390653580560747395301264612408793687644757901519831574412022165451907280904218957087096669134147444939235408196280681925494937815063076390422463273965126663750183640023446087048691461820792577776509695392413719009691172318501410907251924054331556850433837884437050942229397056242100383042379603673600879585791997301011502715223791622866131333346223953114941393592656517377326312465661451191278104482812941056767645528303882137551978605415392381091546088331300392063761720098786676388365231563274484919358203337544752281065046968890155083202363680683989146774705602339908525522891074903333095065038648098258481717240599168205754763899660732332735718208573846434378898383169496003328243974194428192366452461052776127671146724658211649120856731447772426594833545691278171525558911258194213838431876763075468235811508509865541275132316205090787900359435893647154163251676636948325402373891760116712346247779159228902875820507331755103784011080425166147169424468667496577289828801488318382550732905471706547048397260229336077863174271344790889751262969804615787242969038580276770596295928643892047666187637084420172438354786823523704009101459467215801126363617532037263939500387195023749290718735890961515251335622047751673462216501191236502934619710649112349011412289139547053443618753312193770791292711010261949201896878646285966875795928466426937096631428465922797265211102678057971277778180435238549144560190253080363737487046663699359054233928824177841000034300375814344079100262851938621660126372062509916227353496280964972599053234985430520051989607447897815327020982969423482071775621949830746260488680606184498973129414282505184533011047221652124173236415207315669995055680145051550793750976976277168710484494523547298723712367351245001442486337159380068708994532457042211036863546397899435677912787069704560316248694850105659569202349202511022122750478519839344556518421332704527809346964540098718697301827657948371003922667054554103751219133068709504865530358318652353540809467592882980579947074478464871694530421727402105063990231613378020504904216958001003962778601396245884289061830869638772851445886679054040819481739342258396057382100786047667825560390254671430677230578792229413452511438165210625306482680581874284649157083460025926464886974552582449644029880347823262254806783114005020297416131956147815374463874803499883714933942768376916735886528111507951408468439801811347824181113308248131790860293070828415329732971481023809871990958247671136760371238022486059711064753912274497626972370669137785466214729108300475095088921027748266675624104763692048155451124237286227149860619485344278807732882932740182793231760802289519062224125795548572379322854067403198620665067271872300716786194631916330287587961044382489160159120178010177383384982752338700487366310429631338476650047034576101130957705928284263167098985228327805028693041722924401051078140079401159033070819900292172542318855205367738569542041754522851310696565749978222842339104833708714201126358078889640383773880660089444380176121278694793592678265382106864935400711738712793009106676138631269125232201087408217114736018208022121909564706353897061638120607343556562090470558596629786784548031194149341240176061655937249447636152997364465167512739126889491281770341037019425743601374589666584245438517670359714929209075424102897030681192640726843668778753660444159822082617148792386852314113021276017719858503717804183075097441468795064875189406893389748853871112906871071778022883857752670437673118054030530564856133577285083935058152028516242196371123501846461880363526946830156889075011625106904496766284433005224741988632884243014349074498767479848674576072137412313058817376630551662987229587172646094671416421084213316015097929024465598996548877530178133035256819519066090324642800674394926688110973410742382435609852254881094004088064839623772918499946438543821759191062754867501591689166887468722274542688528129621175075027472546825359660109152701688684234657065892078878764637241836572853555080916872913179295753644106019105847321903454084122512514557843685761779793429975296012195824198178503272719036261671042159219435721487202974122820995707225918542478424807391115993316923451913125170781439468421087252283848773431693976398322272287361597695620304685549606625444486446184950971809235926142002092288603238875980408802931835597332974156264753527582123356607304576767167398827730920165762083762417173036183493178584326434352381513679437606752885579829523510875025975838450473948285913387904379924866762848009400027655028258967666814900799939762102442881350008864503918636782452433116884928840269013206343481758387407811141014471910356934009394179644431063302413929987883448626673465022595930993866689074696591607751456541399175533021671684510011728072544470122669562389779838437502296848526836313186203371415039360794401321503327122800846288808407224351267121919726031515382859142691651508346518398196475459105029607781781028292394168289060790719010918364182383506017863531690473808776290817341375781104697224430084020412776620663064805451727282242177719217985419646505681724825535019300715495821518789121243669745448618396247375897122212741019982355976741551228231004786106255557857833469894918869792838366234097944036926095360990516918295231478037029728316636203017383665212159601758584863142776869344968213975643996629813290808127738848005251615932279040391263462557001516242691106137291362352382942175926402886346574278652028788808473248879182409537641445436934566467000223738465509946965817715230365631195771184023287037432876387603802456937630640695769570261593615219460928536160702651183553332816762363452082769174943060570967929879436071039691219438761062294011725835867267054786194658689335281369737644999711381794573300917534386422182641204890838556634247719322660328734234287075932158915467778385448105690711527054223572412964414255276870098454147885370803889011797994930677503359257254876011097796724812252411953718806408406667992360582974920564501085238670515406131423000620662011598118209702697303662250616274160327223869627557450854576602247187867075164779485177934101746971347310248092715943322400481169529837293338162168834248620229396969767629463943444009036650792544032126056319961874458315252001026981260230230788800040146821727480076876461809017369351339987908720980049963841370755842126098161972336941313279538848014219569689601616266987203685129033964410765937105976415606387899963028074060023587114834232918865985817024577868604986909886546895935580215379875403983621105408074271702143789507127786262648301118810587156697213553428375574953839013882816860818314203032311472653517882431441565996546729451127531256701625241763429363266746623552445284545577416617077646643001110591195881668323210774542770086243885511848312929481258283815688107478785188427625377424758719021327832870606173016706750351947409654232636758025483557968453274306573199782321894971563360119872115076099426848052579352768208921363059280422371289582569197953879535618783014155192584584060603301256537179388621090978694773664375760748066446266795129998576798602360998539704094675071196555934573882704753163804431070993224420262134838328648496864492592165092330672878155184490111847338699707391274095883178321374445156689054280257906945701140422422926759079732918538896576457885478067000972129209648179612340938389682619695369634461249171039704173016607888386941910878047244817868382226162569407533249381898627989790706192376176871956001573203251667671456785336320266093567416581289955222108666424934182317347159077180371788284751288048385900371877375729349112167122380039912737961355447624906164132685367433313114788106022365972955510185614407696444501908528361617370689738150998178807675109541069648690624793023707177888561599416363578929525321711441110830972499624830386719863095963147834478080238556904574538012147135233938281552860667903121655894977109663149912883043443488752956131095819934183173157398047514648808950189338631605467980612233126351922687439260329505851433459440692147531511509455059194336168413409191176906321705712444710670121210066442070060480718780084019484413798762659942110468769069952273622695215145878985343179574966726703525486083093927533559179954072416784859663710050033735276920491053579306679721622841107215233188891502356312056997008808261915797507145002891504254061014052281708760753143288549155848027159514348970564128520105426078569461880353435648506131817087029141762169610138079746934324377200153421804267276775088388907108044983699381239131317586817918103257630912412207216841802576217330111717924444678366080702668260039756572049632248479626173323871314458994419565571588479648196255750164204323155681484994899724122229906563588937714539551570570248953094620825911113414592302624454600238632919746808359382700750899342712021071095923512711843925069819132107774353887662701720656127957088393902467751306953396124458948069739993741297698670624917236104535466395126099355625722260919202687957440459297180746660124799722932992986295421585326785690933727714588976626511498640630986994999634887822178494882413949941424458771753469128624396636964076266788966982852629176852809624355459040398343096102982082735228913179499968052623892984648859595446239588512730987274876473227235187061982467866139764751837580846256409800798785412819602775414455075871196439706534906950603469914896458338121940506013179682026418656836628282536581620110526759754323139412520022510923716936921422142901332359580563736106666492116580937970345556670873928044271552271667994917157957621523333739293430706102863985292319848442651181531442633320709676421910943448103299804253793622627732136900475057636650700004301784220233394970663025336939903493138864843521242890336566517833233842247918060601259588218063603062983554080115819534248291550870052122335045431432903940070136556487084655444055040742379412021561723805553826919351471908109556108508343198621597074337699042419747952909922984018000626254913809014638708836328928797387114332499131199449792165392883494664277848348146660774566714164548032051310165816214421007342830253317215114778975551241426636683890407493967578920885914394473979420741165156275776272744813082295393862024153348320891804430190357331933593497317076507213948208837998123393655458983000111171531612212225674812693673951831061464696048330892196831481388666226074161131205536706917541169389731633524498727944777698114811563157106198537862407450534783576622831640258710872917505206709423086468996799137237970242447105849204838451973769987933983042068496937427696406591708307370937802185598261672951658358770302450085797830818549247488888289705843372721507146750373444155824039787110986467177377103884589707867226680710907042560992365938856778419764151949440849842309268065345961679603308124584874859018277941350057259628467018623687936005491058711482242254553737239253588919321141999423382400358789470419488130376541311790114899071028532875251675439528286089026938863189177737273016760891618575743319918449660852853957809457239183819938684076816162892010148070951485459060722023366840547549881037615489180628048909276409060541551558575576009841246565174537003440582663779508009982170346392437803903060873537756307194028269415521440473700399086097216844501470039352980381649216678375425135880914322060053117683215049416794748281947143987347721109134408211953804292720073955658661336419626363619309768010392851564181277291138965397733553007544489155101442516690668979313690677099869430084469746696212272264096818478573150180415250351853978079966155813620008876173789442579539482962938487948574772893282872305532904306237792797041093775347580147125932010913871556145282922203802676044538253377025152213849832775521664656411104285332340962582907988837704918040901974825343463961825669248468979597715484935214812451125107722145088700189646256067479742457434136694885972723861775841641236505218831866589343164952414846870146631004690857847276303933998946677349532866218162748488563993800215584394647197449153852602961414686829293261371533988083077524379676852343167451088710163542571634291469312682142589091660079989010759611057285456223182154485684653616459715053659896822342147056920967404172687480450789504855232725843181266651042667804439073190325354038065646613462450939321054982556386295044089450041098334883781612159314222246629572433836840553944009926732070376193976006248209781820580929463964024192840272452858026059640059558612673453377486096841406190698874462830506645121596519664100325816134642390998617634471669217353402385145794855874658523091072583882773880520276146070239707909555873754294111523637203169770947834098662130482548796877038122939228937660220321493280371999922594260902178762766540930072316732456250600466604758866160781585155888163359237074089360761262263994511939265839802165065475323726630225522943157101402764128812167108745322429047960705636425269176329213196482391281533009848421346159915441756049035027081499302082873656094509001451244975376031659909566205441876106504845866483471450517957153346529549073777934309141244844321222924475452017027086491777079255241219639812224755645231825173778409076986957083675750744470620653251711019256447979729438689890495149976010974702474030575394282975243772760801822943588902661652507482401091735650066763848754680122621708055136481634885691896887197092686649359104148420238537764682075406911288937415036850277607722429404134860679932891081042869616840465001168155940591437953289452623959348520206194522269629499733450359601378169524073285059802507436231513103733621250559872430871894527745709617994337182243393595560341804325945718480121594235655818007702391315380177321907845749863007177363653512669715186914129951831145955666932592957153007831084109433255005233902694602035506910697565965223321935843684016544949788469388482034215592814213167732461522348915860546113991445434008788664187710524028623984856131882435275151520291500557316907935412540005682030207073293539264684592122410204214535452932745843517941712701419688827456344598876689406461627947740600230730478870100341737270355224609375*c_^43 + 9302619600447025442471802231126453205158626008768868925878029083423737612808232088646227467201360553062924248275386920244373998058919765526741184268700668810561819959625377011141636855353060237912588317630495026473889231949907576625922003333881275169031446432423049036592645253950161655545157152567894716997464180940555612822278980811618808672634659469933768972553796949250858782114589663795902316154022891739115208075042571009682290550744112190009802611074688686121802627903421494965555798894833909290493895009261327542823823013373758760272404120046664926379556057114137821605721440990744587963674284203309101357594785832090965503137082369476230008075171368646910297319322328847781388724663909636629682897402258560025920971935573461321494586941541327554532070988617040759353168255052930983436728109240796071187403500281646698462865105491093708166364199145987593502120444979319719160034980347216100245759509726802319697707282251236579982332088131337040414555512200011211589434194622219972864166451342663435685349532126578036428454374372112285252653600541959843027027594650305294661158843364052254211719240560669617182088149138749465124447741786520826591687116132909672060286048943625556322258402510780135163176845035932548410579278184710917430642667652739972211264996554324230775567991454461613606898496773763807637318845809150173549040954565717093115232597074632017219774387890298826361161491226667352589204429431040196851309148717316249176463424635441074921957968603395343329556118880669371717842327688940450195917372272614323343675985660289700712854643436562453090007176119488889766565737786710721382076871897908746188958801970005225184992228564487429874102007379344596879158005471705256609668207545760044795542145981156670504653234742466203425952106637212200410615004506256382957285814149606381791378645818219684523582242607443232858001357994462904741117883654177043732259512612632123172998772683595911154480307687868290022077021421965689609684044828762688701652547699548388105785906583964258371115924904561689059447309639804117480416323672658338972789562516831549521761738420801410372117265796346333805266099066861070058697792691186988054920855886627135371488480347310735741009037993186050465301915623283749589042452306117926149247357669504920844475456317820529696801757977013393177041083485585097394095553913480450564181633836992929227284136500746573156729750807691318066866119921937541175902614463043204833010444675643682404163607870921252092781538123367057210000309095145273399889440775697141749104844084770929802680357603398416073344781192372510870395633936563251965636727525778992880269151015507103760465982375915605358102244465885386533780381328108573459997407880848661386316081844575634690792680736949793665214746371847150599097112245199784461630509006228737787340236929866191836136125361554377934167699125954785028886649856236909577292121151806793043759887974286052251921564613963212787917407463955218575224180147851994438438641663689913265823729744907143572042725192100719740634302973583445045210155779884506391056392467981046219554370590306540284068455286077408945669458178913149686015773921214382679476533491612976914511549338684269414384199440435731335788691348923809469843422184741885251483252229311032886223967165331045376444471722748038632735965822364238427982842022891027546509337897965691667023042879213562516871774738907264630974040724663324822081019490272592313506938750820049086374035448791341887212694085304969995212647156022466158990333403317832493631006435313210562031794584636686948011131176436611358014208528523877412880954531421505729399130442600250887770232781193257880179375112025819691573374940856080444069670491807037920310672465680133914397131087479704012382169088291829938470350642536667874495424626018658996823286811117614280752159104879020290517263499977168250237249546310844005315016425940738519877445450636039167228600889965773860702235360804879095889839315788779138567212771610342461563769299058276540401385155396643582297476421462984365281201488818748682859243674646188636645991254675086911682468717927752709977608058332443714477414000575433168759931098030106960800250614579680656245756950655342746834233443470514014963627182785799909060837447058930076273734373905068060958006814059200655542285083177036290932566493841041110836317704187055922894190072414030409635271240749022658961618490785714263621069550474318386908371411317611341450790381708342275674910966097220439506916509000380245806499444888929600965688355858398934267210471975921350295403968577453078362264534334451063158881274142023122612289485665195669522492091226567399809818865635594165775694426527043733160845185988956385539585768864965145632193494475415148310462973302107066505411057135201425337585818665174909645704493398523187685738276197095886214334081458858349486978649485598246536989854760663730096404726052658898450387646950000879057678152003183954628266214751221907330696393035978793588158454663530440310806742509370585363816427860635560772104284428686903015657611431019846174922267741846766108587126309535312865754430083437555508118106399349851576527982689014295968053782065574233846047117315369900467887410931964376995578302007553824487018259168281206660032655489598584409849714486791542385138899053898668661086674753989482777096932283390837690126974956105951419960944706456094245800958437471372005441067436694233375541373011188989493482115317471583774725607267711403992816953913133666099323699390223463899991740983616544670288919489550965566329285956521501409684135368153779352851525329616528721473595091242097534779898725734055610368733033071698070207092633598587149181529260483630883370960444627051267955248824098649786636054021258186653115872794411937775510168568755937271746165001548730527207901897550202168263949541350772422176575596062064254051957677259965434707770153598660741217280093647930191715860435605502040308762409733365037477690768603151496631575175302851493517444479803649582770393726899240500899114367870031748497159668788615142111667907603573886969956971029336496512178215668483388331423956330385248830990125057652429832616662809968711045725816155028330737500342663127204884524561037087470357426121521792396856431939239309622031992475683933233522763313028842709999231256868180354848606733939430934295854821054486599077926595248956001156106003928346250690481804328385274166094107245630190665796439892224803616929908522091634212216751339553229020954010422246082946315409045878915923284288129266217237965101330406448884292987287275850205745030028185601417140891008142749111430322562970381019664768661984845196993316636071752050542763272534648364970526035693287757831618180209545172618069957454659340680317862044524624987985005440862119133351657716679507611358755186115603655785744233418873531080375190461113556485789506557901663197828678988676647925917219419781292123795385734921693080421664427822894287722814137047786378395313506009417278912098173268753701046682413551412454545717268042182470120151084541152505591179848624143303742237463154339122546129569072247895671795057441421029922333737494733064815110633822494394592867682454247272762618597969698426597753848877810620378756274154042302066542042028794490526497626916839690243223936270189794894652633932368985451526700259569226131272423074770819244616804927966472448943333493139907329106238536385617690066724301181235338499058356481998069392820101019337058494263287900121981578010487030867623879682926024028023640359550701485173325090794010766792851126782882431896618344184652132661585170657066804735837074400798564598922537682955512688290264506751343551910122152802437197632476561189824028192465169090568977479240654273637318528328416998099814113972232231198986006833432193629831439587201567670894309011585199193946889082881899435565167497368835547942472529120371920884843186937526042226637654048057630980004588280670813885051872918813555079718976346971875604548092181177053974501628271435843321006861104105018813673824484223523086446305432085668995733903082238033687542554972546006351649291768009980826687214494553223814054371329058753634230599979632904035379126241647091778688880771382378232296135701423616917000913749567621523882082884976798275071439700666795099437910189273209015966228439272150417375819693619469425493654580443969162014830909373209623466480536030283951176195105265546451510886683967608500226580943055832328961669466484641578571977515529007201032071926264535339910105644138490671899875562787498448950507033817431376483748099061156785069159033720407345773927822049346291698036737548574325644944071369819611318397368932989277869770731895959860299935907054845540619342937895373924028604788428748124425963684950145897478410332604284076080011821959956839651989146685153624009136233706079486429154913438660296597870460612137070941216352971126837717204265876050762838088919701806354301214238712449754278884571405296410208059914458103957324035394026933388669211806822705486425335322001686570992899606119977444470829192824766225137231122785541126186665575260765639300054838787490205911199164823170702116703211130273264762630450566838219403000478338360545288792547466521761082214295466532347368253395727955479876937400726600082288421606954753940135556619812070323755407241541858837832386179341386479637468444820394920441472999735089117143580206122636727059664856589448667961128936807288568784921686581310550889567009182203710763975339407022614614347228436022202825980569320304735014334991150912657543774783626513185078504192302350913473343834854766813955591489761718397950864224400015904315123834458210523914569150268204648765612082960806161291133473034427304977960220363766925591926009063199141694167700702906762664021546336213492280977012541882254417358992289277876075889370490326208119055693179383039521721639946061638298555212317668336469893951686564466270753108479654228950371680027723551262368931961844869563734858354323123572979006568704085199412849676550511700804652368119013419900791822785538957667486388769782448490047895162241880896944726842979609363862714420271840263351218548977049642046011646819095360768285906606272564339381657317297961005105036411575321103429729477063051072455258108073030668710372821564081116377385694258932428438196777437542869634526420598237400762470252506610144089530359952165844025070935784830959391177382396762018316554220067256520158508707521051379436140445043878666463181652874076382089462438265639819194736431911402730581294698227910149038327277573340208748343710565392155832561068084014278053195765224404401801878159150638913201152772976930268455902649190490965491469278396474769606408236650914298680487330867214099312892894743088267674765906302147391498112003491646715030995559723203949419096927735082306185524517260592110319691910950598314165681556038995669660186121437666489141872740717100460807266382019304063142779510112613031955176336335086200161529192060453658598315198017676348637191221877574346038765539799343641635372912892520469455899539190987841986653930934327988131765589577017636256677010357382774294419337588961100104111898090214494401562740836523722625994997606735820750455684860193360803560693434679657972182884193183725300573426266164692249577355339010245177109590711930134161982453648310746236388500818239358488139974936365598076716673462820694791603642502963525936350382470863167347104747510258579934202932244541845219635073318205974618325226019735986245203985268564848747755021696582092658212808823146814085130213543508598466608463460512635825669881830093501036994284536182557700094953167724733663622571603504390323960086681512977970744552854006894046153400073295105736193322874226352209571574633490996936296379688904598325653046726149464660335340032975388153912258442366962601631145975535214693334385013444037483833953789672580268791646231982584411443838954455298756465493814321080636485227144343076232014252352305916344225348741887840688002000120638752088855095891516958040584388226992371582932639692168154513590648849314270917254475027978946124190368978414003264438532824879136324310110860906318677129734139615737750470877461122994710733403398591029193262914236967200724875745785771538614334665756715087916443117141032876694379578943142929798210268813092479104069195433445459720503197772503819189435775465305265532678898307716666600609406247094156282679559186563595828941492959894887973641107710247255295958185885510721388638694776249399754797366899328843008253548757845608391213554139807898470019369735313748286359501568277988839346248546637004392155707139583159506940046372369917029266981473798302200789698386307064908148976639045707994323496710271589854440926884041415569142170491812681620794903200821308976535319113901902155584625535709149518627374229316052712364889987654486382036070318036428435929692988357395298617622234849158554144839034570479540841202792207304079595022706392648634795708745248899016108861791691441945044903659333547126800285399260143613683145113210484842080180590656198802268587274970069100009703150308698226516605798503709429365516450716878482606378104947938309956661220826226014613925765464311574958962777628065655533455020172424782112285599684104225426249727761194753231901181816729469197375760293339374291075162179798320043641225088446697381323243176609800355742807043336817789970305452993439004036850408927973134207424694104354372435549814420668050483197343157032580531728212925369357723162896264224661786062863898708058535595005364557008611802106818332381853089513199542806345414385132430861648106957811064444673399731026163208494282399236532771051577051370709478608947860235617907251099510425429674554035123233246915115994399664095082839190519208508974250823423452352859561159445759214614047745879204999192331983568578059562921384824719691857930163358320808593672849302351657323659275705321532943027957227145230711025660347591409058435494869864233391493924107903240639699558972851838462079299990933560549082461889806417910418154850132984394451302203989594315061000170597596595918327445119952315590414946728533056391817112493662171984925928656018138043491953137259709599292396778722667045390113635166082408226763460063216965509653507778693820773857729123806905182612056373537125453209912089014618305723514116979330581697990788878092548025672070454383056742162595084309799029898889270660976439472423590291216785943650571665141498914299495878163739424856690122664657113013740812880643534529783989540000124598676323653793468501226111048808273820155007851779150420474854722490215253772372218715454150821329341708120435763118298336318800152507501012692045890505439807709937156158637508399057934772610206603032882358310846611482624492301711106629323963843003526152441576252430844903097604011100088544753037239223779152323836005142417281993416618980876387543241393811466933088443712456837484606101214793733835651221370746703951884647503330876404312603594169871319537490936736447770281012015476036116505234689068704713453872217179082058964515456507518923503840502527964318889674484231909539484294083583772053826158801504804504126986067299464050492967095196882059118280168234971216587501573822755474913946135996359709752284452827364042000140126302346554142065688128334558880473704788464478472017353004689302847631087194429029514847454271509677384166981607939784321909831624823501553296658696636967358916648890159351401474624388397698376728586550556797655732352139814566709217309181280803340922568146895885644352739742416555828647056736808995901880594389828937881205442246107508564292855960982113629044182267518001074649420319163554306742170232743541535815268254825794907700668709104132138125619928488701775542226756142815575366204195135611136144466961071882075706450762099438407099074325132313909078635974903667453812956974224988252966757064431056769462246671056816799387865636055163414571193360958830881902553195279656782656724483141449462010294165768957764007617852192089748312829578661423722573532090427398712573463078809161772999705901192772873778811070623188880948670670526735955064152785794528195964292339446992462988602747902646507516424256525396619496879506219268781538042748073480012920838424437254496367991311810408222224789372535105215080968082120600529796094092574304499405448018389536700929948254336838682464706210005144300868254272980070300289367902025299323174308574534361099319757311598142522591160675778259658120538354234672774718158216123139393764259554328477465703738612773012533716635394930842467980459183426473667272794126795598631415365889568780879024789807148304016258035398811387556668796088383544391408731782293257284303078428491645391019461197634107622372651685343099022282372011501615262097276215204510152849148815117427655198477397773886781593635395913275181052819842188744684775884225371853089911742785105746098569430618045752380219202508324720630490122447443747069414664894358698615737280057106133499512178147545323711180062465854396120431167424096743840459394878172958872160245050842074128437000133503977327557855983380928983626883716407010916587140695252139640113968885048682613880766164303323281535398390063458694063873155803007649163726777886522073879278801284510982601294774572346719390725744999794120004150956231081080566509549057688800989195418619143461243208415676598542235016943488320024785105875836500006835191192388575725928430961460919298829003182255650204516227979905872348868838102334204547012782977652387544669023012769855102168838048576441511807951254692365266816187899154777711397725627101081678109357217960494607060955577526109835438578401403426876787178220016564380827136578283839014926948912799826483075335990868098242660031947145587183770420734093081587852567446850603463284937759031257863573497654826232718086137359489526179368871380319712854521518904987660771155429017301283883019833379312076170074279612576842791183797764540826750125456443795280656252005394216659890710540362406306566532666058582721360291666402275086947337395115245922179290136180375749261637876518588886295906480013435738909054885308446538751783918091549132800012329817785447236519884848101703151543459990676998418208798998355889068688732745008935915047046473546082511410848728251970871007283313436929072689988984436790124478161982466231773475119171057703963501559654197981941742109975687386567319186816443645208050658093075370073791257322592453118570020521541789107802941185018116440008042865696835221542336593197676617033893396880760881857611531139147556302163156936086186575822994063423140504888439588584063899834331533043355235629259668612262113384085163911019584248225111232288087393048257898300685908176679267332346321232088906189594106692180153438915175655921007967065990845999082612605325280997763152804575151939789851943861078367115254865472750504664575121459777861559537253797850387469386430396676908729991998981241193906864972816580860364817991869065202151320215701090513250409424267406428133860674437682955958318620918501752919993254427212847374264534289986847990415764184875412205642979200424583659171874025454842316138723119034164840160513156133341309284716023995547669936566812984954483574116919002599517700561762505385883186558234782373966971767278056848175188770465058262995728197086281858705186693123739756820345886473461919041516769397051297431968990205966843107446197923218301178075922464430371100271498116303287024542602575838191012159132982025510468750775461851508172355151361035186782715138649786439354106875179483585097998943340322723963961316439631690851222284846846265641297457329213837388640858568668430200653191758164920631998523290038367825977027084849992340124187929490023083550768241578196504117052383094639101863780841325542132838693025838813845915940732913005834467797509721312192439652792360378439547364586029483465535997145719906744961875957096849115112078364766475297070304424387863049771086328608225276837470073730559445752005173898864587578224863363532157872252831527591222316076137312785476623164054886134278179096353664670834371469741912259230463341420081467545894455176647809492309061614828159092133446027564348851429731306514232074711643851627213658505371284399118953377910954557232351607556916463090896115556767349280562539487132175996218229845323847611071231250852061097456935816383022518182049881961432607770995259704382921172293237052872473473109640742111045225812213518525776524861130279344671409940662190396312774277282060645068447354656454843125094398311765221826520367204960895618099745409182371564849683105393741508002660381028432067532121660917652825194736740872625101855141183711380644306905053295077274801935661386256780938689572741715999176812281407907025908315401295084051219503627679560968360434880638671423499667758481916537388410793410671128552208195596580434734148934492731939318880265751143221882283259502385454126023006407645675978940081059101040985304619794548968305449391404343613994122029810151464724257126638430163374659674359765717070701253036092226218271086128531207104043825487797990783050704975086636711173525368827611806610177691354558177582631573846966225498142095081026452212479155716404542105395612297822797615538421565097742329395039385318122895005590478964951255821203794519140217443550793879927638669915186621394810593327711408283728860710007263775687993930643229789080133119736936617915376496984808670388985205452224686306061530911384803183228351086031886185855425804930289579378531564849773077831663967496201154242127136892340870173440816456569802911395874887166400280241202016194352943681156410716626041803267102386234409312942823714004941283381190548213519958358817424477835081530389040163116523385298220219013323874724636882963953169388970831664215901368537830171178653135366179483509902174674830739456449453304121140935364295238565556424302844532971018590120338948017325528490728084996627014369890313803529016396500667300849468210124564096757890605810329542685548917352490163873633704509188583448472918300631666141641092218542315285113869822833742417982493892281840906274490182960452951198940523780333775316219616991816214066824699072860883035921414811181714123279178975078584601065830925528349012402791347299246395084824656834501682818388668709862626035350455359710383472914184072720516355506573806677615582089038854449094079866604983920322757893723045647566151278783499901715082654393805909679595867505557458768655649478871617533157915907393033227362815366884587707235846891889209284135737136185594631557578416881516793704610037069723819889259298616026331620552788680523867720318308441932729706471247497479878705755666795481735422439751850376854616307943390207521232133945656545788289567471114892528621589580548667489048899253024574443208176200106763597321493165814125025510108855890285683839928563219266650990612760840172556539906177027873145293439492447652612058932608283183497049201144026975761893224026583344527338640824577346116450620111744692063197323265637606816250619772003715501475498190127886569653740753906179869542608282942923075425878523153894293517645868766162758778915820519660786792178205347382980871096848730957726201459063426450516596730561518966976780822486625914245728943898133765453025716296333573708033927849298488857021527320135839790456564581769620663015419798755542713741892343558991439342341345131441299199074029097069907142214259430738715947632038991869384279880119080395375832099460102966385786894109214679421304291378801390452810087238090386130751554352347210864687193106010658147277371897164728781489708385126805716015940284235825882929519585407634520897281057632607200411211676080292936951762727087665374186943996043921626571813559805049599512560980617787924283701619697060550804904336721695713916185064231357798169258658866392476880883438861411323554941775419171435350033219598585577766917776168694936626419424108364928459668365870788797283449802000537208328933334918780134085176259904630416839479953845013152468903105781669172230176317356673632096309230336840332385191214085173705140076287520792013618592001620829505318481122270195983638292532101436422133956775647443196514720071094763744457465461100603625606502567661151261020876367103803790964548509149139630945778298901135977133615394194847684523487918978464470895844427032884580149132426859080201101886530580388081381595553963494260193111953378320283800369251931662363497720545240368643914200087155967422202238818628882453648859793686172990463691310063941676025662462661656760752468912311229597731255220233539060011386813165491613762705197494354171530824347020580074972528212620125033242828201450941911218393934585916680411151295257858267377904980888471452091595215880391046181642874210576971644595685290991738715109812387727630466423199716187997205022370710536128869184323016314262823122403961854600858589959697619992306113978590288080204305388957920210777041231867072875180507595133128911905298630051226222322677004259991318803701746877178956825213328334548485598931894248508660971227236967081389212458370250197716118988280569634649193811591059730895154756078621057372042131154337216396736154195499314458460160774585693738559236195446692040083734198152163419638986794674600908648276500719164510297022747368706578635775825873146060179419427912821945949424757287023905661960066002235802999259078636512915081790182294167660692415907289380100228384745810995754899168161481285967421642399379692371607874140267061357886297314653019128835959373079643364187445178441270423096324321437656499278220305645530358455529471991680933431931644210093195574356684379668331209943493500294056642301046990698909356276494155386562589301776417566237697327197879104036058677965354772692906491082932799548978143219956570568136532711791275288833958677604589501860961560028146554248051061918635756151622368689384436124232288338134470979799540867295326655960872540486173330067806935491707973558570893124703245832750599422767691116534035668247822867453889279465408105441491290042243177592330373794737553030341137527305353265866234560100869693606034924361658622805151925463699847459494313138034904286688829206430261075277617785817749199809392322162783755987310759147427710837756863864995436911537219376528014723805074618671316289118316038387181933008048661052073840733151194879698469551964350154281931616514327316528892359234043336616312368838500433968379244296478461104291742025901209713708766377225307966584532938650359879917206210189437423859603797990242622659989583133285574783024364741255749094648213106701982402967285322686773902269381295286908448092012873609997980632999167431176495537168682209483121104172236095372898794561155707938917721374146248127907188216694720572171836693157347811309895427136539006668181446232115050494107009930341730815472257726855376039005547189570481467291796238852839362238411987189221499451682462121306571459301379828065801277081790611457733568833710835000594996846518997182058411587494532639130184862616020659183652459455381561682216179264035286326489733080930425023810404917944042744260390283984335069302603764556023284562791535420495088397574125244694424982480745575175554892501352321404295542823370161241828325264316007463495088398760780672369136972004368108078969390684398665583774397741203990616554370271002269362658167773647525910347192436135120603206511051460812788222140752285414177882940923964739791788513194019613683062135551734211677259192443762772570512182567208429897149609956351905650311231710095626220061115091986348238198067988704475413309199594370113166254096987043606479408871709808300783872829459737030449525646581810709314035604789975780824842323943419575922205709677057143498776361063798335363250715248914281440204686565323315809847607617517922676624540534730154924122833190752935722303720536006939138012867260978522220324193078573096508836490232371162328827262504765984951964964087411508896185465258813952939115185167485106705475923661473613646772366000440787334081271398398412267304321766366511028939363732095087219679571883972319193010144037670886768261519383572503457458822797195304204567007194719762723952435926601020028310854128997437807350014348411358636940117393187367918539209304153301355319640603995222574589822363011061313146192870763081226202791992370013568844890649764799447226618206039883809022487221207190767661021824594098839453817463712189069976709632094023605992717695726684526417383133323372495667578067489488566912548850709157446768244130922833115841758061333505486936384079554575111915330789865599141885385518363486829004477434281708029234690589177843416211152681501235646737598256061408165754585075728286269916492496016437396247261230923857100838866908207111188159020327704907878851491425192915311390009663999467665421321444309700020140773982410604455466619804290197267530757085145283439742248397685185588092966303378899093179089305288634773929301612824652297278558821453847708361626465771015336628820451316013399398938389717422188344355604132284616039277257570116381255633970707193635329135279779883417265491089270513652275009133294403554299167873190743753491807249685923881583821873266096203098419252862599635198070659826472981658415966793211362764824448809655561832541319011771829401505566232352898279755843215091799866583470441144698964838384512312915892080967688528009445824458270261962174213220124147796600215624555682501547765309367391927557821152082689474455247018250249683956312582239282457953652589385322032854782702799034604153904643821103691803357242729523079383243613255554813798005244790096180869842969409775574823084598511154983435425007382554412420635764400611298643271593237442630416040104815316712298569265538496776321067670086420538024933405543649952268268910963766728972885578587749629260776221926629731364000196801540267352876763953061633472566228736434715207697519390516446518822374668858531370974645066769969441510585331438995319613815911312475725003578766820645216463366492967846004925366871675517011011108049604127894883778711165629143462885652360409632450859471842835611720564804455616246803430558241232183554265937110690405758660061826193840756828409197604450143304896044784119427021833890301898216660842147312388000220139976524968973700482091047158759328478249244165494587674372838984083017274401155686490029362451446613307640855732782774246630416929700238761437453402055248014915221396741136928959538340986017218223960758396675261531641045579169535753325644474079195191688320844071792173552970433197746985489659641261174878463024672964914220648763112988466011639970672580723499744741170928332131104663516212630847229060419213105951801763216207546461215280750407088478237126654345807172084090603659929238396472489743179021894171635287891424033298268450968200420452358843636113988232983087999257750105745710431494260856324022611021773463849524728271128367267379058947665612353186355006293207175088457073312196355144191988244961439261906343354608494685366614499693547292851916502412867640520200602425800021960238131500871848891255584175284526868629043802673706332655878712104000091424177557175808596305926038835021770833611383144479733867493817931875719622908948905422397838874232367264021730212663543334404603298160985181839517548901009515330336076150267319485798759578006135891466142893941764856123340903271248054828351214132448786715618996963640249366582296123200405076574334357803352576590097203769820250474273962724518373858991082154200100311208553749613280891483449184518855207865040392912923075355372050138265394014780440556933172047138214111328125*c_^42\n",
      "\n",
      "racines : [(78946388846467829991045336349437734432803492828378159309711061006562426538710274323790503702325962878378249118923222233461, 7), (0, 42)]\n",
      "\n",
      "x_0= 78946388846467829991045336349437734432803492828378159309711061006562426538710274323790503702325962878378249118923222233461\n",
      "\n",
      "y_0= -295124945591973722521401946868866263175234345590689479700946130200965538264018628663201487139912219661305647507728979317573484553155483251444915069882934934566962246142672620545438889329201976131575491696419553453868778388676063143964856123359925395066439321951869061057217546537678493005840750091912846467358\n",
      "\n",
      "Phi(N)= 21742129921792923819608936642112869655417066872341784750429455818139017389209153441418092388262804335430514307200354093279214735266717653359732131372218918576602073631734369923077905204055326184507286804117040720977562763473350779622122226163796795370056185308868084392492242446462227642920180825852695855922967058837379744239053027343050927760253869671530742219220432348843172720668898699139027492518514523985998988964597522594197934658129270856285643043588320662118791997155500425854328943073584021426952420403082813350056273808104252828887275872362878394541592668731786476524736307350666270256664448237892950257284\n"
     ]
    },
    {
     "data": {
      "text/plain": [
       "141856909206520990774626384894576908969406328367445917798656622479836766682286002733204714206484043956244860554833702670192257932590914607159952764355598872019776248641378994658195761306910449913605027957121614927437026092174244263708257335800843047647107581894664250925111704586500111869018755332848904811159"
      ]
     },
     "execution_count": 136,
     "metadata": {},
     "output_type": "execute_result"
    }
   ],
   "source": [
    "delta=0.\n",
    "m=7\n",
    "t=int(m*(1-2*delta))\n",
    "print(\"\\ndelta=\",delta)\n",
    "print(\"m=\",m)\n",
    "print(\"t=\",t)\n",
    "RSA_attack(N,e,m,t,delta)"
   ]
  },
  {
   "cell_type": "code",
   "execution_count": null,
   "metadata": {},
   "outputs": [],
   "source": []
  }
 ],
 "metadata": {
  "kernelspec": {
   "display_name": "SageMath 9.2",
   "language": "sage",
   "name": "sagemath"
  },
  "language_info": {
   "codemirror_mode": {
    "name": "ipython",
    "version": 3
   },
   "file_extension": ".py",
   "mimetype": "text/x-python",
   "name": "python",
   "nbconvert_exporter": "python",
   "pygments_lexer": "ipython3",
   "version": "3.8.5"
  }
 },
 "nbformat": 4,
 "nbformat_minor": 4
}
